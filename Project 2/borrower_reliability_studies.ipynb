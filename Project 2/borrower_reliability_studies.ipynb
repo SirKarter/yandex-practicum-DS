{
 "cells": [
  {
   "cell_type": "markdown",
   "id": "4f7b9bf6",
   "metadata": {},
   "source": [
    "# Исследование надежности заемщиков."
   ]
  },
  {
   "cell_type": "markdown",
   "id": "2f9cfca7",
   "metadata": {},
   "source": [
    "**Цель исследования**\n",
    "\n",
    "Необходимо разобраться, влияет ли семейное положение, количество детей, доход и цели займа на факт погашения кредита в срок. Результаты исследования будут учтены при построении модели кредитного скоринга. \n",
    "\n",
    "Ответить на вопросы/проверить гипотезы:\n",
    "1. Есть ли зависимость между **количеством детей** и возвратом кредита в срок?\n",
    "2. Есть ли зависимость между **семейным положением** и возвратом кредита в срок?\n",
    "3. Есть ли зависимость между **уровнем дохода** и возвратом кредита в срок?\n",
    "4. Как разные **цели** кредита влияют на его возврат в срок?\n",
    "\n",
    "**Ход исследования**\n",
    "\n",
    "Входные данные от банка — статистика о платёжеспособности клиентов из файла `data.csv`.\n",
    " \n",
    "Исследование пройдёт в три этапа:\n",
    " 1. Обзор данных.\n",
    " 2. Обработка данных.\n",
    " 3. Проверка гипотез."
   ]
  },
  {
   "cell_type": "markdown",
   "id": "d89b9d4d",
   "metadata": {},
   "source": [
    "### Шаг 1. Обзор данных"
   ]
  },
  {
   "cell_type": "code",
   "execution_count": 1,
   "id": "a3b594ae",
   "metadata": {},
   "outputs": [],
   "source": [
    "import pandas as pd\n",
    "import os"
   ]
  },
  {
   "cell_type": "code",
   "execution_count": 2,
   "id": "d5523274",
   "metadata": {
    "scrolled": true
   },
   "outputs": [
    {
     "name": "stdout",
     "output_type": "stream",
     "text": [
      "<class 'pandas.core.frame.DataFrame'>\n",
      "RangeIndex: 21525 entries, 0 to 21524\n",
      "Data columns (total 12 columns):\n",
      " #   Column            Non-Null Count  Dtype  \n",
      "---  ------            --------------  -----  \n",
      " 0   children          21525 non-null  int64  \n",
      " 1   days_employed     19351 non-null  float64\n",
      " 2   dob_years         21525 non-null  int64  \n",
      " 3   education         21525 non-null  object \n",
      " 4   education_id      21525 non-null  int64  \n",
      " 5   family_status     21525 non-null  object \n",
      " 6   family_status_id  21525 non-null  int64  \n",
      " 7   gender            21525 non-null  object \n",
      " 8   income_type       21525 non-null  object \n",
      " 9   debt              21525 non-null  int64  \n",
      " 10  total_income      19351 non-null  float64\n",
      " 11  purpose           21525 non-null  object \n",
      "dtypes: float64(2), int64(5), object(5)\n",
      "memory usage: 2.0+ MB\n"
     ]
    },
    {
     "data": {
      "text/html": [
       "<div>\n",
       "<style scoped>\n",
       "    .dataframe tbody tr th:only-of-type {\n",
       "        vertical-align: middle;\n",
       "    }\n",
       "\n",
       "    .dataframe tbody tr th {\n",
       "        vertical-align: top;\n",
       "    }\n",
       "\n",
       "    .dataframe thead th {\n",
       "        text-align: right;\n",
       "    }\n",
       "</style>\n",
       "<table border=\"1\" class=\"dataframe\">\n",
       "  <thead>\n",
       "    <tr style=\"text-align: right;\">\n",
       "      <th></th>\n",
       "      <th>children</th>\n",
       "      <th>days_employed</th>\n",
       "      <th>dob_years</th>\n",
       "      <th>education</th>\n",
       "      <th>education_id</th>\n",
       "      <th>family_status</th>\n",
       "      <th>family_status_id</th>\n",
       "      <th>gender</th>\n",
       "      <th>income_type</th>\n",
       "      <th>debt</th>\n",
       "      <th>total_income</th>\n",
       "      <th>purpose</th>\n",
       "    </tr>\n",
       "  </thead>\n",
       "  <tbody>\n",
       "    <tr>\n",
       "      <th>0</th>\n",
       "      <td>1</td>\n",
       "      <td>-8437.673028</td>\n",
       "      <td>42</td>\n",
       "      <td>высшее</td>\n",
       "      <td>0</td>\n",
       "      <td>женат / замужем</td>\n",
       "      <td>0</td>\n",
       "      <td>F</td>\n",
       "      <td>сотрудник</td>\n",
       "      <td>0</td>\n",
       "      <td>253875.639453</td>\n",
       "      <td>покупка жилья</td>\n",
       "    </tr>\n",
       "    <tr>\n",
       "      <th>1</th>\n",
       "      <td>1</td>\n",
       "      <td>-4024.803754</td>\n",
       "      <td>36</td>\n",
       "      <td>среднее</td>\n",
       "      <td>1</td>\n",
       "      <td>женат / замужем</td>\n",
       "      <td>0</td>\n",
       "      <td>F</td>\n",
       "      <td>сотрудник</td>\n",
       "      <td>0</td>\n",
       "      <td>112080.014102</td>\n",
       "      <td>приобретение автомобиля</td>\n",
       "    </tr>\n",
       "    <tr>\n",
       "      <th>2</th>\n",
       "      <td>0</td>\n",
       "      <td>-5623.422610</td>\n",
       "      <td>33</td>\n",
       "      <td>Среднее</td>\n",
       "      <td>1</td>\n",
       "      <td>женат / замужем</td>\n",
       "      <td>0</td>\n",
       "      <td>M</td>\n",
       "      <td>сотрудник</td>\n",
       "      <td>0</td>\n",
       "      <td>145885.952297</td>\n",
       "      <td>покупка жилья</td>\n",
       "    </tr>\n",
       "    <tr>\n",
       "      <th>3</th>\n",
       "      <td>3</td>\n",
       "      <td>-4124.747207</td>\n",
       "      <td>32</td>\n",
       "      <td>среднее</td>\n",
       "      <td>1</td>\n",
       "      <td>женат / замужем</td>\n",
       "      <td>0</td>\n",
       "      <td>M</td>\n",
       "      <td>сотрудник</td>\n",
       "      <td>0</td>\n",
       "      <td>267628.550329</td>\n",
       "      <td>дополнительное образование</td>\n",
       "    </tr>\n",
       "    <tr>\n",
       "      <th>4</th>\n",
       "      <td>0</td>\n",
       "      <td>340266.072047</td>\n",
       "      <td>53</td>\n",
       "      <td>среднее</td>\n",
       "      <td>1</td>\n",
       "      <td>гражданский брак</td>\n",
       "      <td>1</td>\n",
       "      <td>F</td>\n",
       "      <td>пенсионер</td>\n",
       "      <td>0</td>\n",
       "      <td>158616.077870</td>\n",
       "      <td>сыграть свадьбу</td>\n",
       "    </tr>\n",
       "    <tr>\n",
       "      <th>5</th>\n",
       "      <td>0</td>\n",
       "      <td>-926.185831</td>\n",
       "      <td>27</td>\n",
       "      <td>высшее</td>\n",
       "      <td>0</td>\n",
       "      <td>гражданский брак</td>\n",
       "      <td>1</td>\n",
       "      <td>M</td>\n",
       "      <td>компаньон</td>\n",
       "      <td>0</td>\n",
       "      <td>255763.565419</td>\n",
       "      <td>покупка жилья</td>\n",
       "    </tr>\n",
       "    <tr>\n",
       "      <th>6</th>\n",
       "      <td>0</td>\n",
       "      <td>-2879.202052</td>\n",
       "      <td>43</td>\n",
       "      <td>высшее</td>\n",
       "      <td>0</td>\n",
       "      <td>женат / замужем</td>\n",
       "      <td>0</td>\n",
       "      <td>F</td>\n",
       "      <td>компаньон</td>\n",
       "      <td>0</td>\n",
       "      <td>240525.971920</td>\n",
       "      <td>операции с жильем</td>\n",
       "    </tr>\n",
       "    <tr>\n",
       "      <th>7</th>\n",
       "      <td>0</td>\n",
       "      <td>-152.779569</td>\n",
       "      <td>50</td>\n",
       "      <td>СРЕДНЕЕ</td>\n",
       "      <td>1</td>\n",
       "      <td>женат / замужем</td>\n",
       "      <td>0</td>\n",
       "      <td>M</td>\n",
       "      <td>сотрудник</td>\n",
       "      <td>0</td>\n",
       "      <td>135823.934197</td>\n",
       "      <td>образование</td>\n",
       "    </tr>\n",
       "    <tr>\n",
       "      <th>8</th>\n",
       "      <td>2</td>\n",
       "      <td>-6929.865299</td>\n",
       "      <td>35</td>\n",
       "      <td>ВЫСШЕЕ</td>\n",
       "      <td>0</td>\n",
       "      <td>гражданский брак</td>\n",
       "      <td>1</td>\n",
       "      <td>F</td>\n",
       "      <td>сотрудник</td>\n",
       "      <td>0</td>\n",
       "      <td>95856.832424</td>\n",
       "      <td>на проведение свадьбы</td>\n",
       "    </tr>\n",
       "    <tr>\n",
       "      <th>9</th>\n",
       "      <td>0</td>\n",
       "      <td>-2188.756445</td>\n",
       "      <td>41</td>\n",
       "      <td>среднее</td>\n",
       "      <td>1</td>\n",
       "      <td>женат / замужем</td>\n",
       "      <td>0</td>\n",
       "      <td>M</td>\n",
       "      <td>сотрудник</td>\n",
       "      <td>0</td>\n",
       "      <td>144425.938277</td>\n",
       "      <td>покупка жилья для семьи</td>\n",
       "    </tr>\n",
       "  </tbody>\n",
       "</table>\n",
       "</div>"
      ],
      "text/plain": [
       "   children  days_employed  dob_years education  education_id  \\\n",
       "0         1   -8437.673028         42    высшее             0   \n",
       "1         1   -4024.803754         36   среднее             1   \n",
       "2         0   -5623.422610         33   Среднее             1   \n",
       "3         3   -4124.747207         32   среднее             1   \n",
       "4         0  340266.072047         53   среднее             1   \n",
       "5         0    -926.185831         27    высшее             0   \n",
       "6         0   -2879.202052         43    высшее             0   \n",
       "7         0    -152.779569         50   СРЕДНЕЕ             1   \n",
       "8         2   -6929.865299         35    ВЫСШЕЕ             0   \n",
       "9         0   -2188.756445         41   среднее             1   \n",
       "\n",
       "      family_status  family_status_id gender income_type  debt   total_income  \\\n",
       "0   женат / замужем                 0      F   сотрудник     0  253875.639453   \n",
       "1   женат / замужем                 0      F   сотрудник     0  112080.014102   \n",
       "2   женат / замужем                 0      M   сотрудник     0  145885.952297   \n",
       "3   женат / замужем                 0      M   сотрудник     0  267628.550329   \n",
       "4  гражданский брак                 1      F   пенсионер     0  158616.077870   \n",
       "5  гражданский брак                 1      M   компаньон     0  255763.565419   \n",
       "6   женат / замужем                 0      F   компаньон     0  240525.971920   \n",
       "7   женат / замужем                 0      M   сотрудник     0  135823.934197   \n",
       "8  гражданский брак                 1      F   сотрудник     0   95856.832424   \n",
       "9   женат / замужем                 0      M   сотрудник     0  144425.938277   \n",
       "\n",
       "                      purpose  \n",
       "0               покупка жилья  \n",
       "1     приобретение автомобиля  \n",
       "2               покупка жилья  \n",
       "3  дополнительное образование  \n",
       "4             сыграть свадьбу  \n",
       "5               покупка жилья  \n",
       "6           операции с жильем  \n",
       "7                 образование  \n",
       "8       на проведение свадьбы  \n",
       "9     покупка жилья для семьи  "
      ]
     },
     "metadata": {},
     "output_type": "display_data"
    }
   ],
   "source": [
    "pth1 = '/Users/karter/Projects/1_borrower_reliability_studies.ipynb/data.csv'\n",
    "pth2 = 'data.csv'\n",
    "\n",
    "if os.path.exists(pth1):\n",
    "    data = pd.read_csv(pth1)\n",
    "elif os.path.exists(pth2):\n",
    "    data = pd.read_csv(pth2)\n",
    "else:\n",
    "    print('Something is wrong')\n",
    "\n",
    "data.info()\n",
    "display(data.head(10))"
   ]
  },
  {
   "cell_type": "code",
   "execution_count": 3,
   "id": "7f8a839f",
   "metadata": {},
   "outputs": [
    {
     "data": {
      "text/plain": [
       "array(['высшее', 'среднее', 'Среднее', 'СРЕДНЕЕ', 'ВЫСШЕЕ',\n",
       "       'неоконченное высшее', 'начальное', 'Высшее',\n",
       "       'НЕОКОНЧЕННОЕ ВЫСШЕЕ', 'Неоконченное высшее', 'НАЧАЛЬНОЕ',\n",
       "       'Начальное', 'Ученая степень', 'УЧЕНАЯ СТЕПЕНЬ', 'ученая степень'],\n",
       "      dtype=object)"
      ]
     },
     "metadata": {},
     "output_type": "display_data"
    }
   ],
   "source": [
    "display(data['education'].unique()) # Все уюникальные значения столбца образования"
   ]
  },
  {
   "cell_type": "code",
   "execution_count": 4,
   "id": "4b16b888",
   "metadata": {},
   "outputs": [
    {
     "data": {
      "text/plain": [
       "array([0, 1, 2, 3, 4])"
      ]
     },
     "metadata": {},
     "output_type": "display_data"
    }
   ],
   "source": [
    "display(data['family_status_id'].unique())# Все уюникальные значения категорий семейного положения"
   ]
  },
  {
   "cell_type": "code",
   "execution_count": 5,
   "id": "02063ac6",
   "metadata": {},
   "outputs": [
    {
     "data": {
      "text/plain": [
       "array(['женат / замужем', 'гражданский брак', 'вдовец / вдова',\n",
       "       'в разводе', 'Не женат / не замужем'], dtype=object)"
      ]
     },
     "metadata": {},
     "output_type": "display_data"
    }
   ],
   "source": [
    "display(data['family_status'].unique())# Все уюникальные значения столбца семейное положение"
   ]
  },
  {
   "cell_type": "code",
   "execution_count": 6,
   "id": "3331c903",
   "metadata": {},
   "outputs": [
    {
     "data": {
      "text/plain": [
       "array(['покупка жилья', 'приобретение автомобиля',\n",
       "       'дополнительное образование', 'сыграть свадьбу',\n",
       "       'операции с жильем', 'образование', 'на проведение свадьбы',\n",
       "       'покупка жилья для семьи', 'покупка недвижимости',\n",
       "       'покупка коммерческой недвижимости', 'покупка жилой недвижимости',\n",
       "       'строительство собственной недвижимости', 'недвижимость',\n",
       "       'строительство недвижимости', 'на покупку подержанного автомобиля',\n",
       "       'на покупку своего автомобиля',\n",
       "       'операции с коммерческой недвижимостью',\n",
       "       'строительство жилой недвижимости', 'жилье',\n",
       "       'операции со своей недвижимостью', 'автомобили',\n",
       "       'заняться образованием', 'сделка с подержанным автомобилем',\n",
       "       'получение образования', 'автомобиль', 'свадьба',\n",
       "       'получение дополнительного образования', 'покупка своего жилья',\n",
       "       'операции с недвижимостью', 'получение высшего образования',\n",
       "       'свой автомобиль', 'сделка с автомобилем',\n",
       "       'профильное образование', 'высшее образование',\n",
       "       'покупка жилья для сдачи', 'на покупку автомобиля', 'ремонт жилью',\n",
       "       'заняться высшим образованием'], dtype=object)"
      ]
     },
     "execution_count": 6,
     "metadata": {},
     "output_type": "execute_result"
    }
   ],
   "source": [
    "data['purpose'].unique()"
   ]
  },
  {
   "cell_type": "code",
   "execution_count": 7,
   "id": "60b037ae",
   "metadata": {},
   "outputs": [
    {
     "data": {
      "text/plain": [
       "array([ 1,  0,  3,  2, -1,  4, 20,  5])"
      ]
     },
     "execution_count": 7,
     "metadata": {},
     "output_type": "execute_result"
    }
   ],
   "source": [
    "data['children'].unique()"
   ]
  },
  {
   "cell_type": "code",
   "execution_count": 5,
   "id": "37009eb6",
   "metadata": {},
   "outputs": [
    {
     "data": {
      "text/plain": [
       " 0     14149\n",
       " 1      4818\n",
       " 2      2055\n",
       " 3       330\n",
       " 20       76\n",
       "-1        47\n",
       " 4        41\n",
       " 5         9\n",
       "Name: children, dtype: int64"
      ]
     },
     "execution_count": 5,
     "metadata": {},
     "output_type": "execute_result"
    }
   ],
   "source": [
    "data['children'].value_counts()"
   ]
  },
  {
   "cell_type": "code",
   "execution_count": 6,
   "id": "dcd698bc",
   "metadata": {},
   "outputs": [
    {
     "data": {
      "text/html": [
       "<div>\n",
       "<style scoped>\n",
       "    .dataframe tbody tr th:only-of-type {\n",
       "        vertical-align: middle;\n",
       "    }\n",
       "\n",
       "    .dataframe tbody tr th {\n",
       "        vertical-align: top;\n",
       "    }\n",
       "\n",
       "    .dataframe thead th {\n",
       "        text-align: right;\n",
       "    }\n",
       "</style>\n",
       "<table border=\"1\" class=\"dataframe\">\n",
       "  <thead>\n",
       "    <tr style=\"text-align: right;\">\n",
       "      <th></th>\n",
       "      <th>children</th>\n",
       "      <th>days_employed</th>\n",
       "      <th>dob_years</th>\n",
       "      <th>education</th>\n",
       "      <th>education_id</th>\n",
       "      <th>family_status</th>\n",
       "      <th>family_status_id</th>\n",
       "      <th>gender</th>\n",
       "      <th>income_type</th>\n",
       "      <th>debt</th>\n",
       "      <th>total_income</th>\n",
       "      <th>purpose</th>\n",
       "    </tr>\n",
       "  </thead>\n",
       "  <tbody>\n",
       "    <tr>\n",
       "      <th>6954</th>\n",
       "      <td>0</td>\n",
       "      <td>401755.400475</td>\n",
       "      <td>56</td>\n",
       "      <td>среднее</td>\n",
       "      <td>1</td>\n",
       "      <td>вдовец / вдова</td>\n",
       "      <td>2</td>\n",
       "      <td>F</td>\n",
       "      <td>пенсионер</td>\n",
       "      <td>0</td>\n",
       "      <td>176278.441171</td>\n",
       "      <td>ремонт жилью</td>\n",
       "    </tr>\n",
       "    <tr>\n",
       "      <th>10006</th>\n",
       "      <td>0</td>\n",
       "      <td>401715.811749</td>\n",
       "      <td>69</td>\n",
       "      <td>высшее</td>\n",
       "      <td>0</td>\n",
       "      <td>Не женат / не замужем</td>\n",
       "      <td>4</td>\n",
       "      <td>F</td>\n",
       "      <td>пенсионер</td>\n",
       "      <td>0</td>\n",
       "      <td>57390.256908</td>\n",
       "      <td>получение образования</td>\n",
       "    </tr>\n",
       "    <tr>\n",
       "      <th>7664</th>\n",
       "      <td>1</td>\n",
       "      <td>401675.093434</td>\n",
       "      <td>61</td>\n",
       "      <td>среднее</td>\n",
       "      <td>1</td>\n",
       "      <td>женат / замужем</td>\n",
       "      <td>0</td>\n",
       "      <td>F</td>\n",
       "      <td>пенсионер</td>\n",
       "      <td>0</td>\n",
       "      <td>126214.519212</td>\n",
       "      <td>операции с жильем</td>\n",
       "    </tr>\n",
       "    <tr>\n",
       "      <th>2156</th>\n",
       "      <td>0</td>\n",
       "      <td>401674.466633</td>\n",
       "      <td>60</td>\n",
       "      <td>среднее</td>\n",
       "      <td>1</td>\n",
       "      <td>женат / замужем</td>\n",
       "      <td>0</td>\n",
       "      <td>M</td>\n",
       "      <td>пенсионер</td>\n",
       "      <td>0</td>\n",
       "      <td>325395.724541</td>\n",
       "      <td>автомобили</td>\n",
       "    </tr>\n",
       "    <tr>\n",
       "      <th>7794</th>\n",
       "      <td>0</td>\n",
       "      <td>401663.850046</td>\n",
       "      <td>61</td>\n",
       "      <td>среднее</td>\n",
       "      <td>1</td>\n",
       "      <td>гражданский брак</td>\n",
       "      <td>1</td>\n",
       "      <td>F</td>\n",
       "      <td>пенсионер</td>\n",
       "      <td>0</td>\n",
       "      <td>48286.441362</td>\n",
       "      <td>свадьба</td>\n",
       "    </tr>\n",
       "  </tbody>\n",
       "</table>\n",
       "</div>"
      ],
      "text/plain": [
       "       children  days_employed  dob_years education  education_id  \\\n",
       "6954          0  401755.400475         56   среднее             1   \n",
       "10006         0  401715.811749         69    высшее             0   \n",
       "7664          1  401675.093434         61   среднее             1   \n",
       "2156          0  401674.466633         60   среднее             1   \n",
       "7794          0  401663.850046         61   среднее             1   \n",
       "\n",
       "               family_status  family_status_id gender income_type  debt  \\\n",
       "6954          вдовец / вдова                 2      F   пенсионер     0   \n",
       "10006  Не женат / не замужем                 4      F   пенсионер     0   \n",
       "7664         женат / замужем                 0      F   пенсионер     0   \n",
       "2156         женат / замужем                 0      M   пенсионер     0   \n",
       "7794        гражданский брак                 1      F   пенсионер     0   \n",
       "\n",
       "        total_income                purpose  \n",
       "6954   176278.441171           ремонт жилью  \n",
       "10006   57390.256908  получение образования  \n",
       "7664   126214.519212      операции с жильем  \n",
       "2156   325395.724541             автомобили  \n",
       "7794    48286.441362                свадьба  "
      ]
     },
     "execution_count": 6,
     "metadata": {},
     "output_type": "execute_result"
    }
   ],
   "source": [
    "data.sort_values(by='days_employed', ascending = False).head()"
   ]
  },
  {
   "cell_type": "code",
   "execution_count": 7,
   "id": "456dbe11",
   "metadata": {},
   "outputs": [
    {
     "data": {
      "text/plain": [
       "income_type\n",
       "безработный        7.328273e+05\n",
       "в декрете         -3.296760e+03\n",
       "госслужащий       -4.460665e+06\n",
       "компаньон         -9.664447e+06\n",
       "пенсионер          1.256707e+09\n",
       "предприниматель   -5.208481e+02\n",
       "сотрудник         -2.329756e+07\n",
       "студент           -5.787516e+02\n",
       "Name: days_employed, dtype: float64"
      ]
     },
     "execution_count": 7,
     "metadata": {},
     "output_type": "execute_result"
    }
   ],
   "source": [
    "data.groupby('income_type')['days_employed'].sum()"
   ]
  },
  {
   "cell_type": "markdown",
   "id": "4f859e3c",
   "metadata": {},
   "source": [
    "В таблице 12 столбцов\n",
    "Согласно документации к данным:\n",
    "    \n",
    "* `children` — количество детей в семье\n",
    "* `days_employed` — общий трудовой стаж в днях\n",
    "* `dob_years` — возраст клиента в годах\n",
    "* `education` — уровень образования клиента\n",
    "* `education_id` — идентификатор уровня образования\n",
    "* `family_status` — семейное положение\n",
    "* `family_status_id` — идентификатор семейного положения\n",
    "* `gender` — пол клиента\n",
    "* `income_type` — тип занятости\n",
    "* `debt` — имел ли задолженность по возврату кредитов\n",
    "* `total_income`— ежемесячный доход\n",
    "* `purpose` — цель получения кредита\n",
    "\n",
    "В названиях колонок нарушений стиля не выявлено.\n",
    "\n",
    "Количество значений в столбце days_employed и total_income отличается от остольных и имеют 19351, \n",
    "в остальных по 21525.\n",
    "\n",
    "В столбце education встречаются значения с верхним регистром.\n",
    "\n",
    "В столбец days_employed есть положительные значения у пенсионеров и безработных, отрицательные значения скорее всего указаны по ошибке. Если перевести все значения к знаку +, то можем увидеть что у пенсионеров слишком много дней, могу предположить что у пенсионеров указаны данные не в днях, а в часах."
   ]
  },
  {
   "cell_type": "markdown",
   "id": "5f85c5ca",
   "metadata": {},
   "source": [
    "### Шаг 2.1 Заполнение пропусков"
   ]
  },
  {
   "cell_type": "code",
   "execution_count": 8,
   "id": "beded5a0",
   "metadata": {},
   "outputs": [
    {
     "data": {
      "text/plain": [
       "'Доля пропусков: 10%'"
      ]
     },
     "metadata": {},
     "output_type": "display_data"
    }
   ],
   "source": [
    "employed = data['days_employed'].isna().sum()\n",
    "education = data['education'].count()\n",
    "display(f'Доля пропусков: {int(employed / education * 100)}%')"
   ]
  },
  {
   "cell_type": "code",
   "execution_count": 9,
   "id": "9c233cbe",
   "metadata": {},
   "outputs": [
    {
     "name": "stdout",
     "output_type": "stream",
     "text": [
      "<class 'pandas.core.frame.DataFrame'>\n",
      "RangeIndex: 21525 entries, 0 to 21524\n",
      "Data columns (total 12 columns):\n",
      " #   Column            Non-Null Count  Dtype  \n",
      "---  ------            --------------  -----  \n",
      " 0   children          21525 non-null  int64  \n",
      " 1   days_employed     21525 non-null  float64\n",
      " 2   dob_years         21525 non-null  int64  \n",
      " 3   education         21525 non-null  object \n",
      " 4   education_id      21525 non-null  int64  \n",
      " 5   family_status     21525 non-null  object \n",
      " 6   family_status_id  21525 non-null  int64  \n",
      " 7   gender            21525 non-null  object \n",
      " 8   income_type       21525 non-null  object \n",
      " 9   debt              21525 non-null  int64  \n",
      " 10  total_income      21525 non-null  float64\n",
      " 11  purpose           21525 non-null  object \n",
      "dtypes: float64(2), int64(5), object(5)\n",
      "memory usage: 2.0+ MB\n"
     ]
    }
   ],
   "source": [
    "data['days_employed'] = data['days_employed'].fillna(data['days_employed'].median())\n",
    "data['total_income'] = data.groupby('income_type')['total_income'].transform(lambda x: x.fillna(x.median()))\n",
    "data.info()"
   ]
  },
  {
   "cell_type": "markdown",
   "id": "99e8854a",
   "metadata": {},
   "source": [
    "Пропущены были значения в столбцах days_employed и total_income, пропусков было равное колличество, во все остальных столбцах пропущенных значений не было;\n",
    "\n",
    "Пропущеных значений было 10% от общего числа;\n",
    "\n",
    "Возможные причины пропущенных значений это ошибки в заполнении данных или отсутвии стажа работы и соответственно зароботка;\n",
    "\n",
    "Заполнил пропуски медианным значеним так как в количественных переменных среднее значение может не меняться при большом разбросе значений."
   ]
  },
  {
   "cell_type": "markdown",
   "id": "c257fcea",
   "metadata": {},
   "source": [
    "### Шаг 2.2 Проверка данных на аномалии и исправления."
   ]
  },
  {
   "cell_type": "code",
   "execution_count": 10,
   "id": "b83760c2",
   "metadata": {},
   "outputs": [
    {
     "data": {
      "text/html": [
       "<div>\n",
       "<style scoped>\n",
       "    .dataframe tbody tr th:only-of-type {\n",
       "        vertical-align: middle;\n",
       "    }\n",
       "\n",
       "    .dataframe tbody tr th {\n",
       "        vertical-align: top;\n",
       "    }\n",
       "\n",
       "    .dataframe thead th {\n",
       "        text-align: right;\n",
       "    }\n",
       "</style>\n",
       "<table border=\"1\" class=\"dataframe\">\n",
       "  <thead>\n",
       "    <tr style=\"text-align: right;\">\n",
       "      <th></th>\n",
       "      <th>children</th>\n",
       "      <th>days_employed</th>\n",
       "      <th>dob_years</th>\n",
       "      <th>education</th>\n",
       "      <th>education_id</th>\n",
       "      <th>family_status</th>\n",
       "      <th>family_status_id</th>\n",
       "      <th>gender</th>\n",
       "      <th>income_type</th>\n",
       "      <th>debt</th>\n",
       "      <th>total_income</th>\n",
       "      <th>purpose</th>\n",
       "    </tr>\n",
       "  </thead>\n",
       "  <tbody>\n",
       "    <tr>\n",
       "      <th>0</th>\n",
       "      <td>1</td>\n",
       "      <td>351.569709</td>\n",
       "      <td>42</td>\n",
       "      <td>высшее</td>\n",
       "      <td>0</td>\n",
       "      <td>женат / замужем</td>\n",
       "      <td>0</td>\n",
       "      <td>F</td>\n",
       "      <td>сотрудник</td>\n",
       "      <td>0</td>\n",
       "      <td>253875.639453</td>\n",
       "      <td>покупка жилья</td>\n",
       "    </tr>\n",
       "    <tr>\n",
       "      <th>1</th>\n",
       "      <td>1</td>\n",
       "      <td>167.700156</td>\n",
       "      <td>36</td>\n",
       "      <td>среднее</td>\n",
       "      <td>1</td>\n",
       "      <td>женат / замужем</td>\n",
       "      <td>0</td>\n",
       "      <td>F</td>\n",
       "      <td>сотрудник</td>\n",
       "      <td>0</td>\n",
       "      <td>112080.014102</td>\n",
       "      <td>приобретение автомобиля</td>\n",
       "    </tr>\n",
       "    <tr>\n",
       "      <th>2</th>\n",
       "      <td>0</td>\n",
       "      <td>234.309275</td>\n",
       "      <td>33</td>\n",
       "      <td>Среднее</td>\n",
       "      <td>1</td>\n",
       "      <td>женат / замужем</td>\n",
       "      <td>0</td>\n",
       "      <td>M</td>\n",
       "      <td>сотрудник</td>\n",
       "      <td>0</td>\n",
       "      <td>145885.952297</td>\n",
       "      <td>покупка жилья</td>\n",
       "    </tr>\n",
       "    <tr>\n",
       "      <th>3</th>\n",
       "      <td>3</td>\n",
       "      <td>171.864467</td>\n",
       "      <td>32</td>\n",
       "      <td>среднее</td>\n",
       "      <td>1</td>\n",
       "      <td>женат / замужем</td>\n",
       "      <td>0</td>\n",
       "      <td>M</td>\n",
       "      <td>сотрудник</td>\n",
       "      <td>0</td>\n",
       "      <td>267628.550329</td>\n",
       "      <td>дополнительное образование</td>\n",
       "    </tr>\n",
       "    <tr>\n",
       "      <th>4</th>\n",
       "      <td>0</td>\n",
       "      <td>14177.753002</td>\n",
       "      <td>53</td>\n",
       "      <td>среднее</td>\n",
       "      <td>1</td>\n",
       "      <td>гражданский брак</td>\n",
       "      <td>1</td>\n",
       "      <td>F</td>\n",
       "      <td>пенсионер</td>\n",
       "      <td>0</td>\n",
       "      <td>158616.077870</td>\n",
       "      <td>сыграть свадьбу</td>\n",
       "    </tr>\n",
       "    <tr>\n",
       "      <th>5</th>\n",
       "      <td>0</td>\n",
       "      <td>38.591076</td>\n",
       "      <td>27</td>\n",
       "      <td>высшее</td>\n",
       "      <td>0</td>\n",
       "      <td>гражданский брак</td>\n",
       "      <td>1</td>\n",
       "      <td>M</td>\n",
       "      <td>компаньон</td>\n",
       "      <td>0</td>\n",
       "      <td>255763.565419</td>\n",
       "      <td>покупка жилья</td>\n",
       "    </tr>\n",
       "    <tr>\n",
       "      <th>6</th>\n",
       "      <td>0</td>\n",
       "      <td>119.966752</td>\n",
       "      <td>43</td>\n",
       "      <td>высшее</td>\n",
       "      <td>0</td>\n",
       "      <td>женат / замужем</td>\n",
       "      <td>0</td>\n",
       "      <td>F</td>\n",
       "      <td>компаньон</td>\n",
       "      <td>0</td>\n",
       "      <td>240525.971920</td>\n",
       "      <td>операции с жильем</td>\n",
       "    </tr>\n",
       "    <tr>\n",
       "      <th>7</th>\n",
       "      <td>0</td>\n",
       "      <td>6.365815</td>\n",
       "      <td>50</td>\n",
       "      <td>СРЕДНЕЕ</td>\n",
       "      <td>1</td>\n",
       "      <td>женат / замужем</td>\n",
       "      <td>0</td>\n",
       "      <td>M</td>\n",
       "      <td>сотрудник</td>\n",
       "      <td>0</td>\n",
       "      <td>135823.934197</td>\n",
       "      <td>образование</td>\n",
       "    </tr>\n",
       "    <tr>\n",
       "      <th>8</th>\n",
       "      <td>2</td>\n",
       "      <td>288.744387</td>\n",
       "      <td>35</td>\n",
       "      <td>ВЫСШЕЕ</td>\n",
       "      <td>0</td>\n",
       "      <td>гражданский брак</td>\n",
       "      <td>1</td>\n",
       "      <td>F</td>\n",
       "      <td>сотрудник</td>\n",
       "      <td>0</td>\n",
       "      <td>95856.832424</td>\n",
       "      <td>на проведение свадьбы</td>\n",
       "    </tr>\n",
       "    <tr>\n",
       "      <th>9</th>\n",
       "      <td>0</td>\n",
       "      <td>91.198185</td>\n",
       "      <td>41</td>\n",
       "      <td>среднее</td>\n",
       "      <td>1</td>\n",
       "      <td>женат / замужем</td>\n",
       "      <td>0</td>\n",
       "      <td>M</td>\n",
       "      <td>сотрудник</td>\n",
       "      <td>0</td>\n",
       "      <td>144425.938277</td>\n",
       "      <td>покупка жилья для семьи</td>\n",
       "    </tr>\n",
       "    <tr>\n",
       "      <th>10</th>\n",
       "      <td>2</td>\n",
       "      <td>173.811819</td>\n",
       "      <td>36</td>\n",
       "      <td>высшее</td>\n",
       "      <td>0</td>\n",
       "      <td>женат / замужем</td>\n",
       "      <td>0</td>\n",
       "      <td>M</td>\n",
       "      <td>компаньон</td>\n",
       "      <td>0</td>\n",
       "      <td>113943.491460</td>\n",
       "      <td>покупка недвижимости</td>\n",
       "    </tr>\n",
       "    <tr>\n",
       "      <th>11</th>\n",
       "      <td>0</td>\n",
       "      <td>33.029245</td>\n",
       "      <td>40</td>\n",
       "      <td>среднее</td>\n",
       "      <td>1</td>\n",
       "      <td>женат / замужем</td>\n",
       "      <td>0</td>\n",
       "      <td>F</td>\n",
       "      <td>сотрудник</td>\n",
       "      <td>0</td>\n",
       "      <td>77069.234271</td>\n",
       "      <td>покупка коммерческой недвижимости</td>\n",
       "    </tr>\n",
       "    <tr>\n",
       "      <th>12</th>\n",
       "      <td>0</td>\n",
       "      <td>50.140397</td>\n",
       "      <td>65</td>\n",
       "      <td>среднее</td>\n",
       "      <td>1</td>\n",
       "      <td>гражданский брак</td>\n",
       "      <td>1</td>\n",
       "      <td>M</td>\n",
       "      <td>пенсионер</td>\n",
       "      <td>0</td>\n",
       "      <td>118514.486412</td>\n",
       "      <td>сыграть свадьбу</td>\n",
       "    </tr>\n",
       "    <tr>\n",
       "      <th>13</th>\n",
       "      <td>0</td>\n",
       "      <td>76.943414</td>\n",
       "      <td>54</td>\n",
       "      <td>неоконченное высшее</td>\n",
       "      <td>2</td>\n",
       "      <td>женат / замужем</td>\n",
       "      <td>0</td>\n",
       "      <td>F</td>\n",
       "      <td>сотрудник</td>\n",
       "      <td>0</td>\n",
       "      <td>130458.228857</td>\n",
       "      <td>приобретение автомобиля</td>\n",
       "    </tr>\n",
       "    <tr>\n",
       "      <th>14</th>\n",
       "      <td>0</td>\n",
       "      <td>76.873174</td>\n",
       "      <td>56</td>\n",
       "      <td>высшее</td>\n",
       "      <td>0</td>\n",
       "      <td>гражданский брак</td>\n",
       "      <td>1</td>\n",
       "      <td>F</td>\n",
       "      <td>компаньон</td>\n",
       "      <td>1</td>\n",
       "      <td>165127.911772</td>\n",
       "      <td>покупка жилой недвижимости</td>\n",
       "    </tr>\n",
       "    <tr>\n",
       "      <th>15</th>\n",
       "      <td>1</td>\n",
       "      <td>40.515184</td>\n",
       "      <td>26</td>\n",
       "      <td>среднее</td>\n",
       "      <td>1</td>\n",
       "      <td>женат / замужем</td>\n",
       "      <td>0</td>\n",
       "      <td>F</td>\n",
       "      <td>сотрудник</td>\n",
       "      <td>0</td>\n",
       "      <td>116820.904450</td>\n",
       "      <td>строительство собственной недвижимости</td>\n",
       "    </tr>\n",
       "    <tr>\n",
       "      <th>16</th>\n",
       "      <td>0</td>\n",
       "      <td>71.663926</td>\n",
       "      <td>35</td>\n",
       "      <td>среднее</td>\n",
       "      <td>1</td>\n",
       "      <td>женат / замужем</td>\n",
       "      <td>0</td>\n",
       "      <td>F</td>\n",
       "      <td>сотрудник</td>\n",
       "      <td>0</td>\n",
       "      <td>289202.704229</td>\n",
       "      <td>недвижимость</td>\n",
       "    </tr>\n",
       "    <tr>\n",
       "      <th>17</th>\n",
       "      <td>0</td>\n",
       "      <td>98.749988</td>\n",
       "      <td>33</td>\n",
       "      <td>высшее</td>\n",
       "      <td>0</td>\n",
       "      <td>гражданский брак</td>\n",
       "      <td>1</td>\n",
       "      <td>M</td>\n",
       "      <td>сотрудник</td>\n",
       "      <td>0</td>\n",
       "      <td>90410.586745</td>\n",
       "      <td>строительство недвижимости</td>\n",
       "    </tr>\n",
       "    <tr>\n",
       "      <th>18</th>\n",
       "      <td>0</td>\n",
       "      <td>16678.380705</td>\n",
       "      <td>53</td>\n",
       "      <td>среднее</td>\n",
       "      <td>1</td>\n",
       "      <td>вдовец / вдова</td>\n",
       "      <td>2</td>\n",
       "      <td>F</td>\n",
       "      <td>пенсионер</td>\n",
       "      <td>0</td>\n",
       "      <td>56823.777243</td>\n",
       "      <td>на покупку подержанного автомобиля</td>\n",
       "    </tr>\n",
       "    <tr>\n",
       "      <th>19</th>\n",
       "      <td>0</td>\n",
       "      <td>418.284106</td>\n",
       "      <td>48</td>\n",
       "      <td>СРЕДНЕЕ</td>\n",
       "      <td>1</td>\n",
       "      <td>в разводе</td>\n",
       "      <td>3</td>\n",
       "      <td>F</td>\n",
       "      <td>сотрудник</td>\n",
       "      <td>0</td>\n",
       "      <td>242831.107982</td>\n",
       "      <td>на покупку своего автомобиля</td>\n",
       "    </tr>\n",
       "    <tr>\n",
       "      <th>20</th>\n",
       "      <td>1</td>\n",
       "      <td>54.650174</td>\n",
       "      <td>36</td>\n",
       "      <td>среднее</td>\n",
       "      <td>1</td>\n",
       "      <td>женат / замужем</td>\n",
       "      <td>0</td>\n",
       "      <td>M</td>\n",
       "      <td>сотрудник</td>\n",
       "      <td>0</td>\n",
       "      <td>209552.644578</td>\n",
       "      <td>недвижимость</td>\n",
       "    </tr>\n",
       "    <tr>\n",
       "      <th>21</th>\n",
       "      <td>1</td>\n",
       "      <td>10.570215</td>\n",
       "      <td>33</td>\n",
       "      <td>среднее</td>\n",
       "      <td>1</td>\n",
       "      <td>гражданский брак</td>\n",
       "      <td>1</td>\n",
       "      <td>F</td>\n",
       "      <td>сотрудник</td>\n",
       "      <td>0</td>\n",
       "      <td>131812.203909</td>\n",
       "      <td>приобретение автомобиля</td>\n",
       "    </tr>\n",
       "    <tr>\n",
       "      <th>22</th>\n",
       "      <td>1</td>\n",
       "      <td>73.610172</td>\n",
       "      <td>24</td>\n",
       "      <td>среднее</td>\n",
       "      <td>1</td>\n",
       "      <td>гражданский брак</td>\n",
       "      <td>1</td>\n",
       "      <td>F</td>\n",
       "      <td>сотрудник</td>\n",
       "      <td>0</td>\n",
       "      <td>149681.140731</td>\n",
       "      <td>на покупку подержанного автомобиля</td>\n",
       "    </tr>\n",
       "    <tr>\n",
       "      <th>23</th>\n",
       "      <td>0</td>\n",
       "      <td>11.374224</td>\n",
       "      <td>21</td>\n",
       "      <td>высшее</td>\n",
       "      <td>0</td>\n",
       "      <td>гражданский брак</td>\n",
       "      <td>1</td>\n",
       "      <td>M</td>\n",
       "      <td>сотрудник</td>\n",
       "      <td>0</td>\n",
       "      <td>128265.720871</td>\n",
       "      <td>сыграть свадьбу</td>\n",
       "    </tr>\n",
       "    <tr>\n",
       "      <th>24</th>\n",
       "      <td>1</td>\n",
       "      <td>14106.331371</td>\n",
       "      <td>57</td>\n",
       "      <td>среднее</td>\n",
       "      <td>1</td>\n",
       "      <td>Не женат / не замужем</td>\n",
       "      <td>4</td>\n",
       "      <td>F</td>\n",
       "      <td>пенсионер</td>\n",
       "      <td>0</td>\n",
       "      <td>290547.235997</td>\n",
       "      <td>операции с коммерческой недвижимостью</td>\n",
       "    </tr>\n",
       "    <tr>\n",
       "      <th>25</th>\n",
       "      <td>0</td>\n",
       "      <td>15147.853723</td>\n",
       "      <td>67</td>\n",
       "      <td>среднее</td>\n",
       "      <td>1</td>\n",
       "      <td>женат / замужем</td>\n",
       "      <td>0</td>\n",
       "      <td>M</td>\n",
       "      <td>пенсионер</td>\n",
       "      <td>0</td>\n",
       "      <td>55112.757732</td>\n",
       "      <td>покупка недвижимости</td>\n",
       "    </tr>\n",
       "    <tr>\n",
       "      <th>26</th>\n",
       "      <td>0</td>\n",
       "      <td>50.140397</td>\n",
       "      <td>41</td>\n",
       "      <td>среднее</td>\n",
       "      <td>1</td>\n",
       "      <td>женат / замужем</td>\n",
       "      <td>0</td>\n",
       "      <td>M</td>\n",
       "      <td>госслужащий</td>\n",
       "      <td>0</td>\n",
       "      <td>150447.935283</td>\n",
       "      <td>образование</td>\n",
       "    </tr>\n",
       "    <tr>\n",
       "      <th>27</th>\n",
       "      <td>0</td>\n",
       "      <td>22.049651</td>\n",
       "      <td>28</td>\n",
       "      <td>высшее</td>\n",
       "      <td>0</td>\n",
       "      <td>женат / замужем</td>\n",
       "      <td>0</td>\n",
       "      <td>M</td>\n",
       "      <td>сотрудник</td>\n",
       "      <td>0</td>\n",
       "      <td>308848.983691</td>\n",
       "      <td>строительство собственной недвижимости</td>\n",
       "    </tr>\n",
       "    <tr>\n",
       "      <th>28</th>\n",
       "      <td>1</td>\n",
       "      <td>29.886430</td>\n",
       "      <td>26</td>\n",
       "      <td>высшее</td>\n",
       "      <td>0</td>\n",
       "      <td>женат / замужем</td>\n",
       "      <td>0</td>\n",
       "      <td>F</td>\n",
       "      <td>сотрудник</td>\n",
       "      <td>0</td>\n",
       "      <td>187863.237306</td>\n",
       "      <td>строительство собственной недвижимости</td>\n",
       "    </tr>\n",
       "    <tr>\n",
       "      <th>29</th>\n",
       "      <td>0</td>\n",
       "      <td>50.140397</td>\n",
       "      <td>63</td>\n",
       "      <td>среднее</td>\n",
       "      <td>1</td>\n",
       "      <td>Не женат / не замужем</td>\n",
       "      <td>4</td>\n",
       "      <td>F</td>\n",
       "      <td>пенсионер</td>\n",
       "      <td>0</td>\n",
       "      <td>118514.486412</td>\n",
       "      <td>строительство жилой недвижимости</td>\n",
       "    </tr>\n",
       "    <tr>\n",
       "      <th>30</th>\n",
       "      <td>1</td>\n",
       "      <td>13982.569521</td>\n",
       "      <td>62</td>\n",
       "      <td>среднее</td>\n",
       "      <td>1</td>\n",
       "      <td>женат / замужем</td>\n",
       "      <td>0</td>\n",
       "      <td>F</td>\n",
       "      <td>пенсионер</td>\n",
       "      <td>0</td>\n",
       "      <td>171456.067993</td>\n",
       "      <td>операции с коммерческой недвижимостью</td>\n",
       "    </tr>\n",
       "    <tr>\n",
       "      <th>31</th>\n",
       "      <td>0</td>\n",
       "      <td>70.086810</td>\n",
       "      <td>47</td>\n",
       "      <td>начальное</td>\n",
       "      <td>3</td>\n",
       "      <td>женат / замужем</td>\n",
       "      <td>0</td>\n",
       "      <td>F</td>\n",
       "      <td>сотрудник</td>\n",
       "      <td>0</td>\n",
       "      <td>275485.684538</td>\n",
       "      <td>жилье</td>\n",
       "    </tr>\n",
       "    <tr>\n",
       "      <th>32</th>\n",
       "      <td>0</td>\n",
       "      <td>193.746285</td>\n",
       "      <td>34</td>\n",
       "      <td>СРЕДНЕЕ</td>\n",
       "      <td>1</td>\n",
       "      <td>гражданский брак</td>\n",
       "      <td>1</td>\n",
       "      <td>F</td>\n",
       "      <td>сотрудник</td>\n",
       "      <td>1</td>\n",
       "      <td>139057.464207</td>\n",
       "      <td>на проведение свадьбы</td>\n",
       "    </tr>\n",
       "    <tr>\n",
       "      <th>33</th>\n",
       "      <td>0</td>\n",
       "      <td>64.526564</td>\n",
       "      <td>48</td>\n",
       "      <td>среднее</td>\n",
       "      <td>1</td>\n",
       "      <td>женат / замужем</td>\n",
       "      <td>0</td>\n",
       "      <td>F</td>\n",
       "      <td>компаньон</td>\n",
       "      <td>0</td>\n",
       "      <td>157245.786233</td>\n",
       "      <td>покупка жилья</td>\n",
       "    </tr>\n",
       "    <tr>\n",
       "      <th>34</th>\n",
       "      <td>0</td>\n",
       "      <td>187.002793</td>\n",
       "      <td>35</td>\n",
       "      <td>среднее</td>\n",
       "      <td>1</td>\n",
       "      <td>женат / замужем</td>\n",
       "      <td>0</td>\n",
       "      <td>F</td>\n",
       "      <td>сотрудник</td>\n",
       "      <td>0</td>\n",
       "      <td>104660.449203</td>\n",
       "      <td>операции со своей недвижимостью</td>\n",
       "    </tr>\n",
       "    <tr>\n",
       "      <th>35</th>\n",
       "      <td>0</td>\n",
       "      <td>16417.544674</td>\n",
       "      <td>68</td>\n",
       "      <td>среднее</td>\n",
       "      <td>1</td>\n",
       "      <td>гражданский брак</td>\n",
       "      <td>1</td>\n",
       "      <td>M</td>\n",
       "      <td>пенсионер</td>\n",
       "      <td>0</td>\n",
       "      <td>77805.677436</td>\n",
       "      <td>на проведение свадьбы</td>\n",
       "    </tr>\n",
       "    <tr>\n",
       "      <th>36</th>\n",
       "      <td>0</td>\n",
       "      <td>7.342362</td>\n",
       "      <td>33</td>\n",
       "      <td>среднее</td>\n",
       "      <td>1</td>\n",
       "      <td>Не женат / не замужем</td>\n",
       "      <td>4</td>\n",
       "      <td>M</td>\n",
       "      <td>сотрудник</td>\n",
       "      <td>0</td>\n",
       "      <td>138830.650734</td>\n",
       "      <td>автомобили</td>\n",
       "    </tr>\n",
       "    <tr>\n",
       "      <th>37</th>\n",
       "      <td>0</td>\n",
       "      <td>268.700452</td>\n",
       "      <td>43</td>\n",
       "      <td>ВЫСШЕЕ</td>\n",
       "      <td>0</td>\n",
       "      <td>гражданский брак</td>\n",
       "      <td>1</td>\n",
       "      <td>F</td>\n",
       "      <td>компаньон</td>\n",
       "      <td>0</td>\n",
       "      <td>154128.878672</td>\n",
       "      <td>приобретение автомобиля</td>\n",
       "    </tr>\n",
       "    <tr>\n",
       "      <th>38</th>\n",
       "      <td>0</td>\n",
       "      <td>24.911743</td>\n",
       "      <td>25</td>\n",
       "      <td>высшее</td>\n",
       "      <td>0</td>\n",
       "      <td>Не женат / не замужем</td>\n",
       "      <td>4</td>\n",
       "      <td>M</td>\n",
       "      <td>сотрудник</td>\n",
       "      <td>1</td>\n",
       "      <td>192247.298639</td>\n",
       "      <td>образование</td>\n",
       "    </tr>\n",
       "    <tr>\n",
       "      <th>39</th>\n",
       "      <td>0</td>\n",
       "      <td>27.107825</td>\n",
       "      <td>31</td>\n",
       "      <td>высшее</td>\n",
       "      <td>0</td>\n",
       "      <td>гражданский брак</td>\n",
       "      <td>1</td>\n",
       "      <td>F</td>\n",
       "      <td>компаньон</td>\n",
       "      <td>0</td>\n",
       "      <td>754240.797248</td>\n",
       "      <td>заняться образованием</td>\n",
       "    </tr>\n",
       "    <tr>\n",
       "      <th>40</th>\n",
       "      <td>0</td>\n",
       "      <td>42.931775</td>\n",
       "      <td>30</td>\n",
       "      <td>среднее</td>\n",
       "      <td>1</td>\n",
       "      <td>Не женат / не замужем</td>\n",
       "      <td>4</td>\n",
       "      <td>M</td>\n",
       "      <td>компаньон</td>\n",
       "      <td>0</td>\n",
       "      <td>142865.579146</td>\n",
       "      <td>покупка недвижимости</td>\n",
       "    </tr>\n",
       "    <tr>\n",
       "      <th>41</th>\n",
       "      <td>0</td>\n",
       "      <td>50.140397</td>\n",
       "      <td>50</td>\n",
       "      <td>среднее</td>\n",
       "      <td>1</td>\n",
       "      <td>женат / замужем</td>\n",
       "      <td>0</td>\n",
       "      <td>F</td>\n",
       "      <td>госслужащий</td>\n",
       "      <td>0</td>\n",
       "      <td>150447.935283</td>\n",
       "      <td>сделка с подержанным автомобилем</td>\n",
       "    </tr>\n",
       "    <tr>\n",
       "      <th>42</th>\n",
       "      <td>0</td>\n",
       "      <td>52.395675</td>\n",
       "      <td>20</td>\n",
       "      <td>неоконченное высшее</td>\n",
       "      <td>2</td>\n",
       "      <td>Не женат / не замужем</td>\n",
       "      <td>4</td>\n",
       "      <td>F</td>\n",
       "      <td>сотрудник</td>\n",
       "      <td>0</td>\n",
       "      <td>82065.089021</td>\n",
       "      <td>получение образования</td>\n",
       "    </tr>\n",
       "    <tr>\n",
       "      <th>43</th>\n",
       "      <td>0</td>\n",
       "      <td>182.320058</td>\n",
       "      <td>43</td>\n",
       "      <td>неоконченное высшее</td>\n",
       "      <td>2</td>\n",
       "      <td>в разводе</td>\n",
       "      <td>3</td>\n",
       "      <td>F</td>\n",
       "      <td>компаньон</td>\n",
       "      <td>0</td>\n",
       "      <td>272957.133509</td>\n",
       "      <td>приобретение автомобиля</td>\n",
       "    </tr>\n",
       "    <tr>\n",
       "      <th>44</th>\n",
       "      <td>1</td>\n",
       "      <td>56.751739</td>\n",
       "      <td>26</td>\n",
       "      <td>СРЕДНЕЕ</td>\n",
       "      <td>1</td>\n",
       "      <td>женат / замужем</td>\n",
       "      <td>0</td>\n",
       "      <td>F</td>\n",
       "      <td>сотрудник</td>\n",
       "      <td>0</td>\n",
       "      <td>100780.496749</td>\n",
       "      <td>на покупку своего автомобиля</td>\n",
       "    </tr>\n",
       "    <tr>\n",
       "      <th>45</th>\n",
       "      <td>1</td>\n",
       "      <td>43.310489</td>\n",
       "      <td>49</td>\n",
       "      <td>среднее</td>\n",
       "      <td>1</td>\n",
       "      <td>Не женат / не замужем</td>\n",
       "      <td>4</td>\n",
       "      <td>F</td>\n",
       "      <td>сотрудник</td>\n",
       "      <td>0</td>\n",
       "      <td>106385.919724</td>\n",
       "      <td>заняться образованием</td>\n",
       "    </tr>\n",
       "    <tr>\n",
       "      <th>46</th>\n",
       "      <td>2</td>\n",
       "      <td>94.279679</td>\n",
       "      <td>37</td>\n",
       "      <td>среднее</td>\n",
       "      <td>1</td>\n",
       "      <td>женат / замужем</td>\n",
       "      <td>0</td>\n",
       "      <td>F</td>\n",
       "      <td>компаньон</td>\n",
       "      <td>0</td>\n",
       "      <td>182682.459898</td>\n",
       "      <td>сделка с подержанным автомобилем</td>\n",
       "    </tr>\n",
       "    <tr>\n",
       "      <th>47</th>\n",
       "      <td>1</td>\n",
       "      <td>112.047386</td>\n",
       "      <td>33</td>\n",
       "      <td>высшее</td>\n",
       "      <td>0</td>\n",
       "      <td>гражданский брак</td>\n",
       "      <td>1</td>\n",
       "      <td>M</td>\n",
       "      <td>госслужащий</td>\n",
       "      <td>0</td>\n",
       "      <td>356277.909345</td>\n",
       "      <td>на проведение свадьбы</td>\n",
       "    </tr>\n",
       "    <tr>\n",
       "      <th>48</th>\n",
       "      <td>0</td>\n",
       "      <td>139.211162</td>\n",
       "      <td>45</td>\n",
       "      <td>среднее</td>\n",
       "      <td>1</td>\n",
       "      <td>женат / замужем</td>\n",
       "      <td>0</td>\n",
       "      <td>F</td>\n",
       "      <td>сотрудник</td>\n",
       "      <td>0</td>\n",
       "      <td>162065.516450</td>\n",
       "      <td>строительство собственной недвижимости</td>\n",
       "    </tr>\n",
       "    <tr>\n",
       "      <th>49</th>\n",
       "      <td>0</td>\n",
       "      <td>49.226801</td>\n",
       "      <td>54</td>\n",
       "      <td>среднее</td>\n",
       "      <td>1</td>\n",
       "      <td>женат / замужем</td>\n",
       "      <td>0</td>\n",
       "      <td>F</td>\n",
       "      <td>сотрудник</td>\n",
       "      <td>0</td>\n",
       "      <td>44591.806888</td>\n",
       "      <td>автомобиль</td>\n",
       "    </tr>\n",
       "  </tbody>\n",
       "</table>\n",
       "</div>"
      ],
      "text/plain": [
       "    children  days_employed  dob_years            education  education_id  \\\n",
       "0          1     351.569709         42               высшее             0   \n",
       "1          1     167.700156         36              среднее             1   \n",
       "2          0     234.309275         33              Среднее             1   \n",
       "3          3     171.864467         32              среднее             1   \n",
       "4          0   14177.753002         53              среднее             1   \n",
       "5          0      38.591076         27               высшее             0   \n",
       "6          0     119.966752         43               высшее             0   \n",
       "7          0       6.365815         50              СРЕДНЕЕ             1   \n",
       "8          2     288.744387         35               ВЫСШЕЕ             0   \n",
       "9          0      91.198185         41              среднее             1   \n",
       "10         2     173.811819         36               высшее             0   \n",
       "11         0      33.029245         40              среднее             1   \n",
       "12         0      50.140397         65              среднее             1   \n",
       "13         0      76.943414         54  неоконченное высшее             2   \n",
       "14         0      76.873174         56               высшее             0   \n",
       "15         1      40.515184         26              среднее             1   \n",
       "16         0      71.663926         35              среднее             1   \n",
       "17         0      98.749988         33               высшее             0   \n",
       "18         0   16678.380705         53              среднее             1   \n",
       "19         0     418.284106         48              СРЕДНЕЕ             1   \n",
       "20         1      54.650174         36              среднее             1   \n",
       "21         1      10.570215         33              среднее             1   \n",
       "22         1      73.610172         24              среднее             1   \n",
       "23         0      11.374224         21               высшее             0   \n",
       "24         1   14106.331371         57              среднее             1   \n",
       "25         0   15147.853723         67              среднее             1   \n",
       "26         0      50.140397         41              среднее             1   \n",
       "27         0      22.049651         28               высшее             0   \n",
       "28         1      29.886430         26               высшее             0   \n",
       "29         0      50.140397         63              среднее             1   \n",
       "30         1   13982.569521         62              среднее             1   \n",
       "31         0      70.086810         47            начальное             3   \n",
       "32         0     193.746285         34              СРЕДНЕЕ             1   \n",
       "33         0      64.526564         48              среднее             1   \n",
       "34         0     187.002793         35              среднее             1   \n",
       "35         0   16417.544674         68              среднее             1   \n",
       "36         0       7.342362         33              среднее             1   \n",
       "37         0     268.700452         43               ВЫСШЕЕ             0   \n",
       "38         0      24.911743         25               высшее             0   \n",
       "39         0      27.107825         31               высшее             0   \n",
       "40         0      42.931775         30              среднее             1   \n",
       "41         0      50.140397         50              среднее             1   \n",
       "42         0      52.395675         20  неоконченное высшее             2   \n",
       "43         0     182.320058         43  неоконченное высшее             2   \n",
       "44         1      56.751739         26              СРЕДНЕЕ             1   \n",
       "45         1      43.310489         49              среднее             1   \n",
       "46         2      94.279679         37              среднее             1   \n",
       "47         1     112.047386         33               высшее             0   \n",
       "48         0     139.211162         45              среднее             1   \n",
       "49         0      49.226801         54              среднее             1   \n",
       "\n",
       "            family_status  family_status_id gender  income_type  debt  \\\n",
       "0         женат / замужем                 0      F    сотрудник     0   \n",
       "1         женат / замужем                 0      F    сотрудник     0   \n",
       "2         женат / замужем                 0      M    сотрудник     0   \n",
       "3         женат / замужем                 0      M    сотрудник     0   \n",
       "4        гражданский брак                 1      F    пенсионер     0   \n",
       "5        гражданский брак                 1      M    компаньон     0   \n",
       "6         женат / замужем                 0      F    компаньон     0   \n",
       "7         женат / замужем                 0      M    сотрудник     0   \n",
       "8        гражданский брак                 1      F    сотрудник     0   \n",
       "9         женат / замужем                 0      M    сотрудник     0   \n",
       "10        женат / замужем                 0      M    компаньон     0   \n",
       "11        женат / замужем                 0      F    сотрудник     0   \n",
       "12       гражданский брак                 1      M    пенсионер     0   \n",
       "13        женат / замужем                 0      F    сотрудник     0   \n",
       "14       гражданский брак                 1      F    компаньон     1   \n",
       "15        женат / замужем                 0      F    сотрудник     0   \n",
       "16        женат / замужем                 0      F    сотрудник     0   \n",
       "17       гражданский брак                 1      M    сотрудник     0   \n",
       "18         вдовец / вдова                 2      F    пенсионер     0   \n",
       "19              в разводе                 3      F    сотрудник     0   \n",
       "20        женат / замужем                 0      M    сотрудник     0   \n",
       "21       гражданский брак                 1      F    сотрудник     0   \n",
       "22       гражданский брак                 1      F    сотрудник     0   \n",
       "23       гражданский брак                 1      M    сотрудник     0   \n",
       "24  Не женат / не замужем                 4      F    пенсионер     0   \n",
       "25        женат / замужем                 0      M    пенсионер     0   \n",
       "26        женат / замужем                 0      M  госслужащий     0   \n",
       "27        женат / замужем                 0      M    сотрудник     0   \n",
       "28        женат / замужем                 0      F    сотрудник     0   \n",
       "29  Не женат / не замужем                 4      F    пенсионер     0   \n",
       "30        женат / замужем                 0      F    пенсионер     0   \n",
       "31        женат / замужем                 0      F    сотрудник     0   \n",
       "32       гражданский брак                 1      F    сотрудник     1   \n",
       "33        женат / замужем                 0      F    компаньон     0   \n",
       "34        женат / замужем                 0      F    сотрудник     0   \n",
       "35       гражданский брак                 1      M    пенсионер     0   \n",
       "36  Не женат / не замужем                 4      M    сотрудник     0   \n",
       "37       гражданский брак                 1      F    компаньон     0   \n",
       "38  Не женат / не замужем                 4      M    сотрудник     1   \n",
       "39       гражданский брак                 1      F    компаньон     0   \n",
       "40  Не женат / не замужем                 4      M    компаньон     0   \n",
       "41        женат / замужем                 0      F  госслужащий     0   \n",
       "42  Не женат / не замужем                 4      F    сотрудник     0   \n",
       "43              в разводе                 3      F    компаньон     0   \n",
       "44        женат / замужем                 0      F    сотрудник     0   \n",
       "45  Не женат / не замужем                 4      F    сотрудник     0   \n",
       "46        женат / замужем                 0      F    компаньон     0   \n",
       "47       гражданский брак                 1      M  госслужащий     0   \n",
       "48        женат / замужем                 0      F    сотрудник     0   \n",
       "49        женат / замужем                 0      F    сотрудник     0   \n",
       "\n",
       "     total_income                                 purpose  \n",
       "0   253875.639453                           покупка жилья  \n",
       "1   112080.014102                 приобретение автомобиля  \n",
       "2   145885.952297                           покупка жилья  \n",
       "3   267628.550329              дополнительное образование  \n",
       "4   158616.077870                         сыграть свадьбу  \n",
       "5   255763.565419                           покупка жилья  \n",
       "6   240525.971920                       операции с жильем  \n",
       "7   135823.934197                             образование  \n",
       "8    95856.832424                   на проведение свадьбы  \n",
       "9   144425.938277                 покупка жилья для семьи  \n",
       "10  113943.491460                    покупка недвижимости  \n",
       "11   77069.234271       покупка коммерческой недвижимости  \n",
       "12  118514.486412                         сыграть свадьбу  \n",
       "13  130458.228857                 приобретение автомобиля  \n",
       "14  165127.911772              покупка жилой недвижимости  \n",
       "15  116820.904450  строительство собственной недвижимости  \n",
       "16  289202.704229                            недвижимость  \n",
       "17   90410.586745              строительство недвижимости  \n",
       "18   56823.777243      на покупку подержанного автомобиля  \n",
       "19  242831.107982            на покупку своего автомобиля  \n",
       "20  209552.644578                            недвижимость  \n",
       "21  131812.203909                 приобретение автомобиля  \n",
       "22  149681.140731      на покупку подержанного автомобиля  \n",
       "23  128265.720871                         сыграть свадьбу  \n",
       "24  290547.235997   операции с коммерческой недвижимостью  \n",
       "25   55112.757732                    покупка недвижимости  \n",
       "26  150447.935283                             образование  \n",
       "27  308848.983691  строительство собственной недвижимости  \n",
       "28  187863.237306  строительство собственной недвижимости  \n",
       "29  118514.486412        строительство жилой недвижимости  \n",
       "30  171456.067993   операции с коммерческой недвижимостью  \n",
       "31  275485.684538                                   жилье  \n",
       "32  139057.464207                   на проведение свадьбы  \n",
       "33  157245.786233                           покупка жилья  \n",
       "34  104660.449203         операции со своей недвижимостью  \n",
       "35   77805.677436                   на проведение свадьбы  \n",
       "36  138830.650734                              автомобили  \n",
       "37  154128.878672                 приобретение автомобиля  \n",
       "38  192247.298639                             образование  \n",
       "39  754240.797248                   заняться образованием  \n",
       "40  142865.579146                    покупка недвижимости  \n",
       "41  150447.935283        сделка с подержанным автомобилем  \n",
       "42   82065.089021                   получение образования  \n",
       "43  272957.133509                 приобретение автомобиля  \n",
       "44  100780.496749            на покупку своего автомобиля  \n",
       "45  106385.919724                   заняться образованием  \n",
       "46  182682.459898        сделка с подержанным автомобилем  \n",
       "47  356277.909345                   на проведение свадьбы  \n",
       "48  162065.516450  строительство собственной недвижимости  \n",
       "49   44591.806888                              автомобиль  "
      ]
     },
     "metadata": {},
     "output_type": "display_data"
    }
   ],
   "source": [
    "data['days_employed'] = data['days_employed'].abs()\n",
    "data.loc[data['days_employed'] > 0, 'days_employed']=(data['days_employed']/24)\n",
    "data['children'] = data['children'].abs()\n",
    "display(data.head(50))"
   ]
  },
  {
   "cell_type": "code",
   "execution_count": 11,
   "id": "c3d06a56",
   "metadata": {},
   "outputs": [
    {
     "data": {
      "text/html": [
       "<div>\n",
       "<style scoped>\n",
       "    .dataframe tbody tr th:only-of-type {\n",
       "        vertical-align: middle;\n",
       "    }\n",
       "\n",
       "    .dataframe tbody tr th {\n",
       "        vertical-align: top;\n",
       "    }\n",
       "\n",
       "    .dataframe thead th {\n",
       "        text-align: right;\n",
       "    }\n",
       "</style>\n",
       "<table border=\"1\" class=\"dataframe\">\n",
       "  <thead>\n",
       "    <tr style=\"text-align: right;\">\n",
       "      <th></th>\n",
       "      <th>children</th>\n",
       "      <th>days_employed</th>\n",
       "      <th>dob_years</th>\n",
       "      <th>education</th>\n",
       "      <th>education_id</th>\n",
       "      <th>family_status</th>\n",
       "      <th>family_status_id</th>\n",
       "      <th>gender</th>\n",
       "      <th>income_type</th>\n",
       "      <th>debt</th>\n",
       "      <th>total_income</th>\n",
       "      <th>purpose</th>\n",
       "    </tr>\n",
       "  </thead>\n",
       "  <tbody>\n",
       "    <tr>\n",
       "      <th>0</th>\n",
       "      <td>1</td>\n",
       "      <td>351.569709</td>\n",
       "      <td>42</td>\n",
       "      <td>высшее</td>\n",
       "      <td>0</td>\n",
       "      <td>женат / замужем</td>\n",
       "      <td>0</td>\n",
       "      <td>F</td>\n",
       "      <td>сотрудник</td>\n",
       "      <td>0</td>\n",
       "      <td>253875.639453</td>\n",
       "      <td>покупка жилья</td>\n",
       "    </tr>\n",
       "    <tr>\n",
       "      <th>1</th>\n",
       "      <td>1</td>\n",
       "      <td>167.700156</td>\n",
       "      <td>36</td>\n",
       "      <td>среднее</td>\n",
       "      <td>1</td>\n",
       "      <td>женат / замужем</td>\n",
       "      <td>0</td>\n",
       "      <td>F</td>\n",
       "      <td>сотрудник</td>\n",
       "      <td>0</td>\n",
       "      <td>112080.014102</td>\n",
       "      <td>приобретение автомобиля</td>\n",
       "    </tr>\n",
       "    <tr>\n",
       "      <th>2</th>\n",
       "      <td>0</td>\n",
       "      <td>234.309275</td>\n",
       "      <td>33</td>\n",
       "      <td>Среднее</td>\n",
       "      <td>1</td>\n",
       "      <td>женат / замужем</td>\n",
       "      <td>0</td>\n",
       "      <td>M</td>\n",
       "      <td>сотрудник</td>\n",
       "      <td>0</td>\n",
       "      <td>145885.952297</td>\n",
       "      <td>покупка жилья</td>\n",
       "    </tr>\n",
       "    <tr>\n",
       "      <th>3</th>\n",
       "      <td>3</td>\n",
       "      <td>171.864467</td>\n",
       "      <td>32</td>\n",
       "      <td>среднее</td>\n",
       "      <td>1</td>\n",
       "      <td>женат / замужем</td>\n",
       "      <td>0</td>\n",
       "      <td>M</td>\n",
       "      <td>сотрудник</td>\n",
       "      <td>0</td>\n",
       "      <td>267628.550329</td>\n",
       "      <td>дополнительное образование</td>\n",
       "    </tr>\n",
       "    <tr>\n",
       "      <th>4</th>\n",
       "      <td>0</td>\n",
       "      <td>14177.753002</td>\n",
       "      <td>53</td>\n",
       "      <td>среднее</td>\n",
       "      <td>1</td>\n",
       "      <td>гражданский брак</td>\n",
       "      <td>1</td>\n",
       "      <td>F</td>\n",
       "      <td>пенсионер</td>\n",
       "      <td>0</td>\n",
       "      <td>158616.077870</td>\n",
       "      <td>сыграть свадьбу</td>\n",
       "    </tr>\n",
       "    <tr>\n",
       "      <th>...</th>\n",
       "      <td>...</td>\n",
       "      <td>...</td>\n",
       "      <td>...</td>\n",
       "      <td>...</td>\n",
       "      <td>...</td>\n",
       "      <td>...</td>\n",
       "      <td>...</td>\n",
       "      <td>...</td>\n",
       "      <td>...</td>\n",
       "      <td>...</td>\n",
       "      <td>...</td>\n",
       "      <td>...</td>\n",
       "    </tr>\n",
       "    <tr>\n",
       "      <th>21520</th>\n",
       "      <td>1</td>\n",
       "      <td>188.721528</td>\n",
       "      <td>43</td>\n",
       "      <td>среднее</td>\n",
       "      <td>1</td>\n",
       "      <td>гражданский брак</td>\n",
       "      <td>1</td>\n",
       "      <td>F</td>\n",
       "      <td>компаньон</td>\n",
       "      <td>0</td>\n",
       "      <td>224791.862382</td>\n",
       "      <td>операции с жильем</td>\n",
       "    </tr>\n",
       "    <tr>\n",
       "      <th>21521</th>\n",
       "      <td>0</td>\n",
       "      <td>14330.725172</td>\n",
       "      <td>67</td>\n",
       "      <td>среднее</td>\n",
       "      <td>1</td>\n",
       "      <td>женат / замужем</td>\n",
       "      <td>0</td>\n",
       "      <td>F</td>\n",
       "      <td>пенсионер</td>\n",
       "      <td>0</td>\n",
       "      <td>155999.806512</td>\n",
       "      <td>сделка с автомобилем</td>\n",
       "    </tr>\n",
       "    <tr>\n",
       "      <th>21522</th>\n",
       "      <td>1</td>\n",
       "      <td>88.056120</td>\n",
       "      <td>38</td>\n",
       "      <td>среднее</td>\n",
       "      <td>1</td>\n",
       "      <td>гражданский брак</td>\n",
       "      <td>1</td>\n",
       "      <td>M</td>\n",
       "      <td>сотрудник</td>\n",
       "      <td>1</td>\n",
       "      <td>89672.561153</td>\n",
       "      <td>недвижимость</td>\n",
       "    </tr>\n",
       "    <tr>\n",
       "      <th>21523</th>\n",
       "      <td>3</td>\n",
       "      <td>129.686738</td>\n",
       "      <td>38</td>\n",
       "      <td>среднее</td>\n",
       "      <td>1</td>\n",
       "      <td>женат / замужем</td>\n",
       "      <td>0</td>\n",
       "      <td>M</td>\n",
       "      <td>сотрудник</td>\n",
       "      <td>1</td>\n",
       "      <td>244093.050500</td>\n",
       "      <td>на покупку своего автомобиля</td>\n",
       "    </tr>\n",
       "    <tr>\n",
       "      <th>21524</th>\n",
       "      <td>2</td>\n",
       "      <td>82.687816</td>\n",
       "      <td>40</td>\n",
       "      <td>среднее</td>\n",
       "      <td>1</td>\n",
       "      <td>женат / замужем</td>\n",
       "      <td>0</td>\n",
       "      <td>F</td>\n",
       "      <td>сотрудник</td>\n",
       "      <td>0</td>\n",
       "      <td>82047.418899</td>\n",
       "      <td>на покупку автомобиля</td>\n",
       "    </tr>\n",
       "  </tbody>\n",
       "</table>\n",
       "<p>21525 rows × 12 columns</p>\n",
       "</div>"
      ],
      "text/plain": [
       "       children  days_employed  dob_years education  education_id  \\\n",
       "0             1     351.569709         42    высшее             0   \n",
       "1             1     167.700156         36   среднее             1   \n",
       "2             0     234.309275         33   Среднее             1   \n",
       "3             3     171.864467         32   среднее             1   \n",
       "4             0   14177.753002         53   среднее             1   \n",
       "...         ...            ...        ...       ...           ...   \n",
       "21520         1     188.721528         43   среднее             1   \n",
       "21521         0   14330.725172         67   среднее             1   \n",
       "21522         1      88.056120         38   среднее             1   \n",
       "21523         3     129.686738         38   среднее             1   \n",
       "21524         2      82.687816         40   среднее             1   \n",
       "\n",
       "          family_status  family_status_id gender income_type  debt  \\\n",
       "0       женат / замужем                 0      F   сотрудник     0   \n",
       "1       женат / замужем                 0      F   сотрудник     0   \n",
       "2       женат / замужем                 0      M   сотрудник     0   \n",
       "3       женат / замужем                 0      M   сотрудник     0   \n",
       "4      гражданский брак                 1      F   пенсионер     0   \n",
       "...                 ...               ...    ...         ...   ...   \n",
       "21520  гражданский брак                 1      F   компаньон     0   \n",
       "21521   женат / замужем                 0      F   пенсионер     0   \n",
       "21522  гражданский брак                 1      M   сотрудник     1   \n",
       "21523   женат / замужем                 0      M   сотрудник     1   \n",
       "21524   женат / замужем                 0      F   сотрудник     0   \n",
       "\n",
       "        total_income                       purpose  \n",
       "0      253875.639453                 покупка жилья  \n",
       "1      112080.014102       приобретение автомобиля  \n",
       "2      145885.952297                 покупка жилья  \n",
       "3      267628.550329    дополнительное образование  \n",
       "4      158616.077870               сыграть свадьбу  \n",
       "...              ...                           ...  \n",
       "21520  224791.862382             операции с жильем  \n",
       "21521  155999.806512          сделка с автомобилем  \n",
       "21522   89672.561153                  недвижимость  \n",
       "21523  244093.050500  на покупку своего автомобиля  \n",
       "21524   82047.418899         на покупку автомобиля  \n",
       "\n",
       "[21525 rows x 12 columns]"
      ]
     },
     "execution_count": 11,
     "metadata": {},
     "output_type": "execute_result"
    }
   ],
   "source": [
    "data"
   ]
  },
  {
   "cell_type": "markdown",
   "id": "455c5f52",
   "metadata": {},
   "source": [
    "При обзоре данных было замечено что в столбце days_employed есть отрицательные и завышенные значения. Исправил значения, если значение больше 0, такие как у пенсионер(завышены) переводим из часов в дни, так же исправил отрицательные значение на положительные, теперь данные выглядят более правдоподобно.\n",
    "\n",
    "Есть аномальные значения в столбце cildren, отрицательных значений не много, и только -1, их перевел в положитльные. У некотрых подозрительно много детей, при категоризации отнесем их к многодетным."
   ]
  },
  {
   "cell_type": "markdown",
   "id": "16ec5ab8",
   "metadata": {},
   "source": [
    "### Шаг 2.3. Изменение типов данных."
   ]
  },
  {
   "cell_type": "code",
   "execution_count": 12,
   "id": "6efa74b1",
   "metadata": {},
   "outputs": [
    {
     "name": "stdout",
     "output_type": "stream",
     "text": [
      "<class 'pandas.core.frame.DataFrame'>\n",
      "RangeIndex: 21525 entries, 0 to 21524\n",
      "Data columns (total 12 columns):\n",
      " #   Column            Non-Null Count  Dtype  \n",
      "---  ------            --------------  -----  \n",
      " 0   children          21525 non-null  int64  \n",
      " 1   days_employed     21525 non-null  float64\n",
      " 2   dob_years         21525 non-null  int64  \n",
      " 3   education         21525 non-null  object \n",
      " 4   education_id      21525 non-null  int64  \n",
      " 5   family_status     21525 non-null  object \n",
      " 6   family_status_id  21525 non-null  int64  \n",
      " 7   gender            21525 non-null  object \n",
      " 8   income_type       21525 non-null  object \n",
      " 9   debt              21525 non-null  int64  \n",
      " 10  total_income      21525 non-null  int64  \n",
      " 11  purpose           21525 non-null  object \n",
      "dtypes: float64(1), int64(6), object(5)\n",
      "memory usage: 2.0+ MB\n"
     ]
    }
   ],
   "source": [
    "data['total_income'] = data['total_income'].astype('int')\n",
    "data.info()"
   ]
  },
  {
   "cell_type": "markdown",
   "id": "2d8a9129",
   "metadata": {},
   "source": [
    "В обзоре данных было видно что в стобце total_income вещественный тип данных, сменил на целочисленный для дальнейшей обработке данных."
   ]
  },
  {
   "cell_type": "markdown",
   "id": "245c5ebd",
   "metadata": {},
   "source": [
    "### Шаг 2.4. Удаление дубликатов."
   ]
  },
  {
   "cell_type": "code",
   "execution_count": 13,
   "id": "68b1201e",
   "metadata": {},
   "outputs": [],
   "source": [
    "data['education'] = data['education'].str.lower()"
   ]
  },
  {
   "cell_type": "code",
   "execution_count": 14,
   "id": "a7e98e0a",
   "metadata": {},
   "outputs": [
    {
     "data": {
      "text/plain": [
       "array(['высшее', 'среднее', 'неоконченное высшее', 'начальное',\n",
       "       'ученая степень'], dtype=object)"
      ]
     },
     "execution_count": 14,
     "metadata": {},
     "output_type": "execute_result"
    }
   ],
   "source": [
    "data['education'].unique()"
   ]
  },
  {
   "cell_type": "code",
   "execution_count": 15,
   "id": "d82e3710",
   "metadata": {},
   "outputs": [
    {
     "data": {
      "text/html": [
       "<div>\n",
       "<style scoped>\n",
       "    .dataframe tbody tr th:only-of-type {\n",
       "        vertical-align: middle;\n",
       "    }\n",
       "\n",
       "    .dataframe tbody tr th {\n",
       "        vertical-align: top;\n",
       "    }\n",
       "\n",
       "    .dataframe thead th {\n",
       "        text-align: right;\n",
       "    }\n",
       "</style>\n",
       "<table border=\"1\" class=\"dataframe\">\n",
       "  <thead>\n",
       "    <tr style=\"text-align: right;\">\n",
       "      <th></th>\n",
       "      <th>children</th>\n",
       "      <th>days_employed</th>\n",
       "      <th>dob_years</th>\n",
       "      <th>education</th>\n",
       "      <th>education_id</th>\n",
       "      <th>family_status</th>\n",
       "      <th>family_status_id</th>\n",
       "      <th>gender</th>\n",
       "      <th>income_type</th>\n",
       "      <th>debt</th>\n",
       "      <th>total_income</th>\n",
       "      <th>purpose</th>\n",
       "    </tr>\n",
       "  </thead>\n",
       "  <tbody>\n",
       "    <tr>\n",
       "      <th>2849</th>\n",
       "      <td>0</td>\n",
       "      <td>50.140397</td>\n",
       "      <td>41</td>\n",
       "      <td>среднее</td>\n",
       "      <td>1</td>\n",
       "      <td>женат / замужем</td>\n",
       "      <td>0</td>\n",
       "      <td>F</td>\n",
       "      <td>сотрудник</td>\n",
       "      <td>0</td>\n",
       "      <td>142594</td>\n",
       "      <td>покупка жилья для семьи</td>\n",
       "    </tr>\n",
       "    <tr>\n",
       "      <th>3290</th>\n",
       "      <td>0</td>\n",
       "      <td>50.140397</td>\n",
       "      <td>58</td>\n",
       "      <td>среднее</td>\n",
       "      <td>1</td>\n",
       "      <td>гражданский брак</td>\n",
       "      <td>1</td>\n",
       "      <td>F</td>\n",
       "      <td>пенсионер</td>\n",
       "      <td>0</td>\n",
       "      <td>118514</td>\n",
       "      <td>сыграть свадьбу</td>\n",
       "    </tr>\n",
       "    <tr>\n",
       "      <th>4182</th>\n",
       "      <td>1</td>\n",
       "      <td>50.140397</td>\n",
       "      <td>34</td>\n",
       "      <td>высшее</td>\n",
       "      <td>0</td>\n",
       "      <td>гражданский брак</td>\n",
       "      <td>1</td>\n",
       "      <td>F</td>\n",
       "      <td>сотрудник</td>\n",
       "      <td>0</td>\n",
       "      <td>142594</td>\n",
       "      <td>свадьба</td>\n",
       "    </tr>\n",
       "    <tr>\n",
       "      <th>4851</th>\n",
       "      <td>0</td>\n",
       "      <td>50.140397</td>\n",
       "      <td>60</td>\n",
       "      <td>среднее</td>\n",
       "      <td>1</td>\n",
       "      <td>гражданский брак</td>\n",
       "      <td>1</td>\n",
       "      <td>F</td>\n",
       "      <td>пенсионер</td>\n",
       "      <td>0</td>\n",
       "      <td>118514</td>\n",
       "      <td>свадьба</td>\n",
       "    </tr>\n",
       "    <tr>\n",
       "      <th>5557</th>\n",
       "      <td>0</td>\n",
       "      <td>50.140397</td>\n",
       "      <td>58</td>\n",
       "      <td>среднее</td>\n",
       "      <td>1</td>\n",
       "      <td>гражданский брак</td>\n",
       "      <td>1</td>\n",
       "      <td>F</td>\n",
       "      <td>пенсионер</td>\n",
       "      <td>0</td>\n",
       "      <td>118514</td>\n",
       "      <td>сыграть свадьбу</td>\n",
       "    </tr>\n",
       "  </tbody>\n",
       "</table>\n",
       "</div>"
      ],
      "text/plain": [
       "      children  days_employed  dob_years education  education_id  \\\n",
       "2849         0      50.140397         41   среднее             1   \n",
       "3290         0      50.140397         58   среднее             1   \n",
       "4182         1      50.140397         34    высшее             0   \n",
       "4851         0      50.140397         60   среднее             1   \n",
       "5557         0      50.140397         58   среднее             1   \n",
       "\n",
       "         family_status  family_status_id gender income_type  debt  \\\n",
       "2849   женат / замужем                 0      F   сотрудник     0   \n",
       "3290  гражданский брак                 1      F   пенсионер     0   \n",
       "4182  гражданский брак                 1      F   сотрудник     0   \n",
       "4851  гражданский брак                 1      F   пенсионер     0   \n",
       "5557  гражданский брак                 1      F   пенсионер     0   \n",
       "\n",
       "      total_income                  purpose  \n",
       "2849        142594  покупка жилья для семьи  \n",
       "3290        118514          сыграть свадьбу  \n",
       "4182        142594                  свадьба  \n",
       "4851        118514                  свадьба  \n",
       "5557        118514          сыграть свадьбу  "
      ]
     },
     "metadata": {},
     "output_type": "display_data"
    },
    {
     "data": {
      "text/html": [
       "<div>\n",
       "<style scoped>\n",
       "    .dataframe tbody tr th:only-of-type {\n",
       "        vertical-align: middle;\n",
       "    }\n",
       "\n",
       "    .dataframe tbody tr th {\n",
       "        vertical-align: top;\n",
       "    }\n",
       "\n",
       "    .dataframe thead th {\n",
       "        text-align: right;\n",
       "    }\n",
       "</style>\n",
       "<table border=\"1\" class=\"dataframe\">\n",
       "  <thead>\n",
       "    <tr style=\"text-align: right;\">\n",
       "      <th></th>\n",
       "      <th>children</th>\n",
       "      <th>days_employed</th>\n",
       "      <th>dob_years</th>\n",
       "      <th>education</th>\n",
       "      <th>education_id</th>\n",
       "      <th>family_status</th>\n",
       "      <th>family_status_id</th>\n",
       "      <th>gender</th>\n",
       "      <th>income_type</th>\n",
       "      <th>debt</th>\n",
       "      <th>total_income</th>\n",
       "      <th>purpose</th>\n",
       "    </tr>\n",
       "  </thead>\n",
       "  <tbody>\n",
       "    <tr>\n",
       "      <th>20702</th>\n",
       "      <td>0</td>\n",
       "      <td>50.140397</td>\n",
       "      <td>64</td>\n",
       "      <td>среднее</td>\n",
       "      <td>1</td>\n",
       "      <td>женат / замужем</td>\n",
       "      <td>0</td>\n",
       "      <td>F</td>\n",
       "      <td>пенсионер</td>\n",
       "      <td>0</td>\n",
       "      <td>118514</td>\n",
       "      <td>дополнительное образование</td>\n",
       "    </tr>\n",
       "    <tr>\n",
       "      <th>21032</th>\n",
       "      <td>0</td>\n",
       "      <td>50.140397</td>\n",
       "      <td>60</td>\n",
       "      <td>среднее</td>\n",
       "      <td>1</td>\n",
       "      <td>женат / замужем</td>\n",
       "      <td>0</td>\n",
       "      <td>F</td>\n",
       "      <td>пенсионер</td>\n",
       "      <td>0</td>\n",
       "      <td>118514</td>\n",
       "      <td>заняться образованием</td>\n",
       "    </tr>\n",
       "    <tr>\n",
       "      <th>21132</th>\n",
       "      <td>0</td>\n",
       "      <td>50.140397</td>\n",
       "      <td>47</td>\n",
       "      <td>среднее</td>\n",
       "      <td>1</td>\n",
       "      <td>женат / замужем</td>\n",
       "      <td>0</td>\n",
       "      <td>F</td>\n",
       "      <td>сотрудник</td>\n",
       "      <td>0</td>\n",
       "      <td>142594</td>\n",
       "      <td>ремонт жилью</td>\n",
       "    </tr>\n",
       "    <tr>\n",
       "      <th>21281</th>\n",
       "      <td>1</td>\n",
       "      <td>50.140397</td>\n",
       "      <td>30</td>\n",
       "      <td>высшее</td>\n",
       "      <td>0</td>\n",
       "      <td>женат / замужем</td>\n",
       "      <td>0</td>\n",
       "      <td>F</td>\n",
       "      <td>сотрудник</td>\n",
       "      <td>0</td>\n",
       "      <td>142594</td>\n",
       "      <td>покупка коммерческой недвижимости</td>\n",
       "    </tr>\n",
       "    <tr>\n",
       "      <th>21415</th>\n",
       "      <td>0</td>\n",
       "      <td>50.140397</td>\n",
       "      <td>54</td>\n",
       "      <td>среднее</td>\n",
       "      <td>1</td>\n",
       "      <td>женат / замужем</td>\n",
       "      <td>0</td>\n",
       "      <td>F</td>\n",
       "      <td>пенсионер</td>\n",
       "      <td>0</td>\n",
       "      <td>118514</td>\n",
       "      <td>операции с жильем</td>\n",
       "    </tr>\n",
       "  </tbody>\n",
       "</table>\n",
       "</div>"
      ],
      "text/plain": [
       "       children  days_employed  dob_years education  education_id  \\\n",
       "20702         0      50.140397         64   среднее             1   \n",
       "21032         0      50.140397         60   среднее             1   \n",
       "21132         0      50.140397         47   среднее             1   \n",
       "21281         1      50.140397         30    высшее             0   \n",
       "21415         0      50.140397         54   среднее             1   \n",
       "\n",
       "         family_status  family_status_id gender income_type  debt  \\\n",
       "20702  женат / замужем                 0      F   пенсионер     0   \n",
       "21032  женат / замужем                 0      F   пенсионер     0   \n",
       "21132  женат / замужем                 0      F   сотрудник     0   \n",
       "21281  женат / замужем                 0      F   сотрудник     0   \n",
       "21415  женат / замужем                 0      F   пенсионер     0   \n",
       "\n",
       "       total_income                            purpose  \n",
       "20702        118514         дополнительное образование  \n",
       "21032        118514              заняться образованием  \n",
       "21132        142594                       ремонт жилью  \n",
       "21281        142594  покупка коммерческой недвижимости  \n",
       "21415        118514                  операции с жильем  "
      ]
     },
     "metadata": {},
     "output_type": "display_data"
    },
    {
     "data": {
      "text/plain": [
       "' Дубликатов: 71'"
      ]
     },
     "metadata": {},
     "output_type": "display_data"
    }
   ],
   "source": [
    "display(data[data.duplicated()].head())\n",
    "display(data[data.duplicated()].tail())\n",
    "display(f' Дубликатов: {data.duplicated().sum()}')"
   ]
  },
  {
   "cell_type": "code",
   "execution_count": 16,
   "id": "447215dd",
   "metadata": {},
   "outputs": [
    {
     "name": "stdout",
     "output_type": "stream",
     "text": [
      "<class 'pandas.core.frame.DataFrame'>\n",
      "RangeIndex: 21454 entries, 0 to 21453\n",
      "Data columns (total 12 columns):\n",
      " #   Column            Non-Null Count  Dtype  \n",
      "---  ------            --------------  -----  \n",
      " 0   children          21454 non-null  int64  \n",
      " 1   days_employed     21454 non-null  float64\n",
      " 2   dob_years         21454 non-null  int64  \n",
      " 3   education         21454 non-null  object \n",
      " 4   education_id      21454 non-null  int64  \n",
      " 5   family_status     21454 non-null  object \n",
      " 6   family_status_id  21454 non-null  int64  \n",
      " 7   gender            21454 non-null  object \n",
      " 8   income_type       21454 non-null  object \n",
      " 9   debt              21454 non-null  int64  \n",
      " 10  total_income      21454 non-null  int64  \n",
      " 11  purpose           21454 non-null  object \n",
      "dtypes: float64(1), int64(6), object(5)\n",
      "memory usage: 2.0+ MB\n"
     ]
    }
   ],
   "source": [
    "data = data.drop_duplicates().reset_index(drop=True) \n",
    "data.info()"
   ]
  },
  {
   "cell_type": "markdown",
   "id": "f1736fd0",
   "metadata": {},
   "source": [
    "В столбце education были значения с верхним и нижним регистром, перед удаление дубликатов привел все значения к нижнему регистру. "
   ]
  },
  {
   "cell_type": "markdown",
   "id": "8ec0b02b",
   "metadata": {},
   "source": [
    "### Шаг 2.5. Формирование дополнительных датафреймов словарей, декомпозиция исходного датафрейма."
   ]
  },
  {
   "cell_type": "code",
   "execution_count": 17,
   "id": "527ccdbf",
   "metadata": {},
   "outputs": [],
   "source": [
    "education = data[['education','education_id']]\n",
    "family_status = data[['family_status','family_status_id']]\n",
    "data = data.drop(columns = ['education', 'family_status'])"
   ]
  },
  {
   "cell_type": "markdown",
   "id": "9411ecf4",
   "metadata": {},
   "source": [
    "Вынесли в отдельные таблицы те столбцы у которых есть категоризация, для упрощения таблицы"
   ]
  },
  {
   "cell_type": "markdown",
   "id": "21ce25b9",
   "metadata": {},
   "source": [
    "### Шаг 2.6. Категоризация дохода."
   ]
  },
  {
   "cell_type": "code",
   "execution_count": 18,
   "id": "d6873bf8",
   "metadata": {},
   "outputs": [
    {
     "data": {
      "text/html": [
       "<div>\n",
       "<style scoped>\n",
       "    .dataframe tbody tr th:only-of-type {\n",
       "        vertical-align: middle;\n",
       "    }\n",
       "\n",
       "    .dataframe tbody tr th {\n",
       "        vertical-align: top;\n",
       "    }\n",
       "\n",
       "    .dataframe thead th {\n",
       "        text-align: right;\n",
       "    }\n",
       "</style>\n",
       "<table border=\"1\" class=\"dataframe\">\n",
       "  <thead>\n",
       "    <tr style=\"text-align: right;\">\n",
       "      <th></th>\n",
       "      <th>children</th>\n",
       "      <th>days_employed</th>\n",
       "      <th>dob_years</th>\n",
       "      <th>education_id</th>\n",
       "      <th>family_status_id</th>\n",
       "      <th>gender</th>\n",
       "      <th>income_type</th>\n",
       "      <th>debt</th>\n",
       "      <th>total_income</th>\n",
       "      <th>purpose</th>\n",
       "      <th>total_income_category</th>\n",
       "    </tr>\n",
       "  </thead>\n",
       "  <tbody>\n",
       "    <tr>\n",
       "      <th>0</th>\n",
       "      <td>1</td>\n",
       "      <td>351.569709</td>\n",
       "      <td>42</td>\n",
       "      <td>0</td>\n",
       "      <td>0</td>\n",
       "      <td>F</td>\n",
       "      <td>сотрудник</td>\n",
       "      <td>0</td>\n",
       "      <td>253875</td>\n",
       "      <td>покупка жилья</td>\n",
       "      <td>B</td>\n",
       "    </tr>\n",
       "    <tr>\n",
       "      <th>1</th>\n",
       "      <td>1</td>\n",
       "      <td>167.700156</td>\n",
       "      <td>36</td>\n",
       "      <td>1</td>\n",
       "      <td>0</td>\n",
       "      <td>F</td>\n",
       "      <td>сотрудник</td>\n",
       "      <td>0</td>\n",
       "      <td>112080</td>\n",
       "      <td>приобретение автомобиля</td>\n",
       "      <td>C</td>\n",
       "    </tr>\n",
       "    <tr>\n",
       "      <th>2</th>\n",
       "      <td>0</td>\n",
       "      <td>234.309275</td>\n",
       "      <td>33</td>\n",
       "      <td>1</td>\n",
       "      <td>0</td>\n",
       "      <td>M</td>\n",
       "      <td>сотрудник</td>\n",
       "      <td>0</td>\n",
       "      <td>145885</td>\n",
       "      <td>покупка жилья</td>\n",
       "      <td>C</td>\n",
       "    </tr>\n",
       "    <tr>\n",
       "      <th>3</th>\n",
       "      <td>3</td>\n",
       "      <td>171.864467</td>\n",
       "      <td>32</td>\n",
       "      <td>1</td>\n",
       "      <td>0</td>\n",
       "      <td>M</td>\n",
       "      <td>сотрудник</td>\n",
       "      <td>0</td>\n",
       "      <td>267628</td>\n",
       "      <td>дополнительное образование</td>\n",
       "      <td>B</td>\n",
       "    </tr>\n",
       "    <tr>\n",
       "      <th>4</th>\n",
       "      <td>0</td>\n",
       "      <td>14177.753002</td>\n",
       "      <td>53</td>\n",
       "      <td>1</td>\n",
       "      <td>1</td>\n",
       "      <td>F</td>\n",
       "      <td>пенсионер</td>\n",
       "      <td>0</td>\n",
       "      <td>158616</td>\n",
       "      <td>сыграть свадьбу</td>\n",
       "      <td>C</td>\n",
       "    </tr>\n",
       "    <tr>\n",
       "      <th>5</th>\n",
       "      <td>0</td>\n",
       "      <td>38.591076</td>\n",
       "      <td>27</td>\n",
       "      <td>0</td>\n",
       "      <td>1</td>\n",
       "      <td>M</td>\n",
       "      <td>компаньон</td>\n",
       "      <td>0</td>\n",
       "      <td>255763</td>\n",
       "      <td>покупка жилья</td>\n",
       "      <td>B</td>\n",
       "    </tr>\n",
       "    <tr>\n",
       "      <th>6</th>\n",
       "      <td>0</td>\n",
       "      <td>119.966752</td>\n",
       "      <td>43</td>\n",
       "      <td>0</td>\n",
       "      <td>0</td>\n",
       "      <td>F</td>\n",
       "      <td>компаньон</td>\n",
       "      <td>0</td>\n",
       "      <td>240525</td>\n",
       "      <td>операции с жильем</td>\n",
       "      <td>B</td>\n",
       "    </tr>\n",
       "    <tr>\n",
       "      <th>7</th>\n",
       "      <td>0</td>\n",
       "      <td>6.365815</td>\n",
       "      <td>50</td>\n",
       "      <td>1</td>\n",
       "      <td>0</td>\n",
       "      <td>M</td>\n",
       "      <td>сотрудник</td>\n",
       "      <td>0</td>\n",
       "      <td>135823</td>\n",
       "      <td>образование</td>\n",
       "      <td>C</td>\n",
       "    </tr>\n",
       "    <tr>\n",
       "      <th>8</th>\n",
       "      <td>2</td>\n",
       "      <td>288.744387</td>\n",
       "      <td>35</td>\n",
       "      <td>0</td>\n",
       "      <td>1</td>\n",
       "      <td>F</td>\n",
       "      <td>сотрудник</td>\n",
       "      <td>0</td>\n",
       "      <td>95856</td>\n",
       "      <td>на проведение свадьбы</td>\n",
       "      <td>C</td>\n",
       "    </tr>\n",
       "    <tr>\n",
       "      <th>9</th>\n",
       "      <td>0</td>\n",
       "      <td>91.198185</td>\n",
       "      <td>41</td>\n",
       "      <td>1</td>\n",
       "      <td>0</td>\n",
       "      <td>M</td>\n",
       "      <td>сотрудник</td>\n",
       "      <td>0</td>\n",
       "      <td>144425</td>\n",
       "      <td>покупка жилья для семьи</td>\n",
       "      <td>C</td>\n",
       "    </tr>\n",
       "  </tbody>\n",
       "</table>\n",
       "</div>"
      ],
      "text/plain": [
       "   children  days_employed  dob_years  education_id  family_status_id gender  \\\n",
       "0         1     351.569709         42             0                 0      F   \n",
       "1         1     167.700156         36             1                 0      F   \n",
       "2         0     234.309275         33             1                 0      M   \n",
       "3         3     171.864467         32             1                 0      M   \n",
       "4         0   14177.753002         53             1                 1      F   \n",
       "5         0      38.591076         27             0                 1      M   \n",
       "6         0     119.966752         43             0                 0      F   \n",
       "7         0       6.365815         50             1                 0      M   \n",
       "8         2     288.744387         35             0                 1      F   \n",
       "9         0      91.198185         41             1                 0      M   \n",
       "\n",
       "  income_type  debt  total_income                     purpose  \\\n",
       "0   сотрудник     0        253875               покупка жилья   \n",
       "1   сотрудник     0        112080     приобретение автомобиля   \n",
       "2   сотрудник     0        145885               покупка жилья   \n",
       "3   сотрудник     0        267628  дополнительное образование   \n",
       "4   пенсионер     0        158616             сыграть свадьбу   \n",
       "5   компаньон     0        255763               покупка жилья   \n",
       "6   компаньон     0        240525           операции с жильем   \n",
       "7   сотрудник     0        135823                 образование   \n",
       "8   сотрудник     0         95856       на проведение свадьбы   \n",
       "9   сотрудник     0        144425     покупка жилья для семьи   \n",
       "\n",
       "  total_income_category  \n",
       "0                     B  \n",
       "1                     C  \n",
       "2                     C  \n",
       "3                     B  \n",
       "4                     C  \n",
       "5                     B  \n",
       "6                     B  \n",
       "7                     C  \n",
       "8                     C  \n",
       "9                     C  "
      ]
     },
     "execution_count": 18,
     "metadata": {},
     "output_type": "execute_result"
    }
   ],
   "source": [
    "def income_group(total):\n",
    "    if total >= 0 and total <= 30000:\n",
    "        return 'E'\n",
    "    if total >= 30001 and total <= 50000:\n",
    "        return 'D'\n",
    "    if total >= 50001 and total <= 200000:\n",
    "        return 'C'\n",
    "    if total >= 200001 and total <= 1000000:\n",
    "        return 'B'\n",
    "    if total >= 1000001:\n",
    "        return 'A'\n",
    "data['total_income_category'] = data['total_income'].apply(income_group)\n",
    "data.head(10)"
   ]
  },
  {
   "cell_type": "code",
   "execution_count": 19,
   "id": "c68682d1",
   "metadata": {},
   "outputs": [
    {
     "data": {
      "text/plain": [
       "0"
      ]
     },
     "execution_count": 19,
     "metadata": {},
     "output_type": "execute_result"
    }
   ],
   "source": [
    "data['total_income_category'].isna().sum()"
   ]
  },
  {
   "cell_type": "markdown",
   "id": "d11702e7",
   "metadata": {},
   "source": [
    "Категории:\n",
    "\n",
    "A - доход более 1000001\n",
    "\n",
    "B - доход от 200001 до 1000000\n",
    "\n",
    "C - доход от 50001 до 200000\n",
    "\n",
    "D - доход от 30001 до 50000\n",
    "\n",
    "E - доход менее 30000"
   ]
  },
  {
   "cell_type": "markdown",
   "id": "7c465b62",
   "metadata": {},
   "source": [
    "### Шаг 2.7. Категоризация целей кредита."
   ]
  },
  {
   "cell_type": "code",
   "execution_count": 20,
   "id": "be2af82c",
   "metadata": {},
   "outputs": [
    {
     "data": {
      "text/html": [
       "<div>\n",
       "<style scoped>\n",
       "    .dataframe tbody tr th:only-of-type {\n",
       "        vertical-align: middle;\n",
       "    }\n",
       "\n",
       "    .dataframe tbody tr th {\n",
       "        vertical-align: top;\n",
       "    }\n",
       "\n",
       "    .dataframe thead th {\n",
       "        text-align: right;\n",
       "    }\n",
       "</style>\n",
       "<table border=\"1\" class=\"dataframe\">\n",
       "  <thead>\n",
       "    <tr style=\"text-align: right;\">\n",
       "      <th></th>\n",
       "      <th>children</th>\n",
       "      <th>days_employed</th>\n",
       "      <th>dob_years</th>\n",
       "      <th>education_id</th>\n",
       "      <th>family_status_id</th>\n",
       "      <th>gender</th>\n",
       "      <th>income_type</th>\n",
       "      <th>debt</th>\n",
       "      <th>total_income</th>\n",
       "      <th>purpose</th>\n",
       "      <th>total_income_category</th>\n",
       "      <th>purpose_category</th>\n",
       "    </tr>\n",
       "  </thead>\n",
       "  <tbody>\n",
       "    <tr>\n",
       "      <th>0</th>\n",
       "      <td>1</td>\n",
       "      <td>351.569709</td>\n",
       "      <td>42</td>\n",
       "      <td>0</td>\n",
       "      <td>0</td>\n",
       "      <td>F</td>\n",
       "      <td>сотрудник</td>\n",
       "      <td>0</td>\n",
       "      <td>253875</td>\n",
       "      <td>покупка жилья</td>\n",
       "      <td>B</td>\n",
       "      <td>операции с недвижимостью</td>\n",
       "    </tr>\n",
       "    <tr>\n",
       "      <th>1</th>\n",
       "      <td>1</td>\n",
       "      <td>167.700156</td>\n",
       "      <td>36</td>\n",
       "      <td>1</td>\n",
       "      <td>0</td>\n",
       "      <td>F</td>\n",
       "      <td>сотрудник</td>\n",
       "      <td>0</td>\n",
       "      <td>112080</td>\n",
       "      <td>приобретение автомобиля</td>\n",
       "      <td>C</td>\n",
       "      <td>операции с автомобилем</td>\n",
       "    </tr>\n",
       "    <tr>\n",
       "      <th>2</th>\n",
       "      <td>0</td>\n",
       "      <td>234.309275</td>\n",
       "      <td>33</td>\n",
       "      <td>1</td>\n",
       "      <td>0</td>\n",
       "      <td>M</td>\n",
       "      <td>сотрудник</td>\n",
       "      <td>0</td>\n",
       "      <td>145885</td>\n",
       "      <td>покупка жилья</td>\n",
       "      <td>C</td>\n",
       "      <td>операции с недвижимостью</td>\n",
       "    </tr>\n",
       "    <tr>\n",
       "      <th>3</th>\n",
       "      <td>3</td>\n",
       "      <td>171.864467</td>\n",
       "      <td>32</td>\n",
       "      <td>1</td>\n",
       "      <td>0</td>\n",
       "      <td>M</td>\n",
       "      <td>сотрудник</td>\n",
       "      <td>0</td>\n",
       "      <td>267628</td>\n",
       "      <td>дополнительное образование</td>\n",
       "      <td>B</td>\n",
       "      <td>получение образования</td>\n",
       "    </tr>\n",
       "    <tr>\n",
       "      <th>4</th>\n",
       "      <td>0</td>\n",
       "      <td>14177.753002</td>\n",
       "      <td>53</td>\n",
       "      <td>1</td>\n",
       "      <td>1</td>\n",
       "      <td>F</td>\n",
       "      <td>пенсионер</td>\n",
       "      <td>0</td>\n",
       "      <td>158616</td>\n",
       "      <td>сыграть свадьбу</td>\n",
       "      <td>C</td>\n",
       "      <td>проведение свадьбы</td>\n",
       "    </tr>\n",
       "    <tr>\n",
       "      <th>5</th>\n",
       "      <td>0</td>\n",
       "      <td>38.591076</td>\n",
       "      <td>27</td>\n",
       "      <td>0</td>\n",
       "      <td>1</td>\n",
       "      <td>M</td>\n",
       "      <td>компаньон</td>\n",
       "      <td>0</td>\n",
       "      <td>255763</td>\n",
       "      <td>покупка жилья</td>\n",
       "      <td>B</td>\n",
       "      <td>операции с недвижимостью</td>\n",
       "    </tr>\n",
       "    <tr>\n",
       "      <th>6</th>\n",
       "      <td>0</td>\n",
       "      <td>119.966752</td>\n",
       "      <td>43</td>\n",
       "      <td>0</td>\n",
       "      <td>0</td>\n",
       "      <td>F</td>\n",
       "      <td>компаньон</td>\n",
       "      <td>0</td>\n",
       "      <td>240525</td>\n",
       "      <td>операции с жильем</td>\n",
       "      <td>B</td>\n",
       "      <td>операции с недвижимостью</td>\n",
       "    </tr>\n",
       "    <tr>\n",
       "      <th>7</th>\n",
       "      <td>0</td>\n",
       "      <td>6.365815</td>\n",
       "      <td>50</td>\n",
       "      <td>1</td>\n",
       "      <td>0</td>\n",
       "      <td>M</td>\n",
       "      <td>сотрудник</td>\n",
       "      <td>0</td>\n",
       "      <td>135823</td>\n",
       "      <td>образование</td>\n",
       "      <td>C</td>\n",
       "      <td>получение образования</td>\n",
       "    </tr>\n",
       "    <tr>\n",
       "      <th>8</th>\n",
       "      <td>2</td>\n",
       "      <td>288.744387</td>\n",
       "      <td>35</td>\n",
       "      <td>0</td>\n",
       "      <td>1</td>\n",
       "      <td>F</td>\n",
       "      <td>сотрудник</td>\n",
       "      <td>0</td>\n",
       "      <td>95856</td>\n",
       "      <td>на проведение свадьбы</td>\n",
       "      <td>C</td>\n",
       "      <td>проведение свадьбы</td>\n",
       "    </tr>\n",
       "    <tr>\n",
       "      <th>9</th>\n",
       "      <td>0</td>\n",
       "      <td>91.198185</td>\n",
       "      <td>41</td>\n",
       "      <td>1</td>\n",
       "      <td>0</td>\n",
       "      <td>M</td>\n",
       "      <td>сотрудник</td>\n",
       "      <td>0</td>\n",
       "      <td>144425</td>\n",
       "      <td>покупка жилья для семьи</td>\n",
       "      <td>C</td>\n",
       "      <td>операции с недвижимостью</td>\n",
       "    </tr>\n",
       "    <tr>\n",
       "      <th>10</th>\n",
       "      <td>2</td>\n",
       "      <td>173.811819</td>\n",
       "      <td>36</td>\n",
       "      <td>0</td>\n",
       "      <td>0</td>\n",
       "      <td>M</td>\n",
       "      <td>компаньон</td>\n",
       "      <td>0</td>\n",
       "      <td>113943</td>\n",
       "      <td>покупка недвижимости</td>\n",
       "      <td>C</td>\n",
       "      <td>операции с недвижимостью</td>\n",
       "    </tr>\n",
       "    <tr>\n",
       "      <th>11</th>\n",
       "      <td>0</td>\n",
       "      <td>33.029245</td>\n",
       "      <td>40</td>\n",
       "      <td>1</td>\n",
       "      <td>0</td>\n",
       "      <td>F</td>\n",
       "      <td>сотрудник</td>\n",
       "      <td>0</td>\n",
       "      <td>77069</td>\n",
       "      <td>покупка коммерческой недвижимости</td>\n",
       "      <td>C</td>\n",
       "      <td>операции с недвижимостью</td>\n",
       "    </tr>\n",
       "    <tr>\n",
       "      <th>12</th>\n",
       "      <td>0</td>\n",
       "      <td>50.140397</td>\n",
       "      <td>65</td>\n",
       "      <td>1</td>\n",
       "      <td>1</td>\n",
       "      <td>M</td>\n",
       "      <td>пенсионер</td>\n",
       "      <td>0</td>\n",
       "      <td>118514</td>\n",
       "      <td>сыграть свадьбу</td>\n",
       "      <td>C</td>\n",
       "      <td>проведение свадьбы</td>\n",
       "    </tr>\n",
       "    <tr>\n",
       "      <th>13</th>\n",
       "      <td>0</td>\n",
       "      <td>76.943414</td>\n",
       "      <td>54</td>\n",
       "      <td>2</td>\n",
       "      <td>0</td>\n",
       "      <td>F</td>\n",
       "      <td>сотрудник</td>\n",
       "      <td>0</td>\n",
       "      <td>130458</td>\n",
       "      <td>приобретение автомобиля</td>\n",
       "      <td>C</td>\n",
       "      <td>операции с автомобилем</td>\n",
       "    </tr>\n",
       "    <tr>\n",
       "      <th>14</th>\n",
       "      <td>0</td>\n",
       "      <td>76.873174</td>\n",
       "      <td>56</td>\n",
       "      <td>0</td>\n",
       "      <td>1</td>\n",
       "      <td>F</td>\n",
       "      <td>компаньон</td>\n",
       "      <td>1</td>\n",
       "      <td>165127</td>\n",
       "      <td>покупка жилой недвижимости</td>\n",
       "      <td>C</td>\n",
       "      <td>операции с недвижимостью</td>\n",
       "    </tr>\n",
       "    <tr>\n",
       "      <th>15</th>\n",
       "      <td>1</td>\n",
       "      <td>40.515184</td>\n",
       "      <td>26</td>\n",
       "      <td>1</td>\n",
       "      <td>0</td>\n",
       "      <td>F</td>\n",
       "      <td>сотрудник</td>\n",
       "      <td>0</td>\n",
       "      <td>116820</td>\n",
       "      <td>строительство собственной недвижимости</td>\n",
       "      <td>C</td>\n",
       "      <td>операции с недвижимостью</td>\n",
       "    </tr>\n",
       "    <tr>\n",
       "      <th>16</th>\n",
       "      <td>0</td>\n",
       "      <td>71.663926</td>\n",
       "      <td>35</td>\n",
       "      <td>1</td>\n",
       "      <td>0</td>\n",
       "      <td>F</td>\n",
       "      <td>сотрудник</td>\n",
       "      <td>0</td>\n",
       "      <td>289202</td>\n",
       "      <td>недвижимость</td>\n",
       "      <td>B</td>\n",
       "      <td>операции с недвижимостью</td>\n",
       "    </tr>\n",
       "    <tr>\n",
       "      <th>17</th>\n",
       "      <td>0</td>\n",
       "      <td>98.749988</td>\n",
       "      <td>33</td>\n",
       "      <td>0</td>\n",
       "      <td>1</td>\n",
       "      <td>M</td>\n",
       "      <td>сотрудник</td>\n",
       "      <td>0</td>\n",
       "      <td>90410</td>\n",
       "      <td>строительство недвижимости</td>\n",
       "      <td>C</td>\n",
       "      <td>операции с недвижимостью</td>\n",
       "    </tr>\n",
       "    <tr>\n",
       "      <th>18</th>\n",
       "      <td>0</td>\n",
       "      <td>16678.380705</td>\n",
       "      <td>53</td>\n",
       "      <td>1</td>\n",
       "      <td>2</td>\n",
       "      <td>F</td>\n",
       "      <td>пенсионер</td>\n",
       "      <td>0</td>\n",
       "      <td>56823</td>\n",
       "      <td>на покупку подержанного автомобиля</td>\n",
       "      <td>C</td>\n",
       "      <td>операции с автомобилем</td>\n",
       "    </tr>\n",
       "    <tr>\n",
       "      <th>19</th>\n",
       "      <td>0</td>\n",
       "      <td>418.284106</td>\n",
       "      <td>48</td>\n",
       "      <td>1</td>\n",
       "      <td>3</td>\n",
       "      <td>F</td>\n",
       "      <td>сотрудник</td>\n",
       "      <td>0</td>\n",
       "      <td>242831</td>\n",
       "      <td>на покупку своего автомобиля</td>\n",
       "      <td>B</td>\n",
       "      <td>операции с автомобилем</td>\n",
       "    </tr>\n",
       "  </tbody>\n",
       "</table>\n",
       "</div>"
      ],
      "text/plain": [
       "    children  days_employed  dob_years  education_id  family_status_id gender  \\\n",
       "0          1     351.569709         42             0                 0      F   \n",
       "1          1     167.700156         36             1                 0      F   \n",
       "2          0     234.309275         33             1                 0      M   \n",
       "3          3     171.864467         32             1                 0      M   \n",
       "4          0   14177.753002         53             1                 1      F   \n",
       "5          0      38.591076         27             0                 1      M   \n",
       "6          0     119.966752         43             0                 0      F   \n",
       "7          0       6.365815         50             1                 0      M   \n",
       "8          2     288.744387         35             0                 1      F   \n",
       "9          0      91.198185         41             1                 0      M   \n",
       "10         2     173.811819         36             0                 0      M   \n",
       "11         0      33.029245         40             1                 0      F   \n",
       "12         0      50.140397         65             1                 1      M   \n",
       "13         0      76.943414         54             2                 0      F   \n",
       "14         0      76.873174         56             0                 1      F   \n",
       "15         1      40.515184         26             1                 0      F   \n",
       "16         0      71.663926         35             1                 0      F   \n",
       "17         0      98.749988         33             0                 1      M   \n",
       "18         0   16678.380705         53             1                 2      F   \n",
       "19         0     418.284106         48             1                 3      F   \n",
       "\n",
       "   income_type  debt  total_income                                 purpose  \\\n",
       "0    сотрудник     0        253875                           покупка жилья   \n",
       "1    сотрудник     0        112080                 приобретение автомобиля   \n",
       "2    сотрудник     0        145885                           покупка жилья   \n",
       "3    сотрудник     0        267628              дополнительное образование   \n",
       "4    пенсионер     0        158616                         сыграть свадьбу   \n",
       "5    компаньон     0        255763                           покупка жилья   \n",
       "6    компаньон     0        240525                       операции с жильем   \n",
       "7    сотрудник     0        135823                             образование   \n",
       "8    сотрудник     0         95856                   на проведение свадьбы   \n",
       "9    сотрудник     0        144425                 покупка жилья для семьи   \n",
       "10   компаньон     0        113943                    покупка недвижимости   \n",
       "11   сотрудник     0         77069       покупка коммерческой недвижимости   \n",
       "12   пенсионер     0        118514                         сыграть свадьбу   \n",
       "13   сотрудник     0        130458                 приобретение автомобиля   \n",
       "14   компаньон     1        165127              покупка жилой недвижимости   \n",
       "15   сотрудник     0        116820  строительство собственной недвижимости   \n",
       "16   сотрудник     0        289202                            недвижимость   \n",
       "17   сотрудник     0         90410              строительство недвижимости   \n",
       "18   пенсионер     0         56823      на покупку подержанного автомобиля   \n",
       "19   сотрудник     0        242831            на покупку своего автомобиля   \n",
       "\n",
       "   total_income_category          purpose_category  \n",
       "0                      B  операции с недвижимостью  \n",
       "1                      C    операции с автомобилем  \n",
       "2                      C  операции с недвижимостью  \n",
       "3                      B     получение образования  \n",
       "4                      C        проведение свадьбы  \n",
       "5                      B  операции с недвижимостью  \n",
       "6                      B  операции с недвижимостью  \n",
       "7                      C     получение образования  \n",
       "8                      C        проведение свадьбы  \n",
       "9                      C  операции с недвижимостью  \n",
       "10                     C  операции с недвижимостью  \n",
       "11                     C  операции с недвижимостью  \n",
       "12                     C        проведение свадьбы  \n",
       "13                     C    операции с автомобилем  \n",
       "14                     C  операции с недвижимостью  \n",
       "15                     C  операции с недвижимостью  \n",
       "16                     B  операции с недвижимостью  \n",
       "17                     C  операции с недвижимостью  \n",
       "18                     C    операции с автомобилем  \n",
       "19                     B    операции с автомобилем  "
      ]
     },
     "metadata": {},
     "output_type": "display_data"
    }
   ],
   "source": [
    "def purpose_group(purpose):\n",
    "    try:\n",
    "        if 'автомоб' in purpose:\n",
    "            return 'операции с автомобилем'       \n",
    "        if 'недвижим' in purpose or 'жиль'in purpose:\n",
    "            return 'операции с недвижимостью'\n",
    "        if 'образован' in purpose:\n",
    "            return 'получение образования'       \n",
    "        if 'свадьб' in purpose:\n",
    "            return 'проведение свадьбы'\n",
    "    except:\n",
    "        print('нет совпадений')  \n",
    "data['purpose_category'] = data['purpose'].apply(purpose_group)\n",
    "display(data.head(20))"
   ]
  },
  {
   "cell_type": "code",
   "execution_count": 21,
   "id": "56ba2616",
   "metadata": {},
   "outputs": [
    {
     "name": "stdout",
     "output_type": "stream",
     "text": [
      "<class 'pandas.core.frame.DataFrame'>\n",
      "RangeIndex: 21454 entries, 0 to 21453\n",
      "Data columns (total 12 columns):\n",
      " #   Column                 Non-Null Count  Dtype  \n",
      "---  ------                 --------------  -----  \n",
      " 0   children               21454 non-null  int64  \n",
      " 1   days_employed          21454 non-null  float64\n",
      " 2   dob_years              21454 non-null  int64  \n",
      " 3   education_id           21454 non-null  int64  \n",
      " 4   family_status_id       21454 non-null  int64  \n",
      " 5   gender                 21454 non-null  object \n",
      " 6   income_type            21454 non-null  object \n",
      " 7   debt                   21454 non-null  int64  \n",
      " 8   total_income           21454 non-null  int64  \n",
      " 9   purpose                21454 non-null  object \n",
      " 10  total_income_category  21454 non-null  object \n",
      " 11  purpose_category       21454 non-null  object \n",
      "dtypes: float64(1), int64(6), object(5)\n",
      "memory usage: 2.0+ MB\n"
     ]
    }
   ],
   "source": [
    "data.info()"
   ]
  },
  {
   "cell_type": "markdown",
   "id": "e68914c8",
   "metadata": {},
   "source": [
    "Категоризировал данные по доходу, назначению кредита."
   ]
  },
  {
   "cell_type": "markdown",
   "id": "900c1e03",
   "metadata": {},
   "source": [
    "### Шаг 3. Проверка гипотез."
   ]
  },
  {
   "cell_type": "markdown",
   "id": "6a7ce685",
   "metadata": {},
   "source": [
    "#### Влияние наличие детей на факт погашения кредита в срок"
   ]
  },
  {
   "cell_type": "code",
   "execution_count": 22,
   "id": "a4496b61",
   "metadata": {},
   "outputs": [
    {
     "data": {
      "text/html": [
       "<div>\n",
       "<style scoped>\n",
       "    .dataframe tbody tr th:only-of-type {\n",
       "        vertical-align: middle;\n",
       "    }\n",
       "\n",
       "    .dataframe tbody tr th {\n",
       "        vertical-align: top;\n",
       "    }\n",
       "\n",
       "    .dataframe thead th {\n",
       "        text-align: right;\n",
       "    }\n",
       "</style>\n",
       "<table border=\"1\" class=\"dataframe\">\n",
       "  <thead>\n",
       "    <tr style=\"text-align: right;\">\n",
       "      <th></th>\n",
       "      <th>count_children</th>\n",
       "      <th>sum_children</th>\n",
       "      <th>result_children</th>\n",
       "    </tr>\n",
       "    <tr>\n",
       "      <th>children</th>\n",
       "      <th></th>\n",
       "      <th></th>\n",
       "      <th></th>\n",
       "    </tr>\n",
       "  </thead>\n",
       "  <tbody>\n",
       "    <tr>\n",
       "      <th>20</th>\n",
       "      <td>76</td>\n",
       "      <td>8</td>\n",
       "      <td>0.105263</td>\n",
       "    </tr>\n",
       "    <tr>\n",
       "      <th>4</th>\n",
       "      <td>41</td>\n",
       "      <td>4</td>\n",
       "      <td>0.097561</td>\n",
       "    </tr>\n",
       "    <tr>\n",
       "      <th>2</th>\n",
       "      <td>2052</td>\n",
       "      <td>194</td>\n",
       "      <td>0.094542</td>\n",
       "    </tr>\n",
       "    <tr>\n",
       "      <th>1</th>\n",
       "      <td>4855</td>\n",
       "      <td>445</td>\n",
       "      <td>0.091658</td>\n",
       "    </tr>\n",
       "    <tr>\n",
       "      <th>3</th>\n",
       "      <td>330</td>\n",
       "      <td>27</td>\n",
       "      <td>0.081818</td>\n",
       "    </tr>\n",
       "    <tr>\n",
       "      <th>0</th>\n",
       "      <td>14091</td>\n",
       "      <td>1063</td>\n",
       "      <td>0.075438</td>\n",
       "    </tr>\n",
       "    <tr>\n",
       "      <th>5</th>\n",
       "      <td>9</td>\n",
       "      <td>0</td>\n",
       "      <td>0.000000</td>\n",
       "    </tr>\n",
       "  </tbody>\n",
       "</table>\n",
       "</div>"
      ],
      "text/plain": [
       "          count_children  sum_children  result_children\n",
       "children                                               \n",
       "20                    76             8         0.105263\n",
       "4                     41             4         0.097561\n",
       "2                   2052           194         0.094542\n",
       "1                   4855           445         0.091658\n",
       "3                    330            27         0.081818\n",
       "0                  14091          1063         0.075438\n",
       "5                      9             0         0.000000"
      ]
     },
     "execution_count": 22,
     "metadata": {},
     "output_type": "execute_result"
    }
   ],
   "source": [
    "debt_children = pd.DataFrame()\n",
    "debt_children['count_children'] = data.groupby('children')['debt'].count()\n",
    "debt_children['sum_children'] = data.groupby('children')['debt'].sum()\n",
    "debt_children['result_children'] = debt_children['sum_children'] / debt_children['count_children'] \n",
    "debt_children.sort_values('result_children', ascending = False)"
   ]
  },
  {
   "cell_type": "markdown",
   "id": "c0fb3d86",
   "metadata": {},
   "source": [
    "Тут мы можем видеть что максимальная доля просрочек у сеймей с 20 детьми."
   ]
  },
  {
   "cell_type": "markdown",
   "id": "31e42958",
   "metadata": {},
   "source": [
    "#### Влияние семейного положение клиента на факт погашения кредита в срок"
   ]
  },
  {
   "cell_type": "code",
   "execution_count": 23,
   "id": "9157521a",
   "metadata": {
    "scrolled": true
   },
   "outputs": [
    {
     "data": {
      "text/html": [
       "<div>\n",
       "<style scoped>\n",
       "    .dataframe tbody tr th:only-of-type {\n",
       "        vertical-align: middle;\n",
       "    }\n",
       "\n",
       "    .dataframe tbody tr th {\n",
       "        vertical-align: top;\n",
       "    }\n",
       "\n",
       "    .dataframe thead th {\n",
       "        text-align: right;\n",
       "    }\n",
       "</style>\n",
       "<table border=\"1\" class=\"dataframe\">\n",
       "  <thead>\n",
       "    <tr style=\"text-align: right;\">\n",
       "      <th></th>\n",
       "      <th>count_family</th>\n",
       "      <th>sum_family</th>\n",
       "      <th>result_family</th>\n",
       "    </tr>\n",
       "    <tr>\n",
       "      <th>family_status_id</th>\n",
       "      <th></th>\n",
       "      <th></th>\n",
       "      <th></th>\n",
       "    </tr>\n",
       "  </thead>\n",
       "  <tbody>\n",
       "    <tr>\n",
       "      <th>4</th>\n",
       "      <td>2810</td>\n",
       "      <td>274</td>\n",
       "      <td>0.097509</td>\n",
       "    </tr>\n",
       "    <tr>\n",
       "      <th>1</th>\n",
       "      <td>4151</td>\n",
       "      <td>388</td>\n",
       "      <td>0.093471</td>\n",
       "    </tr>\n",
       "    <tr>\n",
       "      <th>0</th>\n",
       "      <td>12339</td>\n",
       "      <td>931</td>\n",
       "      <td>0.075452</td>\n",
       "    </tr>\n",
       "    <tr>\n",
       "      <th>3</th>\n",
       "      <td>1195</td>\n",
       "      <td>85</td>\n",
       "      <td>0.071130</td>\n",
       "    </tr>\n",
       "    <tr>\n",
       "      <th>2</th>\n",
       "      <td>959</td>\n",
       "      <td>63</td>\n",
       "      <td>0.065693</td>\n",
       "    </tr>\n",
       "  </tbody>\n",
       "</table>\n",
       "</div>"
      ],
      "text/plain": [
       "                  count_family  sum_family  result_family\n",
       "family_status_id                                         \n",
       "4                         2810         274       0.097509\n",
       "1                         4151         388       0.093471\n",
       "0                        12339         931       0.075452\n",
       "3                         1195          85       0.071130\n",
       "2                          959          63       0.065693"
      ]
     },
     "execution_count": 23,
     "metadata": {},
     "output_type": "execute_result"
    }
   ],
   "source": [
    "debt_family = pd.DataFrame()\n",
    "debt_family['count_family'] = data.groupby('family_status_id')['debt'].count()\n",
    "debt_family['sum_family'] = data.groupby('family_status_id')['debt'].sum()\n",
    "debt_family['result_family'] = debt_family['sum_family'] / debt_family['count_family'] \n",
    "debt_family.sort_values('result_family', ascending = False)"
   ]
  },
  {
   "cell_type": "markdown",
   "id": "1211d7a2",
   "metadata": {},
   "source": [
    "0 - женат / замужем\n",
    "\n",
    "1 - гражданский брак\n",
    "\n",
    "2 - вдовец / вдова\n",
    "\n",
    "3 - в разводе\n",
    "\n",
    "4 - Не женат / не замужем\n",
    "\n",
    "\n",
    "Тут мы можем видеть что максимальную долю просрочек думаскают клиенты находящиеся в браке "
   ]
  },
  {
   "cell_type": "markdown",
   "id": "9533cbe3",
   "metadata": {},
   "source": [
    "#### Влияние дохода клиента на факт погашения кредита в срок"
   ]
  },
  {
   "cell_type": "code",
   "execution_count": 24,
   "id": "4735fd6d",
   "metadata": {},
   "outputs": [
    {
     "data": {
      "text/html": [
       "<div>\n",
       "<style scoped>\n",
       "    .dataframe tbody tr th:only-of-type {\n",
       "        vertical-align: middle;\n",
       "    }\n",
       "\n",
       "    .dataframe tbody tr th {\n",
       "        vertical-align: top;\n",
       "    }\n",
       "\n",
       "    .dataframe thead th {\n",
       "        text-align: right;\n",
       "    }\n",
       "</style>\n",
       "<table border=\"1\" class=\"dataframe\">\n",
       "  <thead>\n",
       "    <tr style=\"text-align: right;\">\n",
       "      <th></th>\n",
       "      <th>count_income</th>\n",
       "      <th>sum_income</th>\n",
       "      <th>result_income</th>\n",
       "    </tr>\n",
       "    <tr>\n",
       "      <th>total_income_category</th>\n",
       "      <th></th>\n",
       "      <th></th>\n",
       "      <th></th>\n",
       "    </tr>\n",
       "  </thead>\n",
       "  <tbody>\n",
       "    <tr>\n",
       "      <th>E</th>\n",
       "      <td>22</td>\n",
       "      <td>2</td>\n",
       "      <td>0.090909</td>\n",
       "    </tr>\n",
       "    <tr>\n",
       "      <th>C</th>\n",
       "      <td>16015</td>\n",
       "      <td>1360</td>\n",
       "      <td>0.084920</td>\n",
       "    </tr>\n",
       "    <tr>\n",
       "      <th>A</th>\n",
       "      <td>25</td>\n",
       "      <td>2</td>\n",
       "      <td>0.080000</td>\n",
       "    </tr>\n",
       "    <tr>\n",
       "      <th>B</th>\n",
       "      <td>5042</td>\n",
       "      <td>356</td>\n",
       "      <td>0.070607</td>\n",
       "    </tr>\n",
       "    <tr>\n",
       "      <th>D</th>\n",
       "      <td>350</td>\n",
       "      <td>21</td>\n",
       "      <td>0.060000</td>\n",
       "    </tr>\n",
       "  </tbody>\n",
       "</table>\n",
       "</div>"
      ],
      "text/plain": [
       "                       count_income  sum_income  result_income\n",
       "total_income_category                                         \n",
       "E                                22           2       0.090909\n",
       "C                             16015        1360       0.084920\n",
       "A                                25           2       0.080000\n",
       "B                              5042         356       0.070607\n",
       "D                               350          21       0.060000"
      ]
     },
     "execution_count": 24,
     "metadata": {},
     "output_type": "execute_result"
    }
   ],
   "source": [
    "debt_income = pd.DataFrame()\n",
    "debt_income['count_income'] = data.groupby('total_income_category')['debt'].count()\n",
    "debt_income['sum_income'] = data.groupby('total_income_category')['debt'].sum()\n",
    "debt_income['result_income'] = debt_income['sum_income'] / debt_income['count_income'] \n",
    "debt_income.sort_values('result_income', ascending = False)"
   ]
  },
  {
   "cell_type": "markdown",
   "id": "f18f56f6",
   "metadata": {},
   "source": [
    "A - доход более 1000001\n",
    "\n",
    "B - доход от 200001 до 1000000\n",
    "\n",
    "C - доход от 50001 до 200000\n",
    "\n",
    "D - доход от 30001 до 50000\n",
    "\n",
    "E - доход менее 30000\n",
    "\n",
    "Самая высокая доля просрочек у клиентов с минимальным доходом, менее 30000, но есть интересное наблюдение, минимальная доля просрочек у клиентов с доходом на одну каотегорию выше, тоесть от 30000 до 50000. Так же клиенты с достаточно высоким доходом допускают большое количество просрочек."
   ]
  },
  {
   "cell_type": "markdown",
   "id": "2fae4d5f",
   "metadata": {},
   "source": [
    "#### Влияние цели кредитования клиента на факт погашения кредита в срок"
   ]
  },
  {
   "cell_type": "code",
   "execution_count": 25,
   "id": "a42b2833",
   "metadata": {
    "scrolled": true
   },
   "outputs": [
    {
     "data": {
      "text/html": [
       "<div>\n",
       "<style scoped>\n",
       "    .dataframe tbody tr th:only-of-type {\n",
       "        vertical-align: middle;\n",
       "    }\n",
       "\n",
       "    .dataframe tbody tr th {\n",
       "        vertical-align: top;\n",
       "    }\n",
       "\n",
       "    .dataframe thead th {\n",
       "        text-align: right;\n",
       "    }\n",
       "</style>\n",
       "<table border=\"1\" class=\"dataframe\">\n",
       "  <thead>\n",
       "    <tr style=\"text-align: right;\">\n",
       "      <th></th>\n",
       "      <th>count_purpose</th>\n",
       "      <th>sum_purpose</th>\n",
       "      <th>result_purpose</th>\n",
       "    </tr>\n",
       "    <tr>\n",
       "      <th>purpose_category</th>\n",
       "      <th></th>\n",
       "      <th></th>\n",
       "      <th></th>\n",
       "    </tr>\n",
       "  </thead>\n",
       "  <tbody>\n",
       "    <tr>\n",
       "      <th>операции с автомобилем</th>\n",
       "      <td>4306</td>\n",
       "      <td>403</td>\n",
       "      <td>0.093590</td>\n",
       "    </tr>\n",
       "    <tr>\n",
       "      <th>получение образования</th>\n",
       "      <td>4013</td>\n",
       "      <td>370</td>\n",
       "      <td>0.092200</td>\n",
       "    </tr>\n",
       "    <tr>\n",
       "      <th>проведение свадьбы</th>\n",
       "      <td>2324</td>\n",
       "      <td>186</td>\n",
       "      <td>0.080034</td>\n",
       "    </tr>\n",
       "    <tr>\n",
       "      <th>операции с недвижимостью</th>\n",
       "      <td>10811</td>\n",
       "      <td>782</td>\n",
       "      <td>0.072334</td>\n",
       "    </tr>\n",
       "  </tbody>\n",
       "</table>\n",
       "</div>"
      ],
      "text/plain": [
       "                          count_purpose  sum_purpose  result_purpose\n",
       "purpose_category                                                    \n",
       "операции с автомобилем             4306          403        0.093590\n",
       "получение образования              4013          370        0.092200\n",
       "проведение свадьбы                 2324          186        0.080034\n",
       "операции с недвижимостью          10811          782        0.072334"
      ]
     },
     "execution_count": 25,
     "metadata": {},
     "output_type": "execute_result"
    }
   ],
   "source": [
    "debt_purpose = pd.DataFrame()\n",
    "debt_purpose['count_purpose'] = data.groupby('purpose_category')['debt'].count()\n",
    "debt_purpose['sum_purpose'] = data.groupby('purpose_category')['debt'].sum()\n",
    "debt_purpose['result_purpose'] = debt_purpose['sum_purpose'] / debt_purpose['count_purpose'] \n",
    "debt_purpose.sort_values('result_purpose', ascending = False)"
   ]
  },
  {
   "cell_type": "markdown",
   "id": "2a7dc972",
   "metadata": {},
   "source": [
    "Клиенты взявшие кредит на покупку автомобиля имеют самую высокоую долю просрочек."
   ]
  },
  {
   "cell_type": "markdown",
   "id": "e4efd8b6",
   "metadata": {},
   "source": [
    "### Ответы на вопросы."
   ]
  },
  {
   "cell_type": "markdown",
   "id": "5bdf5f76",
   "metadata": {},
   "source": [
    "##### Вопрос 1:"
   ]
  },
  {
   "cell_type": "markdown",
   "id": "529169e8",
   "metadata": {},
   "source": [
    "Влияет ли наличии детей на факт погашения кредита в срок?"
   ]
  },
  {
   "cell_type": "markdown",
   "id": "9d514322",
   "metadata": {},
   "source": [
    "##### Вывод 1:"
   ]
  },
  {
   "cell_type": "markdown",
   "id": "209c06e2",
   "metadata": {},
   "source": [
    "Клиенты с 20 детьми допускают больше всего просрочек."
   ]
  },
  {
   "cell_type": "markdown",
   "id": "4e8cddf1",
   "metadata": {},
   "source": [
    "##### Вопрос 2:"
   ]
  },
  {
   "cell_type": "markdown",
   "id": "99416cd0",
   "metadata": {},
   "source": [
    "Влияет ли семейное положение клиента на факт погашения кредита в срок"
   ]
  },
  {
   "cell_type": "markdown",
   "id": "b6a002bc",
   "metadata": {},
   "source": [
    "##### Вывод 2:"
   ]
  },
  {
   "cell_type": "markdown",
   "id": "96e0856c",
   "metadata": {},
   "source": [
    "Клиенты браке допускают больше всего просрочек"
   ]
  },
  {
   "cell_type": "markdown",
   "id": "e770bbcf",
   "metadata": {},
   "source": [
    "##### Вопрос 3:"
   ]
  },
  {
   "cell_type": "markdown",
   "id": "6b2693e5",
   "metadata": {},
   "source": [
    "Есть ли зависимость от дохода на факт погашения кредита в срок?"
   ]
  },
  {
   "cell_type": "markdown",
   "id": "0412ac5b",
   "metadata": {},
   "source": [
    "##### Вывод 3:"
   ]
  },
  {
   "cell_type": "markdown",
   "id": "ee7dea80",
   "metadata": {},
   "source": [
    "Клиенты с доходом менее 30000 допускают больше всего просрочек"
   ]
  },
  {
   "cell_type": "markdown",
   "id": "8eab46be",
   "metadata": {},
   "source": [
    "##### Вопрос 4:"
   ]
  },
  {
   "cell_type": "markdown",
   "id": "439420fd",
   "metadata": {},
   "source": [
    "Влияет ли цель кредита на факт погашения кредита в срок?"
   ]
  },
  {
   "cell_type": "markdown",
   "id": "ead9ef59",
   "metadata": {},
   "source": [
    "##### Вывод 4:"
   ]
  },
  {
   "cell_type": "markdown",
   "id": "8aa7c4a4",
   "metadata": {},
   "source": [
    "Клиенты взявшие кредит на покупку автомобиля допускают больше всего просрочек"
   ]
  },
  {
   "cell_type": "markdown",
   "id": "cdc9caf0",
   "metadata": {},
   "source": [
    "## Общий вывод:"
   ]
  },
  {
   "cell_type": "markdown",
   "id": "24642ee1",
   "metadata": {},
   "source": [
    "Семья (количество детей и семейное положение), уровень дохода и цель кредита безусловно влияют на возврат кредита в срок. Некоторые результаты оказались особенно интересными, в частности высокий уровень дохода вовсе не гарантирует возврат кредита в срок. Также показатели возврата кредита в срок значительно выше у вдовцов и вдов, нежели у состоящих или не состоящих в браке клиентов.\n",
    "Основываясь на полученных данных мы приходим к следующему выводу:\n",
    "Лучшие клиенты (относительно вероятности выплат кредита в срок): бездетные вдовцы/вдовы с доходом от 30001 до 50000 с целью кредита - операция с недвижимостью.\n",
    "Худшие клиенты (относительно вероятности выплат кредита в срок): 4 (либо 2) ребенка, не женат / не замужем (либо гражданский брак), доход до 30000 (либо от 50001 до 200000), операции с автомобилем (либо получение образования)."
   ]
  }
 ],
 "metadata": {
  "ExecuteTimeLog": [
   {
    "duration": 627,
    "start_time": "2022-02-04T17:54:09.034Z"
   },
   {
    "duration": 66,
    "start_time": "2022-02-04T17:54:25.778Z"
   },
   {
    "duration": 341,
    "start_time": "2022-02-04T17:55:03.355Z"
   },
   {
    "duration": 61,
    "start_time": "2022-02-04T17:55:19.763Z"
   },
   {
    "duration": 83,
    "start_time": "2022-02-04T17:55:46.728Z"
   },
   {
    "duration": 71,
    "start_time": "2022-02-04T17:56:54.274Z"
   },
   {
    "duration": 71,
    "start_time": "2022-02-04T18:07:20.608Z"
   },
   {
    "duration": 6,
    "start_time": "2022-02-04T18:26:50.712Z"
   },
   {
    "duration": 5,
    "start_time": "2022-02-04T18:32:28.152Z"
   },
   {
    "duration": 4,
    "start_time": "2022-02-04T18:32:28.222Z"
   },
   {
    "duration": 6,
    "start_time": "2022-02-04T18:33:11.196Z"
   },
   {
    "duration": 15,
    "start_time": "2022-02-04T18:33:30.968Z"
   },
   {
    "duration": 16,
    "start_time": "2022-02-04T18:33:34.083Z"
   },
   {
    "duration": 23,
    "start_time": "2022-02-04T18:34:16.809Z"
   },
   {
    "duration": 15,
    "start_time": "2022-02-04T18:34:42.448Z"
   },
   {
    "duration": 14,
    "start_time": "2022-02-04T18:34:58.025Z"
   },
   {
    "duration": 749,
    "start_time": "2022-02-04T18:35:54.722Z"
   },
   {
    "duration": 14,
    "start_time": "2022-02-04T18:36:07.346Z"
   },
   {
    "duration": 20,
    "start_time": "2022-02-04T18:41:39.355Z"
   },
   {
    "duration": 6,
    "start_time": "2022-02-04T18:41:53.001Z"
   },
   {
    "duration": 5,
    "start_time": "2022-02-04T18:42:00.036Z"
   },
   {
    "duration": 693,
    "start_time": "2022-02-04T18:42:30.734Z"
   },
   {
    "duration": 6,
    "start_time": "2022-02-04T18:42:34.280Z"
   },
   {
    "duration": 6,
    "start_time": "2022-02-04T18:42:57.125Z"
   },
   {
    "duration": 6,
    "start_time": "2022-02-04T18:43:00.217Z"
   },
   {
    "duration": 73,
    "start_time": "2022-02-04T19:02:27.962Z"
   },
   {
    "duration": 79,
    "start_time": "2022-02-04T19:02:35.414Z"
   },
   {
    "duration": 8,
    "start_time": "2022-02-04T19:02:44.626Z"
   },
   {
    "duration": 7,
    "start_time": "2022-02-04T19:04:23.021Z"
   },
   {
    "duration": 7,
    "start_time": "2022-02-04T19:04:23.905Z"
   },
   {
    "duration": 74,
    "start_time": "2022-02-04T19:04:28.006Z"
   },
   {
    "duration": 8,
    "start_time": "2022-02-04T19:04:31.943Z"
   },
   {
    "duration": 5,
    "start_time": "2022-02-04T19:04:40.451Z"
   },
   {
    "duration": 5,
    "start_time": "2022-02-04T19:04:43.652Z"
   },
   {
    "duration": 5,
    "start_time": "2022-02-04T19:04:44.488Z"
   },
   {
    "duration": 5,
    "start_time": "2022-02-04T19:04:45.158Z"
   },
   {
    "duration": 656,
    "start_time": "2022-02-04T19:04:55.849Z"
   },
   {
    "duration": 5,
    "start_time": "2022-02-04T19:05:01.527Z"
   },
   {
    "duration": 7,
    "start_time": "2022-02-04T19:05:13.352Z"
   },
   {
    "duration": 7,
    "start_time": "2022-02-04T19:05:17.172Z"
   },
   {
    "duration": 140,
    "start_time": "2022-02-04T19:05:33.807Z"
   },
   {
    "duration": 6,
    "start_time": "2022-02-04T19:05:42.672Z"
   },
   {
    "duration": 7,
    "start_time": "2022-02-04T19:05:59.864Z"
   },
   {
    "duration": 6,
    "start_time": "2022-02-04T19:07:07.806Z"
   },
   {
    "duration": 6,
    "start_time": "2022-02-04T19:07:23.894Z"
   },
   {
    "duration": 8,
    "start_time": "2022-02-04T19:07:32.543Z"
   },
   {
    "duration": 77,
    "start_time": "2022-02-04T19:10:14.586Z"
   },
   {
    "duration": 84,
    "start_time": "2022-02-04T19:17:54.468Z"
   },
   {
    "duration": 319,
    "start_time": "2022-02-04T19:30:41.712Z"
   },
   {
    "duration": 16,
    "start_time": "2022-02-04T19:30:54.968Z"
   },
   {
    "duration": 6,
    "start_time": "2022-02-04T19:32:48.168Z"
   },
   {
    "duration": 6,
    "start_time": "2022-02-04T19:32:52.384Z"
   },
   {
    "duration": 77,
    "start_time": "2022-02-04T19:32:54.821Z"
   },
   {
    "duration": 8,
    "start_time": "2022-02-04T19:32:54.901Z"
   },
   {
    "duration": 90,
    "start_time": "2022-02-04T19:32:54.911Z"
   },
   {
    "duration": 79,
    "start_time": "2022-02-04T20:00:11.331Z"
   },
   {
    "duration": 6008,
    "start_time": "2022-02-04T20:00:15.438Z"
   },
   {
    "duration": 82,
    "start_time": "2022-02-04T20:00:28.130Z"
   },
   {
    "duration": 5860,
    "start_time": "2022-02-04T20:00:28.215Z"
   },
   {
    "duration": -57,
    "start_time": "2022-02-04T20:00:34.134Z"
   },
   {
    "duration": 5889,
    "start_time": "2022-02-04T20:00:52.994Z"
   },
   {
    "duration": 711,
    "start_time": "2022-02-07T15:16:55.410Z"
   },
   {
    "duration": 3,
    "start_time": "2022-02-07T15:16:59.356Z"
   },
   {
    "duration": 4,
    "start_time": "2022-02-07T15:17:11.283Z"
   },
   {
    "duration": 4,
    "start_time": "2022-02-07T15:18:25.832Z"
   },
   {
    "duration": 4,
    "start_time": "2022-02-07T15:18:32.503Z"
   },
   {
    "duration": 5,
    "start_time": "2022-02-07T15:18:33.858Z"
   },
   {
    "duration": 8,
    "start_time": "2022-02-07T15:18:47.262Z"
   },
   {
    "duration": 8,
    "start_time": "2022-02-07T15:19:05.503Z"
   },
   {
    "duration": 7,
    "start_time": "2022-02-07T15:20:18.019Z"
   },
   {
    "duration": 7,
    "start_time": "2022-02-07T15:20:20.574Z"
   },
   {
    "duration": 26,
    "start_time": "2022-02-07T15:20:49.625Z"
   },
   {
    "duration": 28,
    "start_time": "2022-02-07T15:21:29.419Z"
   },
   {
    "duration": 23,
    "start_time": "2022-02-07T15:22:09.911Z"
   },
   {
    "duration": 70,
    "start_time": "2022-02-07T15:23:25.499Z"
   },
   {
    "duration": 21,
    "start_time": "2022-02-07T15:23:40.749Z"
   },
   {
    "duration": 19,
    "start_time": "2022-02-07T15:23:55.082Z"
   },
   {
    "duration": 77,
    "start_time": "2022-02-07T15:26:28.841Z"
   },
   {
    "duration": 72,
    "start_time": "2022-02-07T15:28:13.531Z"
   },
   {
    "duration": 71,
    "start_time": "2022-02-07T15:28:16.432Z"
   },
   {
    "duration": 18,
    "start_time": "2022-02-07T15:28:22.855Z"
   },
   {
    "duration": 18,
    "start_time": "2022-02-07T15:30:46.161Z"
   },
   {
    "duration": 5,
    "start_time": "2022-02-07T15:31:17.176Z"
   },
   {
    "duration": 8,
    "start_time": "2022-02-07T15:31:22.771Z"
   },
   {
    "duration": 7,
    "start_time": "2022-02-07T15:55:46.316Z"
   },
   {
    "duration": 6,
    "start_time": "2022-02-07T15:55:56.462Z"
   },
   {
    "duration": 9,
    "start_time": "2022-02-07T16:04:00.082Z"
   },
   {
    "duration": 17,
    "start_time": "2022-02-07T16:04:17.606Z"
   },
   {
    "duration": 17,
    "start_time": "2022-02-07T16:04:41.083Z"
   },
   {
    "duration": 22,
    "start_time": "2022-02-07T16:05:53.743Z"
   },
   {
    "duration": 22,
    "start_time": "2022-02-07T16:06:01.432Z"
   },
   {
    "duration": 727,
    "start_time": "2022-02-07T16:06:23.674Z"
   },
   {
    "duration": 18,
    "start_time": "2022-02-07T16:06:24.403Z"
   },
   {
    "duration": 10,
    "start_time": "2022-02-07T16:06:24.424Z"
   },
   {
    "duration": 33,
    "start_time": "2022-02-07T16:06:24.436Z"
   },
   {
    "duration": 23,
    "start_time": "2022-02-07T16:06:33.231Z"
   },
   {
    "duration": 19,
    "start_time": "2022-02-07T16:06:36.735Z"
   },
   {
    "duration": 21,
    "start_time": "2022-02-07T16:06:42.487Z"
   },
   {
    "duration": 20,
    "start_time": "2022-02-07T16:06:47.660Z"
   },
   {
    "duration": 20,
    "start_time": "2022-02-07T16:06:53.276Z"
   },
   {
    "duration": 20,
    "start_time": "2022-02-07T16:06:54.086Z"
   },
   {
    "duration": 18,
    "start_time": "2022-02-07T16:06:54.888Z"
   },
   {
    "duration": 24,
    "start_time": "2022-02-07T16:06:55.663Z"
   },
   {
    "duration": 20,
    "start_time": "2022-02-07T16:06:56.475Z"
   },
   {
    "duration": 20,
    "start_time": "2022-02-07T16:06:57.313Z"
   },
   {
    "duration": 18,
    "start_time": "2022-02-07T16:06:58.142Z"
   },
   {
    "duration": 20,
    "start_time": "2022-02-07T16:07:13.008Z"
   },
   {
    "duration": 257,
    "start_time": "2022-02-07T16:07:30.545Z"
   },
   {
    "duration": 693,
    "start_time": "2022-02-07T16:07:36.607Z"
   },
   {
    "duration": 18,
    "start_time": "2022-02-07T16:07:37.301Z"
   },
   {
    "duration": 7,
    "start_time": "2022-02-07T16:07:37.321Z"
   },
   {
    "duration": 12,
    "start_time": "2022-02-07T16:07:37.329Z"
   },
   {
    "duration": 25,
    "start_time": "2022-02-07T16:07:37.343Z"
   },
   {
    "duration": 19,
    "start_time": "2022-02-07T16:08:25.025Z"
   },
   {
    "duration": 700,
    "start_time": "2022-02-07T16:08:34.010Z"
   },
   {
    "duration": 18,
    "start_time": "2022-02-07T16:08:34.711Z"
   },
   {
    "duration": 8,
    "start_time": "2022-02-07T16:08:34.731Z"
   },
   {
    "duration": 6,
    "start_time": "2022-02-07T16:08:34.740Z"
   },
   {
    "duration": 51,
    "start_time": "2022-02-07T16:08:34.747Z"
   },
   {
    "duration": 268,
    "start_time": "2022-02-07T16:09:29.150Z"
   },
   {
    "duration": 215,
    "start_time": "2022-02-07T16:10:22.437Z"
   },
   {
    "duration": 337,
    "start_time": "2022-02-07T16:10:23.840Z"
   },
   {
    "duration": 218,
    "start_time": "2022-02-07T16:10:27.600Z"
   },
   {
    "duration": 21,
    "start_time": "2022-02-07T16:11:26.400Z"
   },
   {
    "duration": 4,
    "start_time": "2022-02-07T16:12:34.009Z"
   },
   {
    "duration": 5,
    "start_time": "2022-02-07T16:13:08.446Z"
   },
   {
    "duration": -21,
    "start_time": "2022-02-07T16:14:03.556Z"
   },
   {
    "duration": 663,
    "start_time": "2022-02-07T16:14:18.353Z"
   },
   {
    "duration": 19,
    "start_time": "2022-02-07T16:14:19.017Z"
   },
   {
    "duration": 8,
    "start_time": "2022-02-07T16:14:19.038Z"
   },
   {
    "duration": 5,
    "start_time": "2022-02-07T16:14:19.048Z"
   },
   {
    "duration": 47,
    "start_time": "2022-02-07T16:14:19.055Z"
   },
   {
    "duration": 2987,
    "start_time": "2022-02-07T16:14:19.104Z"
   },
   {
    "duration": 74,
    "start_time": "2022-02-07T16:14:22.019Z"
   },
   {
    "duration": 2818,
    "start_time": "2022-02-07T16:15:39.659Z"
   },
   {
    "duration": 2883,
    "start_time": "2022-02-07T16:15:56.017Z"
   },
   {
    "duration": 2873,
    "start_time": "2022-02-07T16:16:05.067Z"
   },
   {
    "duration": 2974,
    "start_time": "2022-02-07T16:17:36.272Z"
   },
   {
    "duration": 2909,
    "start_time": "2022-02-07T16:18:10.909Z"
   },
   {
    "duration": 7,
    "start_time": "2022-02-07T16:18:37.789Z"
   },
   {
    "duration": 2778,
    "start_time": "2022-02-07T16:19:01.093Z"
   },
   {
    "duration": 2897,
    "start_time": "2022-02-07T16:19:17.855Z"
   },
   {
    "duration": 722,
    "start_time": "2022-02-07T16:19:41.976Z"
   },
   {
    "duration": 19,
    "start_time": "2022-02-07T16:19:42.700Z"
   },
   {
    "duration": 8,
    "start_time": "2022-02-07T16:19:42.721Z"
   },
   {
    "duration": 7,
    "start_time": "2022-02-07T16:19:42.731Z"
   },
   {
    "duration": 21,
    "start_time": "2022-02-07T16:19:42.740Z"
   },
   {
    "duration": 54,
    "start_time": "2022-02-07T16:19:42.762Z"
   },
   {
    "duration": 19,
    "start_time": "2022-02-07T16:19:42.818Z"
   },
   {
    "duration": 3,
    "start_time": "2022-02-07T16:20:13.591Z"
   },
   {
    "duration": 9228,
    "start_time": "2022-02-07T16:20:18.509Z"
   },
   {
    "duration": 6,
    "start_time": "2022-02-07T16:20:39.126Z"
   },
   {
    "duration": 5,
    "start_time": "2022-02-07T16:20:49.499Z"
   },
   {
    "duration": 5,
    "start_time": "2022-02-07T16:20:50.777Z"
   },
   {
    "duration": 2903,
    "start_time": "2022-02-07T16:21:26.583Z"
   },
   {
    "duration": 270,
    "start_time": "2022-02-07T16:21:38.453Z"
   },
   {
    "duration": 717,
    "start_time": "2022-02-07T16:21:41.273Z"
   },
   {
    "duration": 17,
    "start_time": "2022-02-07T16:21:41.992Z"
   },
   {
    "duration": 7,
    "start_time": "2022-02-07T16:21:42.011Z"
   },
   {
    "duration": 7,
    "start_time": "2022-02-07T16:21:42.020Z"
   },
   {
    "duration": 20,
    "start_time": "2022-02-07T16:21:42.029Z"
   },
   {
    "duration": 3,
    "start_time": "2022-02-07T16:21:42.051Z"
   },
   {
    "duration": 47,
    "start_time": "2022-02-07T16:21:42.056Z"
   },
   {
    "duration": 23,
    "start_time": "2022-02-07T16:21:48.441Z"
   },
   {
    "duration": 12,
    "start_time": "2022-02-07T16:21:59.856Z"
   },
   {
    "duration": 14,
    "start_time": "2022-02-07T16:22:14.600Z"
   },
   {
    "duration": 14,
    "start_time": "2022-02-07T16:22:39.982Z"
   },
   {
    "duration": 36,
    "start_time": "2022-02-07T16:32:38.803Z"
   },
   {
    "duration": 38,
    "start_time": "2022-02-07T16:35:05.487Z"
   },
   {
    "duration": 28,
    "start_time": "2022-02-07T16:35:15.522Z"
   },
   {
    "duration": 27,
    "start_time": "2022-02-07T16:36:42.791Z"
   },
   {
    "duration": 108,
    "start_time": "2022-02-07T16:38:14.706Z"
   },
   {
    "duration": 76,
    "start_time": "2022-02-07T16:38:28.152Z"
   },
   {
    "duration": 30,
    "start_time": "2022-02-07T16:40:21.634Z"
   },
   {
    "duration": 18,
    "start_time": "2022-02-07T16:40:41.461Z"
   },
   {
    "duration": 287,
    "start_time": "2022-02-08T17:09:35.929Z"
   },
   {
    "duration": 647,
    "start_time": "2022-02-08T17:09:45.750Z"
   },
   {
    "duration": 20,
    "start_time": "2022-02-08T17:09:46.399Z"
   },
   {
    "duration": 8,
    "start_time": "2022-02-08T17:09:46.422Z"
   },
   {
    "duration": 7,
    "start_time": "2022-02-08T17:09:46.432Z"
   },
   {
    "duration": 19,
    "start_time": "2022-02-08T17:09:46.440Z"
   },
   {
    "duration": 14,
    "start_time": "2022-02-08T17:09:46.461Z"
   },
   {
    "duration": 17,
    "start_time": "2022-02-08T17:09:46.512Z"
   },
   {
    "duration": 14,
    "start_time": "2022-02-08T17:09:46.531Z"
   },
   {
    "duration": 24,
    "start_time": "2022-02-08T17:09:46.547Z"
   },
   {
    "duration": 41,
    "start_time": "2022-02-08T17:09:46.572Z"
   },
   {
    "duration": 26,
    "start_time": "2022-02-08T17:12:18.889Z"
   },
   {
    "duration": 22,
    "start_time": "2022-02-08T17:13:52.468Z"
   },
   {
    "duration": 42,
    "start_time": "2022-02-08T17:14:10.488Z"
   },
   {
    "duration": 330,
    "start_time": "2022-02-08T17:15:38.453Z"
   },
   {
    "duration": 279,
    "start_time": "2022-02-08T17:15:51.961Z"
   },
   {
    "duration": 52,
    "start_time": "2022-02-08T17:16:04.223Z"
   },
   {
    "duration": 66,
    "start_time": "2022-02-08T17:16:31.449Z"
   },
   {
    "duration": 56,
    "start_time": "2022-02-08T17:16:43.249Z"
   },
   {
    "duration": 52,
    "start_time": "2022-02-08T17:16:53.642Z"
   },
   {
    "duration": 43,
    "start_time": "2022-02-08T17:17:24.060Z"
   },
   {
    "duration": 619,
    "start_time": "2022-02-08T17:17:44.545Z"
   },
   {
    "duration": 15,
    "start_time": "2022-02-08T17:17:45.166Z"
   },
   {
    "duration": 6,
    "start_time": "2022-02-08T17:17:45.183Z"
   },
   {
    "duration": 25,
    "start_time": "2022-02-08T17:17:45.191Z"
   },
   {
    "duration": 24,
    "start_time": "2022-02-08T17:17:45.217Z"
   },
   {
    "duration": 14,
    "start_time": "2022-02-08T17:17:45.242Z"
   },
   {
    "duration": 61,
    "start_time": "2022-02-08T17:17:45.258Z"
   },
   {
    "duration": 25,
    "start_time": "2022-02-08T17:17:45.320Z"
   },
   {
    "duration": 15,
    "start_time": "2022-02-08T17:17:45.346Z"
   },
   {
    "duration": 55,
    "start_time": "2022-02-08T17:17:57.467Z"
   },
   {
    "duration": 177,
    "start_time": "2022-02-08T17:18:06.760Z"
   },
   {
    "duration": 52,
    "start_time": "2022-02-08T17:18:18.911Z"
   },
   {
    "duration": 26,
    "start_time": "2022-02-08T17:18:30.564Z"
   },
   {
    "duration": 44,
    "start_time": "2022-02-08T17:20:15.483Z"
   },
   {
    "duration": 621,
    "start_time": "2022-02-08T17:20:25.850Z"
   },
   {
    "duration": 17,
    "start_time": "2022-02-08T17:20:26.473Z"
   },
   {
    "duration": 23,
    "start_time": "2022-02-08T17:20:26.492Z"
   },
   {
    "duration": 6,
    "start_time": "2022-02-08T17:20:26.517Z"
   },
   {
    "duration": 19,
    "start_time": "2022-02-08T17:20:26.524Z"
   },
   {
    "duration": 13,
    "start_time": "2022-02-08T17:20:26.544Z"
   },
   {
    "duration": 82,
    "start_time": "2022-02-08T17:20:26.559Z"
   },
   {
    "duration": 24,
    "start_time": "2022-02-08T17:20:26.643Z"
   },
   {
    "duration": 16,
    "start_time": "2022-02-08T17:20:26.669Z"
   },
   {
    "duration": 5,
    "start_time": "2022-02-08T17:22:14.844Z"
   },
   {
    "duration": 6,
    "start_time": "2022-02-08T17:22:21.860Z"
   },
   {
    "duration": 5885,
    "start_time": "2022-02-08T17:22:58.448Z"
   },
   {
    "duration": 600,
    "start_time": "2022-02-08T17:23:09.248Z"
   },
   {
    "duration": 16,
    "start_time": "2022-02-08T17:23:09.850Z"
   },
   {
    "duration": 7,
    "start_time": "2022-02-08T17:23:09.868Z"
   },
   {
    "duration": 6,
    "start_time": "2022-02-08T17:23:09.877Z"
   },
   {
    "duration": 18,
    "start_time": "2022-02-08T17:23:09.911Z"
   },
   {
    "duration": 12,
    "start_time": "2022-02-08T17:23:09.931Z"
   },
   {
    "duration": 5933,
    "start_time": "2022-02-08T17:23:09.945Z"
   },
   {
    "duration": 42,
    "start_time": "2022-02-08T17:23:15.838Z"
   },
   {
    "duration": 41,
    "start_time": "2022-02-08T17:23:15.840Z"
   },
   {
    "duration": 3,
    "start_time": "2022-02-08T17:23:52.101Z"
   },
   {
    "duration": 1,
    "start_time": "2022-02-08T17:23:52.104Z"
   },
   {
    "duration": 1,
    "start_time": "2022-02-08T17:23:52.105Z"
   },
   {
    "duration": 2,
    "start_time": "2022-02-08T17:23:52.106Z"
   },
   {
    "duration": 2,
    "start_time": "2022-02-08T17:23:52.107Z"
   },
   {
    "duration": -2,
    "start_time": "2022-02-08T17:23:52.112Z"
   },
   {
    "duration": -2,
    "start_time": "2022-02-08T17:23:52.113Z"
   },
   {
    "duration": -2,
    "start_time": "2022-02-08T17:23:52.114Z"
   },
   {
    "duration": -2,
    "start_time": "2022-02-08T17:23:52.115Z"
   },
   {
    "duration": 65,
    "start_time": "2022-02-08T17:24:09.962Z"
   },
   {
    "duration": 16,
    "start_time": "2022-02-08T17:24:10.029Z"
   },
   {
    "duration": 6,
    "start_time": "2022-02-08T17:24:10.047Z"
   },
   {
    "duration": 5,
    "start_time": "2022-02-08T17:24:10.055Z"
   },
   {
    "duration": 19,
    "start_time": "2022-02-08T17:24:10.061Z"
   },
   {
    "duration": 13,
    "start_time": "2022-02-08T17:24:10.112Z"
   },
   {
    "duration": 5865,
    "start_time": "2022-02-08T17:24:10.127Z"
   },
   {
    "duration": 24,
    "start_time": "2022-02-08T17:24:15.971Z"
   },
   {
    "duration": 24,
    "start_time": "2022-02-08T17:24:15.972Z"
   },
   {
    "duration": 5681,
    "start_time": "2022-02-08T17:24:23.809Z"
   },
   {
    "duration": 5578,
    "start_time": "2022-02-08T17:25:08.408Z"
   },
   {
    "duration": 6051,
    "start_time": "2022-02-08T17:26:51.720Z"
   },
   {
    "duration": 5619,
    "start_time": "2022-02-08T17:27:34.981Z"
   },
   {
    "duration": 667,
    "start_time": "2022-02-08T17:28:00.482Z"
   },
   {
    "duration": 16,
    "start_time": "2022-02-08T17:28:01.151Z"
   },
   {
    "duration": 7,
    "start_time": "2022-02-08T17:28:01.169Z"
   },
   {
    "duration": 15,
    "start_time": "2022-02-08T17:28:01.178Z"
   },
   {
    "duration": 37,
    "start_time": "2022-02-08T17:28:01.195Z"
   },
   {
    "duration": 13,
    "start_time": "2022-02-08T17:28:01.233Z"
   },
   {
    "duration": 73,
    "start_time": "2022-02-08T17:28:01.248Z"
   },
   {
    "duration": 25,
    "start_time": "2022-02-08T17:28:01.322Z"
   },
   {
    "duration": 5,
    "start_time": "2022-02-08T17:28:25.472Z"
   },
   {
    "duration": 321,
    "start_time": "2022-02-08T17:28:33.534Z"
   },
   {
    "duration": 5,
    "start_time": "2022-02-08T17:28:47.217Z"
   },
   {
    "duration": 17,
    "start_time": "2022-02-08T17:35:59.537Z"
   },
   {
    "duration": 608,
    "start_time": "2022-02-08T17:36:17.252Z"
   },
   {
    "duration": 17,
    "start_time": "2022-02-08T17:36:17.862Z"
   },
   {
    "duration": 7,
    "start_time": "2022-02-08T17:36:17.881Z"
   },
   {
    "duration": 23,
    "start_time": "2022-02-08T17:36:17.890Z"
   },
   {
    "duration": 22,
    "start_time": "2022-02-08T17:36:17.915Z"
   },
   {
    "duration": 17,
    "start_time": "2022-02-08T17:36:17.939Z"
   },
   {
    "duration": 5,
    "start_time": "2022-02-08T17:36:17.957Z"
   },
   {
    "duration": 77,
    "start_time": "2022-02-08T17:36:17.963Z"
   },
   {
    "duration": 28,
    "start_time": "2022-02-08T17:36:18.043Z"
   },
   {
    "duration": 309,
    "start_time": "2022-02-08T17:38:23.108Z"
   },
   {
    "duration": 4,
    "start_time": "2022-02-08T17:39:18.150Z"
   },
   {
    "duration": 12,
    "start_time": "2022-02-08T17:39:32.709Z"
   },
   {
    "duration": 12,
    "start_time": "2022-02-08T17:59:22.001Z"
   },
   {
    "duration": 61,
    "start_time": "2022-02-08T17:59:46.847Z"
   },
   {
    "duration": 603,
    "start_time": "2022-02-08T18:00:36.862Z"
   },
   {
    "duration": 16,
    "start_time": "2022-02-08T18:00:37.467Z"
   },
   {
    "duration": 7,
    "start_time": "2022-02-08T18:00:37.485Z"
   },
   {
    "duration": 5,
    "start_time": "2022-02-08T18:00:37.513Z"
   },
   {
    "duration": 14,
    "start_time": "2022-02-08T18:00:37.520Z"
   },
   {
    "duration": 17,
    "start_time": "2022-02-08T18:00:37.536Z"
   },
   {
    "duration": 12,
    "start_time": "2022-02-08T18:00:37.554Z"
   },
   {
    "duration": 11,
    "start_time": "2022-02-08T18:00:37.568Z"
   },
   {
    "duration": 85,
    "start_time": "2022-02-08T18:00:37.580Z"
   },
   {
    "duration": 25,
    "start_time": "2022-02-08T18:00:37.667Z"
   },
   {
    "duration": 22,
    "start_time": "2022-02-08T18:47:38.412Z"
   },
   {
    "duration": 18,
    "start_time": "2022-02-08T18:50:39.054Z"
   },
   {
    "duration": 22,
    "start_time": "2022-02-08T18:51:16.480Z"
   },
   {
    "duration": 19,
    "start_time": "2022-02-08T19:00:42.813Z"
   },
   {
    "duration": 24,
    "start_time": "2022-02-08T19:00:54.506Z"
   },
   {
    "duration": 5,
    "start_time": "2022-02-08T19:01:05.680Z"
   },
   {
    "duration": 25,
    "start_time": "2022-02-08T19:01:13.217Z"
   },
   {
    "duration": 16,
    "start_time": "2022-02-08T19:07:09.199Z"
   },
   {
    "duration": 6281,
    "start_time": "2022-02-08T19:08:16.158Z"
   },
   {
    "duration": 11,
    "start_time": "2022-02-08T19:10:27.234Z"
   },
   {
    "duration": 5706,
    "start_time": "2022-02-08T19:24:04.552Z"
   },
   {
    "duration": 19,
    "start_time": "2022-02-08T19:24:29.514Z"
   },
   {
    "duration": 5751,
    "start_time": "2022-02-08T19:24:31.753Z"
   },
   {
    "duration": 21,
    "start_time": "2022-02-08T19:24:39.565Z"
   },
   {
    "duration": 12,
    "start_time": "2022-02-08T19:24:49.680Z"
   },
   {
    "duration": 614,
    "start_time": "2022-02-08T19:32:03.368Z"
   },
   {
    "duration": 16,
    "start_time": "2022-02-08T19:32:03.984Z"
   },
   {
    "duration": 15,
    "start_time": "2022-02-08T19:32:04.002Z"
   },
   {
    "duration": 6,
    "start_time": "2022-02-08T19:32:04.019Z"
   },
   {
    "duration": 15,
    "start_time": "2022-02-08T19:32:04.026Z"
   },
   {
    "duration": 18,
    "start_time": "2022-02-08T19:32:04.043Z"
   },
   {
    "duration": 12,
    "start_time": "2022-02-08T19:32:04.062Z"
   },
   {
    "duration": 44,
    "start_time": "2022-02-08T19:32:04.076Z"
   },
   {
    "duration": 55,
    "start_time": "2022-02-08T19:32:04.123Z"
   },
   {
    "duration": 44,
    "start_time": "2022-02-08T19:32:04.180Z"
   },
   {
    "duration": 20,
    "start_time": "2022-02-08T19:32:04.226Z"
   },
   {
    "duration": 5607,
    "start_time": "2022-02-08T19:32:04.248Z"
   },
   {
    "duration": 17,
    "start_time": "2022-02-08T19:32:09.840Z"
   },
   {
    "duration": 3,
    "start_time": "2022-02-08T19:38:45.113Z"
   },
   {
    "duration": 2,
    "start_time": "2022-02-08T19:38:48.057Z"
   },
   {
    "duration": 3,
    "start_time": "2022-02-08T19:39:01.607Z"
   },
   {
    "duration": 238,
    "start_time": "2022-02-08T19:50:25.495Z"
   },
   {
    "duration": 1000,
    "start_time": "2022-02-08T19:54:05.290Z"
   },
   {
    "duration": 1290,
    "start_time": "2022-02-08T19:54:34.947Z"
   },
   {
    "duration": 11,
    "start_time": "2022-02-08T20:03:57.653Z"
   },
   {
    "duration": 32,
    "start_time": "2022-02-08T20:04:01.887Z"
   },
   {
    "duration": 9,
    "start_time": "2022-02-08T20:05:27.472Z"
   },
   {
    "duration": 27,
    "start_time": "2022-02-08T20:05:32.600Z"
   },
   {
    "duration": 21,
    "start_time": "2022-02-08T20:06:12.301Z"
   },
   {
    "duration": 243,
    "start_time": "2022-02-08T20:12:03.776Z"
   },
   {
    "duration": 5,
    "start_time": "2022-02-08T20:12:10.151Z"
   },
   {
    "duration": 20,
    "start_time": "2022-02-08T20:17:22.059Z"
   },
   {
    "duration": 19,
    "start_time": "2022-02-08T20:17:51.838Z"
   },
   {
    "duration": 22,
    "start_time": "2022-02-08T20:18:59.973Z"
   },
   {
    "duration": 22,
    "start_time": "2022-02-08T20:19:52.512Z"
   },
   {
    "duration": 26,
    "start_time": "2022-02-08T20:22:42.014Z"
   },
   {
    "duration": 9,
    "start_time": "2022-02-08T20:23:47.626Z"
   },
   {
    "duration": 7,
    "start_time": "2022-02-08T20:23:51.670Z"
   },
   {
    "duration": 6,
    "start_time": "2022-02-08T20:24:04.906Z"
   },
   {
    "duration": 6,
    "start_time": "2022-02-08T20:25:20.909Z"
   },
   {
    "duration": 5,
    "start_time": "2022-02-08T20:25:36.358Z"
   },
   {
    "duration": 5469,
    "start_time": "2022-02-08T20:28:45.133Z"
   },
   {
    "duration": 5790,
    "start_time": "2022-02-08T20:29:24.005Z"
   },
   {
    "duration": 653,
    "start_time": "2022-02-08T20:29:58.498Z"
   },
   {
    "duration": 5,
    "start_time": "2022-02-08T20:29:59.153Z"
   },
   {
    "duration": 17,
    "start_time": "2022-02-08T20:29:59.160Z"
   },
   {
    "duration": 7,
    "start_time": "2022-02-08T20:29:59.178Z"
   },
   {
    "duration": 5,
    "start_time": "2022-02-08T20:29:59.212Z"
   },
   {
    "duration": 15,
    "start_time": "2022-02-08T20:29:59.219Z"
   },
   {
    "duration": 18,
    "start_time": "2022-02-08T20:29:59.235Z"
   },
   {
    "duration": 12,
    "start_time": "2022-02-08T20:29:59.254Z"
   },
   {
    "duration": 10,
    "start_time": "2022-02-08T20:29:59.268Z"
   },
   {
    "duration": 8,
    "start_time": "2022-02-08T20:30:03.499Z"
   },
   {
    "duration": 72,
    "start_time": "2022-02-08T20:30:22.715Z"
   },
   {
    "duration": 23,
    "start_time": "2022-02-08T20:30:22.789Z"
   },
   {
    "duration": 24,
    "start_time": "2022-02-08T20:30:22.815Z"
   },
   {
    "duration": 9,
    "start_time": "2022-02-08T20:30:22.841Z"
   },
   {
    "duration": 8,
    "start_time": "2022-02-08T20:30:22.851Z"
   },
   {
    "duration": 16,
    "start_time": "2022-02-08T20:30:22.861Z"
   },
   {
    "duration": 20,
    "start_time": "2022-02-08T20:30:22.913Z"
   },
   {
    "duration": 13,
    "start_time": "2022-02-08T20:30:22.935Z"
   },
   {
    "duration": 11,
    "start_time": "2022-02-08T20:30:22.951Z"
   },
   {
    "duration": 23,
    "start_time": "2022-02-08T20:30:22.964Z"
   },
   {
    "duration": 74,
    "start_time": "2022-02-08T20:30:22.989Z"
   },
   {
    "duration": 26,
    "start_time": "2022-02-08T20:30:23.064Z"
   },
   {
    "duration": 89,
    "start_time": "2022-02-08T20:30:23.112Z"
   },
   {
    "duration": 34,
    "start_time": "2022-02-08T20:30:23.169Z"
   },
   {
    "duration": 34,
    "start_time": "2022-02-08T20:30:23.170Z"
   },
   {
    "duration": 34,
    "start_time": "2022-02-08T20:30:23.171Z"
   },
   {
    "duration": 33,
    "start_time": "2022-02-08T20:30:23.173Z"
   },
   {
    "duration": 31,
    "start_time": "2022-02-08T20:30:23.176Z"
   },
   {
    "duration": 62,
    "start_time": "2022-02-08T20:30:36.130Z"
   },
   {
    "duration": 5,
    "start_time": "2022-02-08T20:30:36.194Z"
   },
   {
    "duration": 19,
    "start_time": "2022-02-08T20:30:36.201Z"
   },
   {
    "duration": 6,
    "start_time": "2022-02-08T20:30:36.222Z"
   },
   {
    "duration": 8,
    "start_time": "2022-02-08T20:30:36.230Z"
   },
   {
    "duration": 13,
    "start_time": "2022-02-08T20:30:36.240Z"
   },
   {
    "duration": 16,
    "start_time": "2022-02-08T20:30:36.255Z"
   },
   {
    "duration": 41,
    "start_time": "2022-02-08T20:30:36.272Z"
   },
   {
    "duration": 10,
    "start_time": "2022-02-08T20:30:36.315Z"
   },
   {
    "duration": 9,
    "start_time": "2022-02-08T20:30:36.328Z"
   },
   {
    "duration": 77,
    "start_time": "2022-02-08T20:30:36.339Z"
   },
   {
    "duration": 34,
    "start_time": "2022-02-08T20:30:36.417Z"
   },
   {
    "duration": 7,
    "start_time": "2022-02-08T20:30:36.453Z"
   },
   {
    "duration": 25,
    "start_time": "2022-02-08T20:30:36.462Z"
   },
   {
    "duration": 23,
    "start_time": "2022-02-08T20:30:36.489Z"
   },
   {
    "duration": 26,
    "start_time": "2022-02-08T20:30:36.514Z"
   },
   {
    "duration": 7,
    "start_time": "2022-02-08T20:30:36.542Z"
   },
   {
    "duration": 460,
    "start_time": "2022-02-09T06:48:55.366Z"
   },
   {
    "duration": 830,
    "start_time": "2022-02-09T06:49:14.411Z"
   },
   {
    "duration": 8,
    "start_time": "2022-02-09T06:49:17.505Z"
   },
   {
    "duration": 425,
    "start_time": "2022-02-09T06:49:19.575Z"
   },
   {
    "duration": 867,
    "start_time": "2022-02-09T06:49:54.221Z"
   },
   {
    "duration": 8,
    "start_time": "2022-02-09T06:49:57.591Z"
   },
   {
    "duration": 6,
    "start_time": "2022-02-09T06:50:24.351Z"
   },
   {
    "duration": 9,
    "start_time": "2022-02-09T06:51:08.382Z"
   },
   {
    "duration": 27,
    "start_time": "2022-02-09T06:56:41.020Z"
   },
   {
    "duration": 11,
    "start_time": "2022-02-09T06:56:42.792Z"
   },
   {
    "duration": 8,
    "start_time": "2022-02-09T06:56:45.597Z"
   },
   {
    "duration": 19,
    "start_time": "2022-02-09T06:56:47.051Z"
   },
   {
    "duration": 30,
    "start_time": "2022-02-09T06:56:50.677Z"
   },
   {
    "duration": 17,
    "start_time": "2022-02-09T07:14:26.984Z"
   },
   {
    "duration": 15,
    "start_time": "2022-02-09T07:14:29.767Z"
   },
   {
    "duration": 8,
    "start_time": "2022-02-09T07:14:31.999Z"
   },
   {
    "duration": 38,
    "start_time": "2022-02-09T07:14:36.874Z"
   },
   {
    "duration": 12,
    "start_time": "2022-02-09T07:14:50.145Z"
   },
   {
    "duration": 35,
    "start_time": "2022-02-09T07:14:54.105Z"
   },
   {
    "duration": 7,
    "start_time": "2022-02-09T07:14:58.458Z"
   },
   {
    "duration": 41,
    "start_time": "2022-02-09T07:16:26.738Z"
   },
   {
    "duration": 6,
    "start_time": "2022-02-09T07:17:15.211Z"
   },
   {
    "duration": 33,
    "start_time": "2022-02-09T07:20:13.036Z"
   },
   {
    "duration": 21,
    "start_time": "2022-02-09T07:27:07.238Z"
   },
   {
    "duration": 29,
    "start_time": "2022-02-09T07:27:49.848Z"
   },
   {
    "duration": 16,
    "start_time": "2022-02-09T07:27:58.742Z"
   },
   {
    "duration": 42,
    "start_time": "2022-02-09T07:28:33.210Z"
   },
   {
    "duration": 44,
    "start_time": "2022-02-09T07:28:50.864Z"
   },
   {
    "duration": 409,
    "start_time": "2022-02-09T07:31:44.099Z"
   },
   {
    "duration": 945,
    "start_time": "2022-02-09T07:31:54.268Z"
   },
   {
    "duration": 7,
    "start_time": "2022-02-09T07:31:55.216Z"
   },
   {
    "duration": 33,
    "start_time": "2022-02-09T07:31:55.226Z"
   },
   {
    "duration": 8,
    "start_time": "2022-02-09T07:31:55.261Z"
   },
   {
    "duration": 27,
    "start_time": "2022-02-09T07:31:55.272Z"
   },
   {
    "duration": 12,
    "start_time": "2022-02-09T07:31:55.302Z"
   },
   {
    "duration": 49,
    "start_time": "2022-02-09T07:31:55.316Z"
   },
   {
    "duration": 19,
    "start_time": "2022-02-09T07:31:55.368Z"
   },
   {
    "duration": 71,
    "start_time": "2022-02-09T07:31:55.390Z"
   },
   {
    "duration": 17,
    "start_time": "2022-02-09T07:31:55.463Z"
   },
   {
    "duration": 15,
    "start_time": "2022-02-09T07:31:55.483Z"
   },
   {
    "duration": 10,
    "start_time": "2022-02-09T07:31:55.501Z"
   },
   {
    "duration": 117,
    "start_time": "2022-02-09T07:31:55.513Z"
   },
   {
    "duration": 55,
    "start_time": "2022-02-09T07:31:55.632Z"
   },
   {
    "duration": 11,
    "start_time": "2022-02-09T07:31:55.689Z"
   },
   {
    "duration": 66,
    "start_time": "2022-02-09T07:31:55.703Z"
   },
   {
    "duration": 9,
    "start_time": "2022-02-09T07:31:55.772Z"
   },
   {
    "duration": 39,
    "start_time": "2022-02-09T07:31:55.784Z"
   },
   {
    "duration": 58,
    "start_time": "2022-02-09T07:31:55.825Z"
   },
   {
    "duration": 20,
    "start_time": "2022-02-09T07:31:55.885Z"
   },
   {
    "duration": 31,
    "start_time": "2022-02-09T07:32:38.301Z"
   },
   {
    "duration": 557,
    "start_time": "2022-02-09T07:38:55.967Z"
   },
   {
    "duration": 322,
    "start_time": "2022-02-09T07:39:32.789Z"
   },
   {
    "duration": 968,
    "start_time": "2022-02-09T07:40:04.577Z"
   },
   {
    "duration": 9,
    "start_time": "2022-02-09T07:40:05.558Z"
   },
   {
    "duration": 7,
    "start_time": "2022-02-09T07:40:05.571Z"
   },
   {
    "duration": 10,
    "start_time": "2022-02-09T07:40:05.583Z"
   },
   {
    "duration": 77,
    "start_time": "2022-02-09T07:40:05.596Z"
   },
   {
    "duration": 14,
    "start_time": "2022-02-09T07:40:05.676Z"
   },
   {
    "duration": 10,
    "start_time": "2022-02-09T07:40:05.693Z"
   },
   {
    "duration": 18,
    "start_time": "2022-02-09T07:40:05.706Z"
   },
   {
    "duration": 31,
    "start_time": "2022-02-09T07:40:05.761Z"
   },
   {
    "duration": 15,
    "start_time": "2022-02-09T07:40:05.795Z"
   },
   {
    "duration": 15,
    "start_time": "2022-02-09T07:40:05.812Z"
   },
   {
    "duration": 39,
    "start_time": "2022-02-09T07:40:05.829Z"
   },
   {
    "duration": 100,
    "start_time": "2022-02-09T07:40:05.870Z"
   },
   {
    "duration": 35,
    "start_time": "2022-02-09T07:40:05.972Z"
   },
   {
    "duration": 10,
    "start_time": "2022-02-09T07:40:06.009Z"
   },
   {
    "duration": 64,
    "start_time": "2022-02-09T07:40:06.022Z"
   },
   {
    "duration": 10,
    "start_time": "2022-02-09T07:40:06.089Z"
   },
   {
    "duration": 60,
    "start_time": "2022-02-09T07:40:06.101Z"
   },
   {
    "duration": 30,
    "start_time": "2022-02-09T07:40:06.163Z"
   },
   {
    "duration": 19,
    "start_time": "2022-02-09T07:40:06.195Z"
   },
   {
    "duration": 829,
    "start_time": "2022-02-09T07:40:06.216Z"
   },
   {
    "duration": 27,
    "start_time": "2022-02-09T07:40:21.794Z"
   },
   {
    "duration": 344,
    "start_time": "2022-02-09T07:42:54.874Z"
   },
   {
    "duration": 894,
    "start_time": "2022-02-09T07:43:14.731Z"
   },
   {
    "duration": 8,
    "start_time": "2022-02-09T07:43:15.628Z"
   },
   {
    "duration": 24,
    "start_time": "2022-02-09T07:43:15.639Z"
   },
   {
    "duration": 8,
    "start_time": "2022-02-09T07:43:15.666Z"
   },
   {
    "duration": 25,
    "start_time": "2022-02-09T07:43:15.676Z"
   },
   {
    "duration": 9,
    "start_time": "2022-02-09T07:43:15.704Z"
   },
   {
    "duration": 50,
    "start_time": "2022-02-09T07:43:15.715Z"
   },
   {
    "duration": 17,
    "start_time": "2022-02-09T07:43:15.768Z"
   },
   {
    "duration": 35,
    "start_time": "2022-02-09T07:43:15.788Z"
   },
   {
    "duration": 40,
    "start_time": "2022-02-09T07:43:15.826Z"
   },
   {
    "duration": 16,
    "start_time": "2022-02-09T07:43:15.868Z"
   },
   {
    "duration": 11,
    "start_time": "2022-02-09T07:43:15.886Z"
   },
   {
    "duration": 114,
    "start_time": "2022-02-09T07:43:15.900Z"
   },
   {
    "duration": 58,
    "start_time": "2022-02-09T07:43:16.016Z"
   },
   {
    "duration": 28,
    "start_time": "2022-02-09T07:43:16.076Z"
   },
   {
    "duration": 55,
    "start_time": "2022-02-09T07:43:16.106Z"
   },
   {
    "duration": 7,
    "start_time": "2022-02-09T07:43:16.164Z"
   },
   {
    "duration": 41,
    "start_time": "2022-02-09T07:43:16.173Z"
   },
   {
    "duration": 63,
    "start_time": "2022-02-09T07:43:16.216Z"
   },
   {
    "duration": 19,
    "start_time": "2022-02-09T07:43:16.281Z"
   },
   {
    "duration": 28,
    "start_time": "2022-02-09T07:43:16.302Z"
   },
   {
    "duration": 527,
    "start_time": "2022-02-09T07:43:51.534Z"
   },
   {
    "duration": 943,
    "start_time": "2022-02-09T07:44:10.345Z"
   },
   {
    "duration": 10,
    "start_time": "2022-02-09T07:44:11.292Z"
   },
   {
    "duration": 7,
    "start_time": "2022-02-09T07:44:11.306Z"
   },
   {
    "duration": 47,
    "start_time": "2022-02-09T07:44:11.316Z"
   },
   {
    "duration": 30,
    "start_time": "2022-02-09T07:44:11.366Z"
   },
   {
    "duration": 10,
    "start_time": "2022-02-09T07:44:11.399Z"
   },
   {
    "duration": 8,
    "start_time": "2022-02-09T07:44:11.411Z"
   },
   {
    "duration": 53,
    "start_time": "2022-02-09T07:44:11.421Z"
   },
   {
    "duration": 31,
    "start_time": "2022-02-09T07:44:11.478Z"
   },
   {
    "duration": 17,
    "start_time": "2022-02-09T07:44:11.511Z"
   },
   {
    "duration": 16,
    "start_time": "2022-02-09T07:44:11.559Z"
   },
   {
    "duration": 10,
    "start_time": "2022-02-09T07:44:11.578Z"
   },
   {
    "duration": 103,
    "start_time": "2022-02-09T07:44:11.591Z"
   },
   {
    "duration": 36,
    "start_time": "2022-02-09T07:44:11.697Z"
   },
   {
    "duration": 453,
    "start_time": "2022-02-09T07:44:11.736Z"
   },
   {
    "duration": -52,
    "start_time": "2022-02-09T07:44:12.244Z"
   },
   {
    "duration": -54,
    "start_time": "2022-02-09T07:44:12.247Z"
   },
   {
    "duration": -53,
    "start_time": "2022-02-09T07:44:12.248Z"
   },
   {
    "duration": -53,
    "start_time": "2022-02-09T07:44:12.250Z"
   },
   {
    "duration": -52,
    "start_time": "2022-02-09T07:44:12.251Z"
   },
   {
    "duration": -53,
    "start_time": "2022-02-09T07:44:12.253Z"
   },
   {
    "duration": 383,
    "start_time": "2022-02-09T07:44:56.518Z"
   },
   {
    "duration": 330,
    "start_time": "2022-02-09T07:45:12.319Z"
   },
   {
    "duration": 339,
    "start_time": "2022-02-09T07:45:36.079Z"
   },
   {
    "duration": 843,
    "start_time": "2022-02-09T07:45:44.858Z"
   },
   {
    "duration": 8,
    "start_time": "2022-02-09T07:45:45.704Z"
   },
   {
    "duration": 5,
    "start_time": "2022-02-09T07:45:45.716Z"
   },
   {
    "duration": 37,
    "start_time": "2022-02-09T07:45:45.724Z"
   },
   {
    "duration": 25,
    "start_time": "2022-02-09T07:45:45.764Z"
   },
   {
    "duration": 10,
    "start_time": "2022-02-09T07:45:45.792Z"
   },
   {
    "duration": 8,
    "start_time": "2022-02-09T07:45:45.804Z"
   },
   {
    "duration": 55,
    "start_time": "2022-02-09T07:45:45.814Z"
   },
   {
    "duration": 37,
    "start_time": "2022-02-09T07:45:45.873Z"
   },
   {
    "duration": 17,
    "start_time": "2022-02-09T07:45:45.912Z"
   },
   {
    "duration": 40,
    "start_time": "2022-02-09T07:45:45.932Z"
   },
   {
    "duration": 9,
    "start_time": "2022-02-09T07:45:45.975Z"
   },
   {
    "duration": 116,
    "start_time": "2022-02-09T07:45:45.986Z"
   },
   {
    "duration": 62,
    "start_time": "2022-02-09T07:45:46.105Z"
   },
   {
    "duration": 13,
    "start_time": "2022-02-09T07:45:46.170Z"
   },
   {
    "duration": 45,
    "start_time": "2022-02-09T07:45:46.186Z"
   },
   {
    "duration": 29,
    "start_time": "2022-02-09T07:45:46.234Z"
   },
   {
    "duration": 44,
    "start_time": "2022-02-09T07:45:46.266Z"
   },
   {
    "duration": 65,
    "start_time": "2022-02-09T07:45:46.313Z"
   },
   {
    "duration": 25,
    "start_time": "2022-02-09T07:45:46.380Z"
   },
   {
    "duration": 57,
    "start_time": "2022-02-09T07:45:46.407Z"
   },
   {
    "duration": 846,
    "start_time": "2022-02-09T07:46:59.353Z"
   },
   {
    "duration": 95,
    "start_time": "2022-02-09T07:47:36.128Z"
   },
   {
    "duration": 99,
    "start_time": "2022-02-09T07:47:55.198Z"
   },
   {
    "duration": 8573,
    "start_time": "2022-02-09T07:54:33.853Z"
   },
   {
    "duration": 955,
    "start_time": "2022-02-09T07:55:07.554Z"
   },
   {
    "duration": 7,
    "start_time": "2022-02-09T07:55:08.512Z"
   },
   {
    "duration": 10,
    "start_time": "2022-02-09T07:55:08.522Z"
   },
   {
    "duration": 12,
    "start_time": "2022-02-09T07:55:08.559Z"
   },
   {
    "duration": 34,
    "start_time": "2022-02-09T07:55:08.574Z"
   },
   {
    "duration": 9,
    "start_time": "2022-02-09T07:55:08.610Z"
   },
   {
    "duration": 37,
    "start_time": "2022-02-09T07:55:08.622Z"
   },
   {
    "duration": 25,
    "start_time": "2022-02-09T07:55:08.662Z"
   },
   {
    "duration": 38,
    "start_time": "2022-02-09T07:55:08.691Z"
   },
   {
    "duration": 25,
    "start_time": "2022-02-09T07:55:08.760Z"
   },
   {
    "duration": 16,
    "start_time": "2022-02-09T07:55:08.788Z"
   },
   {
    "duration": 12,
    "start_time": "2022-02-09T07:55:08.806Z"
   },
   {
    "duration": 125,
    "start_time": "2022-02-09T07:55:08.821Z"
   },
   {
    "duration": 40,
    "start_time": "2022-02-09T07:55:08.960Z"
   },
   {
    "duration": 10,
    "start_time": "2022-02-09T07:55:09.003Z"
   },
   {
    "duration": 66,
    "start_time": "2022-02-09T07:55:09.015Z"
   },
   {
    "duration": 7,
    "start_time": "2022-02-09T07:55:09.084Z"
   },
   {
    "duration": 65,
    "start_time": "2022-02-09T07:55:09.094Z"
   },
   {
    "duration": 33,
    "start_time": "2022-02-09T07:55:09.162Z"
   },
   {
    "duration": 18,
    "start_time": "2022-02-09T07:55:09.198Z"
   },
   {
    "duration": 66,
    "start_time": "2022-02-09T07:55:09.218Z"
   },
   {
    "duration": 9229,
    "start_time": "2022-02-09T07:55:09.286Z"
   },
   {
    "duration": 17,
    "start_time": "2022-02-09T07:55:47.338Z"
   },
   {
    "duration": 14,
    "start_time": "2022-02-09T07:57:50.549Z"
   },
   {
    "duration": 22,
    "start_time": "2022-02-09T08:01:09.593Z"
   },
   {
    "duration": 28,
    "start_time": "2022-02-09T08:01:26.068Z"
   },
   {
    "duration": 13,
    "start_time": "2022-02-09T08:04:01.795Z"
   },
   {
    "duration": 25166,
    "start_time": "2022-02-09T08:35:46.986Z"
   },
   {
    "duration": 30,
    "start_time": "2022-02-09T09:06:36.002Z"
   },
   {
    "duration": 9,
    "start_time": "2022-02-09T09:07:05.603Z"
   },
   {
    "duration": 9,
    "start_time": "2022-02-09T09:07:08.123Z"
   },
   {
    "duration": 14,
    "start_time": "2022-02-09T09:07:17.632Z"
   },
   {
    "duration": 14,
    "start_time": "2022-02-09T09:07:33.786Z"
   },
   {
    "duration": 320,
    "start_time": "2022-02-09T09:10:29.593Z"
   },
   {
    "duration": 102,
    "start_time": "2022-02-09T09:10:34.166Z"
   },
   {
    "duration": 313,
    "start_time": "2022-02-09T09:10:50.102Z"
   },
   {
    "duration": 9,
    "start_time": "2022-02-09T09:11:31.957Z"
   },
   {
    "duration": 8,
    "start_time": "2022-02-09T09:11:37.522Z"
   },
   {
    "duration": 15,
    "start_time": "2022-02-09T09:11:42.455Z"
   },
   {
    "duration": 320,
    "start_time": "2022-02-09T09:12:27.223Z"
   },
   {
    "duration": 16,
    "start_time": "2022-02-09T09:12:34.599Z"
   },
   {
    "duration": 30,
    "start_time": "2022-02-09T09:13:15.712Z"
   },
   {
    "duration": 14,
    "start_time": "2022-02-09T09:13:36.833Z"
   },
   {
    "duration": 15,
    "start_time": "2022-02-09T09:13:39.357Z"
   },
   {
    "duration": 32,
    "start_time": "2022-02-09T09:14:39.824Z"
   },
   {
    "duration": 29,
    "start_time": "2022-02-09T09:15:01.807Z"
   },
   {
    "duration": 35,
    "start_time": "2022-02-09T09:15:05.320Z"
   },
   {
    "duration": 15,
    "start_time": "2022-02-09T09:15:22.629Z"
   },
   {
    "duration": 336,
    "start_time": "2022-02-09T09:15:26.045Z"
   },
   {
    "duration": 334,
    "start_time": "2022-02-09T09:15:42.191Z"
   },
   {
    "duration": 14,
    "start_time": "2022-02-09T09:16:59.118Z"
   },
   {
    "duration": 329,
    "start_time": "2022-02-09T09:17:02.863Z"
   },
   {
    "duration": 404,
    "start_time": "2022-02-09T09:17:09.379Z"
   },
   {
    "duration": 823,
    "start_time": "2022-02-09T09:17:23.598Z"
   },
   {
    "duration": 7,
    "start_time": "2022-02-09T09:17:24.423Z"
   },
   {
    "duration": 28,
    "start_time": "2022-02-09T09:17:24.433Z"
   },
   {
    "duration": 7,
    "start_time": "2022-02-09T09:17:24.463Z"
   },
   {
    "duration": 28,
    "start_time": "2022-02-09T09:17:24.473Z"
   },
   {
    "duration": 12,
    "start_time": "2022-02-09T09:17:24.504Z"
   },
   {
    "duration": 9,
    "start_time": "2022-02-09T09:17:24.560Z"
   },
   {
    "duration": 20,
    "start_time": "2022-02-09T09:17:24.572Z"
   },
   {
    "duration": 68,
    "start_time": "2022-02-09T09:17:24.597Z"
   },
   {
    "duration": 17,
    "start_time": "2022-02-09T09:17:24.668Z"
   },
   {
    "duration": 15,
    "start_time": "2022-02-09T09:17:24.687Z"
   },
   {
    "duration": 9,
    "start_time": "2022-02-09T09:17:24.704Z"
   },
   {
    "duration": 116,
    "start_time": "2022-02-09T09:17:24.716Z"
   },
   {
    "duration": 49,
    "start_time": "2022-02-09T09:17:24.834Z"
   },
   {
    "duration": 12,
    "start_time": "2022-02-09T09:17:24.886Z"
   },
   {
    "duration": 62,
    "start_time": "2022-02-09T09:17:24.901Z"
   },
   {
    "duration": 8,
    "start_time": "2022-02-09T09:17:24.967Z"
   },
   {
    "duration": 37,
    "start_time": "2022-02-09T09:17:24.977Z"
   },
   {
    "duration": 60,
    "start_time": "2022-02-09T09:17:25.016Z"
   },
   {
    "duration": 20,
    "start_time": "2022-02-09T09:17:25.078Z"
   },
   {
    "duration": 65,
    "start_time": "2022-02-09T09:17:25.100Z"
   },
   {
    "duration": 14,
    "start_time": "2022-02-09T09:17:25.168Z"
   },
   {
    "duration": 426,
    "start_time": "2022-02-09T09:17:25.185Z"
   },
   {
    "duration": 30,
    "start_time": "2022-02-09T09:18:02.318Z"
   },
   {
    "duration": 11,
    "start_time": "2022-02-09T09:18:07.650Z"
   },
   {
    "duration": 334,
    "start_time": "2022-02-09T09:18:09.736Z"
   },
   {
    "duration": 15,
    "start_time": "2022-02-09T09:18:27.318Z"
   },
   {
    "duration": 31,
    "start_time": "2022-02-09T09:18:33.388Z"
   },
   {
    "duration": 12,
    "start_time": "2022-02-09T09:18:35.409Z"
   },
   {
    "duration": 16,
    "start_time": "2022-02-09T09:18:36.998Z"
   },
   {
    "duration": 15,
    "start_time": "2022-02-09T09:19:00.004Z"
   },
   {
    "duration": 342,
    "start_time": "2022-02-09T09:19:02.011Z"
   },
   {
    "duration": 30,
    "start_time": "2022-02-09T09:19:21.500Z"
   },
   {
    "duration": 33,
    "start_time": "2022-02-09T09:19:28.334Z"
   },
   {
    "duration": 105,
    "start_time": "2022-02-09T09:19:42.183Z"
   },
   {
    "duration": 31,
    "start_time": "2022-02-09T09:19:45.764Z"
   },
   {
    "duration": 14,
    "start_time": "2022-02-09T09:20:09.872Z"
   },
   {
    "duration": 722,
    "start_time": "2022-02-09T09:20:13.110Z"
   },
   {
    "duration": 360,
    "start_time": "2022-02-09T09:20:27.420Z"
   },
   {
    "duration": 30,
    "start_time": "2022-02-09T09:20:40.616Z"
   },
   {
    "duration": 30,
    "start_time": "2022-02-09T09:20:59.504Z"
   },
   {
    "duration": 14,
    "start_time": "2022-02-09T09:21:10.078Z"
   },
   {
    "duration": 12,
    "start_time": "2022-02-09T09:21:14.045Z"
   },
   {
    "duration": 15,
    "start_time": "2022-02-09T09:21:33.183Z"
   },
   {
    "duration": 31,
    "start_time": "2022-02-09T10:17:06.625Z"
   },
   {
    "duration": 55,
    "start_time": "2022-02-09T10:17:25.044Z"
   },
   {
    "duration": 114,
    "start_time": "2022-02-09T10:17:29.904Z"
   },
   {
    "duration": 32,
    "start_time": "2022-02-09T10:17:37.628Z"
   },
   {
    "duration": 470,
    "start_time": "2022-02-09T10:18:37.581Z"
   },
   {
    "duration": 30,
    "start_time": "2022-02-09T10:18:44.613Z"
   },
   {
    "duration": 34,
    "start_time": "2022-02-09T10:19:03.793Z"
   },
   {
    "duration": 42,
    "start_time": "2022-02-09T10:19:06.478Z"
   },
   {
    "duration": 398,
    "start_time": "2022-02-09T10:41:32.938Z"
   },
   {
    "duration": 344,
    "start_time": "2022-02-09T10:41:41.084Z"
   },
   {
    "duration": 320,
    "start_time": "2022-02-09T10:41:48.959Z"
   },
   {
    "duration": 887,
    "start_time": "2022-02-09T10:41:56.523Z"
   },
   {
    "duration": 8,
    "start_time": "2022-02-09T10:41:57.413Z"
   },
   {
    "duration": 5,
    "start_time": "2022-02-09T10:41:57.425Z"
   },
   {
    "duration": 33,
    "start_time": "2022-02-09T10:41:57.433Z"
   },
   {
    "duration": 26,
    "start_time": "2022-02-09T10:41:57.469Z"
   },
   {
    "duration": 10,
    "start_time": "2022-02-09T10:41:57.497Z"
   },
   {
    "duration": 7,
    "start_time": "2022-02-09T10:41:57.510Z"
   },
   {
    "duration": 19,
    "start_time": "2022-02-09T10:41:57.562Z"
   },
   {
    "duration": 38,
    "start_time": "2022-02-09T10:41:57.584Z"
   },
   {
    "duration": 46,
    "start_time": "2022-02-09T10:41:57.625Z"
   },
   {
    "duration": 20,
    "start_time": "2022-02-09T10:41:57.673Z"
   },
   {
    "duration": 11,
    "start_time": "2022-02-09T10:41:57.696Z"
   },
   {
    "duration": 124,
    "start_time": "2022-02-09T10:41:57.709Z"
   },
   {
    "duration": 53,
    "start_time": "2022-02-09T10:41:57.836Z"
   },
   {
    "duration": 22,
    "start_time": "2022-02-09T10:41:57.892Z"
   },
   {
    "duration": 44,
    "start_time": "2022-02-09T10:41:57.917Z"
   },
   {
    "duration": 6,
    "start_time": "2022-02-09T10:41:57.963Z"
   },
   {
    "duration": 38,
    "start_time": "2022-02-09T10:41:57.972Z"
   },
   {
    "duration": 57,
    "start_time": "2022-02-09T10:41:58.012Z"
   },
   {
    "duration": 24,
    "start_time": "2022-02-09T10:41:58.072Z"
   },
   {
    "duration": 30,
    "start_time": "2022-02-09T10:41:58.099Z"
   },
   {
    "duration": 12,
    "start_time": "2022-02-09T10:41:58.160Z"
   },
   {
    "duration": 17,
    "start_time": "2022-02-09T10:41:58.177Z"
   },
   {
    "duration": 540,
    "start_time": "2022-02-09T10:41:58.196Z"
   },
   {
    "duration": 362,
    "start_time": "2022-02-09T10:42:04.488Z"
   },
   {
    "duration": 329,
    "start_time": "2022-02-09T10:43:21.121Z"
   },
   {
    "duration": 306,
    "start_time": "2022-02-09T10:43:25.256Z"
   },
   {
    "duration": 7,
    "start_time": "2022-02-09T10:43:42.179Z"
   },
   {
    "duration": 9,
    "start_time": "2022-02-09T10:43:53.081Z"
   },
   {
    "duration": 8,
    "start_time": "2022-02-09T10:44:29.652Z"
   },
   {
    "duration": 13,
    "start_time": "2022-02-09T10:45:36.128Z"
   },
   {
    "duration": 15,
    "start_time": "2022-02-09T10:47:17.307Z"
   },
   {
    "duration": 14,
    "start_time": "2022-02-09T10:47:43.457Z"
   },
   {
    "duration": 12,
    "start_time": "2022-02-09T10:47:53.799Z"
   },
   {
    "duration": 13,
    "start_time": "2022-02-09T10:53:36.524Z"
   },
   {
    "duration": 15,
    "start_time": "2022-02-09T10:54:21.859Z"
   },
   {
    "duration": 356,
    "start_time": "2022-02-09T10:57:33.492Z"
   },
   {
    "duration": 15,
    "start_time": "2022-02-09T10:57:36.518Z"
   },
   {
    "duration": 28,
    "start_time": "2022-02-09T11:01:55.123Z"
   },
   {
    "duration": 1119,
    "start_time": "2022-02-13T20:47:21.885Z"
   },
   {
    "duration": 7,
    "start_time": "2022-02-13T20:47:23.007Z"
   },
   {
    "duration": 14,
    "start_time": "2022-02-13T20:47:23.016Z"
   },
   {
    "duration": 7,
    "start_time": "2022-02-13T20:47:23.098Z"
   },
   {
    "duration": 23,
    "start_time": "2022-02-13T20:47:23.107Z"
   },
   {
    "duration": 10,
    "start_time": "2022-02-13T20:47:23.132Z"
   },
   {
    "duration": 8,
    "start_time": "2022-02-13T20:47:23.144Z"
   },
   {
    "duration": 65,
    "start_time": "2022-02-13T20:47:23.156Z"
   },
   {
    "duration": 39,
    "start_time": "2022-02-13T20:47:23.225Z"
   },
   {
    "duration": 45,
    "start_time": "2022-02-13T20:47:23.267Z"
   },
   {
    "duration": 19,
    "start_time": "2022-02-13T20:47:23.314Z"
   },
   {
    "duration": 15,
    "start_time": "2022-02-13T20:47:23.335Z"
   },
   {
    "duration": 172,
    "start_time": "2022-02-13T20:47:23.353Z"
   },
   {
    "duration": 91,
    "start_time": "2022-02-13T20:47:23.527Z"
   },
   {
    "duration": 8,
    "start_time": "2022-02-13T20:47:23.619Z"
   },
   {
    "duration": 71,
    "start_time": "2022-02-13T20:47:23.629Z"
   },
   {
    "duration": 7,
    "start_time": "2022-02-13T20:47:23.702Z"
   },
   {
    "duration": 44,
    "start_time": "2022-02-13T20:47:23.712Z"
   },
   {
    "duration": 66,
    "start_time": "2022-02-13T20:47:23.759Z"
   },
   {
    "duration": 24,
    "start_time": "2022-02-13T20:47:23.827Z"
   },
   {
    "duration": 60,
    "start_time": "2022-02-13T20:47:23.853Z"
   },
   {
    "duration": 10,
    "start_time": "2022-02-13T20:47:23.915Z"
   },
   {
    "duration": 15,
    "start_time": "2022-02-13T20:47:23.930Z"
   },
   {
    "duration": 13,
    "start_time": "2022-02-13T20:47:23.947Z"
   },
   {
    "duration": 46,
    "start_time": "2022-02-13T20:47:23.962Z"
   },
   {
    "duration": 552,
    "start_time": "2022-02-14T05:21:12.151Z"
   },
   {
    "duration": 74,
    "start_time": "2022-02-14T05:21:12.705Z"
   },
   {
    "duration": 6,
    "start_time": "2022-02-14T05:21:12.781Z"
   },
   {
    "duration": 5,
    "start_time": "2022-02-14T05:21:12.789Z"
   },
   {
    "duration": 28,
    "start_time": "2022-02-14T05:21:12.795Z"
   },
   {
    "duration": 16,
    "start_time": "2022-02-14T05:21:12.825Z"
   },
   {
    "duration": 7,
    "start_time": "2022-02-14T05:21:12.842Z"
   },
   {
    "duration": 5,
    "start_time": "2022-02-14T05:21:12.851Z"
   },
   {
    "duration": 14,
    "start_time": "2022-02-14T05:21:12.859Z"
   },
   {
    "duration": 55,
    "start_time": "2022-02-14T05:21:12.875Z"
   },
   {
    "duration": 13,
    "start_time": "2022-02-14T05:21:12.932Z"
   },
   {
    "duration": 25,
    "start_time": "2022-02-14T05:21:12.946Z"
   },
   {
    "duration": 26,
    "start_time": "2022-02-14T05:21:12.973Z"
   },
   {
    "duration": 63,
    "start_time": "2022-02-14T05:21:13.001Z"
   },
   {
    "duration": 27,
    "start_time": "2022-02-14T05:21:13.067Z"
   },
   {
    "duration": 28,
    "start_time": "2022-02-14T05:21:13.096Z"
   },
   {
    "duration": 36,
    "start_time": "2022-02-14T05:21:13.125Z"
   },
   {
    "duration": 17,
    "start_time": "2022-02-14T05:21:13.164Z"
   },
   {
    "duration": 37,
    "start_time": "2022-02-14T05:21:13.183Z"
   },
   {
    "duration": 28,
    "start_time": "2022-02-14T05:21:13.222Z"
   },
   {
    "duration": 16,
    "start_time": "2022-02-14T05:21:13.252Z"
   },
   {
    "duration": 21,
    "start_time": "2022-02-14T05:21:13.271Z"
   },
   {
    "duration": 31,
    "start_time": "2022-02-14T05:21:13.294Z"
   },
   {
    "duration": 11,
    "start_time": "2022-02-14T05:21:13.327Z"
   },
   {
    "duration": 10,
    "start_time": "2022-02-14T05:21:13.339Z"
   },
   {
    "duration": 11,
    "start_time": "2022-02-14T05:21:13.352Z"
   },
   {
    "duration": 20,
    "start_time": "2022-02-14T05:27:25.367Z"
   },
   {
    "duration": 19,
    "start_time": "2022-02-14T05:27:45.384Z"
   },
   {
    "duration": 20,
    "start_time": "2022-02-14T05:28:15.000Z"
   },
   {
    "duration": 537,
    "start_time": "2022-02-14T05:28:26.971Z"
   },
   {
    "duration": 82,
    "start_time": "2022-02-14T05:28:27.511Z"
   },
   {
    "duration": 7,
    "start_time": "2022-02-14T05:28:27.595Z"
   },
   {
    "duration": 5,
    "start_time": "2022-02-14T05:28:27.620Z"
   },
   {
    "duration": 8,
    "start_time": "2022-02-14T05:28:27.627Z"
   },
   {
    "duration": 18,
    "start_time": "2022-02-14T05:28:27.637Z"
   },
   {
    "duration": 8,
    "start_time": "2022-02-14T05:28:27.657Z"
   },
   {
    "duration": 6,
    "start_time": "2022-02-14T05:28:27.667Z"
   },
   {
    "duration": 55,
    "start_time": "2022-02-14T05:28:27.677Z"
   },
   {
    "duration": 18,
    "start_time": "2022-02-14T05:28:27.735Z"
   },
   {
    "duration": 12,
    "start_time": "2022-02-14T05:28:27.755Z"
   },
   {
    "duration": 15,
    "start_time": "2022-02-14T05:28:27.769Z"
   },
   {
    "duration": 36,
    "start_time": "2022-02-14T05:28:27.786Z"
   },
   {
    "duration": 69,
    "start_time": "2022-02-14T05:28:27.824Z"
   },
   {
    "duration": 36,
    "start_time": "2022-02-14T05:28:27.894Z"
   },
   {
    "duration": 7,
    "start_time": "2022-02-14T05:28:27.932Z"
   },
   {
    "duration": 32,
    "start_time": "2022-02-14T05:28:27.941Z"
   },
   {
    "duration": 10,
    "start_time": "2022-02-14T05:28:27.975Z"
   },
   {
    "duration": 33,
    "start_time": "2022-02-14T05:28:27.986Z"
   },
   {
    "duration": 17,
    "start_time": "2022-02-14T05:28:28.021Z"
   },
   {
    "duration": 16,
    "start_time": "2022-02-14T05:28:28.040Z"
   },
   {
    "duration": 19,
    "start_time": "2022-02-14T05:28:28.058Z"
   },
   {
    "duration": 9,
    "start_time": "2022-02-14T05:28:28.079Z"
   },
   {
    "duration": 11,
    "start_time": "2022-02-14T05:28:28.118Z"
   },
   {
    "duration": 10,
    "start_time": "2022-02-14T05:28:28.131Z"
   },
   {
    "duration": 12,
    "start_time": "2022-02-14T05:28:28.143Z"
   },
   {
    "duration": 229,
    "start_time": "2022-02-14T16:10:15.599Z"
   },
   {
    "duration": 590,
    "start_time": "2022-02-14T16:10:51.415Z"
   },
   {
    "duration": 73,
    "start_time": "2022-02-14T16:10:52.007Z"
   },
   {
    "duration": 5,
    "start_time": "2022-02-14T16:10:52.082Z"
   },
   {
    "duration": 4,
    "start_time": "2022-02-14T16:10:52.089Z"
   },
   {
    "duration": 10,
    "start_time": "2022-02-14T16:10:52.094Z"
   },
   {
    "duration": 33,
    "start_time": "2022-02-14T16:10:52.106Z"
   },
   {
    "duration": 8,
    "start_time": "2022-02-14T16:10:52.141Z"
   },
   {
    "duration": 7,
    "start_time": "2022-02-14T16:10:52.150Z"
   },
   {
    "duration": 187,
    "start_time": "2022-02-14T16:10:57.996Z"
   },
   {
    "duration": 139,
    "start_time": "2022-02-14T16:11:19.546Z"
   },
   {
    "duration": 14,
    "start_time": "2022-02-14T16:11:39.572Z"
   },
   {
    "duration": 14,
    "start_time": "2022-02-14T16:13:11.646Z"
   },
   {
    "duration": 9,
    "start_time": "2022-02-14T16:13:24.222Z"
   },
   {
    "duration": 25,
    "start_time": "2022-02-14T16:13:43.469Z"
   },
   {
    "duration": 20,
    "start_time": "2022-02-14T16:13:55.233Z"
   },
   {
    "duration": 19,
    "start_time": "2022-02-14T16:13:57.258Z"
   },
   {
    "duration": 523,
    "start_time": "2022-02-14T16:14:11.945Z"
   },
   {
    "duration": 69,
    "start_time": "2022-02-14T16:14:12.470Z"
   },
   {
    "duration": 5,
    "start_time": "2022-02-14T16:14:12.541Z"
   },
   {
    "duration": 5,
    "start_time": "2022-02-14T16:14:12.547Z"
   },
   {
    "duration": 7,
    "start_time": "2022-02-14T16:14:12.553Z"
   },
   {
    "duration": 18,
    "start_time": "2022-02-14T16:14:12.562Z"
   },
   {
    "duration": 8,
    "start_time": "2022-02-14T16:14:12.582Z"
   },
   {
    "duration": 38,
    "start_time": "2022-02-14T16:14:12.592Z"
   },
   {
    "duration": 25,
    "start_time": "2022-02-14T16:14:33.142Z"
   },
   {
    "duration": 15,
    "start_time": "2022-02-14T16:14:51.728Z"
   },
   {
    "duration": 6114,
    "start_time": "2022-02-14T16:17:22.024Z"
   },
   {
    "duration": 3543,
    "start_time": "2022-02-14T16:17:37.957Z"
   },
   {
    "duration": 3596,
    "start_time": "2022-02-14T16:17:45.758Z"
   },
   {
    "duration": 482,
    "start_time": "2022-02-14T16:18:02.789Z"
   },
   {
    "duration": 69,
    "start_time": "2022-02-14T16:18:03.273Z"
   },
   {
    "duration": 5,
    "start_time": "2022-02-14T16:18:03.344Z"
   },
   {
    "duration": 5,
    "start_time": "2022-02-14T16:18:03.351Z"
   },
   {
    "duration": 6,
    "start_time": "2022-02-14T16:18:03.358Z"
   },
   {
    "duration": 15,
    "start_time": "2022-02-14T16:18:03.365Z"
   },
   {
    "duration": 9,
    "start_time": "2022-02-14T16:18:03.382Z"
   },
   {
    "duration": 41,
    "start_time": "2022-02-14T16:18:03.392Z"
   },
   {
    "duration": 5,
    "start_time": "2022-02-14T16:18:16.307Z"
   },
   {
    "duration": 23,
    "start_time": "2022-02-14T16:18:21.146Z"
   },
   {
    "duration": 20,
    "start_time": "2022-02-14T16:24:50.053Z"
   },
   {
    "duration": 4,
    "start_time": "2022-02-14T16:24:53.234Z"
   },
   {
    "duration": 6,
    "start_time": "2022-02-14T16:24:58.924Z"
   },
   {
    "duration": 518,
    "start_time": "2022-02-14T16:25:13.587Z"
   },
   {
    "duration": 73,
    "start_time": "2022-02-14T16:25:14.107Z"
   },
   {
    "duration": 6,
    "start_time": "2022-02-14T16:25:14.181Z"
   },
   {
    "duration": 4,
    "start_time": "2022-02-14T16:25:14.188Z"
   },
   {
    "duration": 6,
    "start_time": "2022-02-14T16:25:14.194Z"
   },
   {
    "duration": 42,
    "start_time": "2022-02-14T16:25:14.201Z"
   },
   {
    "duration": 6,
    "start_time": "2022-02-14T16:25:14.244Z"
   },
   {
    "duration": 6,
    "start_time": "2022-02-14T16:25:14.252Z"
   },
   {
    "duration": 191,
    "start_time": "2022-02-14T16:25:28.202Z"
   },
   {
    "duration": 7,
    "start_time": "2022-02-14T16:26:32.154Z"
   },
   {
    "duration": 7,
    "start_time": "2022-02-14T16:27:40.547Z"
   },
   {
    "duration": 28,
    "start_time": "2022-02-14T16:28:51.778Z"
   },
   {
    "duration": 16,
    "start_time": "2022-02-14T16:29:02.217Z"
   },
   {
    "duration": 6,
    "start_time": "2022-02-14T16:29:24.274Z"
   },
   {
    "duration": 20,
    "start_time": "2022-02-14T16:29:57.800Z"
   },
   {
    "duration": 15,
    "start_time": "2022-02-14T16:30:14.023Z"
   },
   {
    "duration": 20,
    "start_time": "2022-02-14T16:30:31.514Z"
   },
   {
    "duration": 18,
    "start_time": "2022-02-14T16:32:05.195Z"
   },
   {
    "duration": 18,
    "start_time": "2022-02-14T16:32:13.860Z"
   },
   {
    "duration": 20,
    "start_time": "2022-02-14T16:32:17.106Z"
   },
   {
    "duration": 25,
    "start_time": "2022-02-14T16:32:20.806Z"
   },
   {
    "duration": 57,
    "start_time": "2022-02-14T16:54:57.651Z"
   },
   {
    "duration": 20,
    "start_time": "2022-02-14T16:55:09.633Z"
   },
   {
    "duration": 150,
    "start_time": "2022-02-14T16:55:25.851Z"
   },
   {
    "duration": 147,
    "start_time": "2022-02-14T16:55:52.177Z"
   },
   {
    "duration": 12,
    "start_time": "2022-02-14T16:55:56.811Z"
   },
   {
    "duration": 146,
    "start_time": "2022-02-14T16:56:04.680Z"
   },
   {
    "duration": 14,
    "start_time": "2022-02-14T16:56:08.411Z"
   },
   {
    "duration": 29,
    "start_time": "2022-02-14T16:56:14.342Z"
   },
   {
    "duration": 26,
    "start_time": "2022-02-14T16:56:26.025Z"
   },
   {
    "duration": 152,
    "start_time": "2022-02-14T16:57:07.414Z"
   },
   {
    "duration": 60,
    "start_time": "2022-02-14T16:57:58.647Z"
   },
   {
    "duration": 309,
    "start_time": "2022-02-14T16:58:05.903Z"
   },
   {
    "duration": 26,
    "start_time": "2022-02-14T17:01:46.085Z"
   },
   {
    "duration": 13,
    "start_time": "2022-02-14T17:02:06.654Z"
   },
   {
    "duration": 13,
    "start_time": "2022-02-14T17:02:09.533Z"
   },
   {
    "duration": 20,
    "start_time": "2022-02-14T17:02:17.037Z"
   },
   {
    "duration": 38,
    "start_time": "2022-02-14T17:03:09.038Z"
   },
   {
    "duration": 3478,
    "start_time": "2022-02-14T17:09:00.417Z"
   },
   {
    "duration": 20,
    "start_time": "2022-02-14T17:09:18.499Z"
   },
   {
    "duration": 526,
    "start_time": "2022-02-14T17:12:38.211Z"
   },
   {
    "duration": 13,
    "start_time": "2022-02-14T17:19:58.109Z"
   },
   {
    "duration": 611,
    "start_time": "2022-02-14T17:20:34.668Z"
   },
   {
    "duration": 590,
    "start_time": "2022-02-14T17:22:11.177Z"
   },
   {
    "duration": 66,
    "start_time": "2022-02-14T17:24:07.721Z"
   },
   {
    "duration": 69,
    "start_time": "2022-02-14T17:24:48.684Z"
   },
   {
    "duration": 35,
    "start_time": "2022-02-14T17:25:44.921Z"
   },
   {
    "duration": 140,
    "start_time": "2022-02-14T17:26:02.826Z"
   },
   {
    "duration": 135,
    "start_time": "2022-02-14T17:26:18.300Z"
   },
   {
    "duration": 583,
    "start_time": "2022-02-14T17:27:50.903Z"
   },
   {
    "duration": 13,
    "start_time": "2022-02-14T17:27:56.921Z"
   },
   {
    "duration": 13,
    "start_time": "2022-02-14T17:27:58.873Z"
   },
   {
    "duration": 608,
    "start_time": "2022-02-14T17:31:31.983Z"
   },
   {
    "duration": 18,
    "start_time": "2022-02-14T17:39:24.245Z"
   },
   {
    "duration": 19,
    "start_time": "2022-02-14T17:39:53.182Z"
   },
   {
    "duration": 19,
    "start_time": "2022-02-14T17:40:07.516Z"
   },
   {
    "duration": 14,
    "start_time": "2022-02-14T17:40:19.941Z"
   },
   {
    "duration": 15,
    "start_time": "2022-02-14T17:43:09.433Z"
   },
   {
    "duration": 602,
    "start_time": "2022-02-14T17:43:23.309Z"
   },
   {
    "duration": 584,
    "start_time": "2022-02-14T17:44:10.276Z"
   },
   {
    "duration": 681,
    "start_time": "2022-02-14T17:57:09.492Z"
   },
   {
    "duration": 504,
    "start_time": "2022-02-14T17:57:21.381Z"
   },
   {
    "duration": 590,
    "start_time": "2022-02-14T17:57:35.306Z"
   },
   {
    "duration": 80,
    "start_time": "2022-02-14T17:57:35.898Z"
   },
   {
    "duration": 5,
    "start_time": "2022-02-14T17:57:35.980Z"
   },
   {
    "duration": 10,
    "start_time": "2022-02-14T17:57:35.987Z"
   },
   {
    "duration": 7,
    "start_time": "2022-02-14T17:57:35.999Z"
   },
   {
    "duration": 35,
    "start_time": "2022-02-14T17:57:36.008Z"
   },
   {
    "duration": 7,
    "start_time": "2022-02-14T17:57:36.044Z"
   },
   {
    "duration": 6,
    "start_time": "2022-02-14T17:57:36.053Z"
   },
   {
    "duration": 567,
    "start_time": "2022-02-14T17:57:38.434Z"
   },
   {
    "duration": 527,
    "start_time": "2022-02-14T17:58:03.449Z"
   },
   {
    "duration": 137,
    "start_time": "2022-02-14T17:59:44.465Z"
   },
   {
    "duration": 693,
    "start_time": "2022-02-14T17:59:50.373Z"
   },
   {
    "duration": 515,
    "start_time": "2022-02-14T18:01:43.954Z"
   },
   {
    "duration": 281,
    "start_time": "2022-02-14T18:03:45.139Z"
   },
   {
    "duration": 47,
    "start_time": "2022-02-14T18:04:43.632Z"
   },
   {
    "duration": 595,
    "start_time": "2022-02-14T18:06:51.094Z"
   },
   {
    "duration": 1659,
    "start_time": "2022-02-14T18:09:45.433Z"
   },
   {
    "duration": 677,
    "start_time": "2022-02-14T18:10:03.711Z"
   },
   {
    "duration": 17,
    "start_time": "2022-02-14T18:20:50.062Z"
   },
   {
    "duration": 30,
    "start_time": "2022-02-14T18:21:01.750Z"
   },
   {
    "duration": 19,
    "start_time": "2022-02-14T18:21:33.201Z"
   },
   {
    "duration": 18,
    "start_time": "2022-02-14T18:21:37.523Z"
   },
   {
    "duration": 24,
    "start_time": "2022-02-14T18:22:00.030Z"
   },
   {
    "duration": 23,
    "start_time": "2022-02-14T18:22:03.867Z"
   },
   {
    "duration": 693,
    "start_time": "2022-02-14T18:28:48.231Z"
   },
   {
    "duration": 112,
    "start_time": "2022-02-14T18:28:48.927Z"
   },
   {
    "duration": 8,
    "start_time": "2022-02-14T18:28:49.041Z"
   },
   {
    "duration": 6,
    "start_time": "2022-02-14T18:28:49.051Z"
   },
   {
    "duration": 9,
    "start_time": "2022-02-14T18:28:49.059Z"
   },
   {
    "duration": 23,
    "start_time": "2022-02-14T18:28:49.070Z"
   },
   {
    "duration": 42,
    "start_time": "2022-02-14T18:28:49.095Z"
   },
   {
    "duration": 8,
    "start_time": "2022-02-14T18:28:49.140Z"
   },
   {
    "duration": 25,
    "start_time": "2022-02-14T18:28:49.149Z"
   },
   {
    "duration": 26,
    "start_time": "2022-02-14T18:28:49.175Z"
   },
   {
    "duration": 36,
    "start_time": "2022-02-14T18:28:49.202Z"
   },
   {
    "duration": 21,
    "start_time": "2022-02-14T18:28:49.240Z"
   },
   {
    "duration": 9,
    "start_time": "2022-02-14T18:28:49.263Z"
   },
   {
    "duration": 94,
    "start_time": "2022-02-14T18:28:49.274Z"
   },
   {
    "duration": 25,
    "start_time": "2022-02-14T18:28:49.370Z"
   },
   {
    "duration": 7,
    "start_time": "2022-02-14T18:28:49.397Z"
   },
   {
    "duration": 42,
    "start_time": "2022-02-14T18:28:49.406Z"
   },
   {
    "duration": 11,
    "start_time": "2022-02-14T18:29:08.289Z"
   },
   {
    "duration": 25,
    "start_time": "2022-02-14T18:29:14.067Z"
   },
   {
    "duration": 1568,
    "start_time": "2022-02-14T18:29:57.116Z"
   },
   {
    "duration": 41,
    "start_time": "2022-02-14T18:30:30.355Z"
   },
   {
    "duration": 128,
    "start_time": "2022-02-14T19:31:10.398Z"
   },
   {
    "duration": 139,
    "start_time": "2022-02-14T19:31:14.862Z"
   },
   {
    "duration": 20,
    "start_time": "2022-02-14T19:31:33.867Z"
   },
   {
    "duration": 27,
    "start_time": "2022-02-14T19:32:07.718Z"
   },
   {
    "duration": 14,
    "start_time": "2022-02-14T19:32:21.834Z"
   },
   {
    "duration": 44,
    "start_time": "2022-02-14T19:33:25.420Z"
   },
   {
    "duration": 173,
    "start_time": "2022-02-14T19:34:34.924Z"
   },
   {
    "duration": 22,
    "start_time": "2022-02-14T19:34:41.254Z"
   },
   {
    "duration": 130,
    "start_time": "2022-02-14T19:48:52.754Z"
   },
   {
    "duration": 8,
    "start_time": "2022-02-14T19:49:01.128Z"
   },
   {
    "duration": 711,
    "start_time": "2022-02-15T17:30:44.768Z"
   },
   {
    "duration": 115,
    "start_time": "2022-02-15T17:30:45.481Z"
   },
   {
    "duration": 9,
    "start_time": "2022-02-15T17:30:45.599Z"
   },
   {
    "duration": 43,
    "start_time": "2022-02-15T17:30:45.611Z"
   },
   {
    "duration": 14,
    "start_time": "2022-02-15T17:30:45.657Z"
   },
   {
    "duration": 31,
    "start_time": "2022-02-15T17:30:45.673Z"
   },
   {
    "duration": 46,
    "start_time": "2022-02-15T17:30:45.706Z"
   },
   {
    "duration": 8,
    "start_time": "2022-02-15T17:30:45.755Z"
   },
   {
    "duration": 82,
    "start_time": "2022-02-15T17:30:45.766Z"
   },
   {
    "duration": 45,
    "start_time": "2022-02-15T17:30:45.851Z"
   },
   {
    "duration": 60,
    "start_time": "2022-02-15T17:30:45.898Z"
   },
   {
    "duration": 22,
    "start_time": "2022-02-15T17:30:45.961Z"
   },
   {
    "duration": 15,
    "start_time": "2022-02-15T17:30:45.986Z"
   },
   {
    "duration": 47,
    "start_time": "2022-02-15T17:30:46.003Z"
   },
   {
    "duration": 110,
    "start_time": "2022-02-15T17:30:46.053Z"
   },
   {
    "duration": 34,
    "start_time": "2022-02-15T17:30:46.166Z"
   },
   {
    "duration": 9,
    "start_time": "2022-02-15T17:30:46.203Z"
   },
   {
    "duration": 64,
    "start_time": "2022-02-15T17:30:46.215Z"
   },
   {
    "duration": 10,
    "start_time": "2022-02-15T17:30:46.281Z"
   },
   {
    "duration": 60,
    "start_time": "2022-02-15T17:30:46.294Z"
   },
   {
    "duration": 18,
    "start_time": "2022-02-15T17:30:46.356Z"
   },
   {
    "duration": 32,
    "start_time": "2022-02-15T17:30:46.376Z"
   },
   {
    "duration": 44,
    "start_time": "2022-02-15T17:30:46.412Z"
   },
   {
    "duration": 11,
    "start_time": "2022-02-15T17:30:46.458Z"
   },
   {
    "duration": 15,
    "start_time": "2022-02-15T17:30:46.472Z"
   },
   {
    "duration": 66,
    "start_time": "2022-02-15T17:30:46.490Z"
   },
   {
    "duration": 33,
    "start_time": "2022-02-15T17:31:38.014Z"
   },
   {
    "duration": 110,
    "start_time": "2022-02-15T17:31:48.234Z"
   },
   {
    "duration": 31,
    "start_time": "2022-02-15T17:32:06.371Z"
   },
   {
    "duration": 335,
    "start_time": "2022-02-15T17:32:34.253Z"
   },
   {
    "duration": 19,
    "start_time": "2022-02-15T17:32:45.581Z"
   },
   {
    "duration": 22,
    "start_time": "2022-02-15T17:33:28.837Z"
   },
   {
    "duration": 18,
    "start_time": "2022-02-15T17:37:03.287Z"
   },
   {
    "duration": 23,
    "start_time": "2022-02-15T17:37:55.878Z"
   },
   {
    "duration": 24,
    "start_time": "2022-02-15T17:41:14.931Z"
   },
   {
    "duration": 24,
    "start_time": "2022-02-15T17:41:16.658Z"
   },
   {
    "duration": 23,
    "start_time": "2022-02-15T17:41:17.544Z"
   },
   {
    "duration": 23,
    "start_time": "2022-02-15T17:41:18.583Z"
   },
   {
    "duration": 130,
    "start_time": "2022-02-15T17:41:34.090Z"
   },
   {
    "duration": 23,
    "start_time": "2022-02-15T17:49:16.714Z"
   },
   {
    "duration": 260,
    "start_time": "2022-02-15T17:53:03.714Z"
   },
   {
    "duration": 260,
    "start_time": "2022-02-15T17:53:20.828Z"
   },
   {
    "duration": 287,
    "start_time": "2022-02-15T17:53:34.747Z"
   },
   {
    "duration": 256,
    "start_time": "2022-02-15T17:53:42.063Z"
   },
   {
    "duration": 384,
    "start_time": "2022-02-15T17:53:44.845Z"
   },
   {
    "duration": 33,
    "start_time": "2022-02-15T17:53:48.465Z"
   },
   {
    "duration": 23,
    "start_time": "2022-02-15T17:54:01.133Z"
   },
   {
    "duration": 22,
    "start_time": "2022-02-15T17:54:16.790Z"
   },
   {
    "duration": 23,
    "start_time": "2022-02-15T17:54:33.169Z"
   },
   {
    "duration": 20,
    "start_time": "2022-02-15T17:54:47.356Z"
   },
   {
    "duration": 30,
    "start_time": "2022-02-15T17:58:11.606Z"
   },
   {
    "duration": 30,
    "start_time": "2022-02-15T17:58:26.967Z"
   },
   {
    "duration": 30,
    "start_time": "2022-02-15T17:58:31.597Z"
   },
   {
    "duration": 346,
    "start_time": "2022-02-15T17:58:35.598Z"
   },
   {
    "duration": 43,
    "start_time": "2022-02-15T17:58:44.693Z"
   },
   {
    "duration": 15,
    "start_time": "2022-02-15T17:58:50.220Z"
   },
   {
    "duration": 291,
    "start_time": "2022-02-15T18:02:10.564Z"
   },
   {
    "duration": 24,
    "start_time": "2022-02-15T18:02:46.403Z"
   },
   {
    "duration": 26,
    "start_time": "2022-02-15T18:02:51.640Z"
   },
   {
    "duration": 30,
    "start_time": "2022-02-15T18:02:58.733Z"
   },
   {
    "duration": 318,
    "start_time": "2022-02-15T18:03:28.414Z"
   },
   {
    "duration": 33,
    "start_time": "2022-02-15T18:03:47.461Z"
   },
   {
    "duration": 86,
    "start_time": "2022-02-15T18:05:28.855Z"
   },
   {
    "duration": 28,
    "start_time": "2022-02-15T18:05:39.977Z"
   },
   {
    "duration": 34,
    "start_time": "2022-02-15T18:07:01.227Z"
   },
   {
    "duration": 12,
    "start_time": "2022-02-15T18:07:15.738Z"
   },
   {
    "duration": 3,
    "start_time": "2022-02-15T18:11:53.770Z"
   },
   {
    "duration": 288,
    "start_time": "2022-02-15T18:12:37.218Z"
   },
   {
    "duration": 33,
    "start_time": "2022-02-15T18:12:41.233Z"
   },
   {
    "duration": 246,
    "start_time": "2022-02-15T18:14:50.299Z"
   },
   {
    "duration": 256,
    "start_time": "2022-02-15T18:15:05.555Z"
   },
   {
    "duration": 21,
    "start_time": "2022-02-15T18:15:18.184Z"
   },
   {
    "duration": 336,
    "start_time": "2022-02-15T18:15:39.264Z"
   },
   {
    "duration": 259,
    "start_time": "2022-02-15T18:15:48.665Z"
   },
   {
    "duration": 22,
    "start_time": "2022-02-15T18:15:55.696Z"
   },
   {
    "duration": 7470,
    "start_time": "2022-02-15T18:17:45.236Z"
   },
   {
    "duration": 8,
    "start_time": "2022-02-15T18:21:05.692Z"
   },
   {
    "duration": 12,
    "start_time": "2022-02-15T18:21:12.326Z"
   },
   {
    "duration": 11480,
    "start_time": "2022-02-15T18:21:19.807Z"
   },
   {
    "duration": 680,
    "start_time": "2022-02-15T18:21:40.476Z"
   },
   {
    "duration": 122,
    "start_time": "2022-02-15T18:21:41.159Z"
   },
   {
    "duration": 7,
    "start_time": "2022-02-15T18:21:41.283Z"
   },
   {
    "duration": 13,
    "start_time": "2022-02-15T18:21:41.293Z"
   },
   {
    "duration": 48,
    "start_time": "2022-02-15T18:21:41.309Z"
   },
   {
    "duration": 31,
    "start_time": "2022-02-15T18:21:41.360Z"
   },
   {
    "duration": 11,
    "start_time": "2022-02-15T18:21:41.394Z"
   },
   {
    "duration": 9,
    "start_time": "2022-02-15T18:21:41.409Z"
   },
   {
    "duration": 33,
    "start_time": "2022-02-15T18:21:41.450Z"
   },
   {
    "duration": 74,
    "start_time": "2022-02-15T18:21:41.486Z"
   },
   {
    "duration": 31,
    "start_time": "2022-02-15T18:21:41.563Z"
   },
   {
    "duration": 21,
    "start_time": "2022-02-15T18:21:41.596Z"
   },
   {
    "duration": 44,
    "start_time": "2022-02-15T18:21:41.619Z"
   },
   {
    "duration": 14,
    "start_time": "2022-02-15T18:21:41.665Z"
   },
   {
    "duration": 113,
    "start_time": "2022-02-15T18:21:41.681Z"
   },
   {
    "duration": 60,
    "start_time": "2022-02-15T18:21:41.796Z"
   },
   {
    "duration": 11,
    "start_time": "2022-02-15T18:21:41.858Z"
   },
   {
    "duration": 35,
    "start_time": "2022-02-15T18:21:41.872Z"
   },
   {
    "duration": 7,
    "start_time": "2022-02-15T18:21:41.909Z"
   },
   {
    "duration": 33,
    "start_time": "2022-02-15T18:21:41.949Z"
   },
   {
    "duration": 22,
    "start_time": "2022-02-15T18:21:41.985Z"
   },
   {
    "duration": 56,
    "start_time": "2022-02-15T18:21:42.010Z"
   },
   {
    "duration": 7,
    "start_time": "2022-02-15T18:21:56.939Z"
   },
   {
    "duration": 7,
    "start_time": "2022-02-15T18:22:01.713Z"
   },
   {
    "duration": 10,
    "start_time": "2022-02-15T18:22:07.751Z"
   },
   {
    "duration": 6713,
    "start_time": "2022-02-15T18:22:13.383Z"
   },
   {
    "duration": 14,
    "start_time": "2022-02-15T18:22:52.906Z"
   },
   {
    "duration": 14,
    "start_time": "2022-02-15T18:23:08.068Z"
   },
   {
    "duration": 6893,
    "start_time": "2022-02-15T18:23:37.142Z"
   },
   {
    "duration": 20,
    "start_time": "2022-02-15T18:24:43.460Z"
   },
   {
    "duration": 30,
    "start_time": "2022-02-15T18:29:39.251Z"
   },
   {
    "duration": 267,
    "start_time": "2022-02-15T18:36:25.133Z"
   },
   {
    "duration": 23,
    "start_time": "2022-02-15T18:36:36.592Z"
   },
   {
    "duration": 172,
    "start_time": "2022-02-15T18:40:56.018Z"
   },
   {
    "duration": 673,
    "start_time": "2022-02-15T18:41:09.492Z"
   },
   {
    "duration": 118,
    "start_time": "2022-02-15T18:41:10.168Z"
   },
   {
    "duration": 7,
    "start_time": "2022-02-15T18:41:10.290Z"
   },
   {
    "duration": 9,
    "start_time": "2022-02-15T18:41:10.300Z"
   },
   {
    "duration": 9,
    "start_time": "2022-02-15T18:41:10.348Z"
   },
   {
    "duration": 26,
    "start_time": "2022-02-15T18:41:10.359Z"
   },
   {
    "duration": 9,
    "start_time": "2022-02-15T18:41:10.387Z"
   },
   {
    "duration": 52,
    "start_time": "2022-02-15T18:41:10.401Z"
   },
   {
    "duration": 37,
    "start_time": "2022-02-15T18:41:10.457Z"
   },
   {
    "duration": 76,
    "start_time": "2022-02-15T18:41:10.497Z"
   },
   {
    "duration": 36,
    "start_time": "2022-02-15T18:41:10.576Z"
   },
   {
    "duration": 50,
    "start_time": "2022-02-15T18:41:10.614Z"
   },
   {
    "duration": 17,
    "start_time": "2022-02-15T18:41:10.666Z"
   },
   {
    "duration": 11,
    "start_time": "2022-02-15T18:41:10.686Z"
   },
   {
    "duration": 117,
    "start_time": "2022-02-15T18:41:10.699Z"
   },
   {
    "duration": 52,
    "start_time": "2022-02-15T18:41:10.818Z"
   },
   {
    "duration": 10,
    "start_time": "2022-02-15T18:41:10.872Z"
   },
   {
    "duration": 65,
    "start_time": "2022-02-15T18:41:10.885Z"
   },
   {
    "duration": 7,
    "start_time": "2022-02-15T18:41:10.953Z"
   },
   {
    "duration": 34,
    "start_time": "2022-02-15T18:41:10.963Z"
   },
   {
    "duration": 57,
    "start_time": "2022-02-15T18:41:11.000Z"
   },
   {
    "duration": 21,
    "start_time": "2022-02-15T18:41:11.060Z"
   },
   {
    "duration": 19,
    "start_time": "2022-02-15T18:41:11.085Z"
   },
   {
    "duration": 57,
    "start_time": "2022-02-15T18:41:11.107Z"
   },
   {
    "duration": 23,
    "start_time": "2022-02-15T18:41:11.167Z"
   },
   {
    "duration": 596,
    "start_time": "2022-02-16T15:19:24.089Z"
   },
   {
    "duration": 82,
    "start_time": "2022-02-16T15:19:24.687Z"
   },
   {
    "duration": 5,
    "start_time": "2022-02-16T15:19:24.773Z"
   },
   {
    "duration": 4,
    "start_time": "2022-02-16T15:19:24.780Z"
   },
   {
    "duration": 30,
    "start_time": "2022-02-16T15:19:24.785Z"
   },
   {
    "duration": 17,
    "start_time": "2022-02-16T15:19:24.817Z"
   },
   {
    "duration": 6,
    "start_time": "2022-02-16T15:19:24.837Z"
   },
   {
    "duration": 6,
    "start_time": "2022-02-16T15:19:24.845Z"
   },
   {
    "duration": 28,
    "start_time": "2022-02-16T15:19:24.853Z"
   },
   {
    "duration": 56,
    "start_time": "2022-02-16T15:19:24.882Z"
   },
   {
    "duration": 20,
    "start_time": "2022-02-16T15:19:24.940Z"
   },
   {
    "duration": 12,
    "start_time": "2022-02-16T15:19:24.962Z"
   },
   {
    "duration": 44,
    "start_time": "2022-02-16T15:19:24.976Z"
   },
   {
    "duration": 9,
    "start_time": "2022-02-16T15:19:25.022Z"
   },
   {
    "duration": 80,
    "start_time": "2022-02-16T15:19:25.033Z"
   },
   {
    "duration": 27,
    "start_time": "2022-02-16T15:19:25.115Z"
   },
   {
    "duration": 9,
    "start_time": "2022-02-16T15:19:25.144Z"
   },
   {
    "duration": 22,
    "start_time": "2022-02-16T15:19:25.155Z"
   },
   {
    "duration": 34,
    "start_time": "2022-02-16T15:19:25.179Z"
   },
   {
    "duration": 24,
    "start_time": "2022-02-16T15:19:25.215Z"
   },
   {
    "duration": 13,
    "start_time": "2022-02-16T15:19:25.241Z"
   },
   {
    "duration": 12,
    "start_time": "2022-02-16T15:19:25.257Z"
   },
   {
    "duration": 12,
    "start_time": "2022-02-16T15:19:25.271Z"
   },
   {
    "duration": 39,
    "start_time": "2022-02-16T15:19:25.285Z"
   },
   {
    "duration": 15,
    "start_time": "2022-02-16T15:19:25.325Z"
   },
   {
    "duration": 578,
    "start_time": "2022-02-16T16:39:16.199Z"
   },
   {
    "duration": 78,
    "start_time": "2022-02-16T16:39:16.778Z"
   },
   {
    "duration": 6,
    "start_time": "2022-02-16T16:39:16.858Z"
   },
   {
    "duration": 16,
    "start_time": "2022-02-16T16:39:16.865Z"
   },
   {
    "duration": 6,
    "start_time": "2022-02-16T16:39:16.883Z"
   },
   {
    "duration": 32,
    "start_time": "2022-02-16T16:39:16.891Z"
   },
   {
    "duration": 7,
    "start_time": "2022-02-16T16:39:16.924Z"
   },
   {
    "duration": 5,
    "start_time": "2022-02-16T16:39:16.933Z"
   },
   {
    "duration": 25,
    "start_time": "2022-02-16T16:39:16.940Z"
   },
   {
    "duration": 59,
    "start_time": "2022-02-16T16:39:16.967Z"
   },
   {
    "duration": 21,
    "start_time": "2022-02-16T16:39:17.027Z"
   },
   {
    "duration": 27,
    "start_time": "2022-02-16T16:39:17.050Z"
   },
   {
    "duration": 12,
    "start_time": "2022-02-16T16:39:17.079Z"
   },
   {
    "duration": 23,
    "start_time": "2022-02-16T16:39:17.092Z"
   },
   {
    "duration": 66,
    "start_time": "2022-02-16T16:39:17.117Z"
   },
   {
    "duration": 28,
    "start_time": "2022-02-16T16:39:17.185Z"
   },
   {
    "duration": 7,
    "start_time": "2022-02-16T16:39:17.215Z"
   },
   {
    "duration": 35,
    "start_time": "2022-02-16T16:39:17.224Z"
   },
   {
    "duration": 10,
    "start_time": "2022-02-16T16:39:17.260Z"
   },
   {
    "duration": 45,
    "start_time": "2022-02-16T16:39:17.271Z"
   },
   {
    "duration": 16,
    "start_time": "2022-02-16T16:39:17.318Z"
   },
   {
    "duration": 15,
    "start_time": "2022-02-16T16:39:17.335Z"
   },
   {
    "duration": 19,
    "start_time": "2022-02-16T16:39:17.353Z"
   },
   {
    "duration": 14,
    "start_time": "2022-02-16T16:39:17.374Z"
   },
   {
    "duration": 32,
    "start_time": "2022-02-16T16:39:17.389Z"
   }
  ],
  "kernelspec": {
   "display_name": "Python 3 (ipykernel)",
   "language": "python",
   "name": "python3"
  },
  "language_info": {
   "codemirror_mode": {
    "name": "ipython",
    "version": 3
   },
   "file_extension": ".py",
   "mimetype": "text/x-python",
   "name": "python",
   "nbconvert_exporter": "python",
   "pygments_lexer": "ipython3",
   "version": "3.9.7"
  },
  "toc": {
   "base_numbering": 1,
   "nav_menu": {},
   "number_sections": true,
   "sideBar": true,
   "skip_h1_title": true,
   "title_cell": "Table of Contents",
   "title_sidebar": "Contents",
   "toc_cell": false,
   "toc_position": {},
   "toc_section_display": true,
   "toc_window_display": true
  }
 },
 "nbformat": 4,
 "nbformat_minor": 5
}
