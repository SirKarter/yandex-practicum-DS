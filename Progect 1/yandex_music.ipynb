{
 "cells": [
  {
   "cell_type": "markdown",
   "metadata": {
    "id": "E0vqbgi9ay0H"
   },
   "source": [
    "# Яндекс.Музыка"
   ]
  },
  {
   "cell_type": "markdown",
   "metadata": {
    "id": "VUC88oWjTJw2"
   },
   "source": [
    "Сравнение Москвы и Петербурга окружено мифами. Например:\n",
    " * Москва — мегаполис, подчинённый жёсткому ритму рабочей недели;\n",
    " * Петербург — культурная столица, со своими вкусами.\n",
    "\n",
    "На данных Яндекс.Музыки вы сравните поведение пользователей двух столиц.\n",
    "\n",
    "**Цель исследования** — проверьте три гипотезы:\n",
    "1. Активность пользователей зависит от дня недели. Причём в Москве и Петербурге это проявляется по-разному.\n",
    "2. В понедельник утром в Москве преобладают одни жанры, а в Петербурге — другие. Так же и вечером пятницы преобладают разные жанры — в зависимости от города. \n",
    "3. Москва и Петербург предпочитают разные жанры музыки. В Москве чаще слушают поп-музыку, в Петербурге — русский рэп.\n",
    "\n",
    "**Ход исследования**\n",
    "\n",
    "Данные о поведении пользователей вы получите из файла `yandex_music_project.csv`. О качестве данных ничего не известно. Поэтому перед проверкой гипотез понадобится обзор данных. \n",
    "\n",
    "Вы проверите данные на ошибки и оцените их влияние на исследование. Затем, на этапе предобработки вы поищете возможность исправить самые критичные ошибки данных.\n",
    " \n",
    "Таким образом, исследование пройдёт в три этапа:\n",
    " 1. Обзор данных.\n",
    " 2. Предобработка данных.\n",
    " 3. Проверка гипотез.\n",
    "\n"
   ]
  },
  {
   "cell_type": "markdown",
   "metadata": {
    "id": "Ml1hmfXC_Zcs"
   },
   "source": [
    "## Обзор данных\n",
    "\n",
    "Составьте первое представление о данных Яндекс.Музыки.\n",
    "\n",
    "\n"
   ]
  },
  {
   "cell_type": "markdown",
   "metadata": {
    "id": "57eAOGIz_Zcs"
   },
   "source": [
    "Основной инструмент аналитика — `pandas`. Импортируйте эту библиотеку."
   ]
  },
  {
   "cell_type": "code",
   "execution_count": 1,
   "metadata": {
    "id": "AXN7PHPN_Zcs",
    "trusted": true
   },
   "outputs": [],
   "source": [
    "import pandas as pd# импорт библиотеки pandas"
   ]
  },
  {
   "cell_type": "markdown",
   "metadata": {
    "id": "SG23P8tt_Zcs"
   },
   "source": [
    "Прочитайте файл `yandex_music_project.csv` из папки `/datasets` и сохраните его в переменной `df`:"
   ]
  },
  {
   "cell_type": "code",
   "execution_count": 2,
   "metadata": {
    "id": "fFVu7vqh_Zct",
    "trusted": true
   },
   "outputs": [],
   "source": [
    "df = pd.read_csv('/datasets/yandex_music_project.csv')# чтение файла с данными и сохранение в df"
   ]
  },
  {
   "cell_type": "markdown",
   "metadata": {
    "id": "rDoOMd3uTqnZ"
   },
   "source": [
    "Выведите на экран первые десять строк таблицы:"
   ]
  },
  {
   "cell_type": "code",
   "execution_count": 3,
   "metadata": {
    "id": "oWTVX3gW_Zct",
    "trusted": true
   },
   "outputs": [
    {
     "data": {
      "text/html": [
       "<div>\n",
       "<style scoped>\n",
       "    .dataframe tbody tr th:only-of-type {\n",
       "        vertical-align: middle;\n",
       "    }\n",
       "\n",
       "    .dataframe tbody tr th {\n",
       "        vertical-align: top;\n",
       "    }\n",
       "\n",
       "    .dataframe thead th {\n",
       "        text-align: right;\n",
       "    }\n",
       "</style>\n",
       "<table border=\"1\" class=\"dataframe\">\n",
       "  <thead>\n",
       "    <tr style=\"text-align: right;\">\n",
       "      <th></th>\n",
       "      <th>userID</th>\n",
       "      <th>Track</th>\n",
       "      <th>artist</th>\n",
       "      <th>genre</th>\n",
       "      <th>City</th>\n",
       "      <th>time</th>\n",
       "      <th>Day</th>\n",
       "    </tr>\n",
       "  </thead>\n",
       "  <tbody>\n",
       "    <tr>\n",
       "      <td>0</td>\n",
       "      <td>FFB692EC</td>\n",
       "      <td>Kamigata To Boots</td>\n",
       "      <td>The Mass Missile</td>\n",
       "      <td>rock</td>\n",
       "      <td>Saint-Petersburg</td>\n",
       "      <td>20:28:33</td>\n",
       "      <td>Wednesday</td>\n",
       "    </tr>\n",
       "    <tr>\n",
       "      <td>1</td>\n",
       "      <td>55204538</td>\n",
       "      <td>Delayed Because of Accident</td>\n",
       "      <td>Andreas Rönnberg</td>\n",
       "      <td>rock</td>\n",
       "      <td>Moscow</td>\n",
       "      <td>14:07:09</td>\n",
       "      <td>Friday</td>\n",
       "    </tr>\n",
       "    <tr>\n",
       "      <td>2</td>\n",
       "      <td>20EC38</td>\n",
       "      <td>Funiculì funiculà</td>\n",
       "      <td>Mario Lanza</td>\n",
       "      <td>pop</td>\n",
       "      <td>Saint-Petersburg</td>\n",
       "      <td>20:58:07</td>\n",
       "      <td>Wednesday</td>\n",
       "    </tr>\n",
       "    <tr>\n",
       "      <td>3</td>\n",
       "      <td>A3DD03C9</td>\n",
       "      <td>Dragons in the Sunset</td>\n",
       "      <td>Fire + Ice</td>\n",
       "      <td>folk</td>\n",
       "      <td>Saint-Petersburg</td>\n",
       "      <td>08:37:09</td>\n",
       "      <td>Monday</td>\n",
       "    </tr>\n",
       "    <tr>\n",
       "      <td>4</td>\n",
       "      <td>E2DC1FAE</td>\n",
       "      <td>Soul People</td>\n",
       "      <td>Space Echo</td>\n",
       "      <td>dance</td>\n",
       "      <td>Moscow</td>\n",
       "      <td>08:34:34</td>\n",
       "      <td>Monday</td>\n",
       "    </tr>\n",
       "    <tr>\n",
       "      <td>5</td>\n",
       "      <td>842029A1</td>\n",
       "      <td>Преданная</td>\n",
       "      <td>IMPERVTOR</td>\n",
       "      <td>rusrap</td>\n",
       "      <td>Saint-Petersburg</td>\n",
       "      <td>13:09:41</td>\n",
       "      <td>Friday</td>\n",
       "    </tr>\n",
       "    <tr>\n",
       "      <td>6</td>\n",
       "      <td>4CB90AA5</td>\n",
       "      <td>True</td>\n",
       "      <td>Roman Messer</td>\n",
       "      <td>dance</td>\n",
       "      <td>Moscow</td>\n",
       "      <td>13:00:07</td>\n",
       "      <td>Wednesday</td>\n",
       "    </tr>\n",
       "    <tr>\n",
       "      <td>7</td>\n",
       "      <td>F03E1C1F</td>\n",
       "      <td>Feeling This Way</td>\n",
       "      <td>Polina Griffith</td>\n",
       "      <td>dance</td>\n",
       "      <td>Moscow</td>\n",
       "      <td>20:47:49</td>\n",
       "      <td>Wednesday</td>\n",
       "    </tr>\n",
       "    <tr>\n",
       "      <td>8</td>\n",
       "      <td>8FA1D3BE</td>\n",
       "      <td>И вновь продолжается бой</td>\n",
       "      <td>NaN</td>\n",
       "      <td>ruspop</td>\n",
       "      <td>Moscow</td>\n",
       "      <td>09:17:40</td>\n",
       "      <td>Friday</td>\n",
       "    </tr>\n",
       "    <tr>\n",
       "      <td>9</td>\n",
       "      <td>E772D5C0</td>\n",
       "      <td>Pessimist</td>\n",
       "      <td>NaN</td>\n",
       "      <td>dance</td>\n",
       "      <td>Saint-Petersburg</td>\n",
       "      <td>21:20:49</td>\n",
       "      <td>Wednesday</td>\n",
       "    </tr>\n",
       "  </tbody>\n",
       "</table>\n",
       "</div>"
      ],
      "text/plain": [
       "     userID                        Track            artist   genre  \\\n",
       "0  FFB692EC            Kamigata To Boots  The Mass Missile    rock   \n",
       "1  55204538  Delayed Because of Accident  Andreas Rönnberg    rock   \n",
       "2    20EC38            Funiculì funiculà       Mario Lanza     pop   \n",
       "3  A3DD03C9        Dragons in the Sunset        Fire + Ice    folk   \n",
       "4  E2DC1FAE                  Soul People        Space Echo   dance   \n",
       "5  842029A1                    Преданная         IMPERVTOR  rusrap   \n",
       "6  4CB90AA5                         True      Roman Messer   dance   \n",
       "7  F03E1C1F             Feeling This Way   Polina Griffith   dance   \n",
       "8  8FA1D3BE     И вновь продолжается бой               NaN  ruspop   \n",
       "9  E772D5C0                    Pessimist               NaN   dance   \n",
       "\n",
       "             City        time        Day  \n",
       "0  Saint-Petersburg  20:28:33  Wednesday  \n",
       "1            Moscow  14:07:09     Friday  \n",
       "2  Saint-Petersburg  20:58:07  Wednesday  \n",
       "3  Saint-Petersburg  08:37:09     Monday  \n",
       "4            Moscow  08:34:34     Monday  \n",
       "5  Saint-Petersburg  13:09:41     Friday  \n",
       "6            Moscow  13:00:07  Wednesday  \n",
       "7            Moscow  20:47:49  Wednesday  \n",
       "8            Moscow  09:17:40     Friday  \n",
       "9  Saint-Petersburg  21:20:49  Wednesday  "
      ]
     },
     "metadata": {},
     "output_type": "display_data"
    }
   ],
   "source": [
    "display(df.head(10))# получение первых 10 строк таблицы df"
   ]
  },
  {
   "cell_type": "code",
   "execution_count": 4,
   "metadata": {
    "id": "DSf2kIb-_Zct",
    "trusted": true
   },
   "outputs": [
    {
     "name": "stdout",
     "output_type": "stream",
     "text": [
      "<class 'pandas.core.frame.DataFrame'>\n",
      "RangeIndex: 65079 entries, 0 to 65078\n",
      "Data columns (total 7 columns):\n",
      "  userID    65079 non-null object\n",
      "Track       63848 non-null object\n",
      "artist      57876 non-null object\n",
      "genre       63881 non-null object\n",
      "  City      65079 non-null object\n",
      "time        65079 non-null object\n",
      "Day         65079 non-null object\n",
      "dtypes: object(7)\n",
      "memory usage: 3.5+ MB\n"
     ]
    }
   ],
   "source": [
    "df.info()# получение общей информации о данных в таблице df"
   ]
  },
  {
   "cell_type": "markdown",
   "metadata": {
    "id": "TaQ2Iwbr_Zct"
   },
   "source": [
    "Итак, в таблице семь столбцов. Тип данных во всех столбцах — `object`.\n",
    "\n",
    "Согласно документации к данным:\n",
    "* `userID` — идентификатор пользователя;\n",
    "* `Track` — название трека;  \n",
    "* `artist` — имя исполнителя;\n",
    "* `genre` — название жанра;\n",
    "* `City` — город пользователя;\n",
    "* `time` — время начала прослушивания;\n",
    "* `Day` — день недели.\n",
    "\n",
    "В названиях колонок видны три нарушения стиля:\n",
    "1. Строчные буквы сочетаются с прописными.\n",
    "2. Встречаются пробелы.\n",
    "3. Некотрые названия колонок начинются с прописной буквы, а некотрые с строчной.\n",
    "\n",
    "\n",
    "\n",
    "Количество значений в столбцах различается. Значит, в данных есть пропущенные значения.\n"
   ]
  },
  {
   "cell_type": "markdown",
   "metadata": {
    "id": "MCB6-dXG_Zct"
   },
   "source": [
    "**Выводы**\n",
    "\n",
    "В каждой строке таблицы — данные о прослушанном треке. Часть колонок описывает саму композицию: название, исполнителя и жанр. Остальные данные рассказывают о пользователе: из какого он города, когда он слушал музыку. \n",
    "\n",
    "Предварительно можно утверждать, что, данных достаточно для проверки гипотез. Но встречаются пропуски в данных, а в названиях колонок — расхождения с хорошим стилем.\n",
    "\n",
    "Чтобы двигаться дальше, нужно устранить проблемы в данных."
   ]
  },
  {
   "cell_type": "markdown",
   "metadata": {
    "id": "SjYF6Ub9_Zct"
   },
   "source": [
    "## Предобработка данных\n",
    "Исправьте стиль в заголовках столбцов, исключите пропуски. Затем проверьте данные на дубликаты."
   ]
  },
  {
   "cell_type": "markdown",
   "metadata": {
    "id": "dIaKXr29_Zct"
   },
   "source": [
    "### Стиль заголовков\n",
    "Выведите на экран названия столбцов:"
   ]
  },
  {
   "cell_type": "code",
   "execution_count": 5,
   "metadata": {
    "id": "oKOTdF_Q_Zct",
    "trusted": true
   },
   "outputs": [
    {
     "data": {
      "text/plain": [
       "Index(['  userID', 'Track', 'artist', 'genre', '  City  ', 'time', 'Day'], dtype='object')"
      ]
     },
     "execution_count": 5,
     "metadata": {},
     "output_type": "execute_result"
    }
   ],
   "source": [
    "df.columns# перечень названий столбцов таблицы df"
   ]
  },
  {
   "cell_type": "markdown",
   "metadata": {
    "id": "zj5534cv_Zct"
   },
   "source": [
    "Приведите названия в соответствие с хорошим стилем:\n",
    "* несколько слов в названии запишите в «змеином_регистре»,\n",
    "* все символы сделайте строчными,\n",
    "* устраните пробелы.\n",
    "\n",
    "Для этого переименуйте колонки так:\n",
    "* `'  userID'` → `'user_id'`;\n",
    "* `'Track'` → `'track'`;\n",
    "* `'  City  '` → `'city'`;\n",
    "* `'Day'` → `'day'`."
   ]
  },
  {
   "cell_type": "code",
   "execution_count": 6,
   "metadata": {
    "id": "ISlFqs5y_Zct",
    "trusted": true
   },
   "outputs": [],
   "source": [
    "df = df.rename(columns={'  userID':'user_id','Track':'track','  City  ':'city','Day':'day'})# переименование столбцов"
   ]
  },
  {
   "cell_type": "markdown",
   "metadata": {
    "id": "1dqbh00J_Zct"
   },
   "source": [
    "Проверьте результат. Для этого ещё раз выведите на экран названия столбцов:"
   ]
  },
  {
   "cell_type": "code",
   "execution_count": 7,
   "metadata": {
    "id": "d4NOAmTW_Zct",
    "trusted": true
   },
   "outputs": [
    {
     "data": {
      "text/plain": [
       "Index(['user_id', 'track', 'artist', 'genre', 'city', 'time', 'day'], dtype='object')"
      ]
     },
     "execution_count": 7,
     "metadata": {},
     "output_type": "execute_result"
    }
   ],
   "source": [
    "df.columns# проверка результатов - перечень названий столбцов"
   ]
  },
  {
   "cell_type": "markdown",
   "metadata": {
    "id": "5ISfbcfY_Zct"
   },
   "source": [
    "### Пропуски значений\n",
    "Сначала посчитайте, сколько в таблице пропущенных значений. Для этого достаточно двух методов `pandas`:"
   ]
  },
  {
   "cell_type": "code",
   "execution_count": 8,
   "metadata": {
    "id": "RskX29qr_Zct",
    "trusted": true
   },
   "outputs": [
    {
     "data": {
      "text/plain": [
       "user_id       0\n",
       "track      1231\n",
       "artist     7203\n",
       "genre      1198\n",
       "city          0\n",
       "time          0\n",
       "day           0\n",
       "dtype: int64"
      ]
     },
     "execution_count": 8,
     "metadata": {},
     "output_type": "execute_result"
    }
   ],
   "source": [
    "df.isna().sum()# подсчёт пропусков"
   ]
  },
  {
   "cell_type": "markdown",
   "metadata": {
    "id": "qubhgnlO_Zct"
   },
   "source": [
    "Не все пропущенные значения влияют на исследование. Так в `track` и `artist` пропуски не важны для вашей работы. Достаточно заменить их явными обозначениями.\n",
    "\n",
    "Но пропуски в `genre` могут помешать сравнению музыкальных вкусов в Москве и Санкт-Петербурге. На практике было бы правильно установить причину пропусков и восстановить данные. Такой возможности нет в учебном проекте. Придётся:\n",
    "* заполнить и эти пропуски явными обозначениями,\n",
    "* оценить, насколько они повредят расчётам. "
   ]
  },
  {
   "cell_type": "markdown",
   "metadata": {
    "id": "fSv2laPA_Zct"
   },
   "source": [
    "Замените пропущенные значения в столбцах `track`, `artist` и `genre` на строку `'unknown'`. Для этого создайте список `columns_to_replace`, переберите его элементы циклом `for` и для каждого столбца выполните замену пропущенных значений:"
   ]
  },
  {
   "cell_type": "code",
   "execution_count": 9,
   "metadata": {
    "id": "KplB5qWs_Zct",
    "trusted": true
   },
   "outputs": [],
   "source": [
    "columns_to_replace = ['track', 'artist', 'genre']\n",
    "for column in columns_to_replace:\n",
    "    df[column] = df[column].fillna('unknown')\n",
    "# перебор названий столбцов в цикле и замена пропущенных значений на 'unknown'"
   ]
  },
  {
   "cell_type": "markdown",
   "metadata": {
    "id": "Ilsm-MZo_Zct"
   },
   "source": [
    "Убедитесь, что в таблице не осталось пропусков. Для этого ещё раз посчитайте пропущенные значения."
   ]
  },
  {
   "cell_type": "code",
   "execution_count": 10,
   "metadata": {
    "id": "Tq4nYRX4_Zct",
    "trusted": true
   },
   "outputs": [
    {
     "data": {
      "text/plain": [
       "user_id    0\n",
       "track      0\n",
       "artist     0\n",
       "genre      0\n",
       "city       0\n",
       "time       0\n",
       "day        0\n",
       "dtype: int64"
      ]
     },
     "execution_count": 10,
     "metadata": {},
     "output_type": "execute_result"
    }
   ],
   "source": [
    "df.isna().sum()# подсчёт пропусков"
   ]
  },
  {
   "cell_type": "markdown",
   "metadata": {
    "id": "BWKRtBJ3_Zct"
   },
   "source": [
    "### Дубликаты\n",
    "Посчитайте явные дубликаты в таблице одной командой:"
   ]
  },
  {
   "cell_type": "code",
   "execution_count": 11,
   "metadata": {
    "id": "36eES_S0_Zct",
    "trusted": true
   },
   "outputs": [
    {
     "data": {
      "text/plain": [
       "3826"
      ]
     },
     "execution_count": 11,
     "metadata": {},
     "output_type": "execute_result"
    }
   ],
   "source": [
    "df.duplicated().sum()# подсчёт явных дубликатов"
   ]
  },
  {
   "cell_type": "markdown",
   "metadata": {
    "id": "Ot25h6XR_Zct"
   },
   "source": [
    "Вызовите специальный метод `pandas`, чтобы удалить явные дубликаты:"
   ]
  },
  {
   "cell_type": "code",
   "execution_count": 12,
   "metadata": {
    "id": "exFHq6tt_Zct",
    "trusted": true
   },
   "outputs": [],
   "source": [
    "df = df.drop_duplicates().reset_index(drop=True)# удаление явных дубликатов (с удалением старых индексов и формированием новых)"
   ]
  },
  {
   "cell_type": "markdown",
   "metadata": {
    "id": "Im2YwBEG_Zct"
   },
   "source": [
    "Ещё раз посчитайте явные дубликаты в таблице — убедитесь, что полностью от них избавились:"
   ]
  },
  {
   "cell_type": "code",
   "execution_count": 13,
   "metadata": {
    "id": "-8PuNWQ0_Zct",
    "trusted": true
   },
   "outputs": [
    {
     "data": {
      "text/plain": [
       "0"
      ]
     },
     "execution_count": 13,
     "metadata": {},
     "output_type": "execute_result"
    }
   ],
   "source": [
    "df.duplicated().sum()# проверка на отсутствие дубликатов"
   ]
  },
  {
   "cell_type": "markdown",
   "metadata": {
    "id": "QlFBsxAr_Zct"
   },
   "source": [
    "Теперь избавьтесь от неявных дубликатов в колонке `genre`. Например, название одного и того же жанра может быть записано немного по-разному. Такие ошибки тоже повлияют на результат исследования."
   ]
  },
  {
   "cell_type": "markdown",
   "metadata": {
    "id": "eSjWwsOh_Zct"
   },
   "source": [
    "Выведите на экран список уникальных названий жанров, отсортированный в алфавитном порядке. Для этого:\n",
    "* извлеките нужный столбец датафрейма, \n",
    "* примените к нему метод сортировки,\n",
    "* для отсортированного столбца вызовите метод, который вернёт уникальные значения из столбца."
   ]
  },
  {
   "cell_type": "code",
   "execution_count": 14,
   "metadata": {
    "id": "JIUcqzZN_Zct",
    "scrolled": false,
    "trusted": true
   },
   "outputs": [
    {
     "data": {
      "text/plain": [
       "array(['rock', 'pop', 'folk', 'dance', 'rusrap', 'ruspop', 'world',\n",
       "       'electronic', 'unknown', 'alternative', 'children', 'rnb', 'hip',\n",
       "       'jazz', 'postrock', 'latin', 'classical', 'metal', 'reggae',\n",
       "       'tatar', 'blues', 'instrumental', 'rusrock', 'dnb', 'türk', 'post',\n",
       "       'country', 'psychedelic', 'conjazz', 'indie', 'posthardcore',\n",
       "       'local', 'avantgarde', 'punk', 'videogame', 'techno', 'house',\n",
       "       'christmas', 'melodic', 'caucasian', 'reggaeton', 'soundtrack',\n",
       "       'singer', 'ska', 'shanson', 'ambient', 'film', 'western', 'rap',\n",
       "       'beats', \"hard'n'heavy\", 'progmetal', 'minimal', 'contemporary',\n",
       "       'new', 'soul', 'holiday', 'german', 'tropical', 'fairytail',\n",
       "       'spiritual', 'urban', 'gospel', 'nujazz', 'folkmetal', 'trance',\n",
       "       'miscellaneous', 'anime', 'hardcore', 'progressive', 'chanson',\n",
       "       'numetal', 'vocal', 'estrada', 'russian', 'classicmetal',\n",
       "       'dubstep', 'club', 'deep', 'southern', 'black', 'folkrock',\n",
       "       'fitness', 'french', 'disco', 'religious', 'hiphop', 'drum',\n",
       "       'extrememetal', 'türkçe', 'experimental', 'easy', 'metalcore',\n",
       "       'modern', 'argentinetango', 'old', 'breaks', 'eurofolk',\n",
       "       'stonerrock', 'industrial', 'funk', 'jpop', 'middle', 'variété',\n",
       "       'other', 'adult', 'christian', 'gothic', 'international', 'muslim',\n",
       "       'relax', 'schlager', 'caribbean', 'ukrrock', 'nu', 'breakbeat',\n",
       "       'comedy', 'chill', 'newage', 'specialty', 'uzbek', 'k-pop',\n",
       "       'balkan', 'chinese', 'meditative', 'dub', 'power', 'death',\n",
       "       'grime', 'arabesk', 'romance', 'flamenco', 'leftfield', 'european',\n",
       "       'tech', 'newwave', 'dancehall', 'mpb', 'piano', 'top', 'bigroom',\n",
       "       'opera', 'celtic', 'tradjazz', 'acoustic', 'epicmetal', 'hip-hop',\n",
       "       'historisch', 'downbeat', 'downtempo', 'africa', 'audiobook',\n",
       "       'jewish', 'sängerportrait', 'deutschrock', 'eastern', 'action',\n",
       "       'future', 'electropop', 'folklore', 'bollywood', 'marschmusik',\n",
       "       'rnr', 'karaoke', 'indian', 'rancheras', 'электроника',\n",
       "       'afrikaans', 'tango', 'rhythm', 'sound', 'deutschspr', 'trip',\n",
       "       'lovers', 'choral', 'dancepop', 'podcasts', 'retro', 'smooth',\n",
       "       'mexican', 'brazilian', 'ïîï', 'mood', 'surf', 'author', 'gangsta',\n",
       "       'triphop', 'inspirational', 'idm', 'ethnic', 'bluegrass',\n",
       "       'broadway', 'animated', 'americana', 'karadeniz', 'rockabilly',\n",
       "       'colombian', 'self', 'hop', 'synthrock', 'sertanejo', 'japanese',\n",
       "       'canzone', 'swing', 'lounge', 'sport', 'korean', 'ragga',\n",
       "       'traditional', 'gitarre', 'frankreich', 'alternativepunk', 'emo',\n",
       "       'laiko', 'cantopop', 'glitch', 'documentary', 'rockalternative',\n",
       "       'thrash', 'hymn', 'oceania', 'rockother', 'popeurodance', 'dark',\n",
       "       'vi', 'grunge', 'hardstyle', 'samba', 'garage', 'soft', 'art',\n",
       "       'folktronica', 'entehno', 'mediterranean', 'chamber', 'cuban',\n",
       "       'taraftar', 'rockindie', 'gypsy', 'hardtechno', 'shoegazing',\n",
       "       'skarock', 'bossa', 'salsa', 'latino', 'worldbeat', 'malaysian',\n",
       "       'baile', 'ghazal', 'loungeelectronic', 'arabic', 'popelectronic',\n",
       "       'acid', 'kayokyoku', 'neoklassik', 'tribal', 'tanzorchester',\n",
       "       'native', 'independent', 'cantautori', 'handsup', 'poprussian',\n",
       "       'punjabi', 'synthpop', 'rave', 'französisch', 'quebecois',\n",
       "       'speech', 'soulful', 'teen', 'jam', 'ram', 'horror', 'scenic',\n",
       "       'orchestral', 'neue', 'roots', 'slow', 'jungle', 'indipop', 'axé',\n",
       "       'fado', 'showtunes', 'arena', 'irish', 'mandopop', 'forró',\n",
       "       'popdance', 'dirty', 'regional'], dtype=object)"
      ]
     },
     "execution_count": 14,
     "metadata": {},
     "output_type": "execute_result"
    }
   ],
   "source": [
    "df['genre'].unique()# Просмотр уникальных названий жанров"
   ]
  },
  {
   "cell_type": "markdown",
   "metadata": {
    "id": "qej-Qmuo_Zct"
   },
   "source": [
    "Просмотрите список и найдите неявные дубликаты названия `hiphop`. Это могут быть названия с ошибками или альтернативные названия того же жанра.\n",
    "\n",
    "Вы увидите следующие неявные дубликаты:\n",
    "* *hip*,\n",
    "* *hop*,\n",
    "* *hip-hop*.\n",
    "\n",
    "Чтобы очистить от них таблицу, напишите функцию `replace_wrong_genres()` с двумя параметрами: \n",
    "* `wrong_genres` — список дубликатов,\n",
    "* `correct_genre` — строка с правильным значением.\n",
    "\n",
    "Функция должна исправить колонку `genre` в таблице `df`: заменить каждое значение из списка `wrong_genres` на значение из `correct_genre`."
   ]
  },
  {
   "cell_type": "code",
   "execution_count": 15,
   "metadata": {
    "id": "ErNDkmns_Zct",
    "trusted": true
   },
   "outputs": [],
   "source": [
    "def replace_wrong_genres(wrong_genres, correct_genre):\n",
    "    for genre_name in wrong_genres:\n",
    "        df['genre'] = df['genre'].replace(wrong_genres, correct_genre)# Функция для замены неявных дубликатов"
   ]
  },
  {
   "cell_type": "markdown",
   "metadata": {
    "id": "aDoBJxbA_Zct"
   },
   "source": [
    "Вызовите `replace_wrong_genres()` и передайте ей такие аргументы, чтобы она устранила неявные дубликаты: вместо `hip`, `hop` и `hip-hop` в таблице должно быть значение `hiphop`:"
   ]
  },
  {
   "cell_type": "code",
   "execution_count": 16,
   "metadata": {
    "id": "YN5i2hpmSo09",
    "trusted": true
   },
   "outputs": [],
   "source": [
    "dublicat_name = ['hip', 'hop', 'hip-hop']\n",
    "right_name = 'hiphop'\n",
    "replace_wrong_genres(dublicat_name, right_name)# Устранение неявных дубликатов"
   ]
  },
  {
   "cell_type": "markdown",
   "metadata": {
    "id": "zQKF16_RG15m"
   },
   "source": [
    "Проверьте, что заменили неправильные названия:\n",
    "\n",
    "*   hip\n",
    "*   hop\n",
    "*   hip-hop\n",
    "\n",
    "Выведите отсортированный список уникальных значений столбца `genre`:"
   ]
  },
  {
   "cell_type": "code",
   "execution_count": 17,
   "metadata": {
    "id": "wvixALnFG15m",
    "trusted": true
   },
   "outputs": [
    {
     "data": {
      "text/plain": [
       "array(['rock', 'pop', 'folk', 'dance', 'rusrap', 'ruspop', 'world',\n",
       "       'electronic', 'unknown', 'alternative', 'children', 'rnb',\n",
       "       'hiphop', 'jazz', 'postrock', 'latin', 'classical', 'metal',\n",
       "       'reggae', 'tatar', 'blues', 'instrumental', 'rusrock', 'dnb',\n",
       "       'türk', 'post', 'country', 'psychedelic', 'conjazz', 'indie',\n",
       "       'posthardcore', 'local', 'avantgarde', 'punk', 'videogame',\n",
       "       'techno', 'house', 'christmas', 'melodic', 'caucasian',\n",
       "       'reggaeton', 'soundtrack', 'singer', 'ska', 'shanson', 'ambient',\n",
       "       'film', 'western', 'rap', 'beats', \"hard'n'heavy\", 'progmetal',\n",
       "       'minimal', 'contemporary', 'new', 'soul', 'holiday', 'german',\n",
       "       'tropical', 'fairytail', 'spiritual', 'urban', 'gospel', 'nujazz',\n",
       "       'folkmetal', 'trance', 'miscellaneous', 'anime', 'hardcore',\n",
       "       'progressive', 'chanson', 'numetal', 'vocal', 'estrada', 'russian',\n",
       "       'classicmetal', 'dubstep', 'club', 'deep', 'southern', 'black',\n",
       "       'folkrock', 'fitness', 'french', 'disco', 'religious', 'drum',\n",
       "       'extrememetal', 'türkçe', 'experimental', 'easy', 'metalcore',\n",
       "       'modern', 'argentinetango', 'old', 'breaks', 'eurofolk',\n",
       "       'stonerrock', 'industrial', 'funk', 'jpop', 'middle', 'variété',\n",
       "       'other', 'adult', 'christian', 'gothic', 'international', 'muslim',\n",
       "       'relax', 'schlager', 'caribbean', 'ukrrock', 'nu', 'breakbeat',\n",
       "       'comedy', 'chill', 'newage', 'specialty', 'uzbek', 'k-pop',\n",
       "       'balkan', 'chinese', 'meditative', 'dub', 'power', 'death',\n",
       "       'grime', 'arabesk', 'romance', 'flamenco', 'leftfield', 'european',\n",
       "       'tech', 'newwave', 'dancehall', 'mpb', 'piano', 'top', 'bigroom',\n",
       "       'opera', 'celtic', 'tradjazz', 'acoustic', 'epicmetal',\n",
       "       'historisch', 'downbeat', 'downtempo', 'africa', 'audiobook',\n",
       "       'jewish', 'sängerportrait', 'deutschrock', 'eastern', 'action',\n",
       "       'future', 'electropop', 'folklore', 'bollywood', 'marschmusik',\n",
       "       'rnr', 'karaoke', 'indian', 'rancheras', 'электроника',\n",
       "       'afrikaans', 'tango', 'rhythm', 'sound', 'deutschspr', 'trip',\n",
       "       'lovers', 'choral', 'dancepop', 'podcasts', 'retro', 'smooth',\n",
       "       'mexican', 'brazilian', 'ïîï', 'mood', 'surf', 'author', 'gangsta',\n",
       "       'triphop', 'inspirational', 'idm', 'ethnic', 'bluegrass',\n",
       "       'broadway', 'animated', 'americana', 'karadeniz', 'rockabilly',\n",
       "       'colombian', 'self', 'synthrock', 'sertanejo', 'japanese',\n",
       "       'canzone', 'swing', 'lounge', 'sport', 'korean', 'ragga',\n",
       "       'traditional', 'gitarre', 'frankreich', 'alternativepunk', 'emo',\n",
       "       'laiko', 'cantopop', 'glitch', 'documentary', 'rockalternative',\n",
       "       'thrash', 'hymn', 'oceania', 'rockother', 'popeurodance', 'dark',\n",
       "       'vi', 'grunge', 'hardstyle', 'samba', 'garage', 'soft', 'art',\n",
       "       'folktronica', 'entehno', 'mediterranean', 'chamber', 'cuban',\n",
       "       'taraftar', 'rockindie', 'gypsy', 'hardtechno', 'shoegazing',\n",
       "       'skarock', 'bossa', 'salsa', 'latino', 'worldbeat', 'malaysian',\n",
       "       'baile', 'ghazal', 'loungeelectronic', 'arabic', 'popelectronic',\n",
       "       'acid', 'kayokyoku', 'neoklassik', 'tribal', 'tanzorchester',\n",
       "       'native', 'independent', 'cantautori', 'handsup', 'poprussian',\n",
       "       'punjabi', 'synthpop', 'rave', 'französisch', 'quebecois',\n",
       "       'speech', 'soulful', 'teen', 'jam', 'ram', 'horror', 'scenic',\n",
       "       'orchestral', 'neue', 'roots', 'slow', 'jungle', 'indipop', 'axé',\n",
       "       'fado', 'showtunes', 'arena', 'irish', 'mandopop', 'forró',\n",
       "       'popdance', 'dirty', 'regional'], dtype=object)"
      ]
     },
     "execution_count": 17,
     "metadata": {},
     "output_type": "execute_result"
    }
   ],
   "source": [
    "df['genre'].unique()# Проверка на неявные дубликаты"
   ]
  },
  {
   "cell_type": "markdown",
   "metadata": {
    "id": "jz6a9-7HQUDd"
   },
   "source": [
    "**Выводы**\n",
    "\n",
    "Предобработка обнаружила три проблемы в данных:\n",
    "\n",
    "- нарушения в стиле заголовков,\n",
    "- пропущенные значения,\n",
    "- дубликаты — явные и неявные.\n",
    "\n",
    "Вы исправили заголовки, чтобы упростить работу с таблицей. Без дубликатов исследование станет более точным.\n",
    "\n",
    "Пропущенные значения вы заменили на `'unknown'`. Ещё предстоит увидеть, не повредят ли исследованию пропуски в колонке `genre`.\n",
    "\n",
    "Теперь можно перейти к проверке гипотез. "
   ]
  },
  {
   "cell_type": "markdown",
   "metadata": {
    "id": "WttZHXH0SqKk"
   },
   "source": [
    "## Проверка гипотез"
   ]
  },
  {
   "cell_type": "markdown",
   "metadata": {
    "id": "Im936VVi_Zcu"
   },
   "source": [
    "### Сравнение поведения пользователей двух столиц"
   ]
  },
  {
   "cell_type": "markdown",
   "metadata": {
    "id": "nwt_MuaL_Zcu"
   },
   "source": [
    "Первая гипотеза утверждает, что пользователи по-разному слушают музыку в Москве и Санкт-Петербурге. Проверьте это предположение по данным о трёх днях недели — понедельнике, среде и пятнице. Для этого:\n",
    "\n",
    "* Разделите пользователей Москвы и Санкт-Петербурга\n",
    "* Сравните, сколько треков послушала каждая группа пользователей в понедельник, среду и пятницу.\n"
   ]
  },
  {
   "cell_type": "markdown",
   "metadata": {
    "id": "8Dw_YMmT_Zcu"
   },
   "source": [
    "Для тренировки сначала выполните каждый из расчётов по отдельности. \n",
    "\n",
    "Оцените активность пользователей в каждом городе. Сгруппируйте данные по городу и посчитайте прослушивания в каждой группе.\n",
    "\n"
   ]
  },
  {
   "cell_type": "code",
   "execution_count": 18,
   "metadata": {
    "id": "0_Qs96oh_Zcu",
    "trusted": true
   },
   "outputs": [
    {
     "data": {
      "text/plain": [
       "city\n",
       "Moscow              42741\n",
       "Saint-Petersburg    18512\n",
       "Name: time, dtype: int64"
      ]
     },
     "execution_count": 18,
     "metadata": {},
     "output_type": "execute_result"
    }
   ],
   "source": [
    "df.groupby('city')['time'].count()# Подсчёт прослушиваний в каждом городе"
   ]
  },
  {
   "cell_type": "markdown",
   "metadata": {
    "id": "dzli3w8o_Zcu"
   },
   "source": [
    "В Москве прослушиваний больше, чем в Петербурге. Из этого не следует, что московские пользователи чаще слушают музыку. Просто самих пользователей в Москве больше.\n",
    "\n",
    "Теперь сгруппируйте данные по дню недели и подсчитайте прослушивания в понедельник, среду и пятницу. Учтите, что в данных есть информация только о прослушиваниях только за эти дни.\n"
   ]
  },
  {
   "cell_type": "code",
   "execution_count": 19,
   "metadata": {
    "id": "uZMKjiJz_Zcu",
    "trusted": true
   },
   "outputs": [
    {
     "data": {
      "text/plain": [
       "day\n",
       "Friday       21840\n",
       "Monday       21354\n",
       "Wednesday    18059\n",
       "Name: time, dtype: int64"
      ]
     },
     "execution_count": 19,
     "metadata": {},
     "output_type": "execute_result"
    }
   ],
   "source": [
    "df.groupby('day')['time'].count()# Подсчёт прослушиваний в каждый из трёх дней"
   ]
  },
  {
   "cell_type": "markdown",
   "metadata": {
    "id": "cC2tNrlL_Zcu"
   },
   "source": [
    "В среднем пользователи из двух городов менее активны по средам. Но картина может измениться, если рассмотреть каждый город в отдельности."
   ]
  },
  {
   "cell_type": "markdown",
   "metadata": {
    "id": "POzs8bGa_Zcu"
   },
   "source": [
    "Вы видели, как работает группировка по городу и по дням недели. Теперь напишите функцию, которая объединит два эти расчёта.\n",
    "\n",
    "Создайте функцию `number_tracks()`, которая посчитает прослушивания для заданного дня и города. Ей понадобятся два параметра:\n",
    "* день недели,\n",
    "* название города.\n",
    "\n",
    "В функции сохраните в переменную строки исходной таблицы, у которых значение:\n",
    "  * в колонке `day` равно параметру `day`,\n",
    "  * в колонке `city` равно параметру `city`.\n",
    "\n",
    "Для этого примените последовательную фильтрацию с логической индексацией.\n",
    "\n",
    "Затем посчитайте значения в столбце `user_id` получившейся таблицы. Результат сохраните в новую переменную. Верните эту переменную из функции."
   ]
  },
  {
   "cell_type": "code",
   "execution_count": 20,
   "metadata": {
    "id": "Nz3GdQB1_Zcu",
    "trusted": true
   },
   "outputs": [],
   "source": [
    "def number_tracks(day_week, city_name):# <создание функции number_tracks()>\n",
    "    track_list = df[df['day'] == day_week]\n",
    "    track_list = track_list[track_list['city'] == city_name]# Объявляется функция с двумя параметрами: day, city.\n",
    "# В переменной track_list сохраняются те строки таблицы df, для которых \n",
    "# значение в столбце 'day' равно параметру day и одновременно значение\n",
    "# в столбце 'city' равно параметру city (используйте последовательную фильтрацию\n",
    "# с помощью логической индексации).\n",
    "    track_list_count = track_list['user_id'].count()# В переменной track_list_count сохраняется число значений столбца 'user_id',\n",
    "# рассчитанное методом count() для таблицы track_list.\n",
    "# Функция возвращает число - значение track_list_count.\n",
    "    return track_list_count\n",
    "# Функция для подсчёта прослушиваний для конкретного города и дня.\n",
    "# С помощью последовательной фильтрации с логической индексацией она \n",
    "# сначала получит из исходной таблицы строки с нужным днём,\n",
    "# затем из результата отфильтрует строки с нужным городом,\n",
    "# методом count() посчитает количество значений в колонке user_id. \n",
    "# Это количество функция вернёт в качестве результата"
   ]
  },
  {
   "cell_type": "markdown",
   "metadata": {
    "id": "ytf7xFrFJQ2r"
   },
   "source": [
    "Вызовите `number_tracks()` шесть раз, меняя значение параметров — так, чтобы получить данные для каждого города в каждый из трёх дней."
   ]
  },
  {
   "cell_type": "code",
   "execution_count": 21,
   "metadata": {
    "id": "rJcRATNQ_Zcu",
    "trusted": true
   },
   "outputs": [
    {
     "data": {
      "text/plain": [
       "15740"
      ]
     },
     "execution_count": 21,
     "metadata": {},
     "output_type": "execute_result"
    }
   ],
   "source": [
    "number_tracks('Monday','Moscow')# количество прослушиваний в Москве по понедельникам"
   ]
  },
  {
   "cell_type": "code",
   "execution_count": 22,
   "metadata": {
    "id": "hq_ncZ5T_Zcu",
    "trusted": true
   },
   "outputs": [
    {
     "data": {
      "text/plain": [
       "5614"
      ]
     },
     "execution_count": 22,
     "metadata": {},
     "output_type": "execute_result"
    }
   ],
   "source": [
    "number_tracks('Monday','Saint-Petersburg')# количество прослушиваний в Санкт-Петербурге по понедельникам"
   ]
  },
  {
   "cell_type": "code",
   "execution_count": 23,
   "metadata": {
    "id": "_NTy2VPU_Zcu",
    "trusted": true
   },
   "outputs": [
    {
     "data": {
      "text/plain": [
       "11056"
      ]
     },
     "execution_count": 23,
     "metadata": {},
     "output_type": "execute_result"
    }
   ],
   "source": [
    "number_tracks('Wednesday','Moscow')# количество прослушиваний в Москве по средам"
   ]
  },
  {
   "cell_type": "code",
   "execution_count": 24,
   "metadata": {
    "id": "j2y3TAwo_Zcu",
    "trusted": true
   },
   "outputs": [
    {
     "data": {
      "text/plain": [
       "7003"
      ]
     },
     "execution_count": 24,
     "metadata": {},
     "output_type": "execute_result"
    }
   ],
   "source": [
    "number_tracks('Wednesday','Saint-Petersburg')# количество прослушиваний в Санкт-Петербурге по средам"
   ]
  },
  {
   "cell_type": "code",
   "execution_count": 25,
   "metadata": {
    "id": "vYDw5u_K_Zcu",
    "trusted": true
   },
   "outputs": [
    {
     "data": {
      "text/plain": [
       "15945"
      ]
     },
     "execution_count": 25,
     "metadata": {},
     "output_type": "execute_result"
    }
   ],
   "source": [
    "number_tracks('Friday','Moscow')# количество прослушиваний в Москве по пятницам"
   ]
  },
  {
   "cell_type": "code",
   "execution_count": 26,
   "metadata": {
    "id": "8_yzFtW3_Zcu",
    "scrolled": true,
    "trusted": true
   },
   "outputs": [
    {
     "data": {
      "text/plain": [
       "5895"
      ]
     },
     "execution_count": 26,
     "metadata": {},
     "output_type": "execute_result"
    }
   ],
   "source": [
    "number_tracks('Friday','Saint-Petersburg')# количество прослушиваний в Санкт-Петербурге по пятницам"
   ]
  },
  {
   "cell_type": "markdown",
   "metadata": {
    "id": "7QXffbO-_Zcu"
   },
   "source": [
    "Создайте c помощью конструктора `pd.DataFrame` таблицу, где\n",
    "* названия колонок — `['city', 'monday', 'wednesday', 'friday']`;\n",
    "* данные — результаты, которые вы получили с помощью `number_tracks`."
   ]
  },
  {
   "cell_type": "code",
   "execution_count": 27,
   "metadata": {
    "trusted": true
   },
   "outputs": [],
   "source": [
    "columns = ['city', 'monday', 'wednesday', 'friday']\n",
    "data = [\n",
    "    ['Moscow', number_tracks('Monday','Moscow'), number_tracks('Wednesday','Moscow'), number_tracks('Friday','Moscow')],\n",
    "    ['Saint-Petersburg', number_tracks('Monday','Saint-Petersburg'), number_tracks('Wednesday','Saint-Petersburg'), number_tracks('Friday','Saint-Petersburg')]\n",
    "]"
   ]
  },
  {
   "cell_type": "code",
   "execution_count": 28,
   "metadata": {
    "id": "APAcLpOr_Zcu",
    "trusted": true
   },
   "outputs": [
    {
     "data": {
      "text/html": [
       "<div>\n",
       "<style scoped>\n",
       "    .dataframe tbody tr th:only-of-type {\n",
       "        vertical-align: middle;\n",
       "    }\n",
       "\n",
       "    .dataframe tbody tr th {\n",
       "        vertical-align: top;\n",
       "    }\n",
       "\n",
       "    .dataframe thead th {\n",
       "        text-align: right;\n",
       "    }\n",
       "</style>\n",
       "<table border=\"1\" class=\"dataframe\">\n",
       "  <thead>\n",
       "    <tr style=\"text-align: right;\">\n",
       "      <th></th>\n",
       "      <th>city</th>\n",
       "      <th>monday</th>\n",
       "      <th>wednesday</th>\n",
       "      <th>friday</th>\n",
       "    </tr>\n",
       "  </thead>\n",
       "  <tbody>\n",
       "    <tr>\n",
       "      <td>0</td>\n",
       "      <td>Moscow</td>\n",
       "      <td>15740</td>\n",
       "      <td>11056</td>\n",
       "      <td>15945</td>\n",
       "    </tr>\n",
       "    <tr>\n",
       "      <td>1</td>\n",
       "      <td>Saint-Petersburg</td>\n",
       "      <td>5614</td>\n",
       "      <td>7003</td>\n",
       "      <td>5895</td>\n",
       "    </tr>\n",
       "  </tbody>\n",
       "</table>\n",
       "</div>"
      ],
      "text/plain": [
       "               city  monday  wednesday  friday\n",
       "0            Moscow   15740      11056   15945\n",
       "1  Saint-Petersburg    5614       7003    5895"
      ]
     },
     "metadata": {},
     "output_type": "display_data"
    }
   ],
   "source": [
    "table = pd.DataFrame(data=data, columns=columns)# Таблица с результатами\n",
    "display(table)"
   ]
  },
  {
   "cell_type": "markdown",
   "metadata": {
    "id": "-EgPIHYu_Zcu"
   },
   "source": [
    "**Выводы**\n",
    "\n",
    "Данные показывают разницу поведения пользователей:\n",
    "\n",
    "- В Москве пик прослушиваний приходится на понедельник и пятницу, а в среду заметен спад.\n",
    "- В Петербурге, наоборот, больше слушают музыку по средам. Активность в понедельник и пятницу здесь почти в равной мере уступает среде.\n",
    "\n",
    "Значит, данные говорят в пользу первой гипотезы."
   ]
  },
  {
   "cell_type": "markdown",
   "metadata": {
    "id": "atZAxtq4_Zcu"
   },
   "source": [
    "### Музыка в начале и в конце недели"
   ]
  },
  {
   "cell_type": "markdown",
   "metadata": {
    "id": "eXrQqXFH_Zcu"
   },
   "source": [
    "Согласно второй гипотезе, утром в понедельник в Москве преобладают одни жанры, а в Петербурге — другие. Так же и вечером пятницы преобладают разные жанры — в зависимости от города."
   ]
  },
  {
   "cell_type": "markdown",
   "metadata": {
    "id": "S8UcW6Hw_Zcu"
   },
   "source": [
    "Сохраните таблицы с данными в две переменные:\n",
    "* по Москве — в `moscow_general`;\n",
    "* по Санкт-Петербургу — в `spb_general`."
   ]
  },
  {
   "cell_type": "code",
   "execution_count": 29,
   "metadata": {
    "id": "qeaFfM_P_Zcu",
    "trusted": true
   },
   "outputs": [],
   "source": [
    "moscow_general = df[df['city'] == 'Moscow']# получение таблицы moscow_general из тех строк таблицы df, \n",
    "# для которых значение в столбце 'city' равно 'Moscow'"
   ]
  },
  {
   "cell_type": "code",
   "execution_count": 30,
   "metadata": {
    "id": "ORaVRKto_Zcu",
    "trusted": true
   },
   "outputs": [],
   "source": [
    "spb_general = df[df['city'] == 'Saint-Petersburg']# получение таблицы spb_general из тех строк таблицы df,\n",
    "# для которых значение в столбце 'city' равно 'Saint-Petersburg'"
   ]
  },
  {
   "cell_type": "markdown",
   "metadata": {
    "id": "MEJV-CX2_Zcu"
   },
   "source": [
    "Создайте функцию `genre_weekday()` с четырьмя параметрами:\n",
    "* таблица (датафрейм) с данными,\n",
    "* день недели,\n",
    "* начальная временная метка в формате 'hh:mm', \n",
    "* последняя временная метка в формате 'hh:mm'.\n",
    "\n",
    "Функция должна вернуть информацию о топ-10 жанров тех треков, которые прослушивали в указанный день, в промежутке между двумя отметками времени."
   ]
  },
  {
   "cell_type": "code",
   "execution_count": 31,
   "metadata": {
    "id": "laJT9BYl_Zcu",
    "trusted": true
   },
   "outputs": [],
   "source": [
    "# Объявление функции genre_weekday() с параметрами table, day, time1, time2,\n",
    "def genre_weekday(table, day, first_time, lost_time):\n",
    "    genre_df = table[table['day'] == day]\n",
    "    genre_df = genre_df[genre_df['time'] > first_time]\n",
    "    genre_df = genre_df[genre_df['time'] < lost_time]\n",
    "    \n",
    "    genre_df_count = genre_df.groupby('genre')['genre'].count()\n",
    "    genre_df_sorted = genre_df_count.sort_values(ascending=False)\n",
    "    genre_df_sorted = genre_df_sorted.head(10)\n",
    "    return genre_df_sorted\n",
    "# которая возвращает информацию о самых популярных жанрах в указанный день в\n",
    "# заданное время:\n",
    "# 1) в переменную genre_df сохраняются те строки переданного датафрейма table, для\n",
    "#    которых одновременно:\n",
    "#    - значение в столбце day равно значению аргумента day\n",
    "#    - значение в столбце time больше значения аргумента time1\n",
    "#    - значение в столбце time меньше значения аргумента time2\n",
    "#    Используйте последовательную фильтрацию с помощью логической индексации.\n",
    "# 2) сгруппировать датафрейм genre_df по столбцу genre, взять один из его\n",
    "#    столбцов и посчитать методом count() количество записей для каждого из\n",
    "#    присутствующих жанров, получившийся Series записать в переменную\n",
    "#    genre_df_count\n",
    "# 3) отсортировать genre_df_count по убыванию встречаемости и сохранить\n",
    "#    в переменную genre_df_sorted\n",
    "# 4) вернуть Series из 10 первых значений genre_df_sorted, это будут топ-10\n",
    "#    популярных жанров (в указанный день, в заданное время)"
   ]
  },
  {
   "cell_type": "markdown",
   "metadata": {
    "id": "la2s2_PF_Zcu"
   },
   "source": [
    "Cравните результаты функции `genre_weekday()` для Москвы и Санкт-Петербурга в понедельник утром (с 7:00 до 11:00) и в пятницу вечером (с 17:00 до 23:00):"
   ]
  },
  {
   "cell_type": "code",
   "execution_count": 32,
   "metadata": {
    "id": "yz7itPUQ_Zcu",
    "trusted": true
   },
   "outputs": [
    {
     "data": {
      "text/plain": [
       "genre\n",
       "pop            781\n",
       "dance          549\n",
       "electronic     480\n",
       "rock           474\n",
       "hiphop         286\n",
       "ruspop         186\n",
       "world          181\n",
       "rusrap         175\n",
       "alternative    164\n",
       "unknown        161\n",
       "Name: genre, dtype: int64"
      ]
     },
     "execution_count": 32,
     "metadata": {},
     "output_type": "execute_result"
    }
   ],
   "source": [
    "genre_weekday(moscow_general, 'Monday', '07:00:00', '11:00:00')# вызов функции для утра понедельника в Москве (вместо df — таблица moscow_general)\n",
    "# объекты, хранящие время, являются строками и сравниваются как строки\n",
    "# пример вызова: genre_weekday(moscow_general, 'Monday', '07:00', '11:00')"
   ]
  },
  {
   "cell_type": "code",
   "execution_count": 33,
   "metadata": {
    "id": "kwUcHPdy_Zcu",
    "trusted": true
   },
   "outputs": [
    {
     "data": {
      "text/plain": [
       "genre\n",
       "pop            218\n",
       "dance          182\n",
       "rock           162\n",
       "electronic     147\n",
       "hiphop          80\n",
       "ruspop          64\n",
       "alternative     58\n",
       "rusrap          55\n",
       "jazz            44\n",
       "classical       40\n",
       "Name: genre, dtype: int64"
      ]
     },
     "execution_count": 33,
     "metadata": {},
     "output_type": "execute_result"
    }
   ],
   "source": [
    "genre_weekday(spb_general, 'Monday', '07:00:00', '11:00:00')# вызов функции для утра понедельника в Петербурге (вместо df — таблица spb_general)"
   ]
  },
  {
   "cell_type": "code",
   "execution_count": 34,
   "metadata": {
    "id": "EzXVRE1o_Zcu",
    "trusted": true
   },
   "outputs": [
    {
     "data": {
      "text/plain": [
       "genre\n",
       "pop            713\n",
       "rock           517\n",
       "dance          495\n",
       "electronic     482\n",
       "hiphop         273\n",
       "world          208\n",
       "ruspop         170\n",
       "alternative    163\n",
       "classical      163\n",
       "rusrap         142\n",
       "Name: genre, dtype: int64"
      ]
     },
     "execution_count": 34,
     "metadata": {},
     "output_type": "execute_result"
    }
   ],
   "source": [
    "genre_weekday(moscow_general, 'Friday', '17:00:00', '23:00:00')# вызов функции для вечера пятницы в Москве"
   ]
  },
  {
   "cell_type": "code",
   "execution_count": 35,
   "metadata": {
    "id": "JZaEKu5v_Zcu",
    "trusted": true
   },
   "outputs": [
    {
     "data": {
      "text/plain": [
       "genre\n",
       "pop            211\n",
       "dance          192\n",
       "electronic     167\n",
       "rock           156\n",
       "hiphop         109\n",
       "classical       56\n",
       "alternative     55\n",
       "rusrap          55\n",
       "world           46\n",
       "ruspop          45\n",
       "Name: genre, dtype: int64"
      ]
     },
     "execution_count": 35,
     "metadata": {},
     "output_type": "execute_result"
    }
   ],
   "source": [
    "genre_weekday(spb_general, 'Friday', '07:00:00', '11:00:00')# вызов функции для вечера пятницы в Петербурге"
   ]
  },
  {
   "cell_type": "markdown",
   "metadata": {
    "id": "wrCe4MNX_Zcu"
   },
   "source": [
    "**Выводы**\n",
    "\n",
    "Если сравнить топ-10 жанров в понедельник утром, можно сделать такие выводы:\n",
    "\n",
    "1. В Москве и Петербурге слушают похожую музыку. Единственное отличие — в московский рейтинг вошёл жанр “world”, а в петербургский — джаз и классика.\n",
    "\n",
    "2. В Москве пропущенных значений оказалось так много, что значение `'unknown'` заняло десятое место среди самых популярных жанров. Значит, пропущенные значения занимают существенную долю в данных и угрожают достоверности исследования.\n",
    "\n",
    "Вечер пятницы не меняет эту картину. Некоторые жанры поднимаются немного выше, другие спускаются, но в целом топ-10 остаётся тем же самым.\n",
    "\n",
    "Таким образом, вторая гипотеза подтвердилась лишь частично:\n",
    "* Пользователи слушают похожую музыку в начале недели и в конце.\n",
    "* Разница между Москвой и Петербургом не слишком выражена. В Москве чаще слушают русскую популярную музыку, в Петербурге — джаз.\n",
    "\n",
    "Однако пропуски в данных ставят под сомнение этот результат. В Москве их так много, что рейтинг топ-10 мог бы выглядеть иначе, если бы не утерянные  данные о жанрах."
   ]
  },
  {
   "cell_type": "markdown",
   "metadata": {
    "id": "JolODAqr_Zcu"
   },
   "source": [
    "### Жанровые предпочтения в Москве и Петербурге\n",
    "\n",
    "Гипотеза: Петербург — столица рэпа, музыку этого жанра там слушают чаще, чем в Москве.  А Москва — город контрастов, в котором, тем не менее, преобладает поп-музыка."
   ]
  },
  {
   "cell_type": "markdown",
   "metadata": {
    "id": "DlegSvaT_Zcu"
   },
   "source": [
    "Сгруппируйте таблицу `moscow_general` по жанру и посчитайте прослушивания треков каждого жанра методом `count()`. Затем отсортируйте результат в порядке убывания и сохраните его в таблице `moscow_genres`."
   ]
  },
  {
   "cell_type": "code",
   "execution_count": 36,
   "metadata": {
    "id": "r19lIPke_Zcu",
    "trusted": true
   },
   "outputs": [],
   "source": [
    "moscow_genres = moscow_general.groupby('genre')['genre'].count().sort_values(ascending=False)\n",
    "# одной строкой: группировка таблицы moscow_general по столбцу 'genre', \n",
    "# подсчёт числа значений 'genre' в этой группировке методом count(), \n",
    "# сортировка получившегося Series в порядке убывания и сохранение в moscow_genres"
   ]
  },
  {
   "cell_type": "markdown",
   "metadata": {
    "id": "6kMuomxTiIr8"
   },
   "source": [
    "Выведите на экран первые десять строк `moscow_genres`:"
   ]
  },
  {
   "cell_type": "code",
   "execution_count": 37,
   "metadata": {
    "id": "WhCSooF8_Zcv",
    "trusted": true
   },
   "outputs": [
    {
     "data": {
      "text/plain": [
       "genre\n",
       "pop            5892\n",
       "dance          4435\n",
       "rock           3965\n",
       "electronic     3786\n",
       "hiphop         2096\n",
       "classical      1616\n",
       "world          1432\n",
       "alternative    1379\n",
       "ruspop         1372\n",
       "rusrap         1161\n",
       "Name: genre, dtype: int64"
      ]
     },
     "metadata": {},
     "output_type": "display_data"
    }
   ],
   "source": [
    "display(moscow_genres.head(10))# просмотр первых 10 строк moscow_genres"
   ]
  },
  {
   "cell_type": "markdown",
   "metadata": {
    "id": "cnPG2vnN_Zcv"
   },
   "source": [
    "Теперь повторите то же и для Петербурга.\n",
    "\n",
    "Сгруппируйте таблицу `spb_general` по жанру. Посчитайте прослушивания треков каждого жанра. Результат отсортируйте в порядке убывания и сохраните в таблице `spb_genres`:\n"
   ]
  },
  {
   "cell_type": "code",
   "execution_count": 38,
   "metadata": {
    "id": "gluLIpE7_Zcv",
    "trusted": true
   },
   "outputs": [],
   "source": [
    "spb_genres = spb_general.groupby('genre')['genre'].count().sort_values(ascending=False)\n",
    "# одной строкой: группировка таблицы spb_general по столбцу 'genre', \n",
    "# подсчёт числа значений 'genre' в этой группировке методом count(), \n",
    "# сортировка получившегося Series в порядке убывания и сохранение в spb_genres"
   ]
  },
  {
   "cell_type": "markdown",
   "metadata": {
    "id": "5Doha_ODgyQ8"
   },
   "source": [
    "Выведите на экран первые десять строк `spb_genres`:"
   ]
  },
  {
   "cell_type": "code",
   "execution_count": 39,
   "metadata": {
    "id": "uaGJHjVU_Zcv",
    "trusted": true
   },
   "outputs": [
    {
     "data": {
      "text/plain": [
       "genre\n",
       "pop            2431\n",
       "dance          1932\n",
       "rock           1879\n",
       "electronic     1736\n",
       "hiphop          960\n",
       "alternative     649\n",
       "classical       646\n",
       "rusrap          564\n",
       "ruspop          538\n",
       "world           515\n",
       "Name: genre, dtype: int64"
      ]
     },
     "metadata": {},
     "output_type": "display_data"
    }
   ],
   "source": [
    "display(spb_genres.head(10))\n",
    "# просмотр первых 10 строк spb_genres"
   ]
  },
  {
   "cell_type": "markdown",
   "metadata": {
    "id": "RY51YJYu_Zcv"
   },
   "source": [
    "**Выводы**"
   ]
  },
  {
   "cell_type": "markdown",
   "metadata": {
    "id": "nVhnJEm__Zcv"
   },
   "source": [
    "Гипотеза частично подтвердилась:\n",
    "* Поп-музыка — самый популярный жанр в Москве, как и предполагала гипотеза. Более того, в топ-10 жанров встречается близкий жанр — русская популярная музыка.\n",
    "* Вопреки ожиданиям, рэп одинаково популярен в Москве и Петербурге. \n"
   ]
  },
  {
   "cell_type": "markdown",
   "metadata": {
    "id": "ykKQ0N65_Zcv"
   },
   "source": [
    "## Итоги исследования"
   ]
  },
  {
   "cell_type": "markdown",
   "metadata": {
    "id": "tjUwbHb3_Zcv"
   },
   "source": [
    "Вы проверили три гипотезы и установили:\n",
    "\n",
    "1. День недели по-разному влияет на активность пользователей в Москве и Петербурге. \n",
    "\n",
    "Первая гипотеза полностью подтвердилась.\n",
    "\n",
    "2. Музыкальные предпочтения не сильно меняются в течение недели — будь то Москва или Петербург. Небольшие различия заметны в начале недели, по понедельникам:\n",
    "* в Москве слушают музыку жанра “world”,\n",
    "* в Петербурге — джаз и классику.\n",
    "\n",
    "Таким образом, вторая гипотеза подтвердилась лишь отчасти. Этот результат мог оказаться иным, если бы не пропуски в данных.\n",
    "\n",
    "3. Во вкусах пользователей Москвы и Петербурга больше общего чем различий. Вопреки ожиданиям, предпочтения жанров в Петербурге напоминают московские.\n",
    "\n",
    "Третья гипотеза не подтвердилась. Если различия в предпочтениях и существуют, на основной массе пользователей они незаметны.\n",
    "\n",
    "**На практике исследования содержат проверки статистических гипотез.**\n",
    "Из данных одного сервиса не всегда можно сделать вывод о всех жителях города.\n",
    "Проверки статистических гипотез покажут, насколько они достоверны, исходя из имеющихся данных. \n",
    "С методами проверок гипотез вы ещё познакомитесь в следующих темах."
   ]
  }
 ],
 "metadata": {
  "ExecuteTimeLog": [
   {
    "duration": 249,
    "start_time": "2022-01-25T08:12:09.665Z"
   },
   {
    "duration": 207,
    "start_time": "2022-01-25T08:12:17.759Z"
   },
   {
    "duration": 210,
    "start_time": "2022-01-25T08:12:22.927Z"
   },
   {
    "duration": 218,
    "start_time": "2022-01-25T08:14:47.590Z"
   },
   {
    "duration": 225,
    "start_time": "2022-01-25T08:15:51.299Z"
   },
   {
    "duration": 537,
    "start_time": "2022-01-25T08:15:58.445Z"
   },
   {
    "duration": 1702,
    "start_time": "2022-01-25T08:16:02.449Z"
   },
   {
    "duration": 129,
    "start_time": "2022-01-25T08:16:21.677Z"
   },
   {
    "duration": 144,
    "start_time": "2022-01-25T08:16:26.133Z"
   },
   {
    "duration": 17,
    "start_time": "2022-01-25T08:16:30.345Z"
   },
   {
    "duration": 24,
    "start_time": "2022-01-25T08:17:12.372Z"
   },
   {
    "duration": 397,
    "start_time": "2022-01-25T09:34:13.712Z"
   },
   {
    "duration": 845,
    "start_time": "2022-01-25T09:34:21.485Z"
   },
   {
    "duration": 207,
    "start_time": "2022-01-25T09:34:22.333Z"
   },
   {
    "duration": 43,
    "start_time": "2022-01-25T09:34:22.543Z"
   },
   {
    "duration": 43,
    "start_time": "2022-01-25T09:34:22.589Z"
   },
   {
    "duration": 6,
    "start_time": "2022-01-25T09:34:22.634Z"
   },
   {
    "duration": 122,
    "start_time": "2022-01-25T09:34:22.643Z"
   },
   {
    "duration": -86,
    "start_time": "2022-01-25T09:34:22.857Z"
   },
   {
    "duration": -85,
    "start_time": "2022-01-25T09:34:22.858Z"
   },
   {
    "duration": -84,
    "start_time": "2022-01-25T09:34:22.859Z"
   },
   {
    "duration": -83,
    "start_time": "2022-01-25T09:34:22.860Z"
   },
   {
    "duration": -85,
    "start_time": "2022-01-25T09:34:22.864Z"
   },
   {
    "duration": -84,
    "start_time": "2022-01-25T09:34:22.865Z"
   },
   {
    "duration": -82,
    "start_time": "2022-01-25T09:34:22.866Z"
   },
   {
    "duration": -83,
    "start_time": "2022-01-25T09:34:22.869Z"
   },
   {
    "duration": -91,
    "start_time": "2022-01-25T09:34:22.879Z"
   },
   {
    "duration": -89,
    "start_time": "2022-01-25T09:34:22.880Z"
   },
   {
    "duration": -88,
    "start_time": "2022-01-25T09:34:22.881Z"
   },
   {
    "duration": -88,
    "start_time": "2022-01-25T09:34:22.882Z"
   },
   {
    "duration": -89,
    "start_time": "2022-01-25T09:34:22.885Z"
   },
   {
    "duration": -88,
    "start_time": "2022-01-25T09:34:22.886Z"
   },
   {
    "duration": -87,
    "start_time": "2022-01-25T09:34:22.887Z"
   },
   {
    "duration": -87,
    "start_time": "2022-01-25T09:34:22.888Z"
   },
   {
    "duration": -85,
    "start_time": "2022-01-25T09:34:22.888Z"
   },
   {
    "duration": -84,
    "start_time": "2022-01-25T09:34:22.889Z"
   },
   {
    "duration": -84,
    "start_time": "2022-01-25T09:34:22.890Z"
   },
   {
    "duration": -32,
    "start_time": "2022-01-25T09:34:22.891Z"
   },
   {
    "duration": -32,
    "start_time": "2022-01-25T09:34:22.892Z"
   },
   {
    "duration": -31,
    "start_time": "2022-01-25T09:34:22.893Z"
   },
   {
    "duration": -29,
    "start_time": "2022-01-25T09:34:22.894Z"
   },
   {
    "duration": -29,
    "start_time": "2022-01-25T09:34:22.895Z"
   },
   {
    "duration": -29,
    "start_time": "2022-01-25T09:34:22.896Z"
   },
   {
    "duration": -29,
    "start_time": "2022-01-25T09:34:22.897Z"
   },
   {
    "duration": -28,
    "start_time": "2022-01-25T09:34:22.897Z"
   },
   {
    "duration": -27,
    "start_time": "2022-01-25T09:34:22.898Z"
   },
   {
    "duration": -26,
    "start_time": "2022-01-25T09:34:22.899Z"
   },
   {
    "duration": -25,
    "start_time": "2022-01-25T09:34:22.900Z"
   },
   {
    "duration": -23,
    "start_time": "2022-01-25T09:34:22.900Z"
   },
   {
    "duration": -22,
    "start_time": "2022-01-25T09:34:22.901Z"
   },
   {
    "duration": 147,
    "start_time": "2022-01-25T09:36:24.912Z"
   },
   {
    "duration": 127,
    "start_time": "2022-01-25T09:37:16.325Z"
   },
   {
    "duration": 33,
    "start_time": "2022-01-25T09:38:06.448Z"
   },
   {
    "duration": 29,
    "start_time": "2022-01-25T09:38:14.036Z"
   },
   {
    "duration": 5,
    "start_time": "2022-01-25T09:38:28.507Z"
   },
   {
    "duration": 34,
    "start_time": "2022-01-25T09:39:21.985Z"
   },
   {
    "duration": 13,
    "start_time": "2022-01-25T09:48:39.893Z"
   },
   {
    "duration": 54,
    "start_time": "2022-01-25T09:51:27.180Z"
   },
   {
    "duration": 9799,
    "start_time": "2022-01-25T10:18:05.895Z"
   },
   {
    "duration": -5,
    "start_time": "2022-01-25T10:18:15.711Z"
   },
   {
    "duration": 19,
    "start_time": "2022-01-25T10:18:39.494Z"
   },
   {
    "duration": 45,
    "start_time": "2022-01-25T10:18:41.430Z"
   },
   {
    "duration": 22,
    "start_time": "2022-01-25T10:19:21.392Z"
   },
   {
    "duration": 34,
    "start_time": "2022-01-25T10:19:24.095Z"
   },
   {
    "duration": 92,
    "start_time": "2022-01-25T10:20:16.180Z"
   },
   {
    "duration": 515,
    "start_time": "2022-01-25T10:20:37.396Z"
   },
   {
    "duration": 351,
    "start_time": "2022-01-25T10:21:29.686Z"
   },
   {
    "duration": 126,
    "start_time": "2022-01-25T10:21:38.640Z"
   },
   {
    "duration": 87,
    "start_time": "2022-01-25T10:21:42.702Z"
   },
   {
    "duration": 121,
    "start_time": "2022-01-25T10:23:49.708Z"
   },
   {
    "duration": 80,
    "start_time": "2022-01-25T10:23:51.805Z"
   },
   {
    "duration": 12,
    "start_time": "2022-01-25T10:24:56.793Z"
   },
   {
    "duration": 97,
    "start_time": "2022-01-25T10:29:07.613Z"
   },
   {
    "duration": 5,
    "start_time": "2022-01-25T10:29:15.661Z"
   },
   {
    "duration": 4,
    "start_time": "2022-01-25T10:29:18.219Z"
   },
   {
    "duration": 8267,
    "start_time": "2022-01-25T10:31:17.445Z"
   },
   {
    "duration": 9135,
    "start_time": "2022-01-25T10:32:19.060Z"
   },
   {
    "duration": 10,
    "start_time": "2022-01-25T10:32:35.706Z"
   },
   {
    "duration": 5,
    "start_time": "2022-01-25T10:35:30.075Z"
   },
   {
    "duration": 26,
    "start_time": "2022-01-25T10:35:35.583Z"
   },
   {
    "duration": 18,
    "start_time": "2022-01-25T10:35:42.376Z"
   },
   {
    "duration": 352,
    "start_time": "2022-01-25T12:18:53.913Z"
   },
   {
    "duration": 360,
    "start_time": "2022-01-25T12:19:02.244Z"
   },
   {
    "duration": 10,
    "start_time": "2022-01-25T12:19:14.083Z"
   },
   {
    "duration": 9,
    "start_time": "2022-01-25T12:19:23.012Z"
   },
   {
    "duration": 43,
    "start_time": "2022-01-25T13:22:31.346Z"
   },
   {
    "duration": 29,
    "start_time": "2022-01-25T13:22:36.940Z"
   },
   {
    "duration": 30,
    "start_time": "2022-01-25T13:22:39.614Z"
   },
   {
    "duration": 97,
    "start_time": "2022-01-25T13:23:09.036Z"
   },
   {
    "duration": 100,
    "start_time": "2022-01-25T13:23:10.888Z"
   },
   {
    "duration": 92,
    "start_time": "2022-01-25T13:23:12.919Z"
   },
   {
    "duration": 9,
    "start_time": "2022-01-25T13:23:18.398Z"
   },
   {
    "duration": 10,
    "start_time": "2022-01-25T13:23:23.378Z"
   },
   {
    "duration": 50,
    "start_time": "2022-01-25T13:23:24.857Z"
   },
   {
    "duration": 12,
    "start_time": "2022-01-25T13:23:27.816Z"
   },
   {
    "duration": 5,
    "start_time": "2022-01-25T13:23:54.379Z"
   },
   {
    "duration": 296,
    "start_time": "2022-01-25T13:23:54.387Z"
   },
   {
    "duration": 21,
    "start_time": "2022-01-25T13:23:54.703Z"
   },
   {
    "duration": 76,
    "start_time": "2022-01-25T13:23:54.729Z"
   },
   {
    "duration": 22,
    "start_time": "2022-01-25T13:23:54.808Z"
   },
   {
    "duration": 36,
    "start_time": "2022-01-25T13:23:54.836Z"
   },
   {
    "duration": 6,
    "start_time": "2022-01-25T13:23:54.877Z"
   },
   {
    "duration": 89,
    "start_time": "2022-01-25T13:23:54.886Z"
   },
   {
    "duration": 70,
    "start_time": "2022-01-25T13:23:54.980Z"
   },
   {
    "duration": 75,
    "start_time": "2022-01-25T13:23:55.054Z"
   },
   {
    "duration": 109,
    "start_time": "2022-01-25T13:23:55.132Z"
   },
   {
    "duration": 131,
    "start_time": "2022-01-25T13:23:55.243Z"
   },
   {
    "duration": 120,
    "start_time": "2022-01-25T13:23:55.378Z"
   },
   {
    "duration": 11,
    "start_time": "2022-01-25T13:23:55.501Z"
   },
   {
    "duration": 5,
    "start_time": "2022-01-25T13:23:55.515Z"
   },
   {
    "duration": 68,
    "start_time": "2022-01-25T13:23:55.523Z"
   },
   {
    "duration": 870,
    "start_time": "2022-01-25T13:28:40.558Z"
   },
   {
    "duration": 19,
    "start_time": "2022-01-25T13:34:19.873Z"
   },
   {
    "duration": 29,
    "start_time": "2022-01-25T13:35:14.654Z"
   },
   {
    "duration": 417,
    "start_time": "2022-01-25T13:59:38.072Z"
   },
   {
    "duration": 5,
    "start_time": "2022-01-25T14:00:40.852Z"
   },
   {
    "duration": 4,
    "start_time": "2022-01-25T14:01:08.534Z"
   },
   {
    "duration": 340,
    "start_time": "2022-01-25T14:01:13.222Z"
   },
   {
    "duration": 697,
    "start_time": "2022-01-25T14:01:19.125Z"
   },
   {
    "duration": 5,
    "start_time": "2022-01-25T14:06:23.579Z"
   },
   {
    "duration": 23,
    "start_time": "2022-01-25T14:06:26.573Z"
   },
   {
    "duration": 42,
    "start_time": "2022-01-25T14:08:00.432Z"
   },
   {
    "duration": 42,
    "start_time": "2022-01-25T14:08:02.849Z"
   },
   {
    "duration": 19,
    "start_time": "2022-01-25T14:08:04.751Z"
   },
   {
    "duration": 24,
    "start_time": "2022-01-25T14:08:06.349Z"
   },
   {
    "duration": 15,
    "start_time": "2022-01-25T14:08:07.948Z"
   },
   {
    "duration": 17,
    "start_time": "2022-01-25T14:10:27.282Z"
   },
   {
    "duration": 5,
    "start_time": "2022-01-25T14:10:32.643Z"
   },
   {
    "duration": 12,
    "start_time": "2022-01-25T14:10:35.775Z"
   },
   {
    "duration": 19,
    "start_time": "2022-01-25T14:10:37.361Z"
   },
   {
    "duration": 19,
    "start_time": "2022-01-25T14:10:39.109Z"
   },
   {
    "duration": 21,
    "start_time": "2022-01-25T14:10:41.583Z"
   },
   {
    "duration": 4,
    "start_time": "2022-01-25T14:11:08.975Z"
   },
   {
    "duration": 28,
    "start_time": "2022-01-25T14:11:20.388Z"
   },
   {
    "duration": 21,
    "start_time": "2022-01-25T14:11:24.632Z"
   },
   {
    "duration": 338,
    "start_time": "2022-01-25T14:16:46.245Z"
   },
   {
    "duration": 4,
    "start_time": "2022-01-25T14:18:14.754Z"
   },
   {
    "duration": 432,
    "start_time": "2022-01-25T14:18:17.193Z"
   },
   {
    "duration": 395,
    "start_time": "2022-01-25T14:18:30.498Z"
   },
   {
    "duration": 4,
    "start_time": "2022-01-25T14:18:48.501Z"
   },
   {
    "duration": 5,
    "start_time": "2022-01-25T14:18:50.028Z"
   },
   {
    "duration": 5,
    "start_time": "2022-01-25T14:18:52.794Z"
   },
   {
    "duration": 12,
    "start_time": "2022-01-25T14:19:09.872Z"
   },
   {
    "duration": 325,
    "start_time": "2022-01-25T14:21:04.990Z"
   },
   {
    "duration": 5,
    "start_time": "2022-01-25T14:21:11.216Z"
   },
   {
    "duration": 14,
    "start_time": "2022-01-25T14:21:12.940Z"
   },
   {
    "duration": 18,
    "start_time": "2022-01-25T14:21:14.997Z"
   },
   {
    "duration": 6,
    "start_time": "2022-01-25T14:21:27.075Z"
   },
   {
    "duration": 12,
    "start_time": "2022-01-25T14:21:28.612Z"
   },
   {
    "duration": 16,
    "start_time": "2022-01-25T14:21:29.059Z"
   },
   {
    "duration": 19,
    "start_time": "2022-01-25T14:21:29.472Z"
   },
   {
    "duration": 18,
    "start_time": "2022-01-25T14:21:29.882Z"
   },
   {
    "duration": 25,
    "start_time": "2022-01-25T14:21:30.279Z"
   },
   {
    "duration": 29,
    "start_time": "2022-01-25T14:21:31.246Z"
   },
   {
    "duration": 23,
    "start_time": "2022-01-25T14:23:32.953Z"
   },
   {
    "duration": 17,
    "start_time": "2022-01-25T14:23:36.641Z"
   },
   {
    "duration": 44,
    "start_time": "2022-01-25T14:23:48.574Z"
   },
   {
    "duration": 18,
    "start_time": "2022-01-25T14:23:51.960Z"
   },
   {
    "duration": 41,
    "start_time": "2022-01-25T14:24:11.180Z"
   },
   {
    "duration": 11,
    "start_time": "2022-01-25T14:24:11.615Z"
   },
   {
    "duration": 78,
    "start_time": "2022-01-25T14:24:29.928Z"
   },
   {
    "duration": 12,
    "start_time": "2022-01-25T14:24:31.113Z"
   },
   {
    "duration": 6,
    "start_time": "2022-01-25T14:24:39.072Z"
   },
   {
    "duration": 12,
    "start_time": "2022-01-25T14:24:39.981Z"
   },
   {
    "duration": 12,
    "start_time": "2022-01-25T14:24:40.486Z"
   },
   {
    "duration": 22,
    "start_time": "2022-01-25T14:24:40.991Z"
   },
   {
    "duration": 19,
    "start_time": "2022-01-25T14:24:41.531Z"
   },
   {
    "duration": 21,
    "start_time": "2022-01-25T14:24:42.396Z"
   },
   {
    "duration": 19,
    "start_time": "2022-01-25T14:24:43.131Z"
   },
   {
    "duration": 81,
    "start_time": "2022-01-25T14:24:44.932Z"
   },
   {
    "duration": 12,
    "start_time": "2022-01-25T14:24:45.539Z"
   },
   {
    "duration": 14,
    "start_time": "2022-01-25T14:27:22.195Z"
   },
   {
    "duration": 5,
    "start_time": "2022-01-25T14:27:25.292Z"
   },
   {
    "duration": 13,
    "start_time": "2022-01-25T14:27:27.610Z"
   },
   {
    "duration": 12,
    "start_time": "2022-01-25T14:27:28.043Z"
   },
   {
    "duration": 15,
    "start_time": "2022-01-25T14:27:40.025Z"
   },
   {
    "duration": 14,
    "start_time": "2022-01-25T14:27:45.936Z"
   },
   {
    "duration": 15,
    "start_time": "2022-01-25T14:27:52.085Z"
   },
   {
    "duration": 104,
    "start_time": "2022-01-25T14:40:34.845Z"
   },
   {
    "duration": 33,
    "start_time": "2022-01-25T14:40:35.126Z"
   },
   {
    "duration": 75,
    "start_time": "2022-01-25T14:40:38.055Z"
   },
   {
    "duration": 11,
    "start_time": "2022-01-25T14:40:38.335Z"
   },
   {
    "duration": 15,
    "start_time": "2022-01-25T14:40:40.265Z"
   },
   {
    "duration": 94,
    "start_time": "2022-01-25T14:40:55.935Z"
   },
   {
    "duration": 13,
    "start_time": "2022-01-25T14:40:56.848Z"
   },
   {
    "duration": 8,
    "start_time": "2022-01-25T14:50:19.715Z"
   },
   {
    "duration": 8,
    "start_time": "2022-01-25T14:50:20.110Z"
   },
   {
    "duration": 12,
    "start_time": "2022-01-25T14:50:40.681Z"
   },
   {
    "duration": 27,
    "start_time": "2022-01-25T14:51:40.171Z"
   },
   {
    "duration": 29,
    "start_time": "2022-01-25T14:51:55.494Z"
   },
   {
    "duration": 45,
    "start_time": "2022-01-25T17:18:04.823Z"
   },
   {
    "duration": 4,
    "start_time": "2022-01-25T17:18:21.182Z"
   },
   {
    "duration": 4,
    "start_time": "2022-01-25T17:21:41.934Z"
   },
   {
    "duration": 4,
    "start_time": "2022-01-25T17:21:45.245Z"
   },
   {
    "duration": 4,
    "start_time": "2022-01-25T17:23:49.481Z"
   },
   {
    "duration": 5,
    "start_time": "2022-01-25T17:23:51.996Z"
   },
   {
    "duration": 43,
    "start_time": "2022-01-25T17:25:55.957Z"
   },
   {
    "duration": 208,
    "start_time": "2022-01-25T17:26:14.836Z"
   },
   {
    "duration": 129,
    "start_time": "2022-01-25T17:26:51.416Z"
   },
   {
    "duration": 4,
    "start_time": "2022-01-25T17:27:09.455Z"
   },
   {
    "duration": 126,
    "start_time": "2022-01-25T17:27:10.549Z"
   },
   {
    "duration": 4,
    "start_time": "2022-01-25T17:29:03.270Z"
   },
   {
    "duration": 130,
    "start_time": "2022-01-25T17:29:04.040Z"
   },
   {
    "duration": 137,
    "start_time": "2022-01-25T17:29:04.629Z"
   },
   {
    "duration": 139,
    "start_time": "2022-01-25T17:29:05.110Z"
   },
   {
    "duration": 147,
    "start_time": "2022-01-25T17:29:05.560Z"
   },
   {
    "duration": 148,
    "start_time": "2022-01-25T17:29:17.624Z"
   },
   {
    "duration": 131,
    "start_time": "2022-01-25T17:29:18.476Z"
   },
   {
    "duration": 134,
    "start_time": "2022-01-25T17:29:32.148Z"
   },
   {
    "duration": 132,
    "start_time": "2022-01-25T17:29:35.007Z"
   },
   {
    "duration": 545,
    "start_time": "2022-01-25T17:29:56.945Z"
   },
   {
    "duration": 147,
    "start_time": "2022-01-25T17:29:57.492Z"
   },
   {
    "duration": 18,
    "start_time": "2022-01-25T17:29:57.641Z"
   },
   {
    "duration": 50,
    "start_time": "2022-01-25T17:29:57.661Z"
   },
   {
    "duration": 12,
    "start_time": "2022-01-25T17:29:57.713Z"
   },
   {
    "duration": 50,
    "start_time": "2022-01-25T17:29:57.727Z"
   },
   {
    "duration": 23,
    "start_time": "2022-01-25T17:29:57.779Z"
   },
   {
    "duration": 54,
    "start_time": "2022-01-25T17:29:57.804Z"
   },
   {
    "duration": 29,
    "start_time": "2022-01-25T17:29:57.861Z"
   },
   {
    "duration": 37,
    "start_time": "2022-01-25T17:29:57.892Z"
   },
   {
    "duration": 79,
    "start_time": "2022-01-25T17:29:57.931Z"
   },
   {
    "duration": 76,
    "start_time": "2022-01-25T17:29:58.012Z"
   },
   {
    "duration": 55,
    "start_time": "2022-01-25T17:29:58.096Z"
   },
   {
    "duration": 7,
    "start_time": "2022-01-25T17:29:58.152Z"
   },
   {
    "duration": 10,
    "start_time": "2022-01-25T17:29:58.161Z"
   },
   {
    "duration": 33,
    "start_time": "2022-01-25T17:29:58.173Z"
   },
   {
    "duration": 7,
    "start_time": "2022-01-25T17:29:58.208Z"
   },
   {
    "duration": 21,
    "start_time": "2022-01-25T17:29:58.217Z"
   },
   {
    "duration": 13,
    "start_time": "2022-01-25T17:29:58.240Z"
   },
   {
    "duration": 6,
    "start_time": "2022-01-25T17:29:58.255Z"
   },
   {
    "duration": 64,
    "start_time": "2022-01-25T17:29:58.263Z"
   },
   {
    "duration": 22,
    "start_time": "2022-01-25T17:29:58.328Z"
   },
   {
    "duration": 33,
    "start_time": "2022-01-25T17:29:58.352Z"
   },
   {
    "duration": 17,
    "start_time": "2022-01-25T17:29:58.386Z"
   },
   {
    "duration": 34,
    "start_time": "2022-01-25T17:29:58.404Z"
   },
   {
    "duration": 22,
    "start_time": "2022-01-25T17:29:58.440Z"
   },
   {
    "duration": 67,
    "start_time": "2022-01-25T17:29:58.465Z"
   },
   {
    "duration": 8,
    "start_time": "2022-01-25T17:29:58.534Z"
   },
   {
    "duration": 19,
    "start_time": "2022-01-25T17:29:58.544Z"
   },
   {
    "duration": 29,
    "start_time": "2022-01-25T17:29:58.564Z"
   },
   {
    "duration": 15,
    "start_time": "2022-01-25T17:29:58.595Z"
   },
   {
    "duration": 328,
    "start_time": "2022-01-25T17:29:58.612Z"
   },
   {
    "duration": -83,
    "start_time": "2022-01-25T17:29:59.025Z"
   },
   {
    "duration": -83,
    "start_time": "2022-01-25T17:29:59.026Z"
   },
   {
    "duration": -92,
    "start_time": "2022-01-25T17:29:59.036Z"
   },
   {
    "duration": -92,
    "start_time": "2022-01-25T17:29:59.038Z"
   },
   {
    "duration": -93,
    "start_time": "2022-01-25T17:29:59.039Z"
   },
   {
    "duration": -93,
    "start_time": "2022-01-25T17:29:59.040Z"
   },
   {
    "duration": -93,
    "start_time": "2022-01-25T17:29:59.041Z"
   },
   {
    "duration": 4,
    "start_time": "2022-01-25T17:31:17.895Z"
   },
   {
    "duration": 278,
    "start_time": "2022-01-25T17:31:19.318Z"
   },
   {
    "duration": 4,
    "start_time": "2022-01-25T17:33:43.125Z"
   },
   {
    "duration": 281,
    "start_time": "2022-01-25T17:33:43.867Z"
   },
   {
    "duration": 5,
    "start_time": "2022-01-25T17:34:57.017Z"
   },
   {
    "duration": 20,
    "start_time": "2022-01-25T17:34:57.878Z"
   },
   {
    "duration": 16,
    "start_time": "2022-01-25T17:35:00.515Z"
   },
   {
    "duration": 19,
    "start_time": "2022-01-25T17:35:00.960Z"
   },
   {
    "duration": 16,
    "start_time": "2022-01-25T17:35:01.492Z"
   },
   {
    "duration": 3,
    "start_time": "2022-01-25T17:38:41.665Z"
   },
   {
    "duration": 158,
    "start_time": "2022-01-25T17:38:41.670Z"
   },
   {
    "duration": 11,
    "start_time": "2022-01-25T17:38:41.830Z"
   },
   {
    "duration": 27,
    "start_time": "2022-01-25T17:38:41.842Z"
   },
   {
    "duration": 7,
    "start_time": "2022-01-25T17:38:41.871Z"
   },
   {
    "duration": 41,
    "start_time": "2022-01-25T17:38:41.879Z"
   },
   {
    "duration": 4,
    "start_time": "2022-01-25T17:38:41.921Z"
   },
   {
    "duration": 27,
    "start_time": "2022-01-25T17:38:41.927Z"
   },
   {
    "duration": 19,
    "start_time": "2022-01-25T17:38:41.957Z"
   },
   {
    "duration": 39,
    "start_time": "2022-01-25T17:38:41.979Z"
   },
   {
    "duration": 60,
    "start_time": "2022-01-25T17:38:42.020Z"
   },
   {
    "duration": 80,
    "start_time": "2022-01-25T17:38:42.081Z"
   },
   {
    "duration": 64,
    "start_time": "2022-01-25T17:38:42.163Z"
   },
   {
    "duration": 7,
    "start_time": "2022-01-25T17:38:42.228Z"
   },
   {
    "duration": 8,
    "start_time": "2022-01-25T17:38:42.237Z"
   },
   {
    "duration": 18,
    "start_time": "2022-01-25T17:38:42.246Z"
   },
   {
    "duration": 7,
    "start_time": "2022-01-25T17:38:42.266Z"
   },
   {
    "duration": 30,
    "start_time": "2022-01-25T17:38:42.275Z"
   },
   {
    "duration": 13,
    "start_time": "2022-01-25T17:38:42.306Z"
   },
   {
    "duration": 5,
    "start_time": "2022-01-25T17:38:42.320Z"
   },
   {
    "duration": 24,
    "start_time": "2022-01-25T17:38:42.326Z"
   },
   {
    "duration": 15,
    "start_time": "2022-01-25T17:38:42.351Z"
   },
   {
    "duration": 40,
    "start_time": "2022-01-25T17:38:42.368Z"
   },
   {
    "duration": 14,
    "start_time": "2022-01-25T17:38:42.410Z"
   },
   {
    "duration": 16,
    "start_time": "2022-01-25T17:38:42.426Z"
   },
   {
    "duration": 17,
    "start_time": "2022-01-25T17:38:42.444Z"
   },
   {
    "duration": 104,
    "start_time": "2022-01-25T17:38:42.464Z"
   },
   {
    "duration": 7,
    "start_time": "2022-01-25T17:38:42.570Z"
   },
   {
    "duration": 25,
    "start_time": "2022-01-25T17:38:42.579Z"
   },
   {
    "duration": 12,
    "start_time": "2022-01-25T17:38:42.606Z"
   },
   {
    "duration": 11,
    "start_time": "2022-01-25T17:38:42.619Z"
   },
   {
    "duration": 35,
    "start_time": "2022-01-25T17:38:42.632Z"
   },
   {
    "duration": 13,
    "start_time": "2022-01-25T17:38:42.668Z"
   },
   {
    "duration": 25,
    "start_time": "2022-01-25T17:38:42.683Z"
   },
   {
    "duration": 13,
    "start_time": "2022-01-25T17:38:42.710Z"
   },
   {
    "duration": 2,
    "start_time": "2022-01-25T17:38:42.725Z"
   },
   {
    "duration": 13,
    "start_time": "2022-01-25T17:38:42.729Z"
   },
   {
    "duration": 7,
    "start_time": "2022-01-25T17:38:42.744Z"
   },
   {
    "duration": 11,
    "start_time": "2022-01-25T17:38:42.753Z"
   },
   {
    "duration": 44,
    "start_time": "2022-01-25T17:52:09.892Z"
   },
   {
    "duration": 156,
    "start_time": "2022-01-25T17:52:49.935Z"
   },
   {
    "duration": 8,
    "start_time": "2022-01-25T17:53:03.557Z"
   },
   {
    "duration": 63,
    "start_time": "2022-01-25T17:53:04.975Z"
   },
   {
    "duration": 9,
    "start_time": "2022-01-25T17:53:32.343Z"
   },
   {
    "duration": 9,
    "start_time": "2022-01-25T17:53:39.090Z"
   },
   {
    "duration": 9,
    "start_time": "2022-01-25T17:53:41.554Z"
   },
   {
    "duration": 10,
    "start_time": "2022-01-25T17:53:43.757Z"
   },
   {
    "duration": 9,
    "start_time": "2022-01-25T17:53:44.799Z"
   },
   {
    "duration": 45,
    "start_time": "2022-01-25T17:53:45.790Z"
   },
   {
    "duration": 48,
    "start_time": "2022-01-25T17:53:56.950Z"
   },
   {
    "duration": 6,
    "start_time": "2022-01-25T17:57:15.449Z"
   },
   {
    "duration": 44,
    "start_time": "2022-01-25T17:57:16.263Z"
   },
   {
    "duration": 6,
    "start_time": "2022-01-25T17:57:21.616Z"
   },
   {
    "duration": 6,
    "start_time": "2022-01-25T17:57:34.673Z"
   },
   {
    "duration": 8,
    "start_time": "2022-01-25T17:57:39.239Z"
   },
   {
    "duration": 5,
    "start_time": "2022-01-25T17:57:39.901Z"
   },
   {
    "duration": 128,
    "start_time": "2022-01-25T17:58:24.373Z"
   },
   {
    "duration": 7,
    "start_time": "2022-01-25T17:58:27.041Z"
   },
   {
    "duration": 5,
    "start_time": "2022-01-25T17:58:27.826Z"
   },
   {
    "duration": 714,
    "start_time": "2022-02-02T18:08:59.041Z"
   },
   {
    "duration": 159,
    "start_time": "2022-02-02T18:08:59.757Z"
   },
   {
    "duration": 19,
    "start_time": "2022-02-02T18:08:59.919Z"
   },
   {
    "duration": 28,
    "start_time": "2022-02-02T18:08:59.941Z"
   },
   {
    "duration": 6,
    "start_time": "2022-02-02T18:08:59.971Z"
   },
   {
    "duration": 51,
    "start_time": "2022-02-02T18:08:59.979Z"
   },
   {
    "duration": 12,
    "start_time": "2022-02-02T18:09:00.032Z"
   },
   {
    "duration": 44,
    "start_time": "2022-02-02T18:09:00.047Z"
   },
   {
    "duration": 22,
    "start_time": "2022-02-02T18:09:00.093Z"
   },
   {
    "duration": 38,
    "start_time": "2022-02-02T18:09:00.117Z"
   },
   {
    "duration": 89,
    "start_time": "2022-02-02T18:09:00.156Z"
   },
   {
    "duration": 68,
    "start_time": "2022-02-02T18:09:00.247Z"
   },
   {
    "duration": 57,
    "start_time": "2022-02-02T18:09:00.317Z"
   },
   {
    "duration": 8,
    "start_time": "2022-02-02T18:09:00.376Z"
   },
   {
    "duration": 24,
    "start_time": "2022-02-02T18:09:00.386Z"
   },
   {
    "duration": 27,
    "start_time": "2022-02-02T18:09:00.412Z"
   },
   {
    "duration": 14,
    "start_time": "2022-02-02T18:09:00.441Z"
   },
   {
    "duration": 22,
    "start_time": "2022-02-02T18:09:00.456Z"
   },
   {
    "duration": 19,
    "start_time": "2022-02-02T18:09:00.480Z"
   },
   {
    "duration": 20,
    "start_time": "2022-02-02T18:09:00.501Z"
   },
   {
    "duration": 45,
    "start_time": "2022-02-02T18:09:00.523Z"
   },
   {
    "duration": 31,
    "start_time": "2022-02-02T18:09:00.569Z"
   },
   {
    "duration": 36,
    "start_time": "2022-02-02T18:09:00.603Z"
   },
   {
    "duration": 33,
    "start_time": "2022-02-02T18:09:00.641Z"
   },
   {
    "duration": 34,
    "start_time": "2022-02-02T18:09:00.676Z"
   },
   {
    "duration": 24,
    "start_time": "2022-02-02T18:09:00.712Z"
   },
   {
    "duration": 97,
    "start_time": "2022-02-02T18:09:00.738Z"
   },
   {
    "duration": 8,
    "start_time": "2022-02-02T18:09:00.838Z"
   },
   {
    "duration": 25,
    "start_time": "2022-02-02T18:09:00.848Z"
   },
   {
    "duration": 11,
    "start_time": "2022-02-02T18:09:00.875Z"
   },
   {
    "duration": 9,
    "start_time": "2022-02-02T18:09:00.888Z"
   },
   {
    "duration": 44,
    "start_time": "2022-02-02T18:09:00.899Z"
   },
   {
    "duration": 21,
    "start_time": "2022-02-02T18:09:00.945Z"
   },
   {
    "duration": 23,
    "start_time": "2022-02-02T18:09:00.969Z"
   },
   {
    "duration": 16,
    "start_time": "2022-02-02T18:09:00.994Z"
   },
   {
    "duration": 10,
    "start_time": "2022-02-02T18:09:01.013Z"
   },
   {
    "duration": 18,
    "start_time": "2022-02-02T18:09:01.025Z"
   },
   {
    "duration": 30,
    "start_time": "2022-02-02T18:09:01.045Z"
   },
   {
    "duration": 7,
    "start_time": "2022-02-02T18:09:01.088Z"
   }
  ],
  "colab": {
   "collapsed_sections": [
    "E0vqbgi9ay0H",
    "VUC88oWjTJw2"
   ],
   "name": "yandex_music_project_2021.2.ipynb",
   "provenance": []
  },
  "kernelspec": {
   "display_name": "Python 3",
   "language": "python",
   "name": "python3"
  },
  "language_info": {
   "codemirror_mode": {
    "name": "ipython",
    "version": 3
   },
   "file_extension": ".py",
   "mimetype": "text/x-python",
   "name": "python",
   "nbconvert_exporter": "python",
   "pygments_lexer": "ipython3",
   "version": "3.7.8"
  },
  "toc": {
   "base_numbering": 1,
   "nav_menu": {},
   "number_sections": true,
   "sideBar": true,
   "skip_h1_title": true,
   "title_cell": "Table of Contents",
   "title_sidebar": "Contents",
   "toc_cell": false,
   "toc_position": {
    "height": "calc(100% - 180px)",
    "left": "10px",
    "top": "150px",
    "width": "328px"
   },
   "toc_section_display": true,
   "toc_window_display": true
  }
 },
 "nbformat": 4,
 "nbformat_minor": 1
}
