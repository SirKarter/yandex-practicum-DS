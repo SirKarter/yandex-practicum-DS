{
 "cells": [
  {
   "cell_type": "markdown",
   "metadata": {
    "toc": true
   },
   "source": [
    "<h1>Содержание<span class=\"tocSkip\"></span></h1>\n",
    "<div class=\"toc\"><ul class=\"toc-item\"><li><span><a href=\"#Изучение-данных-из-файла\" data-toc-modified-id=\"Изучение-данных-из-файла-1\"><span class=\"toc-item-num\">1&nbsp;&nbsp;</span>Изучение данных из файла</a></span><ul class=\"toc-item\"><li><span><a href=\"#Вывод\" data-toc-modified-id=\"Вывод-1.1\"><span class=\"toc-item-num\">1.1&nbsp;&nbsp;</span>Вывод</a></span></li></ul></li><li><span><a href=\"#Предобработка-данных\" data-toc-modified-id=\"Предобработка-данных-2\"><span class=\"toc-item-num\">2&nbsp;&nbsp;</span>Предобработка данных</a></span></li><li><span><a href=\"#Расчёты-и-добавление-результатов-в-таблицу\" data-toc-modified-id=\"Расчёты-и-добавление-результатов-в-таблицу-3\"><span class=\"toc-item-num\">3&nbsp;&nbsp;</span>Расчёты и добавление результатов в таблицу</a></span></li><li><span><a href=\"#Исследовательский-анализ-данных\" data-toc-modified-id=\"Исследовательский-анализ-данных-4\"><span class=\"toc-item-num\">4&nbsp;&nbsp;</span>Исследовательский анализ данных</a></span></li><li><span><a href=\"#Общий-вывод\" data-toc-modified-id=\"Общий-вывод-5\"><span class=\"toc-item-num\">5&nbsp;&nbsp;</span>Общий вывод</a></span></li><li><span><a href=\"#Чек-лист-готовности-проекта\" data-toc-modified-id=\"Чек-лист-готовности-проекта-6\"><span class=\"toc-item-num\">6&nbsp;&nbsp;</span>Чек-лист готовности проекта</a></span></li></ul></div>"
   ]
  },
  {
   "cell_type": "markdown",
   "metadata": {},
   "source": [
    "# Исследование объявлений о продаже квартир\n",
    "\n",
    "В вашем распоряжении данные сервиса Яндекc Недвижимость — архив объявлений о продаже квартир в Санкт-Петербурге и соседних населённых пунктах за несколько лет. Нужно научиться определять рыночную стоимость объектов недвижимости. Ваша задача — установить параметры. Это позволит построить автоматизированную систему: она отследит аномалии и мошенническую деятельность. \n",
    "\n",
    "По каждой квартире на продажу доступны два вида данных. Первые вписаны пользователем, вторые получены автоматически на основе картографических данных. Например, расстояние до центра, аэропорта, ближайшего парка и водоёма. "
   ]
  },
  {
   "cell_type": "markdown",
   "metadata": {},
   "source": [
    "## Изучение данных из файла"
   ]
  },
  {
   "cell_type": "code",
   "execution_count": 1,
   "metadata": {},
   "outputs": [],
   "source": [
    "import pandas as pd\n",
    "import datetime as dt\n",
    "import matplotlib.pyplot as plt\n",
    "import numpy as np\n",
    "import seaborn as sns\n",
    "import os"
   ]
  },
  {
   "cell_type": "code",
   "execution_count": 2,
   "metadata": {},
   "outputs": [
    {
     "name": "stdout",
     "output_type": "stream",
     "text": [
      "<class 'pandas.core.frame.DataFrame'>\n",
      "RangeIndex: 23699 entries, 0 to 23698\n",
      "Data columns (total 22 columns):\n",
      " #   Column                Non-Null Count  Dtype  \n",
      "---  ------                --------------  -----  \n",
      " 0   total_images          23699 non-null  int64  \n",
      " 1   last_price            23699 non-null  float64\n",
      " 2   total_area            23699 non-null  float64\n",
      " 3   first_day_exposition  23699 non-null  object \n",
      " 4   rooms                 23699 non-null  int64  \n",
      " 5   ceiling_height        14504 non-null  float64\n",
      " 6   floors_total          23613 non-null  float64\n",
      " 7   living_area           21796 non-null  float64\n",
      " 8   floor                 23699 non-null  int64  \n",
      " 9   is_apartment          2775 non-null   object \n",
      " 10  studio                23699 non-null  bool   \n",
      " 11  open_plan             23699 non-null  bool   \n",
      " 12  kitchen_area          21421 non-null  float64\n",
      " 13  balcony               12180 non-null  float64\n",
      " 14  locality_name         23650 non-null  object \n",
      " 15  airports_nearest      18157 non-null  float64\n",
      " 16  cityCenters_nearest   18180 non-null  float64\n",
      " 17  parks_around3000      18181 non-null  float64\n",
      " 18  parks_nearest         8079 non-null   float64\n",
      " 19  ponds_around3000      18181 non-null  float64\n",
      " 20  ponds_nearest         9110 non-null   float64\n",
      " 21  days_exposition       20518 non-null  float64\n",
      "dtypes: bool(2), float64(14), int64(3), object(3)\n",
      "memory usage: 3.7+ MB\n"
     ]
    },
    {
     "data": {
      "text/plain": [
       "None"
      ]
     },
     "metadata": {},
     "output_type": "display_data"
    },
    {
     "data": {
      "text/html": [
       "<div>\n",
       "<style scoped>\n",
       "    .dataframe tbody tr th:only-of-type {\n",
       "        vertical-align: middle;\n",
       "    }\n",
       "\n",
       "    .dataframe tbody tr th {\n",
       "        vertical-align: top;\n",
       "    }\n",
       "\n",
       "    .dataframe thead th {\n",
       "        text-align: right;\n",
       "    }\n",
       "</style>\n",
       "<table border=\"1\" class=\"dataframe\">\n",
       "  <thead>\n",
       "    <tr style=\"text-align: right;\">\n",
       "      <th></th>\n",
       "      <th>total_images</th>\n",
       "      <th>last_price</th>\n",
       "      <th>total_area</th>\n",
       "      <th>first_day_exposition</th>\n",
       "      <th>rooms</th>\n",
       "      <th>ceiling_height</th>\n",
       "      <th>floors_total</th>\n",
       "      <th>living_area</th>\n",
       "      <th>floor</th>\n",
       "      <th>is_apartment</th>\n",
       "      <th>...</th>\n",
       "      <th>kitchen_area</th>\n",
       "      <th>balcony</th>\n",
       "      <th>locality_name</th>\n",
       "      <th>airports_nearest</th>\n",
       "      <th>cityCenters_nearest</th>\n",
       "      <th>parks_around3000</th>\n",
       "      <th>parks_nearest</th>\n",
       "      <th>ponds_around3000</th>\n",
       "      <th>ponds_nearest</th>\n",
       "      <th>days_exposition</th>\n",
       "    </tr>\n",
       "  </thead>\n",
       "  <tbody>\n",
       "    <tr>\n",
       "      <th>0</th>\n",
       "      <td>20</td>\n",
       "      <td>13000000.0</td>\n",
       "      <td>108.00</td>\n",
       "      <td>2019-03-07T00:00:00</td>\n",
       "      <td>3</td>\n",
       "      <td>2.70</td>\n",
       "      <td>16.0</td>\n",
       "      <td>51.0</td>\n",
       "      <td>8</td>\n",
       "      <td>NaN</td>\n",
       "      <td>...</td>\n",
       "      <td>25.00</td>\n",
       "      <td>NaN</td>\n",
       "      <td>Санкт-Петербург</td>\n",
       "      <td>18863.0</td>\n",
       "      <td>16028.0</td>\n",
       "      <td>1.0</td>\n",
       "      <td>482.0</td>\n",
       "      <td>2.0</td>\n",
       "      <td>755.0</td>\n",
       "      <td>NaN</td>\n",
       "    </tr>\n",
       "    <tr>\n",
       "      <th>1</th>\n",
       "      <td>7</td>\n",
       "      <td>3350000.0</td>\n",
       "      <td>40.40</td>\n",
       "      <td>2018-12-04T00:00:00</td>\n",
       "      <td>1</td>\n",
       "      <td>NaN</td>\n",
       "      <td>11.0</td>\n",
       "      <td>18.6</td>\n",
       "      <td>1</td>\n",
       "      <td>NaN</td>\n",
       "      <td>...</td>\n",
       "      <td>11.00</td>\n",
       "      <td>2.0</td>\n",
       "      <td>посёлок Шушары</td>\n",
       "      <td>12817.0</td>\n",
       "      <td>18603.0</td>\n",
       "      <td>0.0</td>\n",
       "      <td>NaN</td>\n",
       "      <td>0.0</td>\n",
       "      <td>NaN</td>\n",
       "      <td>81.0</td>\n",
       "    </tr>\n",
       "    <tr>\n",
       "      <th>2</th>\n",
       "      <td>10</td>\n",
       "      <td>5196000.0</td>\n",
       "      <td>56.00</td>\n",
       "      <td>2015-08-20T00:00:00</td>\n",
       "      <td>2</td>\n",
       "      <td>NaN</td>\n",
       "      <td>5.0</td>\n",
       "      <td>34.3</td>\n",
       "      <td>4</td>\n",
       "      <td>NaN</td>\n",
       "      <td>...</td>\n",
       "      <td>8.30</td>\n",
       "      <td>0.0</td>\n",
       "      <td>Санкт-Петербург</td>\n",
       "      <td>21741.0</td>\n",
       "      <td>13933.0</td>\n",
       "      <td>1.0</td>\n",
       "      <td>90.0</td>\n",
       "      <td>2.0</td>\n",
       "      <td>574.0</td>\n",
       "      <td>558.0</td>\n",
       "    </tr>\n",
       "    <tr>\n",
       "      <th>3</th>\n",
       "      <td>0</td>\n",
       "      <td>64900000.0</td>\n",
       "      <td>159.00</td>\n",
       "      <td>2015-07-24T00:00:00</td>\n",
       "      <td>3</td>\n",
       "      <td>NaN</td>\n",
       "      <td>14.0</td>\n",
       "      <td>NaN</td>\n",
       "      <td>9</td>\n",
       "      <td>NaN</td>\n",
       "      <td>...</td>\n",
       "      <td>NaN</td>\n",
       "      <td>0.0</td>\n",
       "      <td>Санкт-Петербург</td>\n",
       "      <td>28098.0</td>\n",
       "      <td>6800.0</td>\n",
       "      <td>2.0</td>\n",
       "      <td>84.0</td>\n",
       "      <td>3.0</td>\n",
       "      <td>234.0</td>\n",
       "      <td>424.0</td>\n",
       "    </tr>\n",
       "    <tr>\n",
       "      <th>4</th>\n",
       "      <td>2</td>\n",
       "      <td>10000000.0</td>\n",
       "      <td>100.00</td>\n",
       "      <td>2018-06-19T00:00:00</td>\n",
       "      <td>2</td>\n",
       "      <td>3.03</td>\n",
       "      <td>14.0</td>\n",
       "      <td>32.0</td>\n",
       "      <td>13</td>\n",
       "      <td>NaN</td>\n",
       "      <td>...</td>\n",
       "      <td>41.00</td>\n",
       "      <td>NaN</td>\n",
       "      <td>Санкт-Петербург</td>\n",
       "      <td>31856.0</td>\n",
       "      <td>8098.0</td>\n",
       "      <td>2.0</td>\n",
       "      <td>112.0</td>\n",
       "      <td>1.0</td>\n",
       "      <td>48.0</td>\n",
       "      <td>121.0</td>\n",
       "    </tr>\n",
       "    <tr>\n",
       "      <th>...</th>\n",
       "      <td>...</td>\n",
       "      <td>...</td>\n",
       "      <td>...</td>\n",
       "      <td>...</td>\n",
       "      <td>...</td>\n",
       "      <td>...</td>\n",
       "      <td>...</td>\n",
       "      <td>...</td>\n",
       "      <td>...</td>\n",
       "      <td>...</td>\n",
       "      <td>...</td>\n",
       "      <td>...</td>\n",
       "      <td>...</td>\n",
       "      <td>...</td>\n",
       "      <td>...</td>\n",
       "      <td>...</td>\n",
       "      <td>...</td>\n",
       "      <td>...</td>\n",
       "      <td>...</td>\n",
       "      <td>...</td>\n",
       "      <td>...</td>\n",
       "    </tr>\n",
       "    <tr>\n",
       "      <th>23694</th>\n",
       "      <td>9</td>\n",
       "      <td>9700000.0</td>\n",
       "      <td>133.81</td>\n",
       "      <td>2017-03-21T00:00:00</td>\n",
       "      <td>3</td>\n",
       "      <td>3.70</td>\n",
       "      <td>5.0</td>\n",
       "      <td>73.3</td>\n",
       "      <td>3</td>\n",
       "      <td>NaN</td>\n",
       "      <td>...</td>\n",
       "      <td>13.83</td>\n",
       "      <td>NaN</td>\n",
       "      <td>Санкт-Петербург</td>\n",
       "      <td>24665.0</td>\n",
       "      <td>4232.0</td>\n",
       "      <td>1.0</td>\n",
       "      <td>796.0</td>\n",
       "      <td>3.0</td>\n",
       "      <td>381.0</td>\n",
       "      <td>NaN</td>\n",
       "    </tr>\n",
       "    <tr>\n",
       "      <th>23695</th>\n",
       "      <td>14</td>\n",
       "      <td>3100000.0</td>\n",
       "      <td>59.00</td>\n",
       "      <td>2018-01-15T00:00:00</td>\n",
       "      <td>3</td>\n",
       "      <td>NaN</td>\n",
       "      <td>5.0</td>\n",
       "      <td>38.0</td>\n",
       "      <td>4</td>\n",
       "      <td>NaN</td>\n",
       "      <td>...</td>\n",
       "      <td>8.50</td>\n",
       "      <td>NaN</td>\n",
       "      <td>Тосно</td>\n",
       "      <td>NaN</td>\n",
       "      <td>NaN</td>\n",
       "      <td>NaN</td>\n",
       "      <td>NaN</td>\n",
       "      <td>NaN</td>\n",
       "      <td>NaN</td>\n",
       "      <td>45.0</td>\n",
       "    </tr>\n",
       "    <tr>\n",
       "      <th>23696</th>\n",
       "      <td>18</td>\n",
       "      <td>2500000.0</td>\n",
       "      <td>56.70</td>\n",
       "      <td>2018-02-11T00:00:00</td>\n",
       "      <td>2</td>\n",
       "      <td>NaN</td>\n",
       "      <td>3.0</td>\n",
       "      <td>29.7</td>\n",
       "      <td>1</td>\n",
       "      <td>NaN</td>\n",
       "      <td>...</td>\n",
       "      <td>NaN</td>\n",
       "      <td>NaN</td>\n",
       "      <td>село Рождествено</td>\n",
       "      <td>NaN</td>\n",
       "      <td>NaN</td>\n",
       "      <td>NaN</td>\n",
       "      <td>NaN</td>\n",
       "      <td>NaN</td>\n",
       "      <td>NaN</td>\n",
       "      <td>NaN</td>\n",
       "    </tr>\n",
       "    <tr>\n",
       "      <th>23697</th>\n",
       "      <td>13</td>\n",
       "      <td>11475000.0</td>\n",
       "      <td>76.75</td>\n",
       "      <td>2017-03-28T00:00:00</td>\n",
       "      <td>2</td>\n",
       "      <td>3.00</td>\n",
       "      <td>17.0</td>\n",
       "      <td>NaN</td>\n",
       "      <td>12</td>\n",
       "      <td>NaN</td>\n",
       "      <td>...</td>\n",
       "      <td>23.30</td>\n",
       "      <td>2.0</td>\n",
       "      <td>Санкт-Петербург</td>\n",
       "      <td>39140.0</td>\n",
       "      <td>10364.0</td>\n",
       "      <td>2.0</td>\n",
       "      <td>173.0</td>\n",
       "      <td>3.0</td>\n",
       "      <td>196.0</td>\n",
       "      <td>602.0</td>\n",
       "    </tr>\n",
       "    <tr>\n",
       "      <th>23698</th>\n",
       "      <td>4</td>\n",
       "      <td>1350000.0</td>\n",
       "      <td>32.30</td>\n",
       "      <td>2017-07-21T00:00:00</td>\n",
       "      <td>1</td>\n",
       "      <td>2.50</td>\n",
       "      <td>5.0</td>\n",
       "      <td>12.3</td>\n",
       "      <td>1</td>\n",
       "      <td>NaN</td>\n",
       "      <td>...</td>\n",
       "      <td>9.00</td>\n",
       "      <td>NaN</td>\n",
       "      <td>поселок Новый Учхоз</td>\n",
       "      <td>NaN</td>\n",
       "      <td>NaN</td>\n",
       "      <td>NaN</td>\n",
       "      <td>NaN</td>\n",
       "      <td>NaN</td>\n",
       "      <td>NaN</td>\n",
       "      <td>NaN</td>\n",
       "    </tr>\n",
       "  </tbody>\n",
       "</table>\n",
       "<p>23699 rows × 22 columns</p>\n",
       "</div>"
      ],
      "text/plain": [
       "       total_images  last_price  total_area first_day_exposition  rooms  \\\n",
       "0                20  13000000.0      108.00  2019-03-07T00:00:00      3   \n",
       "1                 7   3350000.0       40.40  2018-12-04T00:00:00      1   \n",
       "2                10   5196000.0       56.00  2015-08-20T00:00:00      2   \n",
       "3                 0  64900000.0      159.00  2015-07-24T00:00:00      3   \n",
       "4                 2  10000000.0      100.00  2018-06-19T00:00:00      2   \n",
       "...             ...         ...         ...                  ...    ...   \n",
       "23694             9   9700000.0      133.81  2017-03-21T00:00:00      3   \n",
       "23695            14   3100000.0       59.00  2018-01-15T00:00:00      3   \n",
       "23696            18   2500000.0       56.70  2018-02-11T00:00:00      2   \n",
       "23697            13  11475000.0       76.75  2017-03-28T00:00:00      2   \n",
       "23698             4   1350000.0       32.30  2017-07-21T00:00:00      1   \n",
       "\n",
       "       ceiling_height  floors_total  living_area  floor is_apartment  ...  \\\n",
       "0                2.70          16.0         51.0      8          NaN  ...   \n",
       "1                 NaN          11.0         18.6      1          NaN  ...   \n",
       "2                 NaN           5.0         34.3      4          NaN  ...   \n",
       "3                 NaN          14.0          NaN      9          NaN  ...   \n",
       "4                3.03          14.0         32.0     13          NaN  ...   \n",
       "...               ...           ...          ...    ...          ...  ...   \n",
       "23694            3.70           5.0         73.3      3          NaN  ...   \n",
       "23695             NaN           5.0         38.0      4          NaN  ...   \n",
       "23696             NaN           3.0         29.7      1          NaN  ...   \n",
       "23697            3.00          17.0          NaN     12          NaN  ...   \n",
       "23698            2.50           5.0         12.3      1          NaN  ...   \n",
       "\n",
       "       kitchen_area  balcony        locality_name  airports_nearest  \\\n",
       "0             25.00      NaN      Санкт-Петербург           18863.0   \n",
       "1             11.00      2.0       посёлок Шушары           12817.0   \n",
       "2              8.30      0.0      Санкт-Петербург           21741.0   \n",
       "3               NaN      0.0      Санкт-Петербург           28098.0   \n",
       "4             41.00      NaN      Санкт-Петербург           31856.0   \n",
       "...             ...      ...                  ...               ...   \n",
       "23694         13.83      NaN      Санкт-Петербург           24665.0   \n",
       "23695          8.50      NaN                Тосно               NaN   \n",
       "23696           NaN      NaN     село Рождествено               NaN   \n",
       "23697         23.30      2.0      Санкт-Петербург           39140.0   \n",
       "23698          9.00      NaN  поселок Новый Учхоз               NaN   \n",
       "\n",
       "      cityCenters_nearest  parks_around3000  parks_nearest  ponds_around3000  \\\n",
       "0                 16028.0               1.0          482.0               2.0   \n",
       "1                 18603.0               0.0            NaN               0.0   \n",
       "2                 13933.0               1.0           90.0               2.0   \n",
       "3                  6800.0               2.0           84.0               3.0   \n",
       "4                  8098.0               2.0          112.0               1.0   \n",
       "...                   ...               ...            ...               ...   \n",
       "23694              4232.0               1.0          796.0               3.0   \n",
       "23695                 NaN               NaN            NaN               NaN   \n",
       "23696                 NaN               NaN            NaN               NaN   \n",
       "23697             10364.0               2.0          173.0               3.0   \n",
       "23698                 NaN               NaN            NaN               NaN   \n",
       "\n",
       "       ponds_nearest  days_exposition  \n",
       "0              755.0              NaN  \n",
       "1                NaN             81.0  \n",
       "2              574.0            558.0  \n",
       "3              234.0            424.0  \n",
       "4               48.0            121.0  \n",
       "...              ...              ...  \n",
       "23694          381.0              NaN  \n",
       "23695            NaN             45.0  \n",
       "23696            NaN              NaN  \n",
       "23697          196.0            602.0  \n",
       "23698            NaN              NaN  \n",
       "\n",
       "[23699 rows x 22 columns]"
      ]
     },
     "execution_count": 2,
     "metadata": {},
     "output_type": "execute_result"
    }
   ],
   "source": [
    "realty = pd.read_csv('/Users/karter/Projects/2_real_estate_data/real_estate_data.csv', sep ='\\t')\n",
    "display(realty.info())\n",
    "realty"
   ]
  },
  {
   "cell_type": "code",
   "execution_count": 3,
   "metadata": {},
   "outputs": [
    {
     "data": {
      "text/html": [
       "<div>\n",
       "<style scoped>\n",
       "    .dataframe tbody tr th:only-of-type {\n",
       "        vertical-align: middle;\n",
       "    }\n",
       "\n",
       "    .dataframe tbody tr th {\n",
       "        vertical-align: top;\n",
       "    }\n",
       "\n",
       "    .dataframe thead th {\n",
       "        text-align: right;\n",
       "    }\n",
       "</style>\n",
       "<table border=\"1\" class=\"dataframe\">\n",
       "  <thead>\n",
       "    <tr style=\"text-align: right;\">\n",
       "      <th></th>\n",
       "      <th>total_images</th>\n",
       "      <th>last_price</th>\n",
       "      <th>total_area</th>\n",
       "      <th>rooms</th>\n",
       "      <th>ceiling_height</th>\n",
       "      <th>floors_total</th>\n",
       "      <th>living_area</th>\n",
       "      <th>floor</th>\n",
       "      <th>kitchen_area</th>\n",
       "      <th>balcony</th>\n",
       "      <th>airports_nearest</th>\n",
       "      <th>cityCenters_nearest</th>\n",
       "      <th>parks_around3000</th>\n",
       "      <th>parks_nearest</th>\n",
       "      <th>ponds_around3000</th>\n",
       "      <th>ponds_nearest</th>\n",
       "      <th>days_exposition</th>\n",
       "    </tr>\n",
       "  </thead>\n",
       "  <tbody>\n",
       "    <tr>\n",
       "      <th>count</th>\n",
       "      <td>23699.000000</td>\n",
       "      <td>2.369900e+04</td>\n",
       "      <td>23699.000000</td>\n",
       "      <td>23699.000000</td>\n",
       "      <td>14504.000000</td>\n",
       "      <td>23613.000000</td>\n",
       "      <td>21796.000000</td>\n",
       "      <td>23699.000000</td>\n",
       "      <td>21421.000000</td>\n",
       "      <td>12180.000000</td>\n",
       "      <td>18157.000000</td>\n",
       "      <td>18180.000000</td>\n",
       "      <td>18181.000000</td>\n",
       "      <td>8079.000000</td>\n",
       "      <td>18181.000000</td>\n",
       "      <td>9110.000000</td>\n",
       "      <td>20518.000000</td>\n",
       "    </tr>\n",
       "    <tr>\n",
       "      <th>mean</th>\n",
       "      <td>9.858475</td>\n",
       "      <td>6.541549e+06</td>\n",
       "      <td>60.348651</td>\n",
       "      <td>2.070636</td>\n",
       "      <td>2.771499</td>\n",
       "      <td>10.673824</td>\n",
       "      <td>34.457852</td>\n",
       "      <td>5.892358</td>\n",
       "      <td>10.569807</td>\n",
       "      <td>1.150082</td>\n",
       "      <td>28793.672193</td>\n",
       "      <td>14191.277833</td>\n",
       "      <td>0.611408</td>\n",
       "      <td>490.804555</td>\n",
       "      <td>0.770255</td>\n",
       "      <td>517.980900</td>\n",
       "      <td>180.888634</td>\n",
       "    </tr>\n",
       "    <tr>\n",
       "      <th>std</th>\n",
       "      <td>5.682529</td>\n",
       "      <td>1.088701e+07</td>\n",
       "      <td>35.654083</td>\n",
       "      <td>1.078405</td>\n",
       "      <td>1.261056</td>\n",
       "      <td>6.597173</td>\n",
       "      <td>22.030445</td>\n",
       "      <td>4.885249</td>\n",
       "      <td>5.905438</td>\n",
       "      <td>1.071300</td>\n",
       "      <td>12630.880622</td>\n",
       "      <td>8608.386210</td>\n",
       "      <td>0.802074</td>\n",
       "      <td>342.317995</td>\n",
       "      <td>0.938346</td>\n",
       "      <td>277.720643</td>\n",
       "      <td>219.727988</td>\n",
       "    </tr>\n",
       "    <tr>\n",
       "      <th>min</th>\n",
       "      <td>0.000000</td>\n",
       "      <td>1.219000e+04</td>\n",
       "      <td>12.000000</td>\n",
       "      <td>0.000000</td>\n",
       "      <td>1.000000</td>\n",
       "      <td>1.000000</td>\n",
       "      <td>2.000000</td>\n",
       "      <td>1.000000</td>\n",
       "      <td>1.300000</td>\n",
       "      <td>0.000000</td>\n",
       "      <td>0.000000</td>\n",
       "      <td>181.000000</td>\n",
       "      <td>0.000000</td>\n",
       "      <td>1.000000</td>\n",
       "      <td>0.000000</td>\n",
       "      <td>13.000000</td>\n",
       "      <td>1.000000</td>\n",
       "    </tr>\n",
       "    <tr>\n",
       "      <th>25%</th>\n",
       "      <td>6.000000</td>\n",
       "      <td>3.400000e+06</td>\n",
       "      <td>40.000000</td>\n",
       "      <td>1.000000</td>\n",
       "      <td>2.520000</td>\n",
       "      <td>5.000000</td>\n",
       "      <td>18.600000</td>\n",
       "      <td>2.000000</td>\n",
       "      <td>7.000000</td>\n",
       "      <td>0.000000</td>\n",
       "      <td>18585.000000</td>\n",
       "      <td>9238.000000</td>\n",
       "      <td>0.000000</td>\n",
       "      <td>288.000000</td>\n",
       "      <td>0.000000</td>\n",
       "      <td>294.000000</td>\n",
       "      <td>45.000000</td>\n",
       "    </tr>\n",
       "    <tr>\n",
       "      <th>50%</th>\n",
       "      <td>9.000000</td>\n",
       "      <td>4.650000e+06</td>\n",
       "      <td>52.000000</td>\n",
       "      <td>2.000000</td>\n",
       "      <td>2.650000</td>\n",
       "      <td>9.000000</td>\n",
       "      <td>30.000000</td>\n",
       "      <td>4.000000</td>\n",
       "      <td>9.100000</td>\n",
       "      <td>1.000000</td>\n",
       "      <td>26726.000000</td>\n",
       "      <td>13098.500000</td>\n",
       "      <td>0.000000</td>\n",
       "      <td>455.000000</td>\n",
       "      <td>1.000000</td>\n",
       "      <td>502.000000</td>\n",
       "      <td>95.000000</td>\n",
       "    </tr>\n",
       "    <tr>\n",
       "      <th>75%</th>\n",
       "      <td>14.000000</td>\n",
       "      <td>6.800000e+06</td>\n",
       "      <td>69.900000</td>\n",
       "      <td>3.000000</td>\n",
       "      <td>2.800000</td>\n",
       "      <td>16.000000</td>\n",
       "      <td>42.300000</td>\n",
       "      <td>8.000000</td>\n",
       "      <td>12.000000</td>\n",
       "      <td>2.000000</td>\n",
       "      <td>37273.000000</td>\n",
       "      <td>16293.000000</td>\n",
       "      <td>1.000000</td>\n",
       "      <td>612.000000</td>\n",
       "      <td>1.000000</td>\n",
       "      <td>729.000000</td>\n",
       "      <td>232.000000</td>\n",
       "    </tr>\n",
       "    <tr>\n",
       "      <th>max</th>\n",
       "      <td>50.000000</td>\n",
       "      <td>7.630000e+08</td>\n",
       "      <td>900.000000</td>\n",
       "      <td>19.000000</td>\n",
       "      <td>100.000000</td>\n",
       "      <td>60.000000</td>\n",
       "      <td>409.700000</td>\n",
       "      <td>33.000000</td>\n",
       "      <td>112.000000</td>\n",
       "      <td>5.000000</td>\n",
       "      <td>84869.000000</td>\n",
       "      <td>65968.000000</td>\n",
       "      <td>3.000000</td>\n",
       "      <td>3190.000000</td>\n",
       "      <td>3.000000</td>\n",
       "      <td>1344.000000</td>\n",
       "      <td>1580.000000</td>\n",
       "    </tr>\n",
       "  </tbody>\n",
       "</table>\n",
       "</div>"
      ],
      "text/plain": [
       "       total_images    last_price    total_area         rooms  ceiling_height  \\\n",
       "count  23699.000000  2.369900e+04  23699.000000  23699.000000    14504.000000   \n",
       "mean       9.858475  6.541549e+06     60.348651      2.070636        2.771499   \n",
       "std        5.682529  1.088701e+07     35.654083      1.078405        1.261056   \n",
       "min        0.000000  1.219000e+04     12.000000      0.000000        1.000000   \n",
       "25%        6.000000  3.400000e+06     40.000000      1.000000        2.520000   \n",
       "50%        9.000000  4.650000e+06     52.000000      2.000000        2.650000   \n",
       "75%       14.000000  6.800000e+06     69.900000      3.000000        2.800000   \n",
       "max       50.000000  7.630000e+08    900.000000     19.000000      100.000000   \n",
       "\n",
       "       floors_total   living_area         floor  kitchen_area       balcony  \\\n",
       "count  23613.000000  21796.000000  23699.000000  21421.000000  12180.000000   \n",
       "mean      10.673824     34.457852      5.892358     10.569807      1.150082   \n",
       "std        6.597173     22.030445      4.885249      5.905438      1.071300   \n",
       "min        1.000000      2.000000      1.000000      1.300000      0.000000   \n",
       "25%        5.000000     18.600000      2.000000      7.000000      0.000000   \n",
       "50%        9.000000     30.000000      4.000000      9.100000      1.000000   \n",
       "75%       16.000000     42.300000      8.000000     12.000000      2.000000   \n",
       "max       60.000000    409.700000     33.000000    112.000000      5.000000   \n",
       "\n",
       "       airports_nearest  cityCenters_nearest  parks_around3000  parks_nearest  \\\n",
       "count      18157.000000         18180.000000      18181.000000    8079.000000   \n",
       "mean       28793.672193         14191.277833          0.611408     490.804555   \n",
       "std        12630.880622          8608.386210          0.802074     342.317995   \n",
       "min            0.000000           181.000000          0.000000       1.000000   \n",
       "25%        18585.000000          9238.000000          0.000000     288.000000   \n",
       "50%        26726.000000         13098.500000          0.000000     455.000000   \n",
       "75%        37273.000000         16293.000000          1.000000     612.000000   \n",
       "max        84869.000000         65968.000000          3.000000    3190.000000   \n",
       "\n",
       "       ponds_around3000  ponds_nearest  days_exposition  \n",
       "count      18181.000000    9110.000000     20518.000000  \n",
       "mean           0.770255     517.980900       180.888634  \n",
       "std            0.938346     277.720643       219.727988  \n",
       "min            0.000000      13.000000         1.000000  \n",
       "25%            0.000000     294.000000        45.000000  \n",
       "50%            1.000000     502.000000        95.000000  \n",
       "75%            1.000000     729.000000       232.000000  \n",
       "max            3.000000    1344.000000      1580.000000  "
      ]
     },
     "execution_count": 3,
     "metadata": {},
     "output_type": "execute_result"
    }
   ],
   "source": [
    "realty.describe()"
   ]
  },
  {
   "cell_type": "markdown",
   "metadata": {},
   "source": [
    "Описание данных\n",
    "\n",
    "* `airports_nearest` — расстояние до ближайшего аэропорта в метрах (м)\n",
    "* `balcony` — число балконов\n",
    "* `ceiling_height` — высота потолков (м)\n",
    "* `city_centers_nearest` — расстояние до центра города (м)\n",
    "* `days_exposition` — сколько дней было размещено объявление (от публикации до снятия)\n",
    "* `first_day_exposition` — дата публикации\n",
    "* `floor` — этаж\n",
    "* `floors_total` — всего этажей в доме\n",
    "* `apartment` — апартаменты (булев тип)\n",
    "* `kitchen_area` — площадь кухни в квадратных метрах (м²)\n",
    "* `last_price` — цена на момент снятия с публикации\n",
    "* `living_area` — жилая площадь в квадратных метрах (м²)\n",
    "* `locality_name` — название населённого пункта\n",
    "* `open_plan` — свободная планировка (булев тип)\n",
    "* `parks_around_3000` — число парков в радиусе 3 км\n",
    "* `parks_nearest` — расстояние до ближайшего парка (м)\n",
    "* `ponds_around_3000` — число водоёмов в радиусе 3 км\n",
    "* `ponds_nearest` — расстояние до ближайшего водоёма (м)\n",
    "* `rooms` — число комнат\n",
    "* `studio` — квартира-студия (булев тип)\n",
    "* `total_area` — площадь квартиры в квадратных метрах (м²)\n",
    "* `total_images` — число фотографий квартиры в объявлении"
   ]
  },
  {
   "cell_type": "code",
   "execution_count": 4,
   "metadata": {},
   "outputs": [
    {
     "data": {
      "text/html": [
       "<div>\n",
       "<style scoped>\n",
       "    .dataframe tbody tr th:only-of-type {\n",
       "        vertical-align: middle;\n",
       "    }\n",
       "\n",
       "    .dataframe tbody tr th {\n",
       "        vertical-align: top;\n",
       "    }\n",
       "\n",
       "    .dataframe thead th {\n",
       "        text-align: right;\n",
       "    }\n",
       "</style>\n",
       "<table border=\"1\" class=\"dataframe\">\n",
       "  <thead>\n",
       "    <tr style=\"text-align: right;\">\n",
       "      <th></th>\n",
       "      <th>total_images</th>\n",
       "      <th>last_price</th>\n",
       "      <th>total_area</th>\n",
       "      <th>first_day_exposition</th>\n",
       "      <th>rooms</th>\n",
       "      <th>ceiling_height</th>\n",
       "      <th>floors_total</th>\n",
       "      <th>living_area</th>\n",
       "      <th>floor</th>\n",
       "      <th>apartment</th>\n",
       "      <th>...</th>\n",
       "      <th>kitchen_area</th>\n",
       "      <th>balcony</th>\n",
       "      <th>locality_name</th>\n",
       "      <th>airports_nearest</th>\n",
       "      <th>city_centers_nearest</th>\n",
       "      <th>parks_around_3000</th>\n",
       "      <th>parks_nearest</th>\n",
       "      <th>ponds_around_3000</th>\n",
       "      <th>ponds_nearest</th>\n",
       "      <th>days_exposition</th>\n",
       "    </tr>\n",
       "  </thead>\n",
       "  <tbody>\n",
       "    <tr>\n",
       "      <th>0</th>\n",
       "      <td>20</td>\n",
       "      <td>13000000.0</td>\n",
       "      <td>108.0</td>\n",
       "      <td>2019-03-07T00:00:00</td>\n",
       "      <td>3</td>\n",
       "      <td>2.70</td>\n",
       "      <td>16.0</td>\n",
       "      <td>51.0</td>\n",
       "      <td>8</td>\n",
       "      <td>NaN</td>\n",
       "      <td>...</td>\n",
       "      <td>25.0</td>\n",
       "      <td>NaN</td>\n",
       "      <td>Санкт-Петербург</td>\n",
       "      <td>18863.0</td>\n",
       "      <td>16028.0</td>\n",
       "      <td>1.0</td>\n",
       "      <td>482.0</td>\n",
       "      <td>2.0</td>\n",
       "      <td>755.0</td>\n",
       "      <td>NaN</td>\n",
       "    </tr>\n",
       "    <tr>\n",
       "      <th>1</th>\n",
       "      <td>7</td>\n",
       "      <td>3350000.0</td>\n",
       "      <td>40.4</td>\n",
       "      <td>2018-12-04T00:00:00</td>\n",
       "      <td>1</td>\n",
       "      <td>NaN</td>\n",
       "      <td>11.0</td>\n",
       "      <td>18.6</td>\n",
       "      <td>1</td>\n",
       "      <td>NaN</td>\n",
       "      <td>...</td>\n",
       "      <td>11.0</td>\n",
       "      <td>2.0</td>\n",
       "      <td>посёлок Шушары</td>\n",
       "      <td>12817.0</td>\n",
       "      <td>18603.0</td>\n",
       "      <td>0.0</td>\n",
       "      <td>NaN</td>\n",
       "      <td>0.0</td>\n",
       "      <td>NaN</td>\n",
       "      <td>81.0</td>\n",
       "    </tr>\n",
       "    <tr>\n",
       "      <th>2</th>\n",
       "      <td>10</td>\n",
       "      <td>5196000.0</td>\n",
       "      <td>56.0</td>\n",
       "      <td>2015-08-20T00:00:00</td>\n",
       "      <td>2</td>\n",
       "      <td>NaN</td>\n",
       "      <td>5.0</td>\n",
       "      <td>34.3</td>\n",
       "      <td>4</td>\n",
       "      <td>NaN</td>\n",
       "      <td>...</td>\n",
       "      <td>8.3</td>\n",
       "      <td>0.0</td>\n",
       "      <td>Санкт-Петербург</td>\n",
       "      <td>21741.0</td>\n",
       "      <td>13933.0</td>\n",
       "      <td>1.0</td>\n",
       "      <td>90.0</td>\n",
       "      <td>2.0</td>\n",
       "      <td>574.0</td>\n",
       "      <td>558.0</td>\n",
       "    </tr>\n",
       "    <tr>\n",
       "      <th>3</th>\n",
       "      <td>0</td>\n",
       "      <td>64900000.0</td>\n",
       "      <td>159.0</td>\n",
       "      <td>2015-07-24T00:00:00</td>\n",
       "      <td>3</td>\n",
       "      <td>NaN</td>\n",
       "      <td>14.0</td>\n",
       "      <td>NaN</td>\n",
       "      <td>9</td>\n",
       "      <td>NaN</td>\n",
       "      <td>...</td>\n",
       "      <td>NaN</td>\n",
       "      <td>0.0</td>\n",
       "      <td>Санкт-Петербург</td>\n",
       "      <td>28098.0</td>\n",
       "      <td>6800.0</td>\n",
       "      <td>2.0</td>\n",
       "      <td>84.0</td>\n",
       "      <td>3.0</td>\n",
       "      <td>234.0</td>\n",
       "      <td>424.0</td>\n",
       "    </tr>\n",
       "    <tr>\n",
       "      <th>4</th>\n",
       "      <td>2</td>\n",
       "      <td>10000000.0</td>\n",
       "      <td>100.0</td>\n",
       "      <td>2018-06-19T00:00:00</td>\n",
       "      <td>2</td>\n",
       "      <td>3.03</td>\n",
       "      <td>14.0</td>\n",
       "      <td>32.0</td>\n",
       "      <td>13</td>\n",
       "      <td>NaN</td>\n",
       "      <td>...</td>\n",
       "      <td>41.0</td>\n",
       "      <td>NaN</td>\n",
       "      <td>Санкт-Петербург</td>\n",
       "      <td>31856.0</td>\n",
       "      <td>8098.0</td>\n",
       "      <td>2.0</td>\n",
       "      <td>112.0</td>\n",
       "      <td>1.0</td>\n",
       "      <td>48.0</td>\n",
       "      <td>121.0</td>\n",
       "    </tr>\n",
       "  </tbody>\n",
       "</table>\n",
       "<p>5 rows × 22 columns</p>\n",
       "</div>"
      ],
      "text/plain": [
       "   total_images  last_price  total_area first_day_exposition  rooms  \\\n",
       "0            20  13000000.0       108.0  2019-03-07T00:00:00      3   \n",
       "1             7   3350000.0        40.4  2018-12-04T00:00:00      1   \n",
       "2            10   5196000.0        56.0  2015-08-20T00:00:00      2   \n",
       "3             0  64900000.0       159.0  2015-07-24T00:00:00      3   \n",
       "4             2  10000000.0       100.0  2018-06-19T00:00:00      2   \n",
       "\n",
       "   ceiling_height  floors_total  living_area  floor apartment  ...  \\\n",
       "0            2.70          16.0         51.0      8       NaN  ...   \n",
       "1             NaN          11.0         18.6      1       NaN  ...   \n",
       "2             NaN           5.0         34.3      4       NaN  ...   \n",
       "3             NaN          14.0          NaN      9       NaN  ...   \n",
       "4            3.03          14.0         32.0     13       NaN  ...   \n",
       "\n",
       "   kitchen_area  balcony    locality_name  airports_nearest  \\\n",
       "0          25.0      NaN  Санкт-Петербург           18863.0   \n",
       "1          11.0      2.0   посёлок Шушары           12817.0   \n",
       "2           8.3      0.0  Санкт-Петербург           21741.0   \n",
       "3           NaN      0.0  Санкт-Петербург           28098.0   \n",
       "4          41.0      NaN  Санкт-Петербург           31856.0   \n",
       "\n",
       "  city_centers_nearest  parks_around_3000  parks_nearest  ponds_around_3000  \\\n",
       "0              16028.0                1.0          482.0                2.0   \n",
       "1              18603.0                0.0            NaN                0.0   \n",
       "2              13933.0                1.0           90.0                2.0   \n",
       "3               6800.0                2.0           84.0                3.0   \n",
       "4               8098.0                2.0          112.0                1.0   \n",
       "\n",
       "   ponds_nearest  days_exposition  \n",
       "0          755.0              NaN  \n",
       "1            NaN             81.0  \n",
       "2          574.0            558.0  \n",
       "3          234.0            424.0  \n",
       "4           48.0            121.0  \n",
       "\n",
       "[5 rows x 22 columns]"
      ]
     },
     "execution_count": 4,
     "metadata": {},
     "output_type": "execute_result"
    }
   ],
   "source": [
    "realty = realty.rename(\n",
    "columns={\n",
    "'is_apartment': 'apartment',\n",
    "'cityCenters_nearest': 'city_centers_nearest',\n",
    "'parks_around3000': 'parks_around_3000',\n",
    "'ponds_around3000' : 'ponds_around_3000' }\n",
    ")\n",
    "realty.head()"
   ]
  },
  {
   "cell_type": "markdown",
   "metadata": {},
   "source": [
    "Привел в порядок названия столбцов"
   ]
  },
  {
   "cell_type": "code",
   "execution_count": 5,
   "metadata": {},
   "outputs": [
    {
     "data": {
      "text/plain": [
       "0"
      ]
     },
     "execution_count": 5,
     "metadata": {},
     "output_type": "execute_result"
    }
   ],
   "source": [
    "realty.duplicated().sum()"
   ]
  },
  {
   "cell_type": "markdown",
   "metadata": {},
   "source": [
    "Явных дублей не найдено."
   ]
  },
  {
   "cell_type": "code",
   "execution_count": 6,
   "metadata": {},
   "outputs": [
    {
     "data": {
      "text/plain": [
       "total_images                0\n",
       "last_price                  0\n",
       "total_area                  0\n",
       "first_day_exposition        0\n",
       "rooms                       0\n",
       "ceiling_height           9195\n",
       "floors_total               86\n",
       "living_area              1903\n",
       "floor                       0\n",
       "apartment               20924\n",
       "studio                      0\n",
       "open_plan                   0\n",
       "kitchen_area             2278\n",
       "balcony                 11519\n",
       "locality_name              49\n",
       "airports_nearest         5542\n",
       "city_centers_nearest     5519\n",
       "parks_around_3000        5518\n",
       "parks_nearest           15620\n",
       "ponds_around_3000        5518\n",
       "ponds_nearest           14589\n",
       "days_exposition          3181\n",
       "dtype: int64"
      ]
     },
     "execution_count": 6,
     "metadata": {},
     "output_type": "execute_result"
    }
   ],
   "source": [
    "realty.isna().sum()"
   ]
  },
  {
   "cell_type": "code",
   "execution_count": 7,
   "metadata": {
    "scrolled": true
   },
   "outputs": [
    {
     "data": {
      "text/plain": [
       "count    14504.000000\n",
       "mean         2.771499\n",
       "std          1.261056\n",
       "min          1.000000\n",
       "25%          2.520000\n",
       "50%          2.650000\n",
       "75%          2.800000\n",
       "max        100.000000\n",
       "Name: ceiling_height, dtype: float64"
      ]
     },
     "execution_count": 7,
     "metadata": {},
     "output_type": "execute_result"
    }
   ],
   "source": [
    "realty['ceiling_height'].describe()"
   ]
  },
  {
   "cell_type": "markdown",
   "metadata": {},
   "source": [
    "Пропуски в колонке высота потолков вызвана скорее всего тем что не все знают реальную высотку потолка в их квартире. Есть аномально низкие и аномально высокие показатели такие как 1 метр и 100 метров. По средниму и медианному показателю похоже на правду."
   ]
  },
  {
   "cell_type": "code",
   "execution_count": 8,
   "metadata": {},
   "outputs": [
    {
     "data": {
      "text/plain": [
       "count    23613.000000\n",
       "mean        10.673824\n",
       "std          6.597173\n",
       "min          1.000000\n",
       "25%          5.000000\n",
       "50%          9.000000\n",
       "75%         16.000000\n",
       "max         60.000000\n",
       "Name: floors_total, dtype: float64"
      ]
     },
     "execution_count": 8,
     "metadata": {},
     "output_type": "execute_result"
    }
   ],
   "source": [
    "realty['floors_total'].describe()"
   ]
  },
  {
   "cell_type": "markdown",
   "metadata": {},
   "source": [
    "Количество пропусков в столбце всего этажей в доме крайне мало, пропуски вызваны скорее всего ошибкой при вводе."
   ]
  },
  {
   "cell_type": "code",
   "execution_count": 9,
   "metadata": {},
   "outputs": [
    {
     "data": {
      "text/plain": [
       "count    21796.000000\n",
       "mean        34.457852\n",
       "std         22.030445\n",
       "min          2.000000\n",
       "25%         18.600000\n",
       "50%         30.000000\n",
       "75%         42.300000\n",
       "max        409.700000\n",
       "Name: living_area, dtype: float64"
      ]
     },
     "execution_count": 9,
     "metadata": {},
     "output_type": "execute_result"
    }
   ],
   "source": [
    "realty['living_area'].describe()"
   ]
  },
  {
   "cell_type": "markdown",
   "metadata": {},
   "source": [
    "Количество пропусков в столбце жилая площадь не велико, пропущены значения скорее всего потому что люди не знюат точную жилую площадь и оно не обязательно для заполнения объявления.Есть аномально маленькое значение, 2 кв.м. "
   ]
  },
  {
   "cell_type": "code",
   "execution_count": 10,
   "metadata": {},
   "outputs": [
    {
     "data": {
      "text/plain": [
       "array([nan, False, True], dtype=object)"
      ]
     },
     "metadata": {},
     "output_type": "display_data"
    },
    {
     "data": {
      "text/plain": [
       "False    2725\n",
       "True       50\n",
       "Name: apartment, dtype: int64"
      ]
     },
     "execution_count": 10,
     "metadata": {},
     "output_type": "execute_result"
    }
   ],
   "source": [
    "display(realty['apartment'].unique())\n",
    "realty['apartment'].value_counts()"
   ]
  },
  {
   "cell_type": "markdown",
   "metadata": {},
   "source": [
    "Очень много пропусков в столбце апартаменты, запросив подсчет каждого значение мы вяснили что в столбце только 50 апартаментов, остальные или не апратаменты или значение пропущено. Скорее всего пропуски допущены потому что не все пользователи понимают отличие апартаментов от квартирыи просто пропускали поле для заполнения. \n",
    "\n",
    "\n",
    "\n",
    "\n"
   ]
  },
  {
   "cell_type": "code",
   "execution_count": 11,
   "metadata": {},
   "outputs": [
    {
     "data": {
      "text/plain": [
       "count    21421.000000\n",
       "mean        10.569807\n",
       "std          5.905438\n",
       "min          1.300000\n",
       "25%          7.000000\n",
       "50%          9.100000\n",
       "75%         12.000000\n",
       "max        112.000000\n",
       "Name: kitchen_area, dtype: float64"
      ]
     },
     "execution_count": 11,
     "metadata": {},
     "output_type": "execute_result"
    }
   ],
   "source": [
    "realty['kitchen_area'].describe()"
   ]
  },
  {
   "cell_type": "markdown",
   "metadata": {},
   "source": [
    "Количество пропусков в столбце площадь кухни не велико, пропущены значения скорее всего потому что люди не знюат точную жилую площадь и оно не обязательно для заполнения объявления.Есть аномально маленькое значение, 1.3 кв.м. возможно жти значения относят к студиям где сложно разделить жилую площадь и площадь кухни."
   ]
  },
  {
   "cell_type": "code",
   "execution_count": 12,
   "metadata": {},
   "outputs": [
    {
     "data": {
      "text/plain": [
       "count    12180.000000\n",
       "mean         1.150082\n",
       "std          1.071300\n",
       "min          0.000000\n",
       "25%          0.000000\n",
       "50%          1.000000\n",
       "75%          2.000000\n",
       "max          5.000000\n",
       "Name: balcony, dtype: float64"
      ]
     },
     "execution_count": 12,
     "metadata": {},
     "output_type": "execute_result"
    }
   ],
   "source": [
    "realty['balcony'].describe()"
   ]
  },
  {
   "cell_type": "markdown",
   "metadata": {},
   "source": [
    "Пропуски в столбце балконы допущены вероятно при заполнении объявлений, в квартирах где нет балконов просто не указывали наличие или отсуствие."
   ]
  },
  {
   "cell_type": "code",
   "execution_count": 13,
   "metadata": {},
   "outputs": [
    {
     "data": {
      "text/plain": [
       "count               23650\n",
       "unique                364\n",
       "top       Санкт-Петербург\n",
       "freq                15721\n",
       "Name: locality_name, dtype: object"
      ]
     },
     "execution_count": 13,
     "metadata": {},
     "output_type": "execute_result"
    }
   ],
   "source": [
    "realty['locality_name'].describe()"
   ]
  },
  {
   "cell_type": "markdown",
   "metadata": {},
   "source": [
    "Большинство квартира находится в Санкт-Петербург, но так же есть еще в 364 разлчных населенных пунктах.\n"
   ]
  },
  {
   "cell_type": "code",
   "execution_count": 14,
   "metadata": {},
   "outputs": [
    {
     "data": {
      "text/plain": [
       "count    18157.000000\n",
       "mean     28793.672193\n",
       "std      12630.880622\n",
       "min          0.000000\n",
       "25%      18585.000000\n",
       "50%      26726.000000\n",
       "75%      37273.000000\n",
       "max      84869.000000\n",
       "Name: airports_nearest, dtype: float64"
      ]
     },
     "execution_count": 14,
     "metadata": {},
     "output_type": "execute_result"
    }
   ],
   "source": [
    "realty['airports_nearest'].describe()"
   ]
  },
  {
   "cell_type": "markdown",
   "metadata": {},
   "source": [
    "Пропуский в столбце растояние до аэропорта допущены скорее всего потому что ограничен радиус поиска ближайших аэропортов. Есть аномально низкие значения например 0 метров, врятли какая то квартира находит прям в аэропорту."
   ]
  },
  {
   "cell_type": "code",
   "execution_count": 15,
   "metadata": {},
   "outputs": [
    {
     "data": {
      "text/plain": [
       "count    18180.000000\n",
       "mean     14191.277833\n",
       "std       8608.386210\n",
       "min        181.000000\n",
       "25%       9238.000000\n",
       "50%      13098.500000\n",
       "75%      16293.000000\n",
       "max      65968.000000\n",
       "Name: city_centers_nearest, dtype: float64"
      ]
     },
     "execution_count": 15,
     "metadata": {},
     "output_type": "execute_result"
    }
   ],
   "source": [
    "realty['city_centers_nearest'].describe()"
   ]
  },
  {
   "cell_type": "markdown",
   "metadata": {},
   "source": [
    "Могу предположить что за центр города взят цент Санкт-Петербурга, поэтому пропуски в столбце растояние до центра города допущены скорее всего потому что некотрые населенные пункты могут быть дальше радиуса поиска."
   ]
  },
  {
   "cell_type": "code",
   "execution_count": 16,
   "metadata": {},
   "outputs": [
    {
     "data": {
      "text/plain": [
       "count    18181.000000\n",
       "mean         0.611408\n",
       "std          0.802074\n",
       "min          0.000000\n",
       "25%          0.000000\n",
       "50%          0.000000\n",
       "75%          1.000000\n",
       "max          3.000000\n",
       "Name: parks_around_3000, dtype: float64"
      ]
     },
     "execution_count": 16,
     "metadata": {},
     "output_type": "execute_result"
    }
   ],
   "source": [
    "realty['parks_around_3000'].describe()"
   ]
  },
  {
   "cell_type": "markdown",
   "metadata": {},
   "source": [
    "Немного странные значение в стобце парки в радиусе 3000 метров, было бы интересно посмотреть на график ящик с усами, так как медианое значение 0, а 3 квартиль 1, могу предополжиь что у больштнсва нет парков окколо дома, а у некотрых сразу 3."
   ]
  },
  {
   "cell_type": "code",
   "execution_count": 17,
   "metadata": {},
   "outputs": [
    {
     "data": {
      "text/plain": [
       "count    8079.000000\n",
       "mean      490.804555\n",
       "std       342.317995\n",
       "min         1.000000\n",
       "25%       288.000000\n",
       "50%       455.000000\n",
       "75%       612.000000\n",
       "max      3190.000000\n",
       "Name: parks_nearest, dtype: float64"
      ]
     },
     "execution_count": 17,
     "metadata": {},
     "output_type": "execute_result"
    }
   ],
   "source": [
    "realty['parks_nearest'].describe()"
   ]
  },
  {
   "cell_type": "markdown",
   "metadata": {},
   "source": [
    "Пропуски в столбце растояние до парка скорее всего просто не заполнили. Есть аномально маленькое значение, врят ли есть квартира которая находится в 1 метре от парка."
   ]
  },
  {
   "cell_type": "code",
   "execution_count": 18,
   "metadata": {},
   "outputs": [
    {
     "data": {
      "text/plain": [
       "count    20518.000000\n",
       "mean       180.888634\n",
       "std        219.727988\n",
       "min          1.000000\n",
       "25%         45.000000\n",
       "50%         95.000000\n",
       "75%        232.000000\n",
       "max       1580.000000\n",
       "Name: days_exposition, dtype: float64"
      ]
     },
     "execution_count": 18,
     "metadata": {},
     "output_type": "execute_result"
    }
   ],
   "source": [
    "realty['days_exposition'].describe()"
   ]
  },
  {
   "cell_type": "markdown",
   "metadata": {},
   "source": [
    "Значения могут отсутствовать, например, по причине того, что неизвестно когда было закрыто объявление о продаже, т.е., фактически, сделка была совершена, но не была закрыта на онлайн-ресурсе. По той же причине можем получить результаты в виде срока продажи квартиры в несколько лет"
   ]
  },
  {
   "cell_type": "markdown",
   "metadata": {},
   "source": [
    "### Вывод"
   ]
  },
  {
   "cell_type": "markdown",
   "metadata": {},
   "source": [
    "Данные довольно \"грязные\", но будем искать пути решения для их максимально корректного заполнения."
   ]
  },
  {
   "cell_type": "markdown",
   "metadata": {},
   "source": [
    "## Предобработка данных"
   ]
  },
  {
   "cell_type": "code",
   "execution_count": 19,
   "metadata": {},
   "outputs": [
    {
     "data": {
      "text/plain": [
       "'Количество NaN в столбце balcony:'"
      ]
     },
     "metadata": {},
     "output_type": "display_data"
    },
    {
     "data": {
      "text/plain": [
       "0"
      ]
     },
     "metadata": {},
     "output_type": "display_data"
    }
   ],
   "source": [
    "realty['balcony'] = realty['balcony'].fillna(0)\n",
    "display('Количество NaN в столбце balcony:', realty['balcony'].isna().sum())"
   ]
  },
  {
   "cell_type": "markdown",
   "metadata": {},
   "source": [
    "Где данные отсутствуют, проставим нули - балкон отсутствует."
   ]
  },
  {
   "cell_type": "code",
   "execution_count": 20,
   "metadata": {},
   "outputs": [
    {
     "data": {
      "text/plain": [
       "'Количество NaN по airports_nearest:'"
      ]
     },
     "metadata": {},
     "output_type": "display_data"
    },
    {
     "data": {
      "text/plain": [
       "5542"
      ]
     },
     "metadata": {},
     "output_type": "display_data"
    },
    {
     "data": {
      "text/plain": [
       "'Количество NaN по cityCenters_nearest:'"
      ]
     },
     "metadata": {},
     "output_type": "display_data"
    },
    {
     "data": {
      "text/plain": [
       "5519"
      ]
     },
     "metadata": {},
     "output_type": "display_data"
    }
   ],
   "source": [
    "display('Количество NaN по airports_nearest:', realty['airports_nearest'].isna().sum())\n",
    "display('Количество NaN по cityCenters_nearest:', realty['city_centers_nearest'].isna().sum())"
   ]
  },
  {
   "cell_type": "code",
   "execution_count": 21,
   "metadata": {},
   "outputs": [
    {
     "data": {
      "text/plain": [
       "'Попарно NaN в airports_nearest и в city_centers_nearest в 5518 строках'"
      ]
     },
     "metadata": {},
     "output_type": "display_data"
    }
   ],
   "source": [
    "display('Попарно NaN в airports_nearest и в city_centers_nearest в {} строках'.\n",
    "      format(realty.query('airports_nearest != airports_nearest and city_centers_nearest != city_centers_nearest').shape[0]))"
   ]
  },
  {
   "cell_type": "markdown",
   "metadata": {},
   "source": [
    "Посмотрели, в каждой ли строке, где NaN в airports_nearest, есть NaN в city_сenters_nearest и в ponds_around_3000"
   ]
  },
  {
   "cell_type": "code",
   "execution_count": 22,
   "metadata": {},
   "outputs": [],
   "source": [
    "def fillna_ceiling_height(row):\n",
    "    if row < 2500:\n",
    "        return 'самый центр'\n",
    "    elif row < 5000:\n",
    "        return 'центр'\n",
    "    elif row < 17000:\n",
    "        return 'в пределах города'\n",
    "    elif row >= 17000:\n",
    "        return 'область'"
   ]
  },
  {
   "cell_type": "markdown",
   "metadata": {},
   "source": [
    "котегоризируем удаленность от центра:\n",
    "\n",
    "0-2км от центра (категория 'самый центр');\n",
    "\n",
    "2-5км от центра (категория 'центр');\n",
    "\n",
    "5-17км от центра (категория 'близко');\n",
    "\n",
    "17 < км от центра (категория 'пгт')."
   ]
  },
  {
   "cell_type": "code",
   "execution_count": 23,
   "metadata": {},
   "outputs": [
    {
     "data": {
      "text/html": [
       "<div>\n",
       "<style scoped>\n",
       "    .dataframe tbody tr th:only-of-type {\n",
       "        vertical-align: middle;\n",
       "    }\n",
       "\n",
       "    .dataframe tbody tr th {\n",
       "        vertical-align: top;\n",
       "    }\n",
       "\n",
       "    .dataframe thead th {\n",
       "        text-align: right;\n",
       "    }\n",
       "</style>\n",
       "<table border=\"1\" class=\"dataframe\">\n",
       "  <thead>\n",
       "    <tr style=\"text-align: right;\">\n",
       "      <th></th>\n",
       "      <th>total_images</th>\n",
       "      <th>last_price</th>\n",
       "      <th>total_area</th>\n",
       "      <th>first_day_exposition</th>\n",
       "      <th>rooms</th>\n",
       "      <th>ceiling_height</th>\n",
       "      <th>floors_total</th>\n",
       "      <th>living_area</th>\n",
       "      <th>floor</th>\n",
       "      <th>apartment</th>\n",
       "      <th>...</th>\n",
       "      <th>balcony</th>\n",
       "      <th>locality_name</th>\n",
       "      <th>airports_nearest</th>\n",
       "      <th>city_centers_nearest</th>\n",
       "      <th>parks_around_3000</th>\n",
       "      <th>parks_nearest</th>\n",
       "      <th>ponds_around_3000</th>\n",
       "      <th>ponds_nearest</th>\n",
       "      <th>days_exposition</th>\n",
       "      <th>centr_category</th>\n",
       "    </tr>\n",
       "  </thead>\n",
       "  <tbody>\n",
       "    <tr>\n",
       "      <th>0</th>\n",
       "      <td>20</td>\n",
       "      <td>13000000.0</td>\n",
       "      <td>108.0</td>\n",
       "      <td>2019-03-07T00:00:00</td>\n",
       "      <td>3</td>\n",
       "      <td>2.70</td>\n",
       "      <td>16.0</td>\n",
       "      <td>51.0</td>\n",
       "      <td>8</td>\n",
       "      <td>NaN</td>\n",
       "      <td>...</td>\n",
       "      <td>0.0</td>\n",
       "      <td>Санкт-Петербург</td>\n",
       "      <td>18863.0</td>\n",
       "      <td>16028.0</td>\n",
       "      <td>1.0</td>\n",
       "      <td>482.0</td>\n",
       "      <td>2.0</td>\n",
       "      <td>755.0</td>\n",
       "      <td>NaN</td>\n",
       "      <td>в пределах города</td>\n",
       "    </tr>\n",
       "    <tr>\n",
       "      <th>1</th>\n",
       "      <td>7</td>\n",
       "      <td>3350000.0</td>\n",
       "      <td>40.4</td>\n",
       "      <td>2018-12-04T00:00:00</td>\n",
       "      <td>1</td>\n",
       "      <td>NaN</td>\n",
       "      <td>11.0</td>\n",
       "      <td>18.6</td>\n",
       "      <td>1</td>\n",
       "      <td>NaN</td>\n",
       "      <td>...</td>\n",
       "      <td>2.0</td>\n",
       "      <td>посёлок Шушары</td>\n",
       "      <td>12817.0</td>\n",
       "      <td>18603.0</td>\n",
       "      <td>0.0</td>\n",
       "      <td>NaN</td>\n",
       "      <td>0.0</td>\n",
       "      <td>NaN</td>\n",
       "      <td>81.0</td>\n",
       "      <td>область</td>\n",
       "    </tr>\n",
       "    <tr>\n",
       "      <th>2</th>\n",
       "      <td>10</td>\n",
       "      <td>5196000.0</td>\n",
       "      <td>56.0</td>\n",
       "      <td>2015-08-20T00:00:00</td>\n",
       "      <td>2</td>\n",
       "      <td>NaN</td>\n",
       "      <td>5.0</td>\n",
       "      <td>34.3</td>\n",
       "      <td>4</td>\n",
       "      <td>NaN</td>\n",
       "      <td>...</td>\n",
       "      <td>0.0</td>\n",
       "      <td>Санкт-Петербург</td>\n",
       "      <td>21741.0</td>\n",
       "      <td>13933.0</td>\n",
       "      <td>1.0</td>\n",
       "      <td>90.0</td>\n",
       "      <td>2.0</td>\n",
       "      <td>574.0</td>\n",
       "      <td>558.0</td>\n",
       "      <td>в пределах города</td>\n",
       "    </tr>\n",
       "    <tr>\n",
       "      <th>3</th>\n",
       "      <td>0</td>\n",
       "      <td>64900000.0</td>\n",
       "      <td>159.0</td>\n",
       "      <td>2015-07-24T00:00:00</td>\n",
       "      <td>3</td>\n",
       "      <td>NaN</td>\n",
       "      <td>14.0</td>\n",
       "      <td>NaN</td>\n",
       "      <td>9</td>\n",
       "      <td>NaN</td>\n",
       "      <td>...</td>\n",
       "      <td>0.0</td>\n",
       "      <td>Санкт-Петербург</td>\n",
       "      <td>28098.0</td>\n",
       "      <td>6800.0</td>\n",
       "      <td>2.0</td>\n",
       "      <td>84.0</td>\n",
       "      <td>3.0</td>\n",
       "      <td>234.0</td>\n",
       "      <td>424.0</td>\n",
       "      <td>в пределах города</td>\n",
       "    </tr>\n",
       "    <tr>\n",
       "      <th>4</th>\n",
       "      <td>2</td>\n",
       "      <td>10000000.0</td>\n",
       "      <td>100.0</td>\n",
       "      <td>2018-06-19T00:00:00</td>\n",
       "      <td>2</td>\n",
       "      <td>3.03</td>\n",
       "      <td>14.0</td>\n",
       "      <td>32.0</td>\n",
       "      <td>13</td>\n",
       "      <td>NaN</td>\n",
       "      <td>...</td>\n",
       "      <td>0.0</td>\n",
       "      <td>Санкт-Петербург</td>\n",
       "      <td>31856.0</td>\n",
       "      <td>8098.0</td>\n",
       "      <td>2.0</td>\n",
       "      <td>112.0</td>\n",
       "      <td>1.0</td>\n",
       "      <td>48.0</td>\n",
       "      <td>121.0</td>\n",
       "      <td>в пределах города</td>\n",
       "    </tr>\n",
       "  </tbody>\n",
       "</table>\n",
       "<p>5 rows × 23 columns</p>\n",
       "</div>"
      ],
      "text/plain": [
       "   total_images  last_price  total_area first_day_exposition  rooms  \\\n",
       "0            20  13000000.0       108.0  2019-03-07T00:00:00      3   \n",
       "1             7   3350000.0        40.4  2018-12-04T00:00:00      1   \n",
       "2            10   5196000.0        56.0  2015-08-20T00:00:00      2   \n",
       "3             0  64900000.0       159.0  2015-07-24T00:00:00      3   \n",
       "4             2  10000000.0       100.0  2018-06-19T00:00:00      2   \n",
       "\n",
       "   ceiling_height  floors_total  living_area  floor apartment  ...  balcony  \\\n",
       "0            2.70          16.0         51.0      8       NaN  ...      0.0   \n",
       "1             NaN          11.0         18.6      1       NaN  ...      2.0   \n",
       "2             NaN           5.0         34.3      4       NaN  ...      0.0   \n",
       "3             NaN          14.0          NaN      9       NaN  ...      0.0   \n",
       "4            3.03          14.0         32.0     13       NaN  ...      0.0   \n",
       "\n",
       "     locality_name  airports_nearest  city_centers_nearest parks_around_3000  \\\n",
       "0  Санкт-Петербург           18863.0               16028.0               1.0   \n",
       "1   посёлок Шушары           12817.0               18603.0               0.0   \n",
       "2  Санкт-Петербург           21741.0               13933.0               1.0   \n",
       "3  Санкт-Петербург           28098.0                6800.0               2.0   \n",
       "4  Санкт-Петербург           31856.0                8098.0               2.0   \n",
       "\n",
       "   parks_nearest  ponds_around_3000  ponds_nearest  days_exposition  \\\n",
       "0          482.0                2.0          755.0              NaN   \n",
       "1            NaN                0.0            NaN             81.0   \n",
       "2           90.0                2.0          574.0            558.0   \n",
       "3           84.0                3.0          234.0            424.0   \n",
       "4          112.0                1.0           48.0            121.0   \n",
       "\n",
       "      centr_category  \n",
       "0  в пределах города  \n",
       "1            область  \n",
       "2  в пределах города  \n",
       "3  в пределах города  \n",
       "4  в пределах города  \n",
       "\n",
       "[5 rows x 23 columns]"
      ]
     },
     "execution_count": 23,
     "metadata": {},
     "output_type": "execute_result"
    }
   ],
   "source": [
    "realty['centr_category'] = realty['city_centers_nearest'].apply(fillna_ceiling_height)\n",
    "realty.head()"
   ]
  },
  {
   "cell_type": "code",
   "execution_count": 24,
   "metadata": {},
   "outputs": [
    {
     "data": {
      "text/html": [
       "<div>\n",
       "<style scoped>\n",
       "    .dataframe tbody tr th:only-of-type {\n",
       "        vertical-align: middle;\n",
       "    }\n",
       "\n",
       "    .dataframe tbody tr th {\n",
       "        vertical-align: top;\n",
       "    }\n",
       "\n",
       "    .dataframe thead th {\n",
       "        text-align: right;\n",
       "    }\n",
       "</style>\n",
       "<table border=\"1\" class=\"dataframe\">\n",
       "  <thead>\n",
       "    <tr style=\"text-align: right;\">\n",
       "      <th></th>\n",
       "      <th>ceiling_height</th>\n",
       "    </tr>\n",
       "    <tr>\n",
       "      <th>centr_category</th>\n",
       "      <th></th>\n",
       "    </tr>\n",
       "  </thead>\n",
       "  <tbody>\n",
       "    <tr>\n",
       "      <th>самый центр</th>\n",
       "      <td>3.239759</td>\n",
       "    </tr>\n",
       "    <tr>\n",
       "      <th>центр</th>\n",
       "      <td>3.189076</td>\n",
       "    </tr>\n",
       "    <tr>\n",
       "      <th>в пределах города</th>\n",
       "      <td>2.744391</td>\n",
       "    </tr>\n",
       "    <tr>\n",
       "      <th>область</th>\n",
       "      <td>2.677288</td>\n",
       "    </tr>\n",
       "  </tbody>\n",
       "</table>\n",
       "</div>"
      ],
      "text/plain": [
       "                   ceiling_height\n",
       "centr_category                   \n",
       "самый центр              3.239759\n",
       "центр                    3.189076\n",
       "в пределах города        2.744391\n",
       "область                  2.677288"
      ]
     },
     "execution_count": 24,
     "metadata": {},
     "output_type": "execute_result"
    }
   ],
   "source": [
    "realty.groupby('centr_category')['ceiling_height'].mean().sort_values(ascending=False).to_frame()"
   ]
  },
  {
   "cell_type": "markdown",
   "metadata": {},
   "source": [
    "Заполним пропуски в столбце ceiling_height средним по каждой группе center_category (кроме строк, где NaN в city_centers_nearest - там мы не можем узнать, центр это или, например, почти область, поэтому не будем трогать):"
   ]
  },
  {
   "cell_type": "code",
   "execution_count": 25,
   "metadata": {},
   "outputs": [],
   "source": [
    "list_of_centr_category = ['самый центр', 'центр', 'близко к центру', 'ближе к области/область']\n",
    "for column in list_of_centr_category:\n",
    "    value_for_filling = realty.groupby('centr_category')['ceiling_height'].median().get(key=column)\n",
    "    realty['ceiling_height'] = realty.groupby('centr_category')['ceiling_height'].apply(lambda x: x.fillna(x.median()))"
   ]
  },
  {
   "cell_type": "code",
   "execution_count": 26,
   "metadata": {},
   "outputs": [
    {
     "data": {
      "text/html": [
       "<div>\n",
       "<style scoped>\n",
       "    .dataframe tbody tr th:only-of-type {\n",
       "        vertical-align: middle;\n",
       "    }\n",
       "\n",
       "    .dataframe tbody tr th {\n",
       "        vertical-align: top;\n",
       "    }\n",
       "\n",
       "    .dataframe thead th {\n",
       "        text-align: right;\n",
       "    }\n",
       "</style>\n",
       "<table border=\"1\" class=\"dataframe\">\n",
       "  <thead>\n",
       "    <tr style=\"text-align: right;\">\n",
       "      <th></th>\n",
       "      <th>total_images</th>\n",
       "      <th>last_price</th>\n",
       "      <th>total_area</th>\n",
       "      <th>first_day_exposition</th>\n",
       "      <th>rooms</th>\n",
       "      <th>ceiling_height</th>\n",
       "      <th>floors_total</th>\n",
       "      <th>living_area</th>\n",
       "      <th>floor</th>\n",
       "      <th>apartment</th>\n",
       "      <th>...</th>\n",
       "      <th>balcony</th>\n",
       "      <th>locality_name</th>\n",
       "      <th>airports_nearest</th>\n",
       "      <th>city_centers_nearest</th>\n",
       "      <th>parks_around_3000</th>\n",
       "      <th>parks_nearest</th>\n",
       "      <th>ponds_around_3000</th>\n",
       "      <th>ponds_nearest</th>\n",
       "      <th>days_exposition</th>\n",
       "      <th>centr_category</th>\n",
       "    </tr>\n",
       "  </thead>\n",
       "  <tbody>\n",
       "    <tr>\n",
       "      <th>0</th>\n",
       "      <td>20</td>\n",
       "      <td>13000000.0</td>\n",
       "      <td>108.00</td>\n",
       "      <td>2019-03-07T00:00:00</td>\n",
       "      <td>3</td>\n",
       "      <td>2.70</td>\n",
       "      <td>16.0</td>\n",
       "      <td>51.00</td>\n",
       "      <td>8</td>\n",
       "      <td>NaN</td>\n",
       "      <td>...</td>\n",
       "      <td>0.0</td>\n",
       "      <td>Санкт-Петербург</td>\n",
       "      <td>18863.0</td>\n",
       "      <td>16028.0</td>\n",
       "      <td>1.0</td>\n",
       "      <td>482.0</td>\n",
       "      <td>2.0</td>\n",
       "      <td>755.0</td>\n",
       "      <td>NaN</td>\n",
       "      <td>в пределах города</td>\n",
       "    </tr>\n",
       "    <tr>\n",
       "      <th>1</th>\n",
       "      <td>7</td>\n",
       "      <td>3350000.0</td>\n",
       "      <td>40.40</td>\n",
       "      <td>2018-12-04T00:00:00</td>\n",
       "      <td>1</td>\n",
       "      <td>2.60</td>\n",
       "      <td>11.0</td>\n",
       "      <td>18.60</td>\n",
       "      <td>1</td>\n",
       "      <td>NaN</td>\n",
       "      <td>...</td>\n",
       "      <td>2.0</td>\n",
       "      <td>посёлок Шушары</td>\n",
       "      <td>12817.0</td>\n",
       "      <td>18603.0</td>\n",
       "      <td>0.0</td>\n",
       "      <td>NaN</td>\n",
       "      <td>0.0</td>\n",
       "      <td>NaN</td>\n",
       "      <td>81.0</td>\n",
       "      <td>область</td>\n",
       "    </tr>\n",
       "    <tr>\n",
       "      <th>2</th>\n",
       "      <td>10</td>\n",
       "      <td>5196000.0</td>\n",
       "      <td>56.00</td>\n",
       "      <td>2015-08-20T00:00:00</td>\n",
       "      <td>2</td>\n",
       "      <td>2.65</td>\n",
       "      <td>5.0</td>\n",
       "      <td>34.30</td>\n",
       "      <td>4</td>\n",
       "      <td>NaN</td>\n",
       "      <td>...</td>\n",
       "      <td>0.0</td>\n",
       "      <td>Санкт-Петербург</td>\n",
       "      <td>21741.0</td>\n",
       "      <td>13933.0</td>\n",
       "      <td>1.0</td>\n",
       "      <td>90.0</td>\n",
       "      <td>2.0</td>\n",
       "      <td>574.0</td>\n",
       "      <td>558.0</td>\n",
       "      <td>в пределах города</td>\n",
       "    </tr>\n",
       "    <tr>\n",
       "      <th>3</th>\n",
       "      <td>0</td>\n",
       "      <td>64900000.0</td>\n",
       "      <td>159.00</td>\n",
       "      <td>2015-07-24T00:00:00</td>\n",
       "      <td>3</td>\n",
       "      <td>2.65</td>\n",
       "      <td>14.0</td>\n",
       "      <td>NaN</td>\n",
       "      <td>9</td>\n",
       "      <td>NaN</td>\n",
       "      <td>...</td>\n",
       "      <td>0.0</td>\n",
       "      <td>Санкт-Петербург</td>\n",
       "      <td>28098.0</td>\n",
       "      <td>6800.0</td>\n",
       "      <td>2.0</td>\n",
       "      <td>84.0</td>\n",
       "      <td>3.0</td>\n",
       "      <td>234.0</td>\n",
       "      <td>424.0</td>\n",
       "      <td>в пределах города</td>\n",
       "    </tr>\n",
       "    <tr>\n",
       "      <th>4</th>\n",
       "      <td>2</td>\n",
       "      <td>10000000.0</td>\n",
       "      <td>100.00</td>\n",
       "      <td>2018-06-19T00:00:00</td>\n",
       "      <td>2</td>\n",
       "      <td>3.03</td>\n",
       "      <td>14.0</td>\n",
       "      <td>32.00</td>\n",
       "      <td>13</td>\n",
       "      <td>NaN</td>\n",
       "      <td>...</td>\n",
       "      <td>0.0</td>\n",
       "      <td>Санкт-Петербург</td>\n",
       "      <td>31856.0</td>\n",
       "      <td>8098.0</td>\n",
       "      <td>2.0</td>\n",
       "      <td>112.0</td>\n",
       "      <td>1.0</td>\n",
       "      <td>48.0</td>\n",
       "      <td>121.0</td>\n",
       "      <td>в пределах города</td>\n",
       "    </tr>\n",
       "    <tr>\n",
       "      <th>5</th>\n",
       "      <td>10</td>\n",
       "      <td>2890000.0</td>\n",
       "      <td>30.40</td>\n",
       "      <td>2018-09-10T00:00:00</td>\n",
       "      <td>1</td>\n",
       "      <td>NaN</td>\n",
       "      <td>12.0</td>\n",
       "      <td>14.40</td>\n",
       "      <td>5</td>\n",
       "      <td>NaN</td>\n",
       "      <td>...</td>\n",
       "      <td>0.0</td>\n",
       "      <td>городской посёлок Янино-1</td>\n",
       "      <td>NaN</td>\n",
       "      <td>NaN</td>\n",
       "      <td>NaN</td>\n",
       "      <td>NaN</td>\n",
       "      <td>NaN</td>\n",
       "      <td>NaN</td>\n",
       "      <td>55.0</td>\n",
       "      <td>None</td>\n",
       "    </tr>\n",
       "    <tr>\n",
       "      <th>6</th>\n",
       "      <td>6</td>\n",
       "      <td>3700000.0</td>\n",
       "      <td>37.30</td>\n",
       "      <td>2017-11-02T00:00:00</td>\n",
       "      <td>1</td>\n",
       "      <td>2.60</td>\n",
       "      <td>26.0</td>\n",
       "      <td>10.60</td>\n",
       "      <td>6</td>\n",
       "      <td>NaN</td>\n",
       "      <td>...</td>\n",
       "      <td>1.0</td>\n",
       "      <td>посёлок Парголово</td>\n",
       "      <td>52996.0</td>\n",
       "      <td>19143.0</td>\n",
       "      <td>0.0</td>\n",
       "      <td>NaN</td>\n",
       "      <td>0.0</td>\n",
       "      <td>NaN</td>\n",
       "      <td>155.0</td>\n",
       "      <td>область</td>\n",
       "    </tr>\n",
       "    <tr>\n",
       "      <th>7</th>\n",
       "      <td>5</td>\n",
       "      <td>7915000.0</td>\n",
       "      <td>71.60</td>\n",
       "      <td>2019-04-18T00:00:00</td>\n",
       "      <td>2</td>\n",
       "      <td>2.65</td>\n",
       "      <td>24.0</td>\n",
       "      <td>NaN</td>\n",
       "      <td>22</td>\n",
       "      <td>NaN</td>\n",
       "      <td>...</td>\n",
       "      <td>2.0</td>\n",
       "      <td>Санкт-Петербург</td>\n",
       "      <td>23982.0</td>\n",
       "      <td>11634.0</td>\n",
       "      <td>0.0</td>\n",
       "      <td>NaN</td>\n",
       "      <td>0.0</td>\n",
       "      <td>NaN</td>\n",
       "      <td>NaN</td>\n",
       "      <td>в пределах города</td>\n",
       "    </tr>\n",
       "    <tr>\n",
       "      <th>8</th>\n",
       "      <td>20</td>\n",
       "      <td>2900000.0</td>\n",
       "      <td>33.16</td>\n",
       "      <td>2018-05-23T00:00:00</td>\n",
       "      <td>1</td>\n",
       "      <td>NaN</td>\n",
       "      <td>27.0</td>\n",
       "      <td>15.43</td>\n",
       "      <td>26</td>\n",
       "      <td>NaN</td>\n",
       "      <td>...</td>\n",
       "      <td>0.0</td>\n",
       "      <td>посёлок Мурино</td>\n",
       "      <td>NaN</td>\n",
       "      <td>NaN</td>\n",
       "      <td>NaN</td>\n",
       "      <td>NaN</td>\n",
       "      <td>NaN</td>\n",
       "      <td>NaN</td>\n",
       "      <td>189.0</td>\n",
       "      <td>None</td>\n",
       "    </tr>\n",
       "    <tr>\n",
       "      <th>9</th>\n",
       "      <td>18</td>\n",
       "      <td>5400000.0</td>\n",
       "      <td>61.00</td>\n",
       "      <td>2017-02-26T00:00:00</td>\n",
       "      <td>3</td>\n",
       "      <td>2.50</td>\n",
       "      <td>9.0</td>\n",
       "      <td>43.60</td>\n",
       "      <td>7</td>\n",
       "      <td>NaN</td>\n",
       "      <td>...</td>\n",
       "      <td>2.0</td>\n",
       "      <td>Санкт-Петербург</td>\n",
       "      <td>50898.0</td>\n",
       "      <td>15008.0</td>\n",
       "      <td>0.0</td>\n",
       "      <td>NaN</td>\n",
       "      <td>0.0</td>\n",
       "      <td>NaN</td>\n",
       "      <td>289.0</td>\n",
       "      <td>в пределах города</td>\n",
       "    </tr>\n",
       "  </tbody>\n",
       "</table>\n",
       "<p>10 rows × 23 columns</p>\n",
       "</div>"
      ],
      "text/plain": [
       "   total_images  last_price  total_area first_day_exposition  rooms  \\\n",
       "0            20  13000000.0      108.00  2019-03-07T00:00:00      3   \n",
       "1             7   3350000.0       40.40  2018-12-04T00:00:00      1   \n",
       "2            10   5196000.0       56.00  2015-08-20T00:00:00      2   \n",
       "3             0  64900000.0      159.00  2015-07-24T00:00:00      3   \n",
       "4             2  10000000.0      100.00  2018-06-19T00:00:00      2   \n",
       "5            10   2890000.0       30.40  2018-09-10T00:00:00      1   \n",
       "6             6   3700000.0       37.30  2017-11-02T00:00:00      1   \n",
       "7             5   7915000.0       71.60  2019-04-18T00:00:00      2   \n",
       "8            20   2900000.0       33.16  2018-05-23T00:00:00      1   \n",
       "9            18   5400000.0       61.00  2017-02-26T00:00:00      3   \n",
       "\n",
       "   ceiling_height  floors_total  living_area  floor apartment  ...  balcony  \\\n",
       "0            2.70          16.0        51.00      8       NaN  ...      0.0   \n",
       "1            2.60          11.0        18.60      1       NaN  ...      2.0   \n",
       "2            2.65           5.0        34.30      4       NaN  ...      0.0   \n",
       "3            2.65          14.0          NaN      9       NaN  ...      0.0   \n",
       "4            3.03          14.0        32.00     13       NaN  ...      0.0   \n",
       "5             NaN          12.0        14.40      5       NaN  ...      0.0   \n",
       "6            2.60          26.0        10.60      6       NaN  ...      1.0   \n",
       "7            2.65          24.0          NaN     22       NaN  ...      2.0   \n",
       "8             NaN          27.0        15.43     26       NaN  ...      0.0   \n",
       "9            2.50           9.0        43.60      7       NaN  ...      2.0   \n",
       "\n",
       "               locality_name  airports_nearest  city_centers_nearest  \\\n",
       "0            Санкт-Петербург           18863.0               16028.0   \n",
       "1             посёлок Шушары           12817.0               18603.0   \n",
       "2            Санкт-Петербург           21741.0               13933.0   \n",
       "3            Санкт-Петербург           28098.0                6800.0   \n",
       "4            Санкт-Петербург           31856.0                8098.0   \n",
       "5  городской посёлок Янино-1               NaN                   NaN   \n",
       "6          посёлок Парголово           52996.0               19143.0   \n",
       "7            Санкт-Петербург           23982.0               11634.0   \n",
       "8             посёлок Мурино               NaN                   NaN   \n",
       "9            Санкт-Петербург           50898.0               15008.0   \n",
       "\n",
       "  parks_around_3000  parks_nearest  ponds_around_3000  ponds_nearest  \\\n",
       "0               1.0          482.0                2.0          755.0   \n",
       "1               0.0            NaN                0.0            NaN   \n",
       "2               1.0           90.0                2.0          574.0   \n",
       "3               2.0           84.0                3.0          234.0   \n",
       "4               2.0          112.0                1.0           48.0   \n",
       "5               NaN            NaN                NaN            NaN   \n",
       "6               0.0            NaN                0.0            NaN   \n",
       "7               0.0            NaN                0.0            NaN   \n",
       "8               NaN            NaN                NaN            NaN   \n",
       "9               0.0            NaN                0.0            NaN   \n",
       "\n",
       "   days_exposition     centr_category  \n",
       "0              NaN  в пределах города  \n",
       "1             81.0            область  \n",
       "2            558.0  в пределах города  \n",
       "3            424.0  в пределах города  \n",
       "4            121.0  в пределах города  \n",
       "5             55.0               None  \n",
       "6            155.0            область  \n",
       "7              NaN  в пределах города  \n",
       "8            189.0               None  \n",
       "9            289.0  в пределах города  \n",
       "\n",
       "[10 rows x 23 columns]"
      ]
     },
     "metadata": {},
     "output_type": "display_data"
    },
    {
     "data": {
      "text/plain": [
       "5519"
      ]
     },
     "execution_count": 26,
     "metadata": {},
     "output_type": "execute_result"
    }
   ],
   "source": [
    "realty['ceiling_height'] = realty.groupby('centr_category')['ceiling_height'].apply(lambda x: x.fillna(x.median()))\n",
    "display(realty.head(10))\n",
    "realty['ceiling_height'].isna().sum()"
   ]
  },
  {
   "cell_type": "markdown",
   "metadata": {},
   "source": [
    "Смогли уменьшить количество пропусков почти вдвое, для лучшего резульата не хватает данных по удаленности от центра."
   ]
  },
  {
   "cell_type": "code",
   "execution_count": 27,
   "metadata": {},
   "outputs": [
    {
     "data": {
      "text/plain": [
       "kitchen_area    197\n",
       "living_area      14\n",
       "dtype: int64"
      ]
     },
     "execution_count": 27,
     "metadata": {},
     "output_type": "execute_result"
    }
   ],
   "source": [
    "realty.query('rooms == 0')[['kitchen_area', 'living_area']].isnull().sum()"
   ]
  },
  {
   "cell_type": "markdown",
   "metadata": {},
   "source": [
    "Проверили гипотезу что в столбцах площадь кухни и жилая площадь отосятся к студиям, тут мы видимо что лишь малая часть пропусков по этим столбцам относится к студиям. Да и с ними нам нечего делать - не делить же пополам общую площадь. Оставляем как есть."
   ]
  },
  {
   "cell_type": "code",
   "execution_count": 28,
   "metadata": {},
   "outputs": [
    {
     "name": "stdout",
     "output_type": "stream",
     "text": [
      "Количество NaN по locality_name: 49\n"
     ]
    },
    {
     "data": {
      "text/html": [
       "<div>\n",
       "<style scoped>\n",
       "    .dataframe tbody tr th:only-of-type {\n",
       "        vertical-align: middle;\n",
       "    }\n",
       "\n",
       "    .dataframe tbody tr th {\n",
       "        vertical-align: top;\n",
       "    }\n",
       "\n",
       "    .dataframe thead th {\n",
       "        text-align: right;\n",
       "    }\n",
       "</style>\n",
       "<table border=\"1\" class=\"dataframe\">\n",
       "  <thead>\n",
       "    <tr style=\"text-align: right;\">\n",
       "      <th></th>\n",
       "      <th>locality_name</th>\n",
       "      <th>city_centers_nearest</th>\n",
       "    </tr>\n",
       "  </thead>\n",
       "  <tbody>\n",
       "    <tr>\n",
       "      <th>1097</th>\n",
       "      <td>NaN</td>\n",
       "      <td>4258.0</td>\n",
       "    </tr>\n",
       "    <tr>\n",
       "      <th>2033</th>\n",
       "      <td>NaN</td>\n",
       "      <td>NaN</td>\n",
       "    </tr>\n",
       "    <tr>\n",
       "      <th>2603</th>\n",
       "      <td>NaN</td>\n",
       "      <td>17369.0</td>\n",
       "    </tr>\n",
       "    <tr>\n",
       "      <th>2632</th>\n",
       "      <td>NaN</td>\n",
       "      <td>17369.0</td>\n",
       "    </tr>\n",
       "    <tr>\n",
       "      <th>3574</th>\n",
       "      <td>NaN</td>\n",
       "      <td>8127.0</td>\n",
       "    </tr>\n",
       "  </tbody>\n",
       "</table>\n",
       "</div>"
      ],
      "text/plain": [
       "     locality_name  city_centers_nearest\n",
       "1097           NaN                4258.0\n",
       "2033           NaN                   NaN\n",
       "2603           NaN               17369.0\n",
       "2632           NaN               17369.0\n",
       "3574           NaN                8127.0"
      ]
     },
     "execution_count": 28,
     "metadata": {},
     "output_type": "execute_result"
    }
   ],
   "source": [
    "print('Количество NaN по locality_name:', realty['locality_name'].isnull().sum())\n",
    "realty[(realty['locality_name'].isnull())][['locality_name', 'city_centers_nearest']].head()"
   ]
  },
  {
   "cell_type": "markdown",
   "metadata": {},
   "source": [
    "Проверим, есть ли данные по расстоянию от центра города, чтоб хотя бы предположить, что эта квартира находится в пределах Санкт-Петербурга"
   ]
  },
  {
   "cell_type": "code",
   "execution_count": 29,
   "metadata": {},
   "outputs": [],
   "source": [
    "realty.loc[(realty['locality_name'].isnull()) & (realty['city_centers_nearest'] < 10000), 'locality_name'] = realty.loc[(realty['locality_name'].isnull()) & (realty['city_centers_nearest'] < 10000), 'locality_name'].fillna('Санкт-Петербург')"
   ]
  },
  {
   "cell_type": "code",
   "execution_count": 30,
   "metadata": {},
   "outputs": [
    {
     "name": "stdout",
     "output_type": "stream",
     "text": [
      "Количество NaN по locality_name: 24\n"
     ]
    }
   ],
   "source": [
    "print('Количество NaN по locality_name:', realty['locality_name'].isnull().sum())"
   ]
  },
  {
   "cell_type": "markdown",
   "metadata": {},
   "source": [
    "Заполнили немного пропусков названиях населенных пунктов"
   ]
  },
  {
   "cell_type": "markdown",
   "metadata": {},
   "source": [
    "* `last_price` - в целочисленный тип (нам не нужны копейки в цене);\n",
    "* `total_area` - округлим до 1го знака после запятой (всё-таки это квадратные метры, можно и за десятые побороться);\n",
    "* `first_day_exposition` - даты в datetime;\n",
    "* `ceiling_height` - округлим до 1го знака после запятой (всё-таки это высота потолков, можно и за десятые побороться);\n",
    "* `floors_total, balcony` - ну где вы видели нецелочисленное количество этажей? На int;\n",
    "* `living_area, kitchen_area` - туда же к иcтории про площадь и высоту потолков, т.е. до 1 знака после запятой\n",
    "* `airports_nearest, city_centers_nearest, parks_around_3000, parks_nearest, ponds_around_3000, ponds_nearest` - все расстояния указаны в метрах, переводим в целочисленный формат\n",
    "* `days_exposition` - количество дней, как долго продавалась недвижимость. Естественно, в int."
   ]
  },
  {
   "cell_type": "code",
   "execution_count": 31,
   "metadata": {},
   "outputs": [],
   "source": [
    "realty['first_day_exposition'] = pd.to_datetime(realty['first_day_exposition'], format='%Y-%m-%dT%H:%M:%S')"
   ]
  },
  {
   "cell_type": "markdown",
   "metadata": {},
   "source": [
    "Изменяю формат столбца first_day_exposition на datetime"
   ]
  },
  {
   "cell_type": "code",
   "execution_count": 32,
   "metadata": {},
   "outputs": [],
   "source": [
    "list_to_int = ['last_price', 'floors_total', 'balcony', 'airports_nearest', \n",
    "               'city_centers_nearest', 'parks_around_3000', 'parks_nearest', \n",
    "               'ponds_around_3000', 'ponds_nearest', 'days_exposition']"
   ]
  },
  {
   "cell_type": "markdown",
   "metadata": {},
   "source": [
    "Список столбцов для приведения к типу int"
   ]
  },
  {
   "cell_type": "code",
   "execution_count": 33,
   "metadata": {},
   "outputs": [],
   "source": [
    "for column in list_to_int:\n",
    "    realty[column] = realty[realty[column].notnull()][column].astype('int')"
   ]
  },
  {
   "cell_type": "markdown",
   "metadata": {},
   "source": [
    "Изменяем на тип int"
   ]
  },
  {
   "cell_type": "code",
   "execution_count": 34,
   "metadata": {},
   "outputs": [],
   "source": [
    "list_to_float_1 = ['total_area', 'ceiling_height', 'living_area', 'kitchen_area']"
   ]
  },
  {
   "cell_type": "markdown",
   "metadata": {},
   "source": [
    "Столбцы, где округляем данные до 1 знака после запятой"
   ]
  },
  {
   "cell_type": "code",
   "execution_count": 35,
   "metadata": {},
   "outputs": [],
   "source": [
    "for column in list_to_float_1:\n",
    "    realty[column] = realty[realty[column].notnull()][column].round(1)"
   ]
  },
  {
   "cell_type": "markdown",
   "metadata": {},
   "source": [
    "Округляем до 1 знака после запятой"
   ]
  },
  {
   "cell_type": "code",
   "execution_count": 36,
   "metadata": {},
   "outputs": [
    {
     "data": {
      "text/html": [
       "<div>\n",
       "<style scoped>\n",
       "    .dataframe tbody tr th:only-of-type {\n",
       "        vertical-align: middle;\n",
       "    }\n",
       "\n",
       "    .dataframe tbody tr th {\n",
       "        vertical-align: top;\n",
       "    }\n",
       "\n",
       "    .dataframe thead th {\n",
       "        text-align: right;\n",
       "    }\n",
       "</style>\n",
       "<table border=\"1\" class=\"dataframe\">\n",
       "  <thead>\n",
       "    <tr style=\"text-align: right;\">\n",
       "      <th></th>\n",
       "      <th>total_images</th>\n",
       "      <th>last_price</th>\n",
       "      <th>total_area</th>\n",
       "      <th>first_day_exposition</th>\n",
       "      <th>rooms</th>\n",
       "      <th>ceiling_height</th>\n",
       "      <th>floors_total</th>\n",
       "      <th>living_area</th>\n",
       "      <th>floor</th>\n",
       "      <th>apartment</th>\n",
       "      <th>...</th>\n",
       "      <th>balcony</th>\n",
       "      <th>locality_name</th>\n",
       "      <th>airports_nearest</th>\n",
       "      <th>city_centers_nearest</th>\n",
       "      <th>parks_around_3000</th>\n",
       "      <th>parks_nearest</th>\n",
       "      <th>ponds_around_3000</th>\n",
       "      <th>ponds_nearest</th>\n",
       "      <th>days_exposition</th>\n",
       "      <th>centr_category</th>\n",
       "    </tr>\n",
       "  </thead>\n",
       "  <tbody>\n",
       "    <tr>\n",
       "      <th>0</th>\n",
       "      <td>20</td>\n",
       "      <td>13000000</td>\n",
       "      <td>108.0</td>\n",
       "      <td>2019-03-07</td>\n",
       "      <td>3</td>\n",
       "      <td>2.7</td>\n",
       "      <td>16.0</td>\n",
       "      <td>51.0</td>\n",
       "      <td>8</td>\n",
       "      <td>NaN</td>\n",
       "      <td>...</td>\n",
       "      <td>0</td>\n",
       "      <td>Санкт-Петербург</td>\n",
       "      <td>18863.0</td>\n",
       "      <td>16028.0</td>\n",
       "      <td>1.0</td>\n",
       "      <td>482.0</td>\n",
       "      <td>2.0</td>\n",
       "      <td>755.0</td>\n",
       "      <td>NaN</td>\n",
       "      <td>в пределах города</td>\n",
       "    </tr>\n",
       "    <tr>\n",
       "      <th>1</th>\n",
       "      <td>7</td>\n",
       "      <td>3350000</td>\n",
       "      <td>40.4</td>\n",
       "      <td>2018-12-04</td>\n",
       "      <td>1</td>\n",
       "      <td>2.6</td>\n",
       "      <td>11.0</td>\n",
       "      <td>18.6</td>\n",
       "      <td>1</td>\n",
       "      <td>NaN</td>\n",
       "      <td>...</td>\n",
       "      <td>2</td>\n",
       "      <td>посёлок Шушары</td>\n",
       "      <td>12817.0</td>\n",
       "      <td>18603.0</td>\n",
       "      <td>0.0</td>\n",
       "      <td>NaN</td>\n",
       "      <td>0.0</td>\n",
       "      <td>NaN</td>\n",
       "      <td>81.0</td>\n",
       "      <td>область</td>\n",
       "    </tr>\n",
       "    <tr>\n",
       "      <th>2</th>\n",
       "      <td>10</td>\n",
       "      <td>5196000</td>\n",
       "      <td>56.0</td>\n",
       "      <td>2015-08-20</td>\n",
       "      <td>2</td>\n",
       "      <td>2.6</td>\n",
       "      <td>5.0</td>\n",
       "      <td>34.3</td>\n",
       "      <td>4</td>\n",
       "      <td>NaN</td>\n",
       "      <td>...</td>\n",
       "      <td>0</td>\n",
       "      <td>Санкт-Петербург</td>\n",
       "      <td>21741.0</td>\n",
       "      <td>13933.0</td>\n",
       "      <td>1.0</td>\n",
       "      <td>90.0</td>\n",
       "      <td>2.0</td>\n",
       "      <td>574.0</td>\n",
       "      <td>558.0</td>\n",
       "      <td>в пределах города</td>\n",
       "    </tr>\n",
       "    <tr>\n",
       "      <th>3</th>\n",
       "      <td>0</td>\n",
       "      <td>64900000</td>\n",
       "      <td>159.0</td>\n",
       "      <td>2015-07-24</td>\n",
       "      <td>3</td>\n",
       "      <td>2.6</td>\n",
       "      <td>14.0</td>\n",
       "      <td>NaN</td>\n",
       "      <td>9</td>\n",
       "      <td>NaN</td>\n",
       "      <td>...</td>\n",
       "      <td>0</td>\n",
       "      <td>Санкт-Петербург</td>\n",
       "      <td>28098.0</td>\n",
       "      <td>6800.0</td>\n",
       "      <td>2.0</td>\n",
       "      <td>84.0</td>\n",
       "      <td>3.0</td>\n",
       "      <td>234.0</td>\n",
       "      <td>424.0</td>\n",
       "      <td>в пределах города</td>\n",
       "    </tr>\n",
       "    <tr>\n",
       "      <th>4</th>\n",
       "      <td>2</td>\n",
       "      <td>10000000</td>\n",
       "      <td>100.0</td>\n",
       "      <td>2018-06-19</td>\n",
       "      <td>2</td>\n",
       "      <td>3.0</td>\n",
       "      <td>14.0</td>\n",
       "      <td>32.0</td>\n",
       "      <td>13</td>\n",
       "      <td>NaN</td>\n",
       "      <td>...</td>\n",
       "      <td>0</td>\n",
       "      <td>Санкт-Петербург</td>\n",
       "      <td>31856.0</td>\n",
       "      <td>8098.0</td>\n",
       "      <td>2.0</td>\n",
       "      <td>112.0</td>\n",
       "      <td>1.0</td>\n",
       "      <td>48.0</td>\n",
       "      <td>121.0</td>\n",
       "      <td>в пределах города</td>\n",
       "    </tr>\n",
       "    <tr>\n",
       "      <th>5</th>\n",
       "      <td>10</td>\n",
       "      <td>2890000</td>\n",
       "      <td>30.4</td>\n",
       "      <td>2018-09-10</td>\n",
       "      <td>1</td>\n",
       "      <td>NaN</td>\n",
       "      <td>12.0</td>\n",
       "      <td>14.4</td>\n",
       "      <td>5</td>\n",
       "      <td>NaN</td>\n",
       "      <td>...</td>\n",
       "      <td>0</td>\n",
       "      <td>городской посёлок Янино-1</td>\n",
       "      <td>NaN</td>\n",
       "      <td>NaN</td>\n",
       "      <td>NaN</td>\n",
       "      <td>NaN</td>\n",
       "      <td>NaN</td>\n",
       "      <td>NaN</td>\n",
       "      <td>55.0</td>\n",
       "      <td>None</td>\n",
       "    </tr>\n",
       "    <tr>\n",
       "      <th>6</th>\n",
       "      <td>6</td>\n",
       "      <td>3700000</td>\n",
       "      <td>37.3</td>\n",
       "      <td>2017-11-02</td>\n",
       "      <td>1</td>\n",
       "      <td>2.6</td>\n",
       "      <td>26.0</td>\n",
       "      <td>10.6</td>\n",
       "      <td>6</td>\n",
       "      <td>NaN</td>\n",
       "      <td>...</td>\n",
       "      <td>1</td>\n",
       "      <td>посёлок Парголово</td>\n",
       "      <td>52996.0</td>\n",
       "      <td>19143.0</td>\n",
       "      <td>0.0</td>\n",
       "      <td>NaN</td>\n",
       "      <td>0.0</td>\n",
       "      <td>NaN</td>\n",
       "      <td>155.0</td>\n",
       "      <td>область</td>\n",
       "    </tr>\n",
       "    <tr>\n",
       "      <th>7</th>\n",
       "      <td>5</td>\n",
       "      <td>7915000</td>\n",
       "      <td>71.6</td>\n",
       "      <td>2019-04-18</td>\n",
       "      <td>2</td>\n",
       "      <td>2.6</td>\n",
       "      <td>24.0</td>\n",
       "      <td>NaN</td>\n",
       "      <td>22</td>\n",
       "      <td>NaN</td>\n",
       "      <td>...</td>\n",
       "      <td>2</td>\n",
       "      <td>Санкт-Петербург</td>\n",
       "      <td>23982.0</td>\n",
       "      <td>11634.0</td>\n",
       "      <td>0.0</td>\n",
       "      <td>NaN</td>\n",
       "      <td>0.0</td>\n",
       "      <td>NaN</td>\n",
       "      <td>NaN</td>\n",
       "      <td>в пределах города</td>\n",
       "    </tr>\n",
       "    <tr>\n",
       "      <th>8</th>\n",
       "      <td>20</td>\n",
       "      <td>2900000</td>\n",
       "      <td>33.2</td>\n",
       "      <td>2018-05-23</td>\n",
       "      <td>1</td>\n",
       "      <td>NaN</td>\n",
       "      <td>27.0</td>\n",
       "      <td>15.4</td>\n",
       "      <td>26</td>\n",
       "      <td>NaN</td>\n",
       "      <td>...</td>\n",
       "      <td>0</td>\n",
       "      <td>посёлок Мурино</td>\n",
       "      <td>NaN</td>\n",
       "      <td>NaN</td>\n",
       "      <td>NaN</td>\n",
       "      <td>NaN</td>\n",
       "      <td>NaN</td>\n",
       "      <td>NaN</td>\n",
       "      <td>189.0</td>\n",
       "      <td>None</td>\n",
       "    </tr>\n",
       "    <tr>\n",
       "      <th>9</th>\n",
       "      <td>18</td>\n",
       "      <td>5400000</td>\n",
       "      <td>61.0</td>\n",
       "      <td>2017-02-26</td>\n",
       "      <td>3</td>\n",
       "      <td>2.5</td>\n",
       "      <td>9.0</td>\n",
       "      <td>43.6</td>\n",
       "      <td>7</td>\n",
       "      <td>NaN</td>\n",
       "      <td>...</td>\n",
       "      <td>2</td>\n",
       "      <td>Санкт-Петербург</td>\n",
       "      <td>50898.0</td>\n",
       "      <td>15008.0</td>\n",
       "      <td>0.0</td>\n",
       "      <td>NaN</td>\n",
       "      <td>0.0</td>\n",
       "      <td>NaN</td>\n",
       "      <td>289.0</td>\n",
       "      <td>в пределах города</td>\n",
       "    </tr>\n",
       "  </tbody>\n",
       "</table>\n",
       "<p>10 rows × 23 columns</p>\n",
       "</div>"
      ],
      "text/plain": [
       "   total_images  last_price  total_area first_day_exposition  rooms  \\\n",
       "0            20    13000000       108.0           2019-03-07      3   \n",
       "1             7     3350000        40.4           2018-12-04      1   \n",
       "2            10     5196000        56.0           2015-08-20      2   \n",
       "3             0    64900000       159.0           2015-07-24      3   \n",
       "4             2    10000000       100.0           2018-06-19      2   \n",
       "5            10     2890000        30.4           2018-09-10      1   \n",
       "6             6     3700000        37.3           2017-11-02      1   \n",
       "7             5     7915000        71.6           2019-04-18      2   \n",
       "8            20     2900000        33.2           2018-05-23      1   \n",
       "9            18     5400000        61.0           2017-02-26      3   \n",
       "\n",
       "   ceiling_height  floors_total  living_area  floor apartment  ...  balcony  \\\n",
       "0             2.7          16.0         51.0      8       NaN  ...        0   \n",
       "1             2.6          11.0         18.6      1       NaN  ...        2   \n",
       "2             2.6           5.0         34.3      4       NaN  ...        0   \n",
       "3             2.6          14.0          NaN      9       NaN  ...        0   \n",
       "4             3.0          14.0         32.0     13       NaN  ...        0   \n",
       "5             NaN          12.0         14.4      5       NaN  ...        0   \n",
       "6             2.6          26.0         10.6      6       NaN  ...        1   \n",
       "7             2.6          24.0          NaN     22       NaN  ...        2   \n",
       "8             NaN          27.0         15.4     26       NaN  ...        0   \n",
       "9             2.5           9.0         43.6      7       NaN  ...        2   \n",
       "\n",
       "               locality_name  airports_nearest  city_centers_nearest  \\\n",
       "0            Санкт-Петербург           18863.0               16028.0   \n",
       "1             посёлок Шушары           12817.0               18603.0   \n",
       "2            Санкт-Петербург           21741.0               13933.0   \n",
       "3            Санкт-Петербург           28098.0                6800.0   \n",
       "4            Санкт-Петербург           31856.0                8098.0   \n",
       "5  городской посёлок Янино-1               NaN                   NaN   \n",
       "6          посёлок Парголово           52996.0               19143.0   \n",
       "7            Санкт-Петербург           23982.0               11634.0   \n",
       "8             посёлок Мурино               NaN                   NaN   \n",
       "9            Санкт-Петербург           50898.0               15008.0   \n",
       "\n",
       "  parks_around_3000  parks_nearest  ponds_around_3000  ponds_nearest  \\\n",
       "0               1.0          482.0                2.0          755.0   \n",
       "1               0.0            NaN                0.0            NaN   \n",
       "2               1.0           90.0                2.0          574.0   \n",
       "3               2.0           84.0                3.0          234.0   \n",
       "4               2.0          112.0                1.0           48.0   \n",
       "5               NaN            NaN                NaN            NaN   \n",
       "6               0.0            NaN                0.0            NaN   \n",
       "7               0.0            NaN                0.0            NaN   \n",
       "8               NaN            NaN                NaN            NaN   \n",
       "9               0.0            NaN                0.0            NaN   \n",
       "\n",
       "   days_exposition     centr_category  \n",
       "0              NaN  в пределах города  \n",
       "1             81.0            область  \n",
       "2            558.0  в пределах города  \n",
       "3            424.0  в пределах города  \n",
       "4            121.0  в пределах города  \n",
       "5             55.0               None  \n",
       "6            155.0            область  \n",
       "7              NaN  в пределах города  \n",
       "8            189.0               None  \n",
       "9            289.0  в пределах города  \n",
       "\n",
       "[10 rows x 23 columns]"
      ]
     },
     "execution_count": 36,
     "metadata": {},
     "output_type": "execute_result"
    }
   ],
   "source": [
    "realty.head(10)"
   ]
  },
  {
   "cell_type": "markdown",
   "metadata": {},
   "source": [
    "## Расчёты и добавление результатов в таблицу"
   ]
  },
  {
   "cell_type": "code",
   "execution_count": 37,
   "metadata": {},
   "outputs": [],
   "source": [
    "realty['price_of_m2'] = realty['last_price']/realty['total_area']"
   ]
  },
  {
   "cell_type": "markdown",
   "metadata": {},
   "source": [
    "Добавим столбец с ценой квадратного метра"
   ]
  },
  {
   "cell_type": "code",
   "execution_count": 38,
   "metadata": {},
   "outputs": [],
   "source": [
    "realty['year'] = realty['first_day_exposition'].dt.year\n",
    "realty['month'] = realty['first_day_exposition'].dt.month\n",
    "realty['day'] = realty['first_day_exposition'].dt.day"
   ]
  },
  {
   "cell_type": "markdown",
   "metadata": {},
   "source": [
    "Добавим год, месяц и день недели публикации объявления"
   ]
  },
  {
   "cell_type": "code",
   "execution_count": 39,
   "metadata": {},
   "outputs": [],
   "source": [
    "dict_of_weekdays = {1: '1 - понедельник', 2: '2 - вторник', 3: '3 - среда', 4: '4 - четверг', \n",
    "                    5: '5 - пятница', 6: '6 - суббота', 7: '7 - воскресенье'}"
   ]
  },
  {
   "cell_type": "markdown",
   "metadata": {},
   "source": [
    "Теперь создадим словарь, чтобы изменить значение с чисел на текст (напр., 'суббота')"
   ]
  },
  {
   "cell_type": "code",
   "execution_count": 40,
   "metadata": {},
   "outputs": [],
   "source": [
    "realty['day'] = realty['day'].map(dict_of_weekdays)\n",
    "realty['level'] = np.where(realty['floor'] == 1, 'первый', 'другой')\n",
    "realty['level'] = np.where(realty['floor'] == realty['floors_total'], 'последний', realty['level'])"
   ]
  },
  {
   "cell_type": "markdown",
   "metadata": {},
   "source": [
    "Добавим категорию по этажам (варианты — 'первый', 'последний', 'другой')"
   ]
  },
  {
   "cell_type": "code",
   "execution_count": 41,
   "metadata": {},
   "outputs": [],
   "source": [
    "realty['living_area_part'] = realty['living_area']/realty['total_area']\n",
    "realty['kitchen_area_part'] = realty['kitchen_area']/realty['total_area']\n",
    "list_to_float_1 = ['living_area_part', 'kitchen_area_part']"
   ]
  },
  {
   "cell_type": "markdown",
   "metadata": {},
   "source": [
    "Добавим столбцы с соотношением жилой и общей площади, а также с отношением площади кухни к общей"
   ]
  },
  {
   "cell_type": "code",
   "execution_count": 42,
   "metadata": {},
   "outputs": [],
   "source": [
    "list_to_float_1 = ['living_area_part', 'kitchen_area_part']\n",
    "for column in list_to_float_1:\n",
    "    realty[column] = realty[realty[column].notnull()][column].round(2)"
   ]
  },
  {
   "cell_type": "markdown",
   "metadata": {},
   "source": [
    "Столбцы, где округляем данные до 2 знаков после запятой"
   ]
  },
  {
   "cell_type": "code",
   "execution_count": 43,
   "metadata": {},
   "outputs": [
    {
     "data": {
      "text/html": [
       "<div>\n",
       "<style scoped>\n",
       "    .dataframe tbody tr th:only-of-type {\n",
       "        vertical-align: middle;\n",
       "    }\n",
       "\n",
       "    .dataframe tbody tr th {\n",
       "        vertical-align: top;\n",
       "    }\n",
       "\n",
       "    .dataframe thead th {\n",
       "        text-align: right;\n",
       "    }\n",
       "</style>\n",
       "<table border=\"1\" class=\"dataframe\">\n",
       "  <thead>\n",
       "    <tr style=\"text-align: right;\">\n",
       "      <th></th>\n",
       "      <th>total_images</th>\n",
       "      <th>last_price</th>\n",
       "      <th>total_area</th>\n",
       "      <th>first_day_exposition</th>\n",
       "      <th>rooms</th>\n",
       "      <th>ceiling_height</th>\n",
       "      <th>floors_total</th>\n",
       "      <th>living_area</th>\n",
       "      <th>floor</th>\n",
       "      <th>apartment</th>\n",
       "      <th>...</th>\n",
       "      <th>ponds_nearest</th>\n",
       "      <th>days_exposition</th>\n",
       "      <th>centr_category</th>\n",
       "      <th>price_of_m2</th>\n",
       "      <th>year</th>\n",
       "      <th>month</th>\n",
       "      <th>day</th>\n",
       "      <th>level</th>\n",
       "      <th>living_area_part</th>\n",
       "      <th>kitchen_area_part</th>\n",
       "    </tr>\n",
       "  </thead>\n",
       "  <tbody>\n",
       "    <tr>\n",
       "      <th>0</th>\n",
       "      <td>20</td>\n",
       "      <td>13000</td>\n",
       "      <td>108.0</td>\n",
       "      <td>2019-03-07</td>\n",
       "      <td>3</td>\n",
       "      <td>2.7</td>\n",
       "      <td>16.0</td>\n",
       "      <td>51.0</td>\n",
       "      <td>8</td>\n",
       "      <td>NaN</td>\n",
       "      <td>...</td>\n",
       "      <td>755.0</td>\n",
       "      <td>NaN</td>\n",
       "      <td>в пределах города</td>\n",
       "      <td>120.370</td>\n",
       "      <td>2019</td>\n",
       "      <td>3</td>\n",
       "      <td>7 - воскресенье</td>\n",
       "      <td>другой</td>\n",
       "      <td>0.47</td>\n",
       "      <td>0.23</td>\n",
       "    </tr>\n",
       "    <tr>\n",
       "      <th>1</th>\n",
       "      <td>7</td>\n",
       "      <td>3350</td>\n",
       "      <td>40.4</td>\n",
       "      <td>2018-12-04</td>\n",
       "      <td>1</td>\n",
       "      <td>2.6</td>\n",
       "      <td>11.0</td>\n",
       "      <td>18.6</td>\n",
       "      <td>1</td>\n",
       "      <td>NaN</td>\n",
       "      <td>...</td>\n",
       "      <td>NaN</td>\n",
       "      <td>81.0</td>\n",
       "      <td>область</td>\n",
       "      <td>82.921</td>\n",
       "      <td>2018</td>\n",
       "      <td>12</td>\n",
       "      <td>4 - четверг</td>\n",
       "      <td>первый</td>\n",
       "      <td>0.46</td>\n",
       "      <td>0.27</td>\n",
       "    </tr>\n",
       "    <tr>\n",
       "      <th>2</th>\n",
       "      <td>10</td>\n",
       "      <td>5196</td>\n",
       "      <td>56.0</td>\n",
       "      <td>2015-08-20</td>\n",
       "      <td>2</td>\n",
       "      <td>2.6</td>\n",
       "      <td>5.0</td>\n",
       "      <td>34.3</td>\n",
       "      <td>4</td>\n",
       "      <td>NaN</td>\n",
       "      <td>...</td>\n",
       "      <td>574.0</td>\n",
       "      <td>558.0</td>\n",
       "      <td>в пределах города</td>\n",
       "      <td>92.786</td>\n",
       "      <td>2015</td>\n",
       "      <td>8</td>\n",
       "      <td>NaN</td>\n",
       "      <td>другой</td>\n",
       "      <td>0.61</td>\n",
       "      <td>0.15</td>\n",
       "    </tr>\n",
       "    <tr>\n",
       "      <th>3</th>\n",
       "      <td>0</td>\n",
       "      <td>64900</td>\n",
       "      <td>159.0</td>\n",
       "      <td>2015-07-24</td>\n",
       "      <td>3</td>\n",
       "      <td>2.6</td>\n",
       "      <td>14.0</td>\n",
       "      <td>NaN</td>\n",
       "      <td>9</td>\n",
       "      <td>NaN</td>\n",
       "      <td>...</td>\n",
       "      <td>234.0</td>\n",
       "      <td>424.0</td>\n",
       "      <td>в пределах города</td>\n",
       "      <td>408.176</td>\n",
       "      <td>2015</td>\n",
       "      <td>7</td>\n",
       "      <td>NaN</td>\n",
       "      <td>другой</td>\n",
       "      <td>NaN</td>\n",
       "      <td>NaN</td>\n",
       "    </tr>\n",
       "    <tr>\n",
       "      <th>4</th>\n",
       "      <td>2</td>\n",
       "      <td>10000</td>\n",
       "      <td>100.0</td>\n",
       "      <td>2018-06-19</td>\n",
       "      <td>2</td>\n",
       "      <td>3.0</td>\n",
       "      <td>14.0</td>\n",
       "      <td>32.0</td>\n",
       "      <td>13</td>\n",
       "      <td>NaN</td>\n",
       "      <td>...</td>\n",
       "      <td>48.0</td>\n",
       "      <td>121.0</td>\n",
       "      <td>в пределах города</td>\n",
       "      <td>100.000</td>\n",
       "      <td>2018</td>\n",
       "      <td>6</td>\n",
       "      <td>NaN</td>\n",
       "      <td>другой</td>\n",
       "      <td>0.32</td>\n",
       "      <td>0.41</td>\n",
       "    </tr>\n",
       "  </tbody>\n",
       "</table>\n",
       "<p>5 rows × 30 columns</p>\n",
       "</div>"
      ],
      "text/plain": [
       "   total_images  last_price  total_area first_day_exposition  rooms  \\\n",
       "0            20       13000       108.0           2019-03-07      3   \n",
       "1             7        3350        40.4           2018-12-04      1   \n",
       "2            10        5196        56.0           2015-08-20      2   \n",
       "3             0       64900       159.0           2015-07-24      3   \n",
       "4             2       10000       100.0           2018-06-19      2   \n",
       "\n",
       "   ceiling_height  floors_total  living_area  floor apartment  ...  \\\n",
       "0             2.7          16.0         51.0      8       NaN  ...   \n",
       "1             2.6          11.0         18.6      1       NaN  ...   \n",
       "2             2.6           5.0         34.3      4       NaN  ...   \n",
       "3             2.6          14.0          NaN      9       NaN  ...   \n",
       "4             3.0          14.0         32.0     13       NaN  ...   \n",
       "\n",
       "   ponds_nearest  days_exposition     centr_category  price_of_m2  year  \\\n",
       "0          755.0              NaN  в пределах города      120.370  2019   \n",
       "1            NaN             81.0            область       82.921  2018   \n",
       "2          574.0            558.0  в пределах города       92.786  2015   \n",
       "3          234.0            424.0  в пределах города      408.176  2015   \n",
       "4           48.0            121.0  в пределах города      100.000  2018   \n",
       "\n",
       "   month              day   level  living_area_part  kitchen_area_part  \n",
       "0      3  7 - воскресенье  другой              0.47               0.23  \n",
       "1     12      4 - четверг  первый              0.46               0.27  \n",
       "2      8              NaN  другой              0.61               0.15  \n",
       "3      7              NaN  другой               NaN                NaN  \n",
       "4      6              NaN  другой              0.32               0.41  \n",
       "\n",
       "[5 rows x 30 columns]"
      ]
     },
     "execution_count": 43,
     "metadata": {},
     "output_type": "execute_result"
    }
   ],
   "source": [
    "realty['last_price'] = (realty[realty['last_price'].notnull()]['last_price']/1000*1.0).round().astype(int)\n",
    "realty['price_of_m2'] = (realty[realty['price_of_m2'].notnull()]['price_of_m2']/1000*1.0).round(3)\n",
    "realty.head()"
   ]
  },
  {
   "cell_type": "markdown",
   "metadata": {},
   "source": [
    "Столбец last_price приведем к тысячам, а то слишком много нулей. Ну и, соответственно, тоже самое проделаем для price_of_m2, только там оставим 3 знака после запятой."
   ]
  },
  {
   "cell_type": "markdown",
   "metadata": {},
   "source": [
    "## Исследовательский анализ данных"
   ]
  },
  {
   "cell_type": "markdown",
   "metadata": {},
   "source": [
    "Изучаем следующие параметры: площадь, цена, число комнат, высота потолков."
   ]
  },
  {
   "cell_type": "code",
   "execution_count": 44,
   "metadata": {},
   "outputs": [
    {
     "data": {
      "text/html": [
       "<div>\n",
       "<style scoped>\n",
       "    .dataframe tbody tr th:only-of-type {\n",
       "        vertical-align: middle;\n",
       "    }\n",
       "\n",
       "    .dataframe tbody tr th {\n",
       "        vertical-align: top;\n",
       "    }\n",
       "\n",
       "    .dataframe thead th {\n",
       "        text-align: right;\n",
       "    }\n",
       "</style>\n",
       "<table border=\"1\" class=\"dataframe\">\n",
       "  <thead>\n",
       "    <tr style=\"text-align: right;\">\n",
       "      <th></th>\n",
       "      <th>total_area</th>\n",
       "      <th>last_price</th>\n",
       "      <th>rooms</th>\n",
       "      <th>ceiling_height</th>\n",
       "    </tr>\n",
       "  </thead>\n",
       "  <tbody>\n",
       "    <tr>\n",
       "      <th>count</th>\n",
       "      <td>23699.000000</td>\n",
       "      <td>23699.000000</td>\n",
       "      <td>23699.000000</td>\n",
       "      <td>18180.000000</td>\n",
       "    </tr>\n",
       "    <tr>\n",
       "      <th>mean</th>\n",
       "      <td>60.348635</td>\n",
       "      <td>6541.548800</td>\n",
       "      <td>2.070636</td>\n",
       "      <td>2.740847</td>\n",
       "    </tr>\n",
       "    <tr>\n",
       "      <th>std</th>\n",
       "      <td>35.654086</td>\n",
       "      <td>10887.012837</td>\n",
       "      <td>1.078405</td>\n",
       "      <td>0.990965</td>\n",
       "    </tr>\n",
       "    <tr>\n",
       "      <th>min</th>\n",
       "      <td>12.000000</td>\n",
       "      <td>12.000000</td>\n",
       "      <td>0.000000</td>\n",
       "      <td>1.000000</td>\n",
       "    </tr>\n",
       "    <tr>\n",
       "      <th>25%</th>\n",
       "      <td>40.000000</td>\n",
       "      <td>3400.000000</td>\n",
       "      <td>1.000000</td>\n",
       "      <td>2.600000</td>\n",
       "    </tr>\n",
       "    <tr>\n",
       "      <th>50%</th>\n",
       "      <td>52.000000</td>\n",
       "      <td>4650.000000</td>\n",
       "      <td>2.000000</td>\n",
       "      <td>2.600000</td>\n",
       "    </tr>\n",
       "    <tr>\n",
       "      <th>75%</th>\n",
       "      <td>69.900000</td>\n",
       "      <td>6800.000000</td>\n",
       "      <td>3.000000</td>\n",
       "      <td>2.800000</td>\n",
       "    </tr>\n",
       "    <tr>\n",
       "      <th>max</th>\n",
       "      <td>900.000000</td>\n",
       "      <td>763000.000000</td>\n",
       "      <td>19.000000</td>\n",
       "      <td>100.000000</td>\n",
       "    </tr>\n",
       "  </tbody>\n",
       "</table>\n",
       "</div>"
      ],
      "text/plain": [
       "         total_area     last_price         rooms  ceiling_height\n",
       "count  23699.000000   23699.000000  23699.000000    18180.000000\n",
       "mean      60.348635    6541.548800      2.070636        2.740847\n",
       "std       35.654086   10887.012837      1.078405        0.990965\n",
       "min       12.000000      12.000000      0.000000        1.000000\n",
       "25%       40.000000    3400.000000      1.000000        2.600000\n",
       "50%       52.000000    4650.000000      2.000000        2.600000\n",
       "75%       69.900000    6800.000000      3.000000        2.800000\n",
       "max      900.000000  763000.000000     19.000000      100.000000"
      ]
     },
     "execution_count": 44,
     "metadata": {},
     "output_type": "execute_result"
    }
   ],
   "source": [
    "realty[['total_area', 'last_price', 'rooms', 'ceiling_height']].describe()"
   ]
  },
  {
   "cell_type": "code",
   "execution_count": 45,
   "metadata": {},
   "outputs": [
    {
     "name": "stdout",
     "output_type": "stream",
     "text": [
      "Выборка квартир в центральной зоне Санкт-Петербурга - 23699 квартир\n"
     ]
    }
   ],
   "source": [
    "print('Выборка квартир в центральной зоне Санкт-Петербурга -', realty.shape[0], 'квартир')"
   ]
  },
  {
   "cell_type": "code",
   "execution_count": 46,
   "metadata": {
    "scrolled": true
   },
   "outputs": [
    {
     "data": {
      "image/png": "[encoded data removed]",
      "text/plain": [
       "<Figure size 432x288 with 1 Axes>"
      ]
     },
     "metadata": {
      "needs_background": "light"
     },
     "output_type": "display_data"
    },
    {
     "data": {
      "image/png": "[encoded data removed]",
      "text/plain": [
       "<Figure size 432x288 with 1 Axes>"
      ]
     },
     "metadata": {
      "needs_background": "light"
     },
     "output_type": "display_data"
    },
    {
     "data": {
      "image/png": "[encoded data removed]",
      "text/plain": [
       "<Figure size 432x288 with 1 Axes>"
      ]
     },
     "metadata": {
      "needs_background": "light"
     },
     "output_type": "display_data"
    },
    {
     "data": {
      "image/png": "[encoded data removed]",
      "text/plain": [
       "<Figure size 432x288 with 1 Axes>"
      ]
     },
     "metadata": {
      "needs_background": "light"
     },
     "output_type": "display_data"
    }
   ],
   "source": [
    "column_list = ['total_area', 'last_price', 'rooms', 'ceiling_height']\n",
    "for columns in column_list:\n",
    "    realty[columns].hist(bins=100)\n",
    "    plt.show()"
   ]
  },
  {
   "cell_type": "code",
   "execution_count": 47,
   "metadata": {
    "scrolled": true
   },
   "outputs": [
    {
     "data": {
      "image/png": "[encoded data removed]",
      "text/plain": [
       "<Figure size 432x288 with 1 Axes>"
      ]
     },
     "metadata": {
      "needs_background": "light"
     },
     "output_type": "display_data"
    },
    {
     "data": {
      "image/png": "[encoded data removed]",
      "text/plain": [
       "<Figure size 432x288 with 1 Axes>"
      ]
     },
     "metadata": {
      "needs_background": "light"
     },
     "output_type": "display_data"
    },
    {
     "data": {
      "image/png": "[encoded data removed]",
      "text/plain": [
       "<Figure size 432x288 with 1 Axes>"
      ]
     },
     "metadata": {
      "needs_background": "light"
     },
     "output_type": "display_data"
    },
    {
     "data": {
      "image/png": "[encoded data removed]",
      "text/plain": [
       "<Figure size 432x288 with 1 Axes>"
      ]
     },
     "metadata": {
      "needs_background": "light"
     },
     "output_type": "display_data"
    }
   ],
   "source": [
    "realty['total_area'].hist(bins=50, range=(0,300))\n",
    "plt.show()\n",
    "realty['last_price'].hist(bins=50, range=(0,20000))\n",
    "plt.show()\n",
    "realty['rooms'].hist(bins=10, range=(0,10))\n",
    "plt.show()\n",
    "realty['ceiling_height'].hist(bins=5, range=(2,5))\n",
    "plt.show()"
   ]
  },
  {
   "cell_type": "markdown",
   "metadata": {},
   "source": [
    "Видимо что большинство квартир площадью приблизительно от 25 до 75 кв.м., стоимость от 2.5 миллионов до 5.5 миллионов, большинство одно и двух комнатынх квартир, высота потолка от 2.6 до 3.3."
   ]
  },
  {
   "cell_type": "markdown",
   "metadata": {},
   "source": [
    "Изучаем время продажи квартиры. Постройте гистограмму. Посчитайте среднее и медиану. Опишите, сколько обычно занимает продажа. Когда можно считать, что продажи прошли очень быстро, а когда необычно долго?"
   ]
  },
  {
   "cell_type": "code",
   "execution_count": 48,
   "metadata": {},
   "outputs": [
    {
     "data": {
      "text/plain": [
       "count    20518.000000\n",
       "mean       180.888634\n",
       "std        219.727988\n",
       "min          1.000000\n",
       "25%         45.000000\n",
       "50%         95.000000\n",
       "75%        232.000000\n",
       "max       1580.000000\n",
       "Name: days_exposition, dtype: float64"
      ]
     },
     "metadata": {},
     "output_type": "display_data"
    },
    {
     "data": {
      "image/png": "[encoded data removed]",
      "text/plain": [
       "<Figure size 432x288 with 1 Axes>"
      ]
     },
     "metadata": {
      "needs_background": "light"
     },
     "output_type": "display_data"
    }
   ],
   "source": [
    "display(realty['days_exposition'].describe())\n",
    "realty['days_exposition'].hist(bins=20, range=(0, 250))\n",
    "plt.show()"
   ]
  },
  {
   "cell_type": "markdown",
   "metadata": {},
   "source": [
    "В среднем квартира продается 180 дней, медианое значение 95 дней. Обычно продажа занимает от 1 до 95 дней. Можно считать что продали квартиру быстро до 45 дней, очень долго сверх 232 дней."
   ]
  },
  {
   "cell_type": "markdown",
   "metadata": {},
   "source": [
    "Убераем редкие и выбивающиеся значения. Опишите, какие особенности обнаружили."
   ]
  },
  {
   "cell_type": "code",
   "execution_count": 49,
   "metadata": {},
   "outputs": [
    {
     "data": {
      "text/html": [
       "<div>\n",
       "<style scoped>\n",
       "    .dataframe tbody tr th:only-of-type {\n",
       "        vertical-align: middle;\n",
       "    }\n",
       "\n",
       "    .dataframe tbody tr th {\n",
       "        vertical-align: top;\n",
       "    }\n",
       "\n",
       "    .dataframe thead th {\n",
       "        text-align: right;\n",
       "    }\n",
       "</style>\n",
       "<table border=\"1\" class=\"dataframe\">\n",
       "  <thead>\n",
       "    <tr style=\"text-align: right;\">\n",
       "      <th></th>\n",
       "      <th>total_images</th>\n",
       "      <th>last_price</th>\n",
       "      <th>total_area</th>\n",
       "      <th>rooms</th>\n",
       "      <th>ceiling_height</th>\n",
       "      <th>floors_total</th>\n",
       "      <th>living_area</th>\n",
       "      <th>floor</th>\n",
       "      <th>kitchen_area</th>\n",
       "      <th>balcony</th>\n",
       "      <th>...</th>\n",
       "      <th>parks_around_3000</th>\n",
       "      <th>parks_nearest</th>\n",
       "      <th>ponds_around_3000</th>\n",
       "      <th>ponds_nearest</th>\n",
       "      <th>days_exposition</th>\n",
       "      <th>price_of_m2</th>\n",
       "      <th>year</th>\n",
       "      <th>month</th>\n",
       "      <th>living_area_part</th>\n",
       "      <th>kitchen_area_part</th>\n",
       "    </tr>\n",
       "  </thead>\n",
       "  <tbody>\n",
       "    <tr>\n",
       "      <th>count</th>\n",
       "      <td>23699.000000</td>\n",
       "      <td>23699.000000</td>\n",
       "      <td>23699.000000</td>\n",
       "      <td>23699.000000</td>\n",
       "      <td>18180.000000</td>\n",
       "      <td>23613.000000</td>\n",
       "      <td>21796.000000</td>\n",
       "      <td>23699.000000</td>\n",
       "      <td>21421.000000</td>\n",
       "      <td>23699.000000</td>\n",
       "      <td>...</td>\n",
       "      <td>18181.000000</td>\n",
       "      <td>8079.000000</td>\n",
       "      <td>18181.000000</td>\n",
       "      <td>9110.000000</td>\n",
       "      <td>20518.000000</td>\n",
       "      <td>23699.000000</td>\n",
       "      <td>23699.000000</td>\n",
       "      <td>23699.000000</td>\n",
       "      <td>21796.000000</td>\n",
       "      <td>21421.000000</td>\n",
       "    </tr>\n",
       "    <tr>\n",
       "      <th>mean</th>\n",
       "      <td>9.858475</td>\n",
       "      <td>6541.548800</td>\n",
       "      <td>60.348635</td>\n",
       "      <td>2.070636</td>\n",
       "      <td>2.740847</td>\n",
       "      <td>10.673824</td>\n",
       "      <td>34.457878</td>\n",
       "      <td>5.892358</td>\n",
       "      <td>10.569754</td>\n",
       "      <td>0.591080</td>\n",
       "      <td>...</td>\n",
       "      <td>0.611408</td>\n",
       "      <td>490.804555</td>\n",
       "      <td>0.770255</td>\n",
       "      <td>517.980900</td>\n",
       "      <td>180.888634</td>\n",
       "      <td>99.421694</td>\n",
       "      <td>2017.367146</td>\n",
       "      <td>6.400101</td>\n",
       "      <td>0.564744</td>\n",
       "      <td>0.187314</td>\n",
       "    </tr>\n",
       "    <tr>\n",
       "      <th>std</th>\n",
       "      <td>5.682529</td>\n",
       "      <td>10887.012837</td>\n",
       "      <td>35.654086</td>\n",
       "      <td>1.078405</td>\n",
       "      <td>0.990965</td>\n",
       "      <td>6.597173</td>\n",
       "      <td>22.030420</td>\n",
       "      <td>4.885249</td>\n",
       "      <td>5.905448</td>\n",
       "      <td>0.959298</td>\n",
       "      <td>...</td>\n",
       "      <td>0.802074</td>\n",
       "      <td>342.317995</td>\n",
       "      <td>0.938346</td>\n",
       "      <td>277.720643</td>\n",
       "      <td>219.727988</td>\n",
       "      <td>50.306994</td>\n",
       "      <td>1.039771</td>\n",
       "      <td>3.491561</td>\n",
       "      <td>0.105426</td>\n",
       "      <td>0.073070</td>\n",
       "    </tr>\n",
       "    <tr>\n",
       "      <th>min</th>\n",
       "      <td>0.000000</td>\n",
       "      <td>12.000000</td>\n",
       "      <td>12.000000</td>\n",
       "      <td>0.000000</td>\n",
       "      <td>1.000000</td>\n",
       "      <td>1.000000</td>\n",
       "      <td>2.000000</td>\n",
       "      <td>1.000000</td>\n",
       "      <td>1.300000</td>\n",
       "      <td>0.000000</td>\n",
       "      <td>...</td>\n",
       "      <td>0.000000</td>\n",
       "      <td>1.000000</td>\n",
       "      <td>0.000000</td>\n",
       "      <td>13.000000</td>\n",
       "      <td>1.000000</td>\n",
       "      <td>0.112000</td>\n",
       "      <td>2014.000000</td>\n",
       "      <td>1.000000</td>\n",
       "      <td>0.020000</td>\n",
       "      <td>0.030000</td>\n",
       "    </tr>\n",
       "    <tr>\n",
       "      <th>25%</th>\n",
       "      <td>6.000000</td>\n",
       "      <td>3400.000000</td>\n",
       "      <td>40.000000</td>\n",
       "      <td>1.000000</td>\n",
       "      <td>2.600000</td>\n",
       "      <td>5.000000</td>\n",
       "      <td>18.600000</td>\n",
       "      <td>2.000000</td>\n",
       "      <td>7.000000</td>\n",
       "      <td>0.000000</td>\n",
       "      <td>...</td>\n",
       "      <td>0.000000</td>\n",
       "      <td>288.000000</td>\n",
       "      <td>0.000000</td>\n",
       "      <td>294.000000</td>\n",
       "      <td>45.000000</td>\n",
       "      <td>76.587000</td>\n",
       "      <td>2017.000000</td>\n",
       "      <td>3.000000</td>\n",
       "      <td>0.500000</td>\n",
       "      <td>0.130000</td>\n",
       "    </tr>\n",
       "    <tr>\n",
       "      <th>50%</th>\n",
       "      <td>9.000000</td>\n",
       "      <td>4650.000000</td>\n",
       "      <td>52.000000</td>\n",
       "      <td>2.000000</td>\n",
       "      <td>2.600000</td>\n",
       "      <td>9.000000</td>\n",
       "      <td>30.000000</td>\n",
       "      <td>4.000000</td>\n",
       "      <td>9.100000</td>\n",
       "      <td>0.000000</td>\n",
       "      <td>...</td>\n",
       "      <td>0.000000</td>\n",
       "      <td>455.000000</td>\n",
       "      <td>1.000000</td>\n",
       "      <td>502.000000</td>\n",
       "      <td>95.000000</td>\n",
       "      <td>95.000000</td>\n",
       "      <td>2017.000000</td>\n",
       "      <td>6.000000</td>\n",
       "      <td>0.570000</td>\n",
       "      <td>0.170000</td>\n",
       "    </tr>\n",
       "    <tr>\n",
       "      <th>75%</th>\n",
       "      <td>14.000000</td>\n",
       "      <td>6800.000000</td>\n",
       "      <td>69.900000</td>\n",
       "      <td>3.000000</td>\n",
       "      <td>2.800000</td>\n",
       "      <td>16.000000</td>\n",
       "      <td>42.300000</td>\n",
       "      <td>8.000000</td>\n",
       "      <td>12.000000</td>\n",
       "      <td>1.000000</td>\n",
       "      <td>...</td>\n",
       "      <td>1.000000</td>\n",
       "      <td>612.000000</td>\n",
       "      <td>1.000000</td>\n",
       "      <td>729.000000</td>\n",
       "      <td>232.000000</td>\n",
       "      <td>114.262000</td>\n",
       "      <td>2018.000000</td>\n",
       "      <td>10.000000</td>\n",
       "      <td>0.640000</td>\n",
       "      <td>0.230000</td>\n",
       "    </tr>\n",
       "    <tr>\n",
       "      <th>max</th>\n",
       "      <td>50.000000</td>\n",
       "      <td>763000.000000</td>\n",
       "      <td>900.000000</td>\n",
       "      <td>19.000000</td>\n",
       "      <td>100.000000</td>\n",
       "      <td>60.000000</td>\n",
       "      <td>409.700000</td>\n",
       "      <td>33.000000</td>\n",
       "      <td>112.000000</td>\n",
       "      <td>5.000000</td>\n",
       "      <td>...</td>\n",
       "      <td>3.000000</td>\n",
       "      <td>3190.000000</td>\n",
       "      <td>3.000000</td>\n",
       "      <td>1344.000000</td>\n",
       "      <td>1580.000000</td>\n",
       "      <td>1907.500000</td>\n",
       "      <td>2019.000000</td>\n",
       "      <td>12.000000</td>\n",
       "      <td>1.000000</td>\n",
       "      <td>0.790000</td>\n",
       "    </tr>\n",
       "  </tbody>\n",
       "</table>\n",
       "<p>8 rows × 22 columns</p>\n",
       "</div>"
      ],
      "text/plain": [
       "       total_images     last_price    total_area         rooms  \\\n",
       "count  23699.000000   23699.000000  23699.000000  23699.000000   \n",
       "mean       9.858475    6541.548800     60.348635      2.070636   \n",
       "std        5.682529   10887.012837     35.654086      1.078405   \n",
       "min        0.000000      12.000000     12.000000      0.000000   \n",
       "25%        6.000000    3400.000000     40.000000      1.000000   \n",
       "50%        9.000000    4650.000000     52.000000      2.000000   \n",
       "75%       14.000000    6800.000000     69.900000      3.000000   \n",
       "max       50.000000  763000.000000    900.000000     19.000000   \n",
       "\n",
       "       ceiling_height  floors_total   living_area         floor  kitchen_area  \\\n",
       "count    18180.000000  23613.000000  21796.000000  23699.000000  21421.000000   \n",
       "mean         2.740847     10.673824     34.457878      5.892358     10.569754   \n",
       "std          0.990965      6.597173     22.030420      4.885249      5.905448   \n",
       "min          1.000000      1.000000      2.000000      1.000000      1.300000   \n",
       "25%          2.600000      5.000000     18.600000      2.000000      7.000000   \n",
       "50%          2.600000      9.000000     30.000000      4.000000      9.100000   \n",
       "75%          2.800000     16.000000     42.300000      8.000000     12.000000   \n",
       "max        100.000000     60.000000    409.700000     33.000000    112.000000   \n",
       "\n",
       "            balcony  ...  parks_around_3000  parks_nearest  ponds_around_3000  \\\n",
       "count  23699.000000  ...       18181.000000    8079.000000       18181.000000   \n",
       "mean       0.591080  ...           0.611408     490.804555           0.770255   \n",
       "std        0.959298  ...           0.802074     342.317995           0.938346   \n",
       "min        0.000000  ...           0.000000       1.000000           0.000000   \n",
       "25%        0.000000  ...           0.000000     288.000000           0.000000   \n",
       "50%        0.000000  ...           0.000000     455.000000           1.000000   \n",
       "75%        1.000000  ...           1.000000     612.000000           1.000000   \n",
       "max        5.000000  ...           3.000000    3190.000000           3.000000   \n",
       "\n",
       "       ponds_nearest  days_exposition   price_of_m2          year  \\\n",
       "count    9110.000000     20518.000000  23699.000000  23699.000000   \n",
       "mean      517.980900       180.888634     99.421694   2017.367146   \n",
       "std       277.720643       219.727988     50.306994      1.039771   \n",
       "min        13.000000         1.000000      0.112000   2014.000000   \n",
       "25%       294.000000        45.000000     76.587000   2017.000000   \n",
       "50%       502.000000        95.000000     95.000000   2017.000000   \n",
       "75%       729.000000       232.000000    114.262000   2018.000000   \n",
       "max      1344.000000      1580.000000   1907.500000   2019.000000   \n",
       "\n",
       "              month  living_area_part  kitchen_area_part  \n",
       "count  23699.000000      21796.000000       21421.000000  \n",
       "mean       6.400101          0.564744           0.187314  \n",
       "std        3.491561          0.105426           0.073070  \n",
       "min        1.000000          0.020000           0.030000  \n",
       "25%        3.000000          0.500000           0.130000  \n",
       "50%        6.000000          0.570000           0.170000  \n",
       "75%       10.000000          0.640000           0.230000  \n",
       "max       12.000000          1.000000           0.790000  \n",
       "\n",
       "[8 rows x 22 columns]"
      ]
     },
     "execution_count": 49,
     "metadata": {},
     "output_type": "execute_result"
    }
   ],
   "source": [
    "realty.describe()"
   ]
  },
  {
   "cell_type": "code",
   "execution_count": 50,
   "metadata": {
    "scrolled": true
   },
   "outputs": [],
   "source": [
    "realty = realty.query('2000 <= last_price <= 100000')\n",
    "realty = realty.query('26 <= total_area <= 105')\n",
    "realty = realty.query('12.5 <= living_area <= 63.5')\n",
    "realty = realty.query('4.6 <= kitchen_area <= 18')\n",
    "realty = realty.query('30 <= days_exposition <= 348')\n",
    "realty = realty.query('51 <= price_of_m2 <= 172')"
   ]
  },
  {
   "cell_type": "markdown",
   "metadata": {},
   "source": [
    "Убрали выбросы в толбцах цена прдажи, общая площадь, жилая площадь, площадь кухни, срок продажи, и цена заз квадратный метр. "
   ]
  },
  {
   "cell_type": "markdown",
   "metadata": {},
   "source": [
    "Какие факторы больше всего влияют на стоимость квартиры? Изучите, зависит ли цена от квадратного метра, числа комнат, этажа (первого или последнего), удалённости от центра. Также изучите зависимость от даты размещения: дня недели, месяца и года"
   ]
  },
  {
   "cell_type": "code",
   "execution_count": 51,
   "metadata": {
    "scrolled": true
   },
   "outputs": [
    {
     "name": "stdout",
     "output_type": "stream",
     "text": [
      "Зависимость 0.7689729665474855\n"
     ]
    },
    {
     "data": {
      "image/png": "[encoded data removed]",
      "text/plain": [
       "<Figure size 432x288 with 1 Axes>"
      ]
     },
     "metadata": {
      "needs_background": "light"
     },
     "output_type": "display_data"
    }
   ],
   "source": [
    "realty.plot(x='last_price', y='total_area', kind='scatter', grid=True) \n",
    "print('Зависимость', realty['last_price'].corr(realty['total_area']))"
   ]
  },
  {
   "cell_type": "code",
   "execution_count": 52,
   "metadata": {},
   "outputs": [
    {
     "name": "stdout",
     "output_type": "stream",
     "text": [
      "Зависимость 0.5003762188209828\n"
     ]
    },
    {
     "data": {
      "text/plain": [
       "<AxesSubplot:title={'center':'rooms'}, xlabel='rooms'>"
      ]
     },
     "execution_count": 52,
     "metadata": {},
     "output_type": "execute_result"
    },
    {
     "data": {
      "image/png": "[encoded data removed]",
      "text/plain": [
       "<Figure size 432x288 with 1 Axes>"
      ]
     },
     "metadata": {
      "needs_background": "light"
     },
     "output_type": "display_data"
    },
    {
     "data": {
      "image/png": "[encoded data removed]",
      "text/plain": [
       "<Figure size 648x288 with 1 Axes>"
      ]
     },
     "metadata": {
      "needs_background": "light"
     },
     "output_type": "display_data"
    }
   ],
   "source": [
    "realty.plot(x='last_price', y='rooms', kind='scatter', grid=True) \n",
    "print('Зависимость', realty['last_price'].corr(realty['rooms']))\n",
    "df_filtered = realty.groupby('rooms').median()['last_price'].reset_index().sort_values(by='rooms')\n",
    "df_filtered.plot(x='rooms', y=\"last_price\", kind='bar', ec='black', \n",
    "                            title='rooms', legend=None, figsize=(9,4))"
   ]
  },
  {
   "cell_type": "code",
   "execution_count": 53,
   "metadata": {},
   "outputs": [
    {
     "name": "stdout",
     "output_type": "stream",
     "text": [
      "Зависимость -0.3269025117702646\n"
     ]
    },
    {
     "data": {
      "image/png": "[encoded data removed]",
      "text/plain": [
       "<Figure size 432x288 with 1 Axes>"
      ]
     },
     "metadata": {
      "needs_background": "light"
     },
     "output_type": "display_data"
    }
   ],
   "source": [
    "realty.plot(x='last_price', y='city_centers_nearest', kind='scatter', grid=True) \n",
    "print('Зависимость', realty['last_price'].corr(realty['city_centers_nearest']))"
   ]
  },
  {
   "cell_type": "code",
   "execution_count": 54,
   "metadata": {},
   "outputs": [
    {
     "data": {
      "text/html": [
       "<div>\n",
       "<style scoped>\n",
       "    .dataframe tbody tr th:only-of-type {\n",
       "        vertical-align: middle;\n",
       "    }\n",
       "\n",
       "    .dataframe tbody tr th {\n",
       "        vertical-align: top;\n",
       "    }\n",
       "\n",
       "    .dataframe thead th {\n",
       "        text-align: right;\n",
       "    }\n",
       "</style>\n",
       "<table border=\"1\" class=\"dataframe\">\n",
       "  <thead>\n",
       "    <tr style=\"text-align: right;\">\n",
       "      <th></th>\n",
       "      <th>total_images</th>\n",
       "      <th>last_price</th>\n",
       "      <th>total_area</th>\n",
       "      <th>first_day_exposition</th>\n",
       "      <th>rooms</th>\n",
       "      <th>ceiling_height</th>\n",
       "      <th>floors_total</th>\n",
       "      <th>living_area</th>\n",
       "      <th>floor</th>\n",
       "      <th>apartment</th>\n",
       "      <th>...</th>\n",
       "      <th>days_exposition</th>\n",
       "      <th>centr_category</th>\n",
       "      <th>price_of_m2</th>\n",
       "      <th>year</th>\n",
       "      <th>month</th>\n",
       "      <th>day</th>\n",
       "      <th>level</th>\n",
       "      <th>living_area_part</th>\n",
       "      <th>kitchen_area_part</th>\n",
       "      <th>level_id</th>\n",
       "    </tr>\n",
       "  </thead>\n",
       "  <tbody>\n",
       "    <tr>\n",
       "      <th>1</th>\n",
       "      <td>7</td>\n",
       "      <td>3350</td>\n",
       "      <td>40.4</td>\n",
       "      <td>2018-12-04</td>\n",
       "      <td>1</td>\n",
       "      <td>2.6</td>\n",
       "      <td>11.0</td>\n",
       "      <td>18.6</td>\n",
       "      <td>1</td>\n",
       "      <td>NaN</td>\n",
       "      <td>...</td>\n",
       "      <td>81.0</td>\n",
       "      <td>область</td>\n",
       "      <td>82.921</td>\n",
       "      <td>2018</td>\n",
       "      <td>12</td>\n",
       "      <td>4 - четверг</td>\n",
       "      <td>первый</td>\n",
       "      <td>0.46</td>\n",
       "      <td>0.27</td>\n",
       "      <td>1</td>\n",
       "    </tr>\n",
       "    <tr>\n",
       "      <th>5</th>\n",
       "      <td>10</td>\n",
       "      <td>2890</td>\n",
       "      <td>30.4</td>\n",
       "      <td>2018-09-10</td>\n",
       "      <td>1</td>\n",
       "      <td>NaN</td>\n",
       "      <td>12.0</td>\n",
       "      <td>14.4</td>\n",
       "      <td>5</td>\n",
       "      <td>NaN</td>\n",
       "      <td>...</td>\n",
       "      <td>55.0</td>\n",
       "      <td>None</td>\n",
       "      <td>95.066</td>\n",
       "      <td>2018</td>\n",
       "      <td>9</td>\n",
       "      <td>NaN</td>\n",
       "      <td>другой</td>\n",
       "      <td>0.47</td>\n",
       "      <td>0.30</td>\n",
       "      <td>3</td>\n",
       "    </tr>\n",
       "    <tr>\n",
       "      <th>8</th>\n",
       "      <td>20</td>\n",
       "      <td>2900</td>\n",
       "      <td>33.2</td>\n",
       "      <td>2018-05-23</td>\n",
       "      <td>1</td>\n",
       "      <td>NaN</td>\n",
       "      <td>27.0</td>\n",
       "      <td>15.4</td>\n",
       "      <td>26</td>\n",
       "      <td>NaN</td>\n",
       "      <td>...</td>\n",
       "      <td>189.0</td>\n",
       "      <td>None</td>\n",
       "      <td>87.349</td>\n",
       "      <td>2018</td>\n",
       "      <td>5</td>\n",
       "      <td>NaN</td>\n",
       "      <td>другой</td>\n",
       "      <td>0.46</td>\n",
       "      <td>0.27</td>\n",
       "      <td>3</td>\n",
       "    </tr>\n",
       "    <tr>\n",
       "      <th>9</th>\n",
       "      <td>18</td>\n",
       "      <td>5400</td>\n",
       "      <td>61.0</td>\n",
       "      <td>2017-02-26</td>\n",
       "      <td>3</td>\n",
       "      <td>2.5</td>\n",
       "      <td>9.0</td>\n",
       "      <td>43.6</td>\n",
       "      <td>7</td>\n",
       "      <td>NaN</td>\n",
       "      <td>...</td>\n",
       "      <td>289.0</td>\n",
       "      <td>в пределах города</td>\n",
       "      <td>88.525</td>\n",
       "      <td>2017</td>\n",
       "      <td>2</td>\n",
       "      <td>NaN</td>\n",
       "      <td>другой</td>\n",
       "      <td>0.71</td>\n",
       "      <td>0.11</td>\n",
       "      <td>3</td>\n",
       "    </tr>\n",
       "    <tr>\n",
       "      <th>10</th>\n",
       "      <td>5</td>\n",
       "      <td>5050</td>\n",
       "      <td>39.6</td>\n",
       "      <td>2017-11-16</td>\n",
       "      <td>1</td>\n",
       "      <td>2.7</td>\n",
       "      <td>12.0</td>\n",
       "      <td>20.3</td>\n",
       "      <td>3</td>\n",
       "      <td>NaN</td>\n",
       "      <td>...</td>\n",
       "      <td>137.0</td>\n",
       "      <td>в пределах города</td>\n",
       "      <td>127.525</td>\n",
       "      <td>2017</td>\n",
       "      <td>11</td>\n",
       "      <td>NaN</td>\n",
       "      <td>другой</td>\n",
       "      <td>0.51</td>\n",
       "      <td>0.21</td>\n",
       "      <td>3</td>\n",
       "    </tr>\n",
       "  </tbody>\n",
       "</table>\n",
       "<p>5 rows × 31 columns</p>\n",
       "</div>"
      ],
      "text/plain": [
       "    total_images  last_price  total_area first_day_exposition  rooms  \\\n",
       "1              7        3350        40.4           2018-12-04      1   \n",
       "5             10        2890        30.4           2018-09-10      1   \n",
       "8             20        2900        33.2           2018-05-23      1   \n",
       "9             18        5400        61.0           2017-02-26      3   \n",
       "10             5        5050        39.6           2017-11-16      1   \n",
       "\n",
       "    ceiling_height  floors_total  living_area  floor apartment  ...  \\\n",
       "1              2.6          11.0         18.6      1       NaN  ...   \n",
       "5              NaN          12.0         14.4      5       NaN  ...   \n",
       "8              NaN          27.0         15.4     26       NaN  ...   \n",
       "9              2.5           9.0         43.6      7       NaN  ...   \n",
       "10             2.7          12.0         20.3      3       NaN  ...   \n",
       "\n",
       "    days_exposition     centr_category  price_of_m2  year month          day  \\\n",
       "1              81.0            область       82.921  2018    12  4 - четверг   \n",
       "5              55.0               None       95.066  2018     9          NaN   \n",
       "8             189.0               None       87.349  2018     5          NaN   \n",
       "9             289.0  в пределах города       88.525  2017     2          NaN   \n",
       "10            137.0  в пределах города      127.525  2017    11          NaN   \n",
       "\n",
       "     level  living_area_part  kitchen_area_part  level_id  \n",
       "1   первый              0.46               0.27         1  \n",
       "5   другой              0.47               0.30         3  \n",
       "8   другой              0.46               0.27         3  \n",
       "9   другой              0.71               0.11         3  \n",
       "10  другой              0.51               0.21         3  \n",
       "\n",
       "[5 rows x 31 columns]"
      ]
     },
     "execution_count": 54,
     "metadata": {},
     "output_type": "execute_result"
    }
   ],
   "source": [
    "realty['level_id'] = np.where(realty['floor'] == 1, 1, 3)\n",
    "realty['level_id'] = np.where(realty['floor'] == realty['floors_total'], '2', realty['level_id'])\n",
    "realty['level_id'] = realty['level_id'].astype('int')\n",
    "realty.head()"
   ]
  },
  {
   "cell_type": "code",
   "execution_count": 55,
   "metadata": {
    "scrolled": false
   },
   "outputs": [
    {
     "name": "stdout",
     "output_type": "stream",
     "text": [
      "Зависимость 0.10541709496230774\n"
     ]
    },
    {
     "data": {
      "text/plain": [
       "<AxesSubplot:title={'center':'level'}, xlabel='level'>"
      ]
     },
     "execution_count": 55,
     "metadata": {},
     "output_type": "execute_result"
    },
    {
     "data": {
      "image/png": "[encoded data removed]",
      "text/plain": [
       "<Figure size 432x288 with 1 Axes>"
      ]
     },
     "metadata": {
      "needs_background": "light"
     },
     "output_type": "display_data"
    },
    {
     "data": {
      "image/png": "[encoded data removed]",
      "text/plain": [
       "<Figure size 648x288 with 1 Axes>"
      ]
     },
     "metadata": {
      "needs_background": "light"
     },
     "output_type": "display_data"
    }
   ],
   "source": [
    "realty.plot(x='last_price', y='level_id', kind='scatter', grid=True) \n",
    "print('Зависимость', realty['last_price'].corr(realty['level_id']))\n",
    "df_filtered = realty.groupby('level').median()['last_price'].reset_index().sort_values(by='level')\n",
    "df_filtered.plot(x='level', y=\"last_price\", kind='bar', ec='black', \n",
    "                            title='level', legend=None, figsize=(9,4))"
   ]
  },
  {
   "cell_type": "code",
   "execution_count": 56,
   "metadata": {},
   "outputs": [
    {
     "name": "stdout",
     "output_type": "stream",
     "text": [
      "Зависимость 0.028834987921390554\n"
     ]
    },
    {
     "data": {
      "text/plain": [
       "<AxesSubplot:title={'center':'year'}, xlabel='year'>"
      ]
     },
     "execution_count": 56,
     "metadata": {},
     "output_type": "execute_result"
    },
    {
     "data": {
      "image/png": "[encoded data removed]",
      "text/plain": [
       "<Figure size 432x288 with 1 Axes>"
      ]
     },
     "metadata": {
      "needs_background": "light"
     },
     "output_type": "display_data"
    },
    {
     "data": {
      "image/png": "[encoded data removed]",
      "text/plain": [
       "<Figure size 648x288 with 1 Axes>"
      ]
     },
     "metadata": {
      "needs_background": "light"
     },
     "output_type": "display_data"
    }
   ],
   "source": [
    "realty.plot(x='last_price', y='year', kind='scatter', grid=True)\n",
    "print('Зависимость', realty['last_price'].corr(realty['year']))\n",
    "df_filtered = realty.groupby('year').median()['last_price'].reset_index().sort_values(by='year')\n",
    "df_filtered.plot(x='year', y=\"last_price\", kind='bar', ec='black', \n",
    "                            title='year', legend=None, figsize=(9,4))"
   ]
  },
  {
   "cell_type": "code",
   "execution_count": 57,
   "metadata": {
    "scrolled": false
   },
   "outputs": [
    {
     "name": "stdout",
     "output_type": "stream",
     "text": [
      "Зависимость 0.005755796019451219\n"
     ]
    },
    {
     "data": {
      "text/plain": [
       "<AxesSubplot:title={'center':'month'}, xlabel='month'>"
      ]
     },
     "execution_count": 57,
     "metadata": {},
     "output_type": "execute_result"
    },
    {
     "data": {
      "image/png": "[encoded data removed]",
      "text/plain": [
       "<Figure size 432x288 with 1 Axes>"
      ]
     },
     "metadata": {
      "needs_background": "light"
     },
     "output_type": "display_data"
    },
    {
     "data": {
      "image/png": "[encoded data removed]",
      "text/plain": [
       "<Figure size 648x288 with 1 Axes>"
      ]
     },
     "metadata": {
      "needs_background": "light"
     },
     "output_type": "display_data"
    }
   ],
   "source": [
    "realty.plot(x='last_price', y='month', kind='scatter', grid=True)\n",
    "print('Зависимость', realty['last_price'].corr(realty['month']))\n",
    "df_filtered = realty.groupby('month').median()['last_price'].reset_index().sort_values(by='month')\n",
    "df_filtered.plot(x='month', y=\"last_price\", kind='bar', ec='black', \n",
    "                            title='month', legend=None, figsize=(9,4))"
   ]
  },
  {
   "cell_type": "code",
   "execution_count": 58,
   "metadata": {
    "scrolled": false
   },
   "outputs": [
    {
     "data": {
      "text/plain": [
       "<AxesSubplot:title={'center':'day'}, xlabel='day'>"
      ]
     },
     "execution_count": 58,
     "metadata": {},
     "output_type": "execute_result"
    },
    {
     "data": {
      "image/png": "[encoded data removed]",
      "text/plain": [
       "<Figure size 648x288 with 1 Axes>"
      ]
     },
     "metadata": {
      "needs_background": "light"
     },
     "output_type": "display_data"
    }
   ],
   "source": [
    "df_filtered = realty.groupby('day').median()['last_price'].reset_index().sort_values(by='day')\n",
    "df_filtered.plot(x='day', y=\"last_price\", kind='bar', ec='black', \n",
    "                            title='day', legend=None, figsize=(9,4))"
   ]
  },
  {
   "cell_type": "markdown",
   "metadata": {},
   "source": [
    "Мы видим что больше всего на стоимость квартир влияет площадь квартиры, количество комнат, чуть меньше влияние оказывает удаленность и этаж квартиры.\n",
    "\n",
    "Видимо что есть динамика продаж квартир, с 2015 по 2019 года появляется все больше кваритр в продаже. В феврале и в июле есть всплеск, скорее всего связан с январскими праздниками и летними каникулами и отпусками. В понедельник больше размещений чем в другие дни недели."
   ]
  },
  {
   "cell_type": "code",
   "execution_count": 59,
   "metadata": {},
   "outputs": [
    {
     "ename": "AttributeError",
     "evalue": "'float' object has no attribute 'round'",
     "output_type": "error",
     "traceback": [
      "\u001b[0;31m---------------------------------------------------------------------------\u001b[0m",
      "\u001b[0;31mAttributeError\u001b[0m                            Traceback (most recent call last)",
      "\u001b[0;32m/var/folders/m1/x343ks3d4qz12m0v6gmt6pq80000gn/T/ipykernel_60588/402623029.py\u001b[0m in \u001b[0;36m<module>\u001b[0;34m\u001b[0m\n\u001b[1;32m      1\u001b[0m \u001b[0mtop10\u001b[0m \u001b[0;34m=\u001b[0m \u001b[0mrealty\u001b[0m\u001b[0;34m[\u001b[0m\u001b[0;34m'locality_name'\u001b[0m\u001b[0;34m]\u001b[0m\u001b[0;34m.\u001b[0m\u001b[0mvalue_counts\u001b[0m\u001b[0;34m(\u001b[0m\u001b[0;34m)\u001b[0m\u001b[0;34m.\u001b[0m\u001b[0mindex\u001b[0m\u001b[0;34m.\u001b[0m\u001b[0mtolist\u001b[0m\u001b[0;34m(\u001b[0m\u001b[0;34m)\u001b[0m\u001b[0;34m[\u001b[0m\u001b[0;34m:\u001b[0m\u001b[0;36m10\u001b[0m\u001b[0;34m]\u001b[0m\u001b[0;34m\u001b[0m\u001b[0;34m\u001b[0m\u001b[0m\n\u001b[0;32m----> 2\u001b[0;31m \u001b[0mmean10_metrics\u001b[0m \u001b[0;34m=\u001b[0m \u001b[0;34m[\u001b[0m\u001b[0mrealty\u001b[0m\u001b[0;34m[\u001b[0m\u001b[0mrealty\u001b[0m\u001b[0;34m[\u001b[0m\u001b[0;34m'locality_name'\u001b[0m\u001b[0;34m]\u001b[0m \u001b[0;34m==\u001b[0m \u001b[0mcity\u001b[0m\u001b[0;34m]\u001b[0m\u001b[0;34m[\u001b[0m\u001b[0;34m'price_of_m2'\u001b[0m\u001b[0;34m]\u001b[0m\u001b[0;34m.\u001b[0m\u001b[0mmedian\u001b[0m\u001b[0;34m(\u001b[0m\u001b[0;34m)\u001b[0m\u001b[0;34m.\u001b[0m\u001b[0mround\u001b[0m\u001b[0;34m(\u001b[0m\u001b[0;36m2\u001b[0m\u001b[0;34m)\u001b[0m \u001b[0;32mfor\u001b[0m \u001b[0mcity\u001b[0m \u001b[0;32min\u001b[0m \u001b[0mtop10\u001b[0m\u001b[0;34m]\u001b[0m\u001b[0;34m\u001b[0m\u001b[0;34m\u001b[0m\u001b[0m\n\u001b[0m\u001b[1;32m      3\u001b[0m \u001b[0mmean10_prices\u001b[0m \u001b[0;34m=\u001b[0m \u001b[0;34m[\u001b[0m\u001b[0mrealty\u001b[0m\u001b[0;34m[\u001b[0m\u001b[0mrealty\u001b[0m\u001b[0;34m[\u001b[0m\u001b[0;34m'locality_name'\u001b[0m\u001b[0;34m]\u001b[0m \u001b[0;34m==\u001b[0m \u001b[0mcity\u001b[0m\u001b[0;34m]\u001b[0m\u001b[0;34m[\u001b[0m\u001b[0;34m'last_price'\u001b[0m\u001b[0;34m]\u001b[0m\u001b[0;34m.\u001b[0m\u001b[0mmedian\u001b[0m\u001b[0;34m(\u001b[0m\u001b[0;34m)\u001b[0m \u001b[0;32mfor\u001b[0m \u001b[0mcity\u001b[0m \u001b[0;32min\u001b[0m \u001b[0mtop10\u001b[0m\u001b[0;34m]\u001b[0m\u001b[0;34m\u001b[0m\u001b[0;34m\u001b[0m\u001b[0m\n\u001b[1;32m      4\u001b[0m \u001b[0mframe\u001b[0m \u001b[0;34m=\u001b[0m \u001b[0;34m{\u001b[0m\u001b[0;34m'Город'\u001b[0m\u001b[0;34m:\u001b[0m \u001b[0mtop10\u001b[0m\u001b[0;34m,\u001b[0m \u001b[0;34m'Средняя цена за кв.м., тыс. руб.'\u001b[0m\u001b[0;34m:\u001b[0m \u001b[0mmean10_metrics\u001b[0m\u001b[0;34m,\u001b[0m \u001b[0;34m'Средняя цена за квартиру, тыс. руб.'\u001b[0m\u001b[0;34m:\u001b[0m \u001b[0mmean10_prices\u001b[0m\u001b[0;34m}\u001b[0m\u001b[0;34m\u001b[0m\u001b[0;34m\u001b[0m\u001b[0m\n\u001b[1;32m      5\u001b[0m \u001b[0mdataframe\u001b[0m \u001b[0;34m=\u001b[0m \u001b[0mpd\u001b[0m\u001b[0;34m.\u001b[0m\u001b[0mDataFrame\u001b[0m\u001b[0;34m(\u001b[0m\u001b[0mframe\u001b[0m\u001b[0;34m)\u001b[0m\u001b[0;34m.\u001b[0m\u001b[0msort_values\u001b[0m\u001b[0;34m(\u001b[0m\u001b[0mby\u001b[0m\u001b[0;34m=\u001b[0m\u001b[0;34m'Средняя цена за кв.м., тыс. руб.'\u001b[0m\u001b[0;34m,\u001b[0m \u001b[0mascending\u001b[0m\u001b[0;34m=\u001b[0m\u001b[0;32mFalse\u001b[0m\u001b[0;34m)\u001b[0m\u001b[0;34m\u001b[0m\u001b[0;34m\u001b[0m\u001b[0m\n",
      "\u001b[0;32m/var/folders/m1/x343ks3d4qz12m0v6gmt6pq80000gn/T/ipykernel_60588/402623029.py\u001b[0m in \u001b[0;36m<listcomp>\u001b[0;34m(.0)\u001b[0m\n\u001b[1;32m      1\u001b[0m \u001b[0mtop10\u001b[0m \u001b[0;34m=\u001b[0m \u001b[0mrealty\u001b[0m\u001b[0;34m[\u001b[0m\u001b[0;34m'locality_name'\u001b[0m\u001b[0;34m]\u001b[0m\u001b[0;34m.\u001b[0m\u001b[0mvalue_counts\u001b[0m\u001b[0;34m(\u001b[0m\u001b[0;34m)\u001b[0m\u001b[0;34m.\u001b[0m\u001b[0mindex\u001b[0m\u001b[0;34m.\u001b[0m\u001b[0mtolist\u001b[0m\u001b[0;34m(\u001b[0m\u001b[0;34m)\u001b[0m\u001b[0;34m[\u001b[0m\u001b[0;34m:\u001b[0m\u001b[0;36m10\u001b[0m\u001b[0;34m]\u001b[0m\u001b[0;34m\u001b[0m\u001b[0;34m\u001b[0m\u001b[0m\n\u001b[0;32m----> 2\u001b[0;31m \u001b[0mmean10_metrics\u001b[0m \u001b[0;34m=\u001b[0m \u001b[0;34m[\u001b[0m\u001b[0mrealty\u001b[0m\u001b[0;34m[\u001b[0m\u001b[0mrealty\u001b[0m\u001b[0;34m[\u001b[0m\u001b[0;34m'locality_name'\u001b[0m\u001b[0;34m]\u001b[0m \u001b[0;34m==\u001b[0m \u001b[0mcity\u001b[0m\u001b[0;34m]\u001b[0m\u001b[0;34m[\u001b[0m\u001b[0;34m'price_of_m2'\u001b[0m\u001b[0;34m]\u001b[0m\u001b[0;34m.\u001b[0m\u001b[0mmedian\u001b[0m\u001b[0;34m(\u001b[0m\u001b[0;34m)\u001b[0m\u001b[0;34m.\u001b[0m\u001b[0mround\u001b[0m\u001b[0;34m(\u001b[0m\u001b[0;36m2\u001b[0m\u001b[0;34m)\u001b[0m \u001b[0;32mfor\u001b[0m \u001b[0mcity\u001b[0m \u001b[0;32min\u001b[0m \u001b[0mtop10\u001b[0m\u001b[0;34m]\u001b[0m\u001b[0;34m\u001b[0m\u001b[0;34m\u001b[0m\u001b[0m\n\u001b[0m\u001b[1;32m      3\u001b[0m \u001b[0mmean10_prices\u001b[0m \u001b[0;34m=\u001b[0m \u001b[0;34m[\u001b[0m\u001b[0mrealty\u001b[0m\u001b[0;34m[\u001b[0m\u001b[0mrealty\u001b[0m\u001b[0;34m[\u001b[0m\u001b[0;34m'locality_name'\u001b[0m\u001b[0;34m]\u001b[0m \u001b[0;34m==\u001b[0m \u001b[0mcity\u001b[0m\u001b[0;34m]\u001b[0m\u001b[0;34m[\u001b[0m\u001b[0;34m'last_price'\u001b[0m\u001b[0;34m]\u001b[0m\u001b[0;34m.\u001b[0m\u001b[0mmedian\u001b[0m\u001b[0;34m(\u001b[0m\u001b[0;34m)\u001b[0m \u001b[0;32mfor\u001b[0m \u001b[0mcity\u001b[0m \u001b[0;32min\u001b[0m \u001b[0mtop10\u001b[0m\u001b[0;34m]\u001b[0m\u001b[0;34m\u001b[0m\u001b[0;34m\u001b[0m\u001b[0m\n\u001b[1;32m      4\u001b[0m \u001b[0mframe\u001b[0m \u001b[0;34m=\u001b[0m \u001b[0;34m{\u001b[0m\u001b[0;34m'Город'\u001b[0m\u001b[0;34m:\u001b[0m \u001b[0mtop10\u001b[0m\u001b[0;34m,\u001b[0m \u001b[0;34m'Средняя цена за кв.м., тыс. руб.'\u001b[0m\u001b[0;34m:\u001b[0m \u001b[0mmean10_metrics\u001b[0m\u001b[0;34m,\u001b[0m \u001b[0;34m'Средняя цена за квартиру, тыс. руб.'\u001b[0m\u001b[0;34m:\u001b[0m \u001b[0mmean10_prices\u001b[0m\u001b[0;34m}\u001b[0m\u001b[0;34m\u001b[0m\u001b[0;34m\u001b[0m\u001b[0m\n\u001b[1;32m      5\u001b[0m \u001b[0mdataframe\u001b[0m \u001b[0;34m=\u001b[0m \u001b[0mpd\u001b[0m\u001b[0;34m.\u001b[0m\u001b[0mDataFrame\u001b[0m\u001b[0;34m(\u001b[0m\u001b[0mframe\u001b[0m\u001b[0;34m)\u001b[0m\u001b[0;34m.\u001b[0m\u001b[0msort_values\u001b[0m\u001b[0;34m(\u001b[0m\u001b[0mby\u001b[0m\u001b[0;34m=\u001b[0m\u001b[0;34m'Средняя цена за кв.м., тыс. руб.'\u001b[0m\u001b[0;34m,\u001b[0m \u001b[0mascending\u001b[0m\u001b[0;34m=\u001b[0m\u001b[0;32mFalse\u001b[0m\u001b[0;34m)\u001b[0m\u001b[0;34m\u001b[0m\u001b[0;34m\u001b[0m\u001b[0m\n",
      "\u001b[0;31mAttributeError\u001b[0m: 'float' object has no attribute 'round'"
     ]
    }
   ],
   "source": [
    "top10 = realty['locality_name'].value_counts().index.tolist()[:10]\n",
    "mean10_metrics = [realty[realty['locality_name'] == city]['price_of_m2'].median().round(2) for city in top10]\n",
    "mean10_prices = [realty[realty['locality_name'] == city]['last_price'].median() for city in top10]\n",
    "frame = {'Город': top10, 'Средняя цена за кв.м., тыс. руб.': mean10_metrics, 'Средняя цена за квартиру, тыс. руб.': mean10_prices}\n",
    "dataframe = pd.DataFrame(frame).sort_values(by='Средняя цена за кв.м., тыс. руб.', ascending=False)\n",
    "dataframe"
   ]
  },
  {
   "cell_type": "markdown",
   "metadata": {},
   "source": [
    "Как и ожидалось, самые дорогие квартиры (что за всё жилье, что за 1 кв.м.) в Санкт-Петербурге и парковом городе Пушкине. Чем дальше от города, тем дешевле. В Выборге средняя цена за квадратный метр в 2 раз ниже, чем в Санкт-Петербурге."
   ]
  },
  {
   "cell_type": "code",
   "execution_count": null,
   "metadata": {
    "scrolled": true
   },
   "outputs": [],
   "source": [
    "piter = realty.loc[realty['locality_name']=='Санкт-Петербург',['price_of_m2', 'city_centers_nearest']].reset_index(drop=True)\n",
    "piter['dist_c_km'] = (piter['city_centers_nearest']/1000).round()\n",
    "piter.head()"
   ]
  },
  {
   "cell_type": "code",
   "execution_count": null,
   "metadata": {
    "scrolled": true
   },
   "outputs": [],
   "source": [
    "piter_km_price = piter.pivot_table(index='dist_c_km', values=('price_of_m2'), aggfunc='mean')\n",
    "piter_km_price.head()"
   ]
  },
  {
   "cell_type": "code",
   "execution_count": null,
   "metadata": {
    "scrolled": true
   },
   "outputs": [],
   "source": [
    "piter_km_price.plot(kind='bar', grid=True, figsize=(14,8));"
   ]
  },
  {
   "cell_type": "markdown",
   "metadata": {},
   "source": [
    "Делаем вывод что центральная часть Петербурга от 0 до 8 км"
   ]
  },
  {
   "cell_type": "code",
   "execution_count": null,
   "metadata": {
    "scrolled": true
   },
   "outputs": [],
   "source": [
    "#квартиры в центре\n",
    "spb_cen = realty[['total_area', 'last_price', 'rooms', 'ceiling_height', 'floor', 'city_centers_nearest', 'days_exposition','locality_name']]\n",
    "spb_center = spb_cen.query('city_centers_nearest < 8000 ')\n",
    "display(spb_center.describe().round())\n",
    "display('СПБ - ЦЕНТР')\n",
    "\n",
    "#квариры во всем СПБ\n",
    "spb_a = realty[['total_area', 'last_price', 'rooms', 'ceiling_height', 'floor', 'city_centers_nearest', 'days_exposition','locality_name']]\n",
    "spb_all = spb_a.query('locality_name == \"Санкт-Петербург\" ')\n",
    "display(spb_all.describe().round())\n",
    "display('СПБ - ВЕСЬ')"
   ]
  },
  {
   "cell_type": "markdown",
   "metadata": {},
   "source": [
    "- total_area Центр/СПБ: средняя площадь 63/53 квм, медиана 62/50 квм\n",
    "- last_price Центр/СПБ: средняя стоимость 7/5.5 млн, мининальная 2.75/2.2 млн\n",
    "- rooms Центр/СПБ: среднее кол-во комнат 2/2 \n",
    "- ceiling_height Центр/СПБ: средняя высота потолков 3/3 м.\n",
    "\n",
    "Вывод: данные соответствуют действительности. В центре действительно средняя площадь и среднее кол-во комнат выше, чем во всё Санкт-Петербурге. Также средняя стоимость и средняя высота потолков соответствуют значениям квартир в центре города."
   ]
  },
  {
   "cell_type": "code",
   "execution_count": null,
   "metadata": {
    "scrolled": true
   },
   "outputs": [],
   "source": [
    "#'СПБ - ЦЕНТР'\n",
    "corr = spb_center.corr()\n",
    "figsize=(10, 8)\n",
    "sns.heatmap(corr,\n",
    "            xticklabels=corr.columns.values,\n",
    "            yticklabels=corr.columns.values)\n",
    "\n",
    "corr"
   ]
  },
  {
   "cell_type": "markdown",
   "metadata": {},
   "source": [
    "Теснота корреляционной связи Площади и Цены высокая- именно общая площадь больше всего влияет на цену.\n",
    "\n",
    "Далее по степени убывания корреляционной связи:\n",
    "- кол-во комнат\n",
    "- высота потолков\n",
    "- этаж\n",
    "- дата размещения объявления \n",
    "- удаленность от центра"
   ]
  },
  {
   "cell_type": "code",
   "execution_count": null,
   "metadata": {
    "scrolled": false
   },
   "outputs": [],
   "source": [
    "#'СПБ - Весь'\n",
    "corr_all = spb_all.corr()\n",
    "figsize=(10, 8)\n",
    "sns.heatmap(corr,\n",
    "            xticklabels=corr.columns.values,\n",
    "            yticklabels=corr.columns.values)\n",
    "\n",
    "corr_all"
   ]
  },
  {
   "cell_type": "markdown",
   "metadata": {},
   "source": [
    "Теснота корреляционной связи Площади и Цены высокая - общая площадь во всём Санкт-Петербрурге больше всего влияет на цену. Корреляция в целом по городу даже выше, чем только по Центру.\n",
    "\n",
    "Далее по степени убывания корреляционной связи:\n",
    "- кол-во комнат\n",
    "- высота потолков \n",
    "- этаж \n",
    "- дата размещения объявления \n",
    "- удаленность от центра\n",
    "\n",
    "Кол-во комнат напрямую зависит от общей площади, поэтому вполне естественно, что и у кол-во комнат во всём городе корреляция с ценой также будет выше, чем в центре. Высота потолков имеет бОльшее влияние на цену, чем в центре. Этажность, дата размещения и удаленность от центра - всё ещё имеют низкую тесноту корреляционной связи с ценой."
   ]
  },
  {
   "cell_type": "markdown",
   "metadata": {},
   "source": [
    "## Общий вывод"
   ]
  },
  {
   "cell_type": "markdown",
   "metadata": {},
   "source": [
    "Для анализа был получен dataset, состоящий из 22 колонок и 23699 строк. Часть колонок не пригодилась для анализа (total_images, open_plan, balcony, parks_around3000, parks_nearest, ponds_around3000, ponds_nearest), но по мере возможностей была также обработана на этапе предобработки.\n",
    "На этапе предобработки была удалена 181 строка. Заменены типы файлов. Удалены выбросы\n",
    "Больше всего квартир в продаже с площадью от 30 до 45 квм (1к и 2к квартиры).\n",
    "Больше всего квартир продаётся по цене от 1,8 млн до 7 млн. Пик продаж находится в диапазоне цен от 3 до 5 млн.\n",
    "Больше всего 1к квартир (более 8 тысяч), далее идут 2к квартиры (чуть меньше 8 тысяч),\n",
    "Больше всего квартир с высотой потолков 250см (более 5,5 тысяч), однако квартир с высотой 265см не многим меньше (5000).\n",
    "Продажа квартиры занимает от 1,5 до 3 месяцев. Продажа в срок до 45 дней может считаться быстрой продажей, так как произошла в период до первого пикового значения. Продажи сроком более 199 дней можно считать долгими.\n",
    "Высокая зависимость цены от площади - коэффициента корреляции Пирсона. Умеренная зависимость цены от количества комнат.\n",
    "Цена не зависит от удаленности от центра (при анализе всего датасета, включающего Санкт-Петербург и ЛО).\n",
    "Центральная зона Санкт-Петербурга с 0 до 8 км.\n",
    "Несмотря на полное отсутствие корреляции, средняя цена в Четверг равна 6,5 млн, почти на 400 тыс выше, чем в значениях средних цен Воскресенья. А средняя цена в Декабре равна 6,6 млн, на 600 тыс выше, чем в значениях средних цен Октября. Резкое падение средних цен в 2014/2015 годах, затем умеренное снижение до 2019 года (рост цен).\n",
    "Самая высокая стоимость жилья: Санкт-Петербург. Самая низкая стоимость жилья: Выборг.\n",
    "Площадь, Центр/СПБ: средняя площадь 63/53квм, медиана 62/50квм Цена, Центр/СПБ: средняя стоимость 7млн/5.5млн, мининальная 2.75/2.2 млн Комнаты, Центр/СПБ: среднее кол-во комнат 3/3 Потолки, Центр/СПБ: средняя высота потолков 3/3 м\n",
    "Этажность, дата размещения и удаленность от центра - имеют низкую тесноту корреляционной связи с ценой как в Санкт-Петербурге в целом, так и в центре города."
   ]
  },
  {
   "cell_type": "markdown",
   "metadata": {},
   "source": [
    "## Чек-лист готовности проекта\n",
    "\n",
    "Поставьте 'x' в выполненных пунктах. Далее нажмите Shift+Enter."
   ]
  },
  {
   "cell_type": "markdown",
   "metadata": {},
   "source": [
    "- [x]  открыт файл\n",
    "- [x]  файлы изучены (выведены первые строки, метод `info()`)\n",
    "- [x]  определены пропущенные значения\n",
    "- [x]  заполнены пропущенные значения\n",
    "- [x]  есть пояснение, какие пропущенные значения обнаружены\n",
    "- [x]  изменены типы данных\n",
    "- [x]  есть пояснение, в каких столбцах изменены типы и почему\n",
    "- [x]  посчитано и добавлено в таблицу: цена квадратного метра\n",
    "- [x]  посчитано и добавлено в таблицу: день недели, месяц и год публикации объявления\n",
    "- [x]  посчитано и добавлено в таблицу: этаж квартиры; варианты — первый, последний, другой\n",
    "- [x]  посчитано и добавлено в таблицу: соотношение жилой и общей площади, а также отношение площади кухни к общей\n",
    "- [x]  изучены следующие параметры: площадь, цена, число комнат, высота потолков\n",
    "- [x]  построены гистограммы для каждого параметра\n",
    "- [x]  выполнено задание: «Изучите время продажи квартиры. Постройте гистограмму. Посчитайте среднее и медиану. Опишите, сколько обычно занимает продажа. Когда можно считать, что продажи прошли очень быстро, а когда необычно долго?»\n",
    "- [x]  выполнено задание: «Уберите редкие и выбивающиеся значения. Опишите, какие особенности обнаружили».\n",
    "- [x]  выполнено задание: «Какие факторы больше всего влияют на стоимость квартиры? Изучите, зависит ли цена от квадратного метра, числа комнат, этажа (первого или последнего), удалённости от центра. Также изучите зависимость от даты размещения: дня недели, месяца и года». \n",
    "- [x]  выполнено задание: «Выберите 10 населённых пунктов с наибольшим числом объявлений. Посчитайте среднюю цену квадратного метра в этих населённых пунктах. Выделите населённые пункты с самой высокой и низкой стоимостью жилья. Эти данные можно найти по имени в столбце `locality_name`».\n",
    "- [x]  выполнено задание: «Изучите предложения квартир: для каждой квартиры есть информация о расстоянии до центра. Выделите квартиры в Санкт-Петербурге (`locality_name`). Ваша задача — выяснить, какая область входит в центр. Создайте столбец с расстоянием до центра в километрах: округлите до целых значений. После этого посчитайте среднюю цену для каждого километра. Постройте график: он должен показывать, как цена зависит от удалённости от центра. Определите границу, где график сильно меняется — это и будет центральная зона».\n",
    "- [x]  выполнено задание: «Выделите сегмент квартир в центре. Проанализируйте эту территорию и изучите следующие параметры: площадь, цена, число комнат, высота потолков. Также выделите факторы, которые влияют на стоимость квартиры (число комнат, этаж, удалённость от центра, дата размещения объявления). Сделайте выводы. Отличаются ли они от общих выводов по всей базе?»\n",
    "- [x]  в каждом этапе есть выводы\n",
    "- [x]  есть общий вывод"
   ]
  }
 ],
 "metadata": {
  "ExecuteTimeLog": [
   {
    "duration": 775,
    "start_time": "2022-02-22T13:59:14.649Z"
   },
   {
    "duration": 106,
    "start_time": "2022-02-22T13:59:16.776Z"
   },
   {
    "duration": 85,
    "start_time": "2022-02-22T13:59:30.621Z"
   },
   {
    "duration": 1277,
    "start_time": "2022-02-22T13:59:34.029Z"
   },
   {
    "duration": 81,
    "start_time": "2022-02-22T13:59:37.865Z"
   },
   {
    "duration": 218,
    "start_time": "2022-02-22T13:59:44.813Z"
   },
   {
    "duration": 81,
    "start_time": "2022-02-22T13:59:50.743Z"
   },
   {
    "duration": 133,
    "start_time": "2022-02-22T13:59:55.160Z"
   },
   {
    "duration": 78,
    "start_time": "2022-02-22T14:00:04.545Z"
   },
   {
    "duration": 129,
    "start_time": "2022-02-22T14:00:16.608Z"
   },
   {
    "duration": 81,
    "start_time": "2022-02-22T14:00:20.107Z"
   },
   {
    "duration": 151,
    "start_time": "2022-02-22T14:00:34.303Z"
   },
   {
    "duration": 10,
    "start_time": "2022-02-22T14:09:20.885Z"
   },
   {
    "duration": 13,
    "start_time": "2022-02-22T14:11:36.242Z"
   },
   {
    "duration": 15,
    "start_time": "2022-02-22T14:14:08.390Z"
   },
   {
    "duration": 45,
    "start_time": "2022-02-22T14:14:22.430Z"
   },
   {
    "duration": 13,
    "start_time": "2022-02-22T14:16:20.657Z"
   },
   {
    "duration": 175,
    "start_time": "2022-02-22T14:17:04.944Z"
   },
   {
    "duration": 7577,
    "start_time": "2022-02-22T14:18:34.890Z"
   },
   {
    "duration": 8104,
    "start_time": "2022-02-22T14:18:55.134Z"
   },
   {
    "duration": 793,
    "start_time": "2022-02-22T14:19:22.013Z"
   },
   {
    "duration": 200,
    "start_time": "2022-02-22T14:19:22.809Z"
   },
   {
    "duration": 41,
    "start_time": "2022-02-22T14:19:23.013Z"
   },
   {
    "duration": 43,
    "start_time": "2022-02-22T14:19:23.057Z"
   },
   {
    "duration": 9,
    "start_time": "2022-02-22T14:19:23.103Z"
   },
   {
    "duration": 89,
    "start_time": "2022-02-22T14:19:23.115Z"
   },
   {
    "duration": 439,
    "start_time": "2022-02-22T14:20:04.064Z"
   },
   {
    "duration": 10,
    "start_time": "2022-02-22T14:20:11.457Z"
   },
   {
    "duration": 285,
    "start_time": "2022-02-22T14:24:34.576Z"
   },
   {
    "duration": 8,
    "start_time": "2022-02-22T14:24:39.240Z"
   },
   {
    "duration": 13,
    "start_time": "2022-02-22T14:38:13.984Z"
   },
   {
    "duration": 7,
    "start_time": "2022-02-22T14:39:18.358Z"
   },
   {
    "duration": 762,
    "start_time": "2022-02-22T14:39:33.210Z"
   },
   {
    "duration": 179,
    "start_time": "2022-02-22T14:39:33.975Z"
   },
   {
    "duration": 72,
    "start_time": "2022-02-22T14:39:34.158Z"
   },
   {
    "duration": 16,
    "start_time": "2022-02-22T14:39:34.234Z"
   },
   {
    "duration": 9,
    "start_time": "2022-02-22T14:39:34.253Z"
   },
   {
    "duration": 49,
    "start_time": "2022-02-22T14:39:34.265Z"
   },
   {
    "duration": 10,
    "start_time": "2022-02-22T14:39:34.317Z"
   },
   {
    "duration": 9,
    "start_time": "2022-02-22T14:39:56.738Z"
   },
   {
    "duration": 7,
    "start_time": "2022-02-22T14:41:12.300Z"
   },
   {
    "duration": 7,
    "start_time": "2022-02-22T14:41:15.951Z"
   },
   {
    "duration": 6,
    "start_time": "2022-02-22T14:41:22.507Z"
   },
   {
    "duration": 13,
    "start_time": "2022-02-22T14:57:25.316Z"
   },
   {
    "duration": 13,
    "start_time": "2022-02-22T14:57:33.164Z"
   },
   {
    "duration": 128,
    "start_time": "2022-02-22T15:00:41.819Z"
   },
   {
    "duration": 20,
    "start_time": "2022-02-22T15:05:43.016Z"
   },
   {
    "duration": 13,
    "start_time": "2022-02-22T15:06:03.176Z"
   },
   {
    "duration": 16,
    "start_time": "2022-02-22T15:06:12.492Z"
   },
   {
    "duration": 428,
    "start_time": "2022-02-22T15:07:39.317Z"
   },
   {
    "duration": 321,
    "start_time": "2022-02-22T15:12:16.734Z"
   },
   {
    "duration": 12,
    "start_time": "2022-02-22T15:13:13.522Z"
   },
   {
    "duration": 16,
    "start_time": "2022-02-22T15:14:39.428Z"
   },
   {
    "duration": 311,
    "start_time": "2022-02-22T15:15:42.865Z"
   },
   {
    "duration": 13,
    "start_time": "2022-02-22T15:15:50.035Z"
   },
   {
    "duration": 14,
    "start_time": "2022-02-22T15:16:06.721Z"
   },
   {
    "duration": 14,
    "start_time": "2022-02-22T15:16:07.713Z"
   },
   {
    "duration": 14,
    "start_time": "2022-02-22T15:16:09.490Z"
   },
   {
    "duration": 13,
    "start_time": "2022-02-22T15:16:14.424Z"
   },
   {
    "duration": 96,
    "start_time": "2022-02-22T15:16:20.548Z"
   },
   {
    "duration": 13,
    "start_time": "2022-02-22T15:17:14.787Z"
   },
   {
    "duration": 109,
    "start_time": "2022-02-22T15:18:05.689Z"
   },
   {
    "duration": 91,
    "start_time": "2022-02-22T15:18:10.040Z"
   },
   {
    "duration": 7836,
    "start_time": "2022-02-22T15:18:23.295Z"
   },
   {
    "duration": 13,
    "start_time": "2022-02-22T15:18:37.295Z"
   },
   {
    "duration": 307,
    "start_time": "2022-02-22T15:19:08.863Z"
   },
   {
    "duration": 321,
    "start_time": "2022-02-22T15:19:15.257Z"
   },
   {
    "duration": 321,
    "start_time": "2022-02-22T15:19:59.831Z"
   },
   {
    "duration": 18,
    "start_time": "2022-02-22T15:20:09.350Z"
   },
   {
    "duration": 11,
    "start_time": "2022-02-22T16:33:35.071Z"
   },
   {
    "duration": 18,
    "start_time": "2022-02-22T16:39:13.826Z"
   },
   {
    "duration": 14,
    "start_time": "2022-02-22T16:42:04.246Z"
   },
   {
    "duration": 4,
    "start_time": "2022-02-22T16:42:21.911Z"
   },
   {
    "duration": 240,
    "start_time": "2022-02-22T16:42:21.918Z"
   },
   {
    "duration": 196,
    "start_time": "2022-02-22T16:42:22.162Z"
   },
   {
    "duration": 75,
    "start_time": "2022-02-22T16:42:22.363Z"
   },
   {
    "duration": 28,
    "start_time": "2022-02-22T16:42:22.441Z"
   },
   {
    "duration": 13,
    "start_time": "2022-02-22T16:42:22.472Z"
   },
   {
    "duration": 33,
    "start_time": "2022-02-22T16:42:22.488Z"
   },
   {
    "duration": 27,
    "start_time": "2022-02-22T16:42:22.524Z"
   },
   {
    "duration": 13,
    "start_time": "2022-02-22T16:44:15.042Z"
   },
   {
    "duration": 18,
    "start_time": "2022-02-22T16:51:35.549Z"
   },
   {
    "duration": 24,
    "start_time": "2022-02-22T16:53:04.284Z"
   },
   {
    "duration": 18,
    "start_time": "2022-02-22T16:54:39.186Z"
   },
   {
    "duration": 395,
    "start_time": "2022-02-22T16:56:08.599Z"
   },
   {
    "duration": 315,
    "start_time": "2022-02-22T16:56:13.888Z"
   },
   {
    "duration": 42,
    "start_time": "2022-02-22T16:56:36.746Z"
   },
   {
    "duration": 35,
    "start_time": "2022-02-22T16:56:41.762Z"
   },
   {
    "duration": 43,
    "start_time": "2022-02-22T16:56:51.918Z"
   },
   {
    "duration": 48,
    "start_time": "2022-02-22T16:57:02.571Z"
   },
   {
    "duration": 8155,
    "start_time": "2022-02-22T17:00:05.660Z"
   },
   {
    "duration": 8228,
    "start_time": "2022-02-22T17:00:20.269Z"
   },
   {
    "duration": 15,
    "start_time": "2022-02-22T17:00:55.698Z"
   },
   {
    "duration": 13,
    "start_time": "2022-02-22T17:03:17.810Z"
   },
   {
    "duration": 13,
    "start_time": "2022-02-22T17:08:50.922Z"
   },
   {
    "duration": 46,
    "start_time": "2022-02-22T17:12:12.225Z"
   },
   {
    "duration": 14,
    "start_time": "2022-02-22T17:12:56.853Z"
   },
   {
    "duration": 13,
    "start_time": "2022-02-22T17:16:29.678Z"
   },
   {
    "duration": 719,
    "start_time": "2022-02-23T06:57:45.770Z"
   },
   {
    "duration": 172,
    "start_time": "2022-02-23T06:57:46.492Z"
   },
   {
    "duration": 117,
    "start_time": "2022-02-23T06:57:46.668Z"
   },
   {
    "duration": 40,
    "start_time": "2022-02-23T06:57:46.789Z"
   },
   {
    "duration": 52,
    "start_time": "2022-02-23T06:57:46.832Z"
   },
   {
    "duration": 11,
    "start_time": "2022-02-23T06:57:46.887Z"
   },
   {
    "duration": 10,
    "start_time": "2022-02-23T06:57:46.901Z"
   },
   {
    "duration": 13,
    "start_time": "2022-02-23T06:57:46.950Z"
   },
   {
    "duration": 9,
    "start_time": "2022-02-23T06:57:46.966Z"
   },
   {
    "duration": 12,
    "start_time": "2022-02-23T06:57:46.978Z"
   },
   {
    "duration": 10,
    "start_time": "2022-02-23T06:57:46.993Z"
   },
   {
    "duration": 12,
    "start_time": "2022-02-23T06:57:47.050Z"
   },
   {
    "duration": 17,
    "start_time": "2022-02-23T06:57:47.065Z"
   },
   {
    "duration": 18,
    "start_time": "2022-02-23T06:57:47.085Z"
   },
   {
    "duration": 50,
    "start_time": "2022-02-23T06:57:47.106Z"
   },
   {
    "duration": 13,
    "start_time": "2022-02-23T06:57:47.159Z"
   },
   {
    "duration": 13,
    "start_time": "2022-02-23T06:57:47.176Z"
   },
   {
    "duration": 13,
    "start_time": "2022-02-23T06:57:47.192Z"
   },
   {
    "duration": 6,
    "start_time": "2022-02-23T06:57:47.250Z"
   },
   {
    "duration": 10,
    "start_time": "2022-02-23T06:59:23.132Z"
   },
   {
    "duration": 81,
    "start_time": "2022-02-23T06:59:46.774Z"
   },
   {
    "duration": 10,
    "start_time": "2022-02-23T07:00:09.184Z"
   },
   {
    "duration": 351,
    "start_time": "2022-02-24T05:43:45.026Z"
   },
   {
    "duration": 273,
    "start_time": "2022-02-24T05:43:49.348Z"
   },
   {
    "duration": 792,
    "start_time": "2022-02-24T05:44:01.889Z"
   },
   {
    "duration": 170,
    "start_time": "2022-02-24T05:44:02.684Z"
   },
   {
    "duration": 123,
    "start_time": "2022-02-24T05:44:02.858Z"
   },
   {
    "duration": 45,
    "start_time": "2022-02-24T05:44:02.985Z"
   },
   {
    "duration": 62,
    "start_time": "2022-02-24T05:44:03.033Z"
   },
   {
    "duration": 13,
    "start_time": "2022-02-24T05:44:03.097Z"
   },
   {
    "duration": 11,
    "start_time": "2022-02-24T05:44:03.112Z"
   },
   {
    "duration": 11,
    "start_time": "2022-02-24T05:44:03.127Z"
   },
   {
    "duration": 11,
    "start_time": "2022-02-24T05:44:03.140Z"
   },
   {
    "duration": 50,
    "start_time": "2022-02-24T05:44:03.153Z"
   },
   {
    "duration": 11,
    "start_time": "2022-02-24T05:44:03.205Z"
   },
   {
    "duration": 10,
    "start_time": "2022-02-24T05:44:03.219Z"
   },
   {
    "duration": 13,
    "start_time": "2022-02-24T05:44:03.231Z"
   },
   {
    "duration": 12,
    "start_time": "2022-02-24T05:44:03.294Z"
   },
   {
    "duration": 11,
    "start_time": "2022-02-24T05:44:03.309Z"
   },
   {
    "duration": 10,
    "start_time": "2022-02-24T05:44:03.322Z"
   },
   {
    "duration": 12,
    "start_time": "2022-02-24T05:44:03.334Z"
   },
   {
    "duration": 54,
    "start_time": "2022-02-24T05:44:03.349Z"
   },
   {
    "duration": 8,
    "start_time": "2022-02-24T05:44:03.406Z"
   },
   {
    "duration": 106,
    "start_time": "2022-02-24T05:44:44.711Z"
   },
   {
    "duration": 9,
    "start_time": "2022-02-24T05:44:55.800Z"
   },
   {
    "duration": 12,
    "start_time": "2022-02-24T05:48:54.518Z"
   },
   {
    "duration": 14,
    "start_time": "2022-02-24T05:50:07.361Z"
   },
   {
    "duration": 395,
    "start_time": "2022-02-24T06:04:27.528Z"
   },
   {
    "duration": 296,
    "start_time": "2022-02-24T06:07:52.036Z"
   },
   {
    "duration": 810,
    "start_time": "2022-02-24T10:09:26.631Z"
   },
   {
    "duration": 185,
    "start_time": "2022-02-24T10:09:27.443Z"
   },
   {
    "duration": 128,
    "start_time": "2022-02-24T10:09:27.630Z"
   },
   {
    "duration": 42,
    "start_time": "2022-02-24T10:09:27.761Z"
   },
   {
    "duration": 62,
    "start_time": "2022-02-24T10:09:27.805Z"
   },
   {
    "duration": 11,
    "start_time": "2022-02-24T10:09:27.870Z"
   },
   {
    "duration": 12,
    "start_time": "2022-02-24T10:09:27.884Z"
   },
   {
    "duration": 11,
    "start_time": "2022-02-24T10:09:27.900Z"
   },
   {
    "duration": 54,
    "start_time": "2022-02-24T10:09:27.914Z"
   },
   {
    "duration": 13,
    "start_time": "2022-02-24T10:09:27.970Z"
   },
   {
    "duration": 29,
    "start_time": "2022-02-24T10:09:27.986Z"
   },
   {
    "duration": 10,
    "start_time": "2022-02-24T10:09:28.018Z"
   },
   {
    "duration": 43,
    "start_time": "2022-02-24T10:09:28.030Z"
   },
   {
    "duration": 19,
    "start_time": "2022-02-24T10:09:28.075Z"
   },
   {
    "duration": 15,
    "start_time": "2022-02-24T10:09:28.097Z"
   },
   {
    "duration": 12,
    "start_time": "2022-02-24T10:09:28.115Z"
   },
   {
    "duration": 41,
    "start_time": "2022-02-24T10:09:28.129Z"
   },
   {
    "duration": 12,
    "start_time": "2022-02-24T10:09:28.172Z"
   },
   {
    "duration": 9,
    "start_time": "2022-02-24T10:09:28.186Z"
   },
   {
    "duration": 17,
    "start_time": "2022-02-24T10:09:28.197Z"
   },
   {
    "duration": 58,
    "start_time": "2022-02-24T10:09:28.216Z"
   },
   {
    "duration": 477,
    "start_time": "2022-02-24T10:09:32.686Z"
   },
   {
    "duration": 10,
    "start_time": "2022-02-24T10:09:55.695Z"
   },
   {
    "duration": 637,
    "start_time": "2022-02-24T15:22:05.849Z"
   },
   {
    "duration": 140,
    "start_time": "2022-02-24T15:22:06.488Z"
   },
   {
    "duration": 94,
    "start_time": "2022-02-24T15:22:06.630Z"
   },
   {
    "duration": 41,
    "start_time": "2022-02-24T15:22:06.727Z"
   },
   {
    "duration": 30,
    "start_time": "2022-02-24T15:22:06.770Z"
   },
   {
    "duration": 9,
    "start_time": "2022-02-24T15:22:06.801Z"
   },
   {
    "duration": 25,
    "start_time": "2022-02-24T15:22:06.812Z"
   },
   {
    "duration": 24,
    "start_time": "2022-02-24T15:22:06.839Z"
   },
   {
    "duration": 22,
    "start_time": "2022-02-24T15:22:06.866Z"
   },
   {
    "duration": 10,
    "start_time": "2022-02-24T15:22:06.890Z"
   },
   {
    "duration": 10,
    "start_time": "2022-02-24T15:22:06.902Z"
   },
   {
    "duration": 8,
    "start_time": "2022-02-24T15:22:06.914Z"
   },
   {
    "duration": 38,
    "start_time": "2022-02-24T15:22:06.924Z"
   },
   {
    "duration": 10,
    "start_time": "2022-02-24T15:22:06.964Z"
   },
   {
    "duration": 12,
    "start_time": "2022-02-24T15:22:06.976Z"
   },
   {
    "duration": 13,
    "start_time": "2022-02-24T15:22:06.990Z"
   },
   {
    "duration": 10,
    "start_time": "2022-02-24T15:22:07.005Z"
   },
   {
    "duration": 47,
    "start_time": "2022-02-24T15:22:07.017Z"
   },
   {
    "duration": 8,
    "start_time": "2022-02-24T15:22:07.066Z"
   },
   {
    "duration": 15,
    "start_time": "2022-02-24T15:22:07.076Z"
   },
   {
    "duration": 10,
    "start_time": "2022-02-24T15:22:07.093Z"
   },
   {
    "duration": 10,
    "start_time": "2022-02-24T15:22:26.655Z"
   },
   {
    "duration": 3,
    "start_time": "2022-02-24T15:36:49.551Z"
   },
   {
    "duration": 4056,
    "start_time": "2022-02-24T15:37:54.291Z"
   },
   {
    "duration": 4247,
    "start_time": "2022-02-24T15:38:36.718Z"
   },
   {
    "duration": 507,
    "start_time": "2022-02-24T15:38:53.517Z"
   },
   {
    "duration": 121,
    "start_time": "2022-02-24T15:38:54.026Z"
   },
   {
    "duration": 79,
    "start_time": "2022-02-24T15:38:54.149Z"
   },
   {
    "duration": 38,
    "start_time": "2022-02-24T15:38:54.230Z"
   },
   {
    "duration": 26,
    "start_time": "2022-02-24T15:38:54.269Z"
   },
   {
    "duration": 9,
    "start_time": "2022-02-24T15:38:54.297Z"
   },
   {
    "duration": 8,
    "start_time": "2022-02-24T15:38:54.307Z"
   },
   {
    "duration": 8,
    "start_time": "2022-02-24T15:38:54.318Z"
   },
   {
    "duration": 37,
    "start_time": "2022-02-24T15:38:54.328Z"
   },
   {
    "duration": 9,
    "start_time": "2022-02-24T15:38:54.367Z"
   },
   {
    "duration": 8,
    "start_time": "2022-02-24T15:38:54.378Z"
   },
   {
    "duration": 8,
    "start_time": "2022-02-24T15:38:54.388Z"
   },
   {
    "duration": 9,
    "start_time": "2022-02-24T15:38:54.397Z"
   },
   {
    "duration": 15,
    "start_time": "2022-02-24T15:38:54.408Z"
   },
   {
    "duration": 43,
    "start_time": "2022-02-24T15:38:54.424Z"
   },
   {
    "duration": 8,
    "start_time": "2022-02-24T15:38:54.469Z"
   },
   {
    "duration": 8,
    "start_time": "2022-02-24T15:38:54.479Z"
   },
   {
    "duration": 9,
    "start_time": "2022-02-24T15:38:54.488Z"
   },
   {
    "duration": 6,
    "start_time": "2022-02-24T15:38:54.499Z"
   },
   {
    "duration": 11,
    "start_time": "2022-02-24T15:38:54.506Z"
   },
   {
    "duration": 49,
    "start_time": "2022-02-24T15:38:54.519Z"
   },
   {
    "duration": 3,
    "start_time": "2022-02-24T15:38:54.570Z"
   },
   {
    "duration": 6434,
    "start_time": "2022-02-24T15:38:59.256Z"
   },
   {
    "duration": 3,
    "start_time": "2022-02-24T15:39:48.173Z"
   },
   {
    "duration": 3948,
    "start_time": "2022-02-24T15:39:52.792Z"
   },
   {
    "duration": 9,
    "start_time": "2022-02-24T15:40:00.084Z"
   },
   {
    "duration": 2042,
    "start_time": "2022-02-24T15:43:20.546Z"
   },
   {
    "duration": 4482,
    "start_time": "2022-02-24T15:45:11.588Z"
   },
   {
    "duration": 263,
    "start_time": "2022-02-24T15:47:01.243Z"
   },
   {
    "duration": 3326,
    "start_time": "2022-02-24T15:47:06.536Z"
   },
   {
    "duration": 1153,
    "start_time": "2022-02-24T15:47:36.235Z"
   },
   {
    "duration": 4,
    "start_time": "2022-02-24T15:48:56.606Z"
   },
   {
    "duration": 11,
    "start_time": "2022-02-24T15:48:59.107Z"
   },
   {
    "duration": 48,
    "start_time": "2022-02-24T15:49:03.727Z"
   },
   {
    "duration": 32,
    "start_time": "2022-02-24T15:49:42.883Z"
   },
   {
    "duration": 20,
    "start_time": "2022-02-24T15:50:27.841Z"
   },
   {
    "duration": 127,
    "start_time": "2022-02-24T15:53:47.924Z"
   },
   {
    "duration": 150,
    "start_time": "2022-02-24T15:53:54.380Z"
   },
   {
    "duration": 30,
    "start_time": "2022-02-24T15:54:38.159Z"
   },
   {
    "duration": 9,
    "start_time": "2022-02-24T15:55:19.802Z"
   },
   {
    "duration": 31,
    "start_time": "2022-02-24T15:55:38.926Z"
   },
   {
    "duration": 238,
    "start_time": "2022-02-24T15:56:18.678Z"
   },
   {
    "duration": 6,
    "start_time": "2022-02-24T15:56:51.457Z"
   },
   {
    "duration": 9,
    "start_time": "2022-02-24T15:57:02.989Z"
   },
   {
    "duration": 10,
    "start_time": "2022-02-24T15:57:04.237Z"
   },
   {
    "duration": 3,
    "start_time": "2022-02-24T15:57:06.407Z"
   },
   {
    "duration": 33,
    "start_time": "2022-02-24T15:57:09.751Z"
   },
   {
    "duration": 11,
    "start_time": "2022-02-24T15:57:13.369Z"
   },
   {
    "duration": 34,
    "start_time": "2022-02-24T15:57:16.290Z"
   },
   {
    "duration": 157,
    "start_time": "2022-02-24T15:57:19.406Z"
   },
   {
    "duration": 38,
    "start_time": "2022-02-24T15:58:02.889Z"
   },
   {
    "duration": 34,
    "start_time": "2022-02-24T15:58:16.937Z"
   },
   {
    "duration": 11,
    "start_time": "2022-02-24T16:10:36.499Z"
   },
   {
    "duration": 31,
    "start_time": "2022-02-24T16:13:04.517Z"
   },
   {
    "duration": 33,
    "start_time": "2022-02-24T16:13:06.759Z"
   },
   {
    "duration": 34,
    "start_time": "2022-02-24T16:13:22.895Z"
   },
   {
    "duration": 33,
    "start_time": "2022-02-24T16:13:24.993Z"
   },
   {
    "duration": 34,
    "start_time": "2022-02-24T16:14:35.489Z"
   },
   {
    "duration": 34,
    "start_time": "2022-02-24T16:14:58.308Z"
   },
   {
    "duration": 12,
    "start_time": "2022-02-24T16:15:37.668Z"
   },
   {
    "duration": 15,
    "start_time": "2022-02-24T16:17:26.922Z"
   },
   {
    "duration": 10,
    "start_time": "2022-02-24T16:20:09.747Z"
   },
   {
    "duration": 128,
    "start_time": "2022-02-24T16:20:33.744Z"
   },
   {
    "duration": 6,
    "start_time": "2022-02-24T16:20:43.565Z"
   },
   {
    "duration": 478,
    "start_time": "2022-02-25T11:21:56.606Z"
   },
   {
    "duration": 543,
    "start_time": "2022-02-25T11:22:14.787Z"
   },
   {
    "duration": 1815,
    "start_time": "2022-02-25T11:22:39.643Z"
   },
   {
    "duration": 182,
    "start_time": "2022-02-25T11:22:41.461Z"
   },
   {
    "duration": 123,
    "start_time": "2022-02-25T11:22:41.646Z"
   },
   {
    "duration": 60,
    "start_time": "2022-02-25T11:22:41.772Z"
   },
   {
    "duration": 43,
    "start_time": "2022-02-25T11:22:41.834Z"
   },
   {
    "duration": 14,
    "start_time": "2022-02-25T11:22:41.879Z"
   },
   {
    "duration": 41,
    "start_time": "2022-02-25T11:22:41.895Z"
   },
   {
    "duration": 15,
    "start_time": "2022-02-25T11:22:41.941Z"
   },
   {
    "duration": 15,
    "start_time": "2022-02-25T11:22:41.960Z"
   },
   {
    "duration": 55,
    "start_time": "2022-02-25T11:22:41.978Z"
   },
   {
    "duration": 15,
    "start_time": "2022-02-25T11:22:42.035Z"
   },
   {
    "duration": 12,
    "start_time": "2022-02-25T11:22:42.052Z"
   },
   {
    "duration": 14,
    "start_time": "2022-02-25T11:22:42.066Z"
   },
   {
    "duration": 11,
    "start_time": "2022-02-25T11:22:42.126Z"
   },
   {
    "duration": 10,
    "start_time": "2022-02-25T11:22:42.140Z"
   },
   {
    "duration": 11,
    "start_time": "2022-02-25T11:22:42.153Z"
   },
   {
    "duration": 12,
    "start_time": "2022-02-25T11:22:42.167Z"
   },
   {
    "duration": 54,
    "start_time": "2022-02-25T11:22:42.181Z"
   },
   {
    "duration": 9,
    "start_time": "2022-02-25T11:22:42.238Z"
   },
   {
    "duration": 12,
    "start_time": "2022-02-25T11:22:42.249Z"
   },
   {
    "duration": 13,
    "start_time": "2022-02-25T11:22:42.263Z"
   },
   {
    "duration": 5,
    "start_time": "2022-02-25T11:22:42.326Z"
   },
   {
    "duration": 51,
    "start_time": "2022-02-25T11:22:42.335Z"
   },
   {
    "duration": 41,
    "start_time": "2022-02-25T11:22:42.389Z"
   },
   {
    "duration": 50,
    "start_time": "2022-02-25T11:22:42.432Z"
   },
   {
    "duration": 67,
    "start_time": "2022-02-25T11:22:42.485Z"
   },
   {
    "duration": 13,
    "start_time": "2022-02-25T11:22:42.556Z"
   },
   {
    "duration": 23,
    "start_time": "2022-02-25T11:22:42.571Z"
   },
   {
    "duration": 14,
    "start_time": "2022-02-25T11:22:42.625Z"
   },
   {
    "duration": 11,
    "start_time": "2022-02-25T11:22:42.641Z"
   },
   {
    "duration": 13,
    "start_time": "2022-02-25T11:23:01.284Z"
   },
   {
    "duration": 424,
    "start_time": "2022-02-25T11:23:58.007Z"
   },
   {
    "duration": 8,
    "start_time": "2022-02-25T11:24:06.912Z"
   },
   {
    "duration": 224,
    "start_time": "2022-02-25T11:24:55.124Z"
   },
   {
    "duration": 309,
    "start_time": "2022-02-25T11:25:54.684Z"
   },
   {
    "duration": 174,
    "start_time": "2022-02-25T11:26:01.891Z"
   },
   {
    "duration": 4,
    "start_time": "2022-02-25T11:28:33.935Z"
   },
   {
    "duration": 340,
    "start_time": "2022-02-25T11:29:06.656Z"
   },
   {
    "duration": 8,
    "start_time": "2022-02-25T11:29:12.570Z"
   },
   {
    "duration": 311,
    "start_time": "2022-02-25T11:30:00.899Z"
   },
   {
    "duration": 4,
    "start_time": "2022-02-25T11:30:47.937Z"
   },
   {
    "duration": 11,
    "start_time": "2022-02-25T11:30:55.487Z"
   },
   {
    "duration": 7,
    "start_time": "2022-02-25T11:32:01.195Z"
   },
   {
    "duration": 654,
    "start_time": "2022-02-25T11:49:03.095Z"
   },
   {
    "duration": 144,
    "start_time": "2022-02-25T11:49:03.751Z"
   },
   {
    "duration": 94,
    "start_time": "2022-02-25T11:49:03.898Z"
   },
   {
    "duration": 31,
    "start_time": "2022-02-25T11:49:03.995Z"
   },
   {
    "duration": 45,
    "start_time": "2022-02-25T11:49:04.028Z"
   },
   {
    "duration": 9,
    "start_time": "2022-02-25T11:49:04.076Z"
   },
   {
    "duration": 29,
    "start_time": "2022-02-25T11:49:04.088Z"
   },
   {
    "duration": 16,
    "start_time": "2022-02-25T11:49:04.119Z"
   },
   {
    "duration": 27,
    "start_time": "2022-02-25T11:49:04.138Z"
   },
   {
    "duration": 36,
    "start_time": "2022-02-25T11:49:04.169Z"
   },
   {
    "duration": 34,
    "start_time": "2022-02-25T11:49:04.207Z"
   },
   {
    "duration": 39,
    "start_time": "2022-02-25T11:49:04.242Z"
   },
   {
    "duration": 13,
    "start_time": "2022-02-25T11:49:04.284Z"
   },
   {
    "duration": 30,
    "start_time": "2022-02-25T11:49:04.299Z"
   },
   {
    "duration": 23,
    "start_time": "2022-02-25T11:49:04.331Z"
   },
   {
    "duration": 27,
    "start_time": "2022-02-25T11:49:04.356Z"
   },
   {
    "duration": 13,
    "start_time": "2022-02-25T11:49:04.386Z"
   },
   {
    "duration": 23,
    "start_time": "2022-02-25T11:49:04.402Z"
   },
   {
    "duration": 22,
    "start_time": "2022-02-25T11:49:04.427Z"
   },
   {
    "duration": 34,
    "start_time": "2022-02-25T11:49:04.451Z"
   },
   {
    "duration": 24,
    "start_time": "2022-02-25T11:49:04.487Z"
   },
   {
    "duration": 13,
    "start_time": "2022-02-25T11:49:04.513Z"
   },
   {
    "duration": 68,
    "start_time": "2022-02-25T11:49:04.528Z"
   },
   {
    "duration": 14,
    "start_time": "2022-02-25T11:49:04.599Z"
   },
   {
    "duration": 55,
    "start_time": "2022-02-25T11:49:04.615Z"
   },
   {
    "duration": 39,
    "start_time": "2022-02-25T11:49:04.672Z"
   },
   {
    "duration": 10,
    "start_time": "2022-02-25T11:49:04.715Z"
   },
   {
    "duration": 52,
    "start_time": "2022-02-25T11:49:04.727Z"
   },
   {
    "duration": 14,
    "start_time": "2022-02-25T11:49:04.781Z"
   },
   {
    "duration": 11,
    "start_time": "2022-02-25T11:49:04.797Z"
   },
   {
    "duration": 15,
    "start_time": "2022-02-25T11:49:04.809Z"
   },
   {
    "duration": 10,
    "start_time": "2022-02-25T11:49:04.826Z"
   },
   {
    "duration": 201,
    "start_time": "2022-02-25T11:49:04.838Z"
   },
   {
    "duration": 146,
    "start_time": "2022-02-25T11:49:05.042Z"
   },
   {
    "duration": 4,
    "start_time": "2022-02-25T11:49:05.190Z"
   },
   {
    "duration": 13,
    "start_time": "2022-02-25T11:49:05.196Z"
   },
   {
    "duration": 57,
    "start_time": "2022-02-25T11:49:05.212Z"
   },
   {
    "duration": 7,
    "start_time": "2022-02-25T11:49:05.272Z"
   },
   {
    "duration": 3,
    "start_time": "2022-02-25T11:49:11.274Z"
   },
   {
    "duration": 3,
    "start_time": "2022-02-25T11:49:22.748Z"
   },
   {
    "duration": 71,
    "start_time": "2022-02-25T11:51:15.133Z"
   },
   {
    "duration": 3,
    "start_time": "2022-02-25T11:52:25.448Z"
   },
   {
    "duration": 24,
    "start_time": "2022-02-25T11:52:56.878Z"
   },
   {
    "duration": 3,
    "start_time": "2022-02-25T11:53:25.751Z"
   },
   {
    "duration": 14,
    "start_time": "2022-02-25T11:57:06.459Z"
   },
   {
    "duration": 294,
    "start_time": "2022-02-25T11:57:18.929Z"
   },
   {
    "duration": 27,
    "start_time": "2022-02-25T11:57:24.063Z"
   },
   {
    "duration": 39,
    "start_time": "2022-02-25T12:11:12.439Z"
   },
   {
    "duration": 4,
    "start_time": "2022-02-25T12:23:46.814Z"
   },
   {
    "duration": 294,
    "start_time": "2022-02-25T12:24:26.525Z"
   },
   {
    "duration": 3,
    "start_time": "2022-02-25T12:25:13.601Z"
   },
   {
    "duration": 10,
    "start_time": "2022-02-25T12:27:15.416Z"
   },
   {
    "duration": 6,
    "start_time": "2022-02-25T12:29:09.960Z"
   },
   {
    "duration": 583,
    "start_time": "2022-02-25T12:29:33.129Z"
   },
   {
    "duration": 155,
    "start_time": "2022-02-25T12:29:33.714Z"
   },
   {
    "duration": 83,
    "start_time": "2022-02-25T12:29:33.871Z"
   },
   {
    "duration": 33,
    "start_time": "2022-02-25T12:29:33.970Z"
   },
   {
    "duration": 29,
    "start_time": "2022-02-25T12:29:34.005Z"
   },
   {
    "duration": 33,
    "start_time": "2022-02-25T12:29:34.036Z"
   },
   {
    "duration": 10,
    "start_time": "2022-02-25T12:29:34.071Z"
   },
   {
    "duration": 9,
    "start_time": "2022-02-25T12:29:34.083Z"
   },
   {
    "duration": 8,
    "start_time": "2022-02-25T12:29:34.094Z"
   },
   {
    "duration": 9,
    "start_time": "2022-02-25T12:29:34.104Z"
   },
   {
    "duration": 8,
    "start_time": "2022-02-25T12:29:34.115Z"
   },
   {
    "duration": 49,
    "start_time": "2022-02-25T12:29:34.125Z"
   },
   {
    "duration": 10,
    "start_time": "2022-02-25T12:29:34.176Z"
   },
   {
    "duration": 13,
    "start_time": "2022-02-25T12:29:34.188Z"
   },
   {
    "duration": 9,
    "start_time": "2022-02-25T12:29:34.203Z"
   },
   {
    "duration": 10,
    "start_time": "2022-02-25T12:29:34.214Z"
   },
   {
    "duration": 44,
    "start_time": "2022-02-25T12:29:34.225Z"
   },
   {
    "duration": 9,
    "start_time": "2022-02-25T12:29:34.271Z"
   },
   {
    "duration": 6,
    "start_time": "2022-02-25T12:29:34.282Z"
   },
   {
    "duration": 9,
    "start_time": "2022-02-25T12:29:34.289Z"
   },
   {
    "duration": 10,
    "start_time": "2022-02-25T12:29:34.299Z"
   },
   {
    "duration": 3,
    "start_time": "2022-02-25T12:29:34.310Z"
   },
   {
    "duration": 77,
    "start_time": "2022-02-25T12:29:34.317Z"
   },
   {
    "duration": 17,
    "start_time": "2022-02-25T12:29:34.397Z"
   },
   {
    "duration": 55,
    "start_time": "2022-02-25T12:29:34.417Z"
   },
   {
    "duration": 36,
    "start_time": "2022-02-25T12:29:34.473Z"
   },
   {
    "duration": 9,
    "start_time": "2022-02-25T12:29:34.511Z"
   },
   {
    "duration": 21,
    "start_time": "2022-02-25T12:29:34.521Z"
   },
   {
    "duration": 34,
    "start_time": "2022-02-25T12:29:34.544Z"
   },
   {
    "duration": 6,
    "start_time": "2022-02-25T12:29:34.580Z"
   },
   {
    "duration": 11,
    "start_time": "2022-02-25T12:29:34.587Z"
   },
   {
    "duration": 3,
    "start_time": "2022-02-25T12:29:34.600Z"
   },
   {
    "duration": 6028,
    "start_time": "2022-02-25T12:29:34.605Z"
   },
   {
    "duration": 26,
    "start_time": "2022-02-25T12:29:40.609Z"
   },
   {
    "duration": 25,
    "start_time": "2022-02-25T12:29:40.611Z"
   },
   {
    "duration": 25,
    "start_time": "2022-02-25T12:29:40.612Z"
   },
   {
    "duration": 25,
    "start_time": "2022-02-25T12:29:40.613Z"
   },
   {
    "duration": 24,
    "start_time": "2022-02-25T12:29:40.614Z"
   },
   {
    "duration": 24,
    "start_time": "2022-02-25T12:29:40.615Z"
   },
   {
    "duration": 24,
    "start_time": "2022-02-25T12:29:40.616Z"
   },
   {
    "duration": 25,
    "start_time": "2022-02-25T12:29:40.617Z"
   },
   {
    "duration": 24,
    "start_time": "2022-02-25T12:29:40.618Z"
   },
   {
    "duration": 25,
    "start_time": "2022-02-25T12:29:40.619Z"
   },
   {
    "duration": -6,
    "start_time": "2022-02-25T12:29:40.651Z"
   },
   {
    "duration": 3,
    "start_time": "2022-02-25T12:34:04.902Z"
   },
   {
    "duration": 40,
    "start_time": "2022-02-25T12:34:07.484Z"
   },
   {
    "duration": 3,
    "start_time": "2022-02-25T12:34:12.046Z"
   },
   {
    "duration": 19,
    "start_time": "2022-02-25T12:34:12.694Z"
   },
   {
    "duration": 3,
    "start_time": "2022-02-25T12:34:13.353Z"
   },
   {
    "duration": 6857,
    "start_time": "2022-02-25T12:34:13.950Z"
   },
   {
    "duration": 30,
    "start_time": "2022-02-25T12:37:02.256Z"
   },
   {
    "duration": 5775,
    "start_time": "2022-02-25T12:37:03.807Z"
   },
   {
    "duration": 5595,
    "start_time": "2022-02-25T12:37:35.018Z"
   },
   {
    "duration": 4,
    "start_time": "2022-02-25T12:37:47.380Z"
   },
   {
    "duration": 290,
    "start_time": "2022-02-25T12:37:47.811Z"
   },
   {
    "duration": 3,
    "start_time": "2022-02-25T12:37:48.198Z"
   },
   {
    "duration": 12,
    "start_time": "2022-02-25T12:37:48.763Z"
   },
   {
    "duration": 24,
    "start_time": "2022-02-25T12:37:49.183Z"
   },
   {
    "duration": 37,
    "start_time": "2022-02-25T12:39:10.956Z"
   },
   {
    "duration": 70,
    "start_time": "2022-02-25T12:43:34.256Z"
   },
   {
    "duration": 15,
    "start_time": "2022-02-25T12:44:26.577Z"
   },
   {
    "duration": 670,
    "start_time": "2022-02-25T12:44:54.879Z"
   },
   {
    "duration": 152,
    "start_time": "2022-02-25T12:44:55.551Z"
   },
   {
    "duration": 98,
    "start_time": "2022-02-25T12:44:55.706Z"
   },
   {
    "duration": 32,
    "start_time": "2022-02-25T12:44:55.807Z"
   },
   {
    "duration": 53,
    "start_time": "2022-02-25T12:44:55.841Z"
   },
   {
    "duration": 10,
    "start_time": "2022-02-25T12:44:55.897Z"
   },
   {
    "duration": 11,
    "start_time": "2022-02-25T12:44:55.909Z"
   },
   {
    "duration": 10,
    "start_time": "2022-02-25T12:44:55.922Z"
   },
   {
    "duration": 40,
    "start_time": "2022-02-25T12:44:55.934Z"
   },
   {
    "duration": 11,
    "start_time": "2022-02-25T12:44:55.975Z"
   },
   {
    "duration": 10,
    "start_time": "2022-02-25T12:44:55.987Z"
   },
   {
    "duration": 10,
    "start_time": "2022-02-25T12:44:55.999Z"
   },
   {
    "duration": 11,
    "start_time": "2022-02-25T12:44:56.010Z"
   },
   {
    "duration": 53,
    "start_time": "2022-02-25T12:44:56.023Z"
   },
   {
    "duration": 10,
    "start_time": "2022-02-25T12:44:56.078Z"
   },
   {
    "duration": 10,
    "start_time": "2022-02-25T12:44:56.090Z"
   },
   {
    "duration": 9,
    "start_time": "2022-02-25T12:44:56.102Z"
   },
   {
    "duration": 9,
    "start_time": "2022-02-25T12:44:56.113Z"
   },
   {
    "duration": 6,
    "start_time": "2022-02-25T12:44:56.124Z"
   },
   {
    "duration": 9,
    "start_time": "2022-02-25T12:44:56.169Z"
   },
   {
    "duration": 9,
    "start_time": "2022-02-25T12:44:56.180Z"
   },
   {
    "duration": 4,
    "start_time": "2022-02-25T12:44:56.190Z"
   },
   {
    "duration": 40,
    "start_time": "2022-02-25T12:44:56.197Z"
   },
   {
    "duration": 40,
    "start_time": "2022-02-25T12:44:56.239Z"
   },
   {
    "duration": 37,
    "start_time": "2022-02-25T12:44:56.281Z"
   },
   {
    "duration": 59,
    "start_time": "2022-02-25T12:44:56.319Z"
   },
   {
    "duration": 11,
    "start_time": "2022-02-25T12:44:56.380Z"
   },
   {
    "duration": 23,
    "start_time": "2022-02-25T12:44:56.393Z"
   },
   {
    "duration": 11,
    "start_time": "2022-02-25T12:44:56.418Z"
   },
   {
    "duration": 40,
    "start_time": "2022-02-25T12:44:56.431Z"
   },
   {
    "duration": 10,
    "start_time": "2022-02-25T12:44:56.473Z"
   },
   {
    "duration": 6,
    "start_time": "2022-02-25T12:44:56.484Z"
   },
   {
    "duration": 56,
    "start_time": "2022-02-25T12:44:56.492Z"
   },
   {
    "duration": 3,
    "start_time": "2022-02-25T12:44:56.550Z"
   },
   {
    "duration": 31,
    "start_time": "2022-02-25T12:44:56.555Z"
   },
   {
    "duration": 29,
    "start_time": "2022-02-25T12:44:56.588Z"
   },
   {
    "duration": 4,
    "start_time": "2022-02-25T12:44:56.619Z"
   },
   {
    "duration": 332,
    "start_time": "2022-02-25T12:44:56.625Z"
   },
   {
    "duration": 3,
    "start_time": "2022-02-25T12:44:56.959Z"
   },
   {
    "duration": 11,
    "start_time": "2022-02-25T12:44:56.969Z"
   },
   {
    "duration": 6,
    "start_time": "2022-02-25T12:44:56.982Z"
   },
   {
    "duration": 24,
    "start_time": "2022-02-25T12:44:56.989Z"
   },
   {
    "duration": 36,
    "start_time": "2022-02-25T12:45:04.809Z"
   },
   {
    "duration": 244,
    "start_time": "2022-02-26T20:28:36.460Z"
   },
   {
    "duration": 490,
    "start_time": "2022-02-26T20:28:51.153Z"
   },
   {
    "duration": 106,
    "start_time": "2022-02-26T20:28:51.644Z"
   },
   {
    "duration": 70,
    "start_time": "2022-02-26T20:28:51.753Z"
   },
   {
    "duration": 22,
    "start_time": "2022-02-26T20:28:51.825Z"
   },
   {
    "duration": 22,
    "start_time": "2022-02-26T20:28:51.849Z"
   },
   {
    "duration": 36,
    "start_time": "2022-02-26T20:28:51.873Z"
   },
   {
    "duration": 8,
    "start_time": "2022-02-26T20:28:51.911Z"
   },
   {
    "duration": 8,
    "start_time": "2022-02-26T20:28:51.922Z"
   },
   {
    "duration": 7,
    "start_time": "2022-02-26T20:28:51.932Z"
   },
   {
    "duration": 8,
    "start_time": "2022-02-26T20:28:51.941Z"
   },
   {
    "duration": 7,
    "start_time": "2022-02-26T20:28:51.951Z"
   },
   {
    "duration": 48,
    "start_time": "2022-02-26T20:28:51.960Z"
   },
   {
    "duration": 9,
    "start_time": "2022-02-26T20:28:52.009Z"
   },
   {
    "duration": 8,
    "start_time": "2022-02-26T20:28:52.020Z"
   },
   {
    "duration": 8,
    "start_time": "2022-02-26T20:28:52.029Z"
   },
   {
    "duration": 8,
    "start_time": "2022-02-26T20:28:52.038Z"
   },
   {
    "duration": 7,
    "start_time": "2022-02-26T20:28:52.048Z"
   },
   {
    "duration": 52,
    "start_time": "2022-02-26T20:28:52.056Z"
   },
   {
    "duration": 6,
    "start_time": "2022-02-26T20:28:52.110Z"
   },
   {
    "duration": 7,
    "start_time": "2022-02-26T20:28:52.118Z"
   },
   {
    "duration": 8,
    "start_time": "2022-02-26T20:28:52.127Z"
   },
   {
    "duration": 3,
    "start_time": "2022-02-26T20:28:52.136Z"
   },
   {
    "duration": 62,
    "start_time": "2022-02-26T20:28:52.143Z"
   },
   {
    "duration": 8,
    "start_time": "2022-02-26T20:28:52.207Z"
   },
   {
    "duration": 27,
    "start_time": "2022-02-26T20:28:52.217Z"
   },
   {
    "duration": 26,
    "start_time": "2022-02-26T20:28:52.245Z"
   },
   {
    "duration": 7,
    "start_time": "2022-02-26T20:28:52.272Z"
   },
   {
    "duration": 33,
    "start_time": "2022-02-26T20:28:52.281Z"
   },
   {
    "duration": 8,
    "start_time": "2022-02-26T20:28:52.315Z"
   },
   {
    "duration": 4,
    "start_time": "2022-02-26T20:28:52.324Z"
   },
   {
    "duration": 6,
    "start_time": "2022-02-26T20:28:52.330Z"
   },
   {
    "duration": 3,
    "start_time": "2022-02-26T20:28:52.338Z"
   },
   {
    "duration": 36,
    "start_time": "2022-02-26T20:28:52.343Z"
   },
   {
    "duration": 24,
    "start_time": "2022-02-26T20:28:52.380Z"
   },
   {
    "duration": 14,
    "start_time": "2022-02-26T20:28:52.406Z"
   },
   {
    "duration": 21,
    "start_time": "2022-02-26T20:28:52.422Z"
   },
   {
    "duration": 4,
    "start_time": "2022-02-26T20:28:52.444Z"
   },
   {
    "duration": 244,
    "start_time": "2022-02-26T20:28:52.450Z"
   },
   {
    "duration": 3,
    "start_time": "2022-02-26T20:28:52.695Z"
   },
   {
    "duration": 15,
    "start_time": "2022-02-26T20:28:52.699Z"
   },
   {
    "duration": 5,
    "start_time": "2022-02-26T20:28:52.715Z"
   },
   {
    "duration": 17,
    "start_time": "2022-02-26T20:28:52.721Z"
   },
   {
    "duration": 27,
    "start_time": "2022-02-26T20:28:52.739Z"
   },
   {
    "duration": 20,
    "start_time": "2022-02-26T20:28:56.291Z"
   },
   {
    "duration": 5,
    "start_time": "2022-02-26T20:57:03.012Z"
   },
   {
    "duration": 4,
    "start_time": "2022-02-26T20:57:10.730Z"
   },
   {
    "duration": 285,
    "start_time": "2022-02-26T20:58:59.949Z"
   },
   {
    "duration": 231,
    "start_time": "2022-02-26T21:00:01.548Z"
   },
   {
    "duration": 247,
    "start_time": "2022-02-26T21:00:10.278Z"
   },
   {
    "duration": 64,
    "start_time": "2022-02-26T21:00:22.795Z"
   },
   {
    "duration": 1505,
    "start_time": "2022-02-26T21:00:28.358Z"
   },
   {
    "duration": 6925,
    "start_time": "2022-02-26T21:04:04.826Z"
   },
   {
    "duration": 5404,
    "start_time": "2022-02-26T21:05:08.981Z"
   },
   {
    "duration": 214,
    "start_time": "2022-02-26T21:05:16.858Z"
   },
   {
    "duration": 196,
    "start_time": "2022-02-26T21:05:25.346Z"
   },
   {
    "duration": 207,
    "start_time": "2022-02-26T21:05:48.151Z"
   },
   {
    "duration": 204,
    "start_time": "2022-02-26T21:05:53.558Z"
   },
   {
    "duration": 215,
    "start_time": "2022-02-26T21:05:58.956Z"
   },
   {
    "duration": 250,
    "start_time": "2022-02-26T21:06:30.571Z"
   },
   {
    "duration": 211,
    "start_time": "2022-02-26T21:06:47.809Z"
   },
   {
    "duration": 236,
    "start_time": "2022-02-26T21:06:56.990Z"
   },
   {
    "duration": 396,
    "start_time": "2022-02-26T21:09:42.398Z"
   },
   {
    "duration": 185,
    "start_time": "2022-02-26T21:12:55.131Z"
   },
   {
    "duration": 661,
    "start_time": "2022-02-26T21:13:00.349Z"
   },
   {
    "duration": 1084,
    "start_time": "2022-02-26T21:13:13.976Z"
   },
   {
    "duration": 1122,
    "start_time": "2022-02-26T21:13:32.697Z"
   },
   {
    "duration": 686,
    "start_time": "2022-02-26T21:16:28.975Z"
   },
   {
    "duration": 1164,
    "start_time": "2022-02-26T21:16:41.054Z"
   },
   {
    "duration": 1139,
    "start_time": "2022-02-26T21:17:54.153Z"
   },
   {
    "duration": 268,
    "start_time": "2022-02-26T21:19:55.901Z"
   },
   {
    "duration": 1013,
    "start_time": "2022-02-26T21:26:09.695Z"
   },
   {
    "duration": 825,
    "start_time": "2022-02-26T21:26:52.808Z"
   },
   {
    "duration": 915,
    "start_time": "2022-02-26T21:28:20.857Z"
   },
   {
    "duration": 5,
    "start_time": "2022-02-26T21:30:02.990Z"
   },
   {
    "duration": 11,
    "start_time": "2022-02-26T21:30:08.382Z"
   },
   {
    "duration": 832,
    "start_time": "2022-02-26T21:31:06.926Z"
   },
   {
    "duration": 2480,
    "start_time": "2022-02-26T21:35:22.496Z"
   },
   {
    "duration": 269,
    "start_time": "2022-02-26T21:35:40.117Z"
   },
   {
    "duration": 330,
    "start_time": "2022-02-26T21:35:48.808Z"
   },
   {
    "duration": 262,
    "start_time": "2022-02-26T21:36:13.184Z"
   },
   {
    "duration": 148,
    "start_time": "2022-02-26T21:37:53.286Z"
   },
   {
    "duration": 166,
    "start_time": "2022-02-26T21:38:00.100Z"
   },
   {
    "duration": 760,
    "start_time": "2022-02-26T21:38:10.900Z"
   },
   {
    "duration": 911,
    "start_time": "2022-02-26T21:38:16.155Z"
   },
   {
    "duration": 818,
    "start_time": "2022-02-27T12:45:43.051Z"
   },
   {
    "duration": 148,
    "start_time": "2022-02-27T12:45:43.872Z"
   },
   {
    "duration": 117,
    "start_time": "2022-02-27T12:45:44.024Z"
   },
   {
    "duration": 42,
    "start_time": "2022-02-27T12:45:44.152Z"
   },
   {
    "duration": 69,
    "start_time": "2022-02-27T12:45:44.197Z"
   },
   {
    "duration": 14,
    "start_time": "2022-02-27T12:45:44.268Z"
   },
   {
    "duration": 11,
    "start_time": "2022-02-27T12:45:44.284Z"
   },
   {
    "duration": 10,
    "start_time": "2022-02-27T12:45:44.299Z"
   },
   {
    "duration": 46,
    "start_time": "2022-02-27T12:45:44.312Z"
   },
   {
    "duration": 14,
    "start_time": "2022-02-27T12:45:44.360Z"
   },
   {
    "duration": 11,
    "start_time": "2022-02-27T12:45:44.376Z"
   },
   {
    "duration": 11,
    "start_time": "2022-02-27T12:45:44.389Z"
   },
   {
    "duration": 54,
    "start_time": "2022-02-27T12:45:44.402Z"
   },
   {
    "duration": 10,
    "start_time": "2022-02-27T12:45:44.459Z"
   },
   {
    "duration": 13,
    "start_time": "2022-02-27T12:45:44.471Z"
   },
   {
    "duration": 10,
    "start_time": "2022-02-27T12:45:44.486Z"
   },
   {
    "duration": 10,
    "start_time": "2022-02-27T12:45:44.498Z"
   },
   {
    "duration": 12,
    "start_time": "2022-02-27T12:45:44.551Z"
   },
   {
    "duration": 9,
    "start_time": "2022-02-27T12:45:44.565Z"
   },
   {
    "duration": 11,
    "start_time": "2022-02-27T12:45:44.576Z"
   },
   {
    "duration": 13,
    "start_time": "2022-02-27T12:45:44.589Z"
   },
   {
    "duration": 4,
    "start_time": "2022-02-27T12:45:44.652Z"
   },
   {
    "duration": 46,
    "start_time": "2022-02-27T12:45:44.661Z"
   },
   {
    "duration": 43,
    "start_time": "2022-02-27T12:45:44.710Z"
   },
   {
    "duration": 46,
    "start_time": "2022-02-27T12:45:44.756Z"
   },
   {
    "duration": 69,
    "start_time": "2022-02-27T12:45:44.804Z"
   },
   {
    "duration": 14,
    "start_time": "2022-02-27T12:45:44.876Z"
   },
   {
    "duration": 17,
    "start_time": "2022-02-27T12:45:44.892Z"
   },
   {
    "duration": 50,
    "start_time": "2022-02-27T12:45:44.912Z"
   },
   {
    "duration": 8,
    "start_time": "2022-02-27T12:45:44.965Z"
   },
   {
    "duration": 14,
    "start_time": "2022-02-27T12:45:44.975Z"
   },
   {
    "duration": 4,
    "start_time": "2022-02-27T12:45:44.991Z"
   },
   {
    "duration": 98,
    "start_time": "2022-02-27T12:45:44.998Z"
   },
   {
    "duration": 4,
    "start_time": "2022-02-27T12:45:45.098Z"
   },
   {
    "duration": 27,
    "start_time": "2022-02-27T12:45:45.104Z"
   },
   {
    "duration": 55,
    "start_time": "2022-02-27T12:45:45.134Z"
   },
   {
    "duration": 9,
    "start_time": "2022-02-27T12:45:45.191Z"
   },
   {
    "duration": 385,
    "start_time": "2022-02-27T12:45:45.202Z"
   },
   {
    "duration": 3,
    "start_time": "2022-02-27T12:45:45.589Z"
   },
   {
    "duration": 16,
    "start_time": "2022-02-27T12:45:45.594Z"
   },
   {
    "duration": 6,
    "start_time": "2022-02-27T12:45:45.612Z"
   },
   {
    "duration": 52,
    "start_time": "2022-02-27T12:45:45.620Z"
   },
   {
    "duration": 50,
    "start_time": "2022-02-27T12:45:45.674Z"
   },
   {
    "duration": 51,
    "start_time": "2022-02-27T12:45:45.726Z"
   },
   {
    "duration": 5,
    "start_time": "2022-02-27T12:45:45.779Z"
   },
   {
    "duration": 2091,
    "start_time": "2022-02-27T12:45:45.786Z"
   },
   {
    "duration": 2049,
    "start_time": "2022-02-27T12:45:47.879Z"
   },
   {
    "duration": 420,
    "start_time": "2022-02-27T12:45:49.931Z"
   },
   {
    "duration": 358,
    "start_time": "2022-02-27T12:55:17.892Z"
   },
   {
    "duration": 248,
    "start_time": "2022-02-27T12:55:29.011Z"
   },
   {
    "duration": 88,
    "start_time": "2022-02-27T12:55:38.626Z"
   },
   {
    "duration": 2040,
    "start_time": "2022-02-27T12:55:42.036Z"
   },
   {
    "duration": 1349,
    "start_time": "2022-02-27T12:58:13.218Z"
   },
   {
    "duration": 240,
    "start_time": "2022-02-27T12:58:41.231Z"
   },
   {
    "duration": 1255,
    "start_time": "2022-02-27T12:58:50.416Z"
   },
   {
    "duration": 269,
    "start_time": "2022-02-27T12:59:45.959Z"
   },
   {
    "duration": 1348,
    "start_time": "2022-02-27T13:07:35.384Z"
   },
   {
    "duration": 121,
    "start_time": "2022-02-27T13:08:38.506Z"
   },
   {
    "duration": 231,
    "start_time": "2022-02-27T13:10:50.422Z"
   },
   {
    "duration": 12,
    "start_time": "2022-02-27T13:36:32.655Z"
   },
   {
    "duration": 19,
    "start_time": "2022-02-27T13:36:59.537Z"
   },
   {
    "duration": 814,
    "start_time": "2022-02-27T14:17:38.690Z"
   },
   {
    "duration": 166,
    "start_time": "2022-02-27T14:17:39.507Z"
   },
   {
    "duration": 120,
    "start_time": "2022-02-27T14:17:39.677Z"
   },
   {
    "duration": 53,
    "start_time": "2022-02-27T14:17:39.800Z"
   },
   {
    "duration": 40,
    "start_time": "2022-02-27T14:17:39.856Z"
   },
   {
    "duration": 14,
    "start_time": "2022-02-27T14:17:39.899Z"
   },
   {
    "duration": 46,
    "start_time": "2022-02-27T14:17:39.916Z"
   },
   {
    "duration": 10,
    "start_time": "2022-02-27T14:17:39.967Z"
   },
   {
    "duration": 11,
    "start_time": "2022-02-27T14:17:39.980Z"
   },
   {
    "duration": 12,
    "start_time": "2022-02-27T14:17:39.993Z"
   },
   {
    "duration": 16,
    "start_time": "2022-02-27T14:17:40.052Z"
   },
   {
    "duration": 15,
    "start_time": "2022-02-27T14:17:40.071Z"
   },
   {
    "duration": 14,
    "start_time": "2022-02-27T14:17:40.088Z"
   },
   {
    "duration": 13,
    "start_time": "2022-02-27T14:17:40.104Z"
   },
   {
    "duration": 11,
    "start_time": "2022-02-27T14:17:40.152Z"
   },
   {
    "duration": 11,
    "start_time": "2022-02-27T14:17:40.165Z"
   },
   {
    "duration": 11,
    "start_time": "2022-02-27T14:17:40.178Z"
   },
   {
    "duration": 10,
    "start_time": "2022-02-27T14:17:40.191Z"
   },
   {
    "duration": 52,
    "start_time": "2022-02-27T14:17:40.203Z"
   },
   {
    "duration": 13,
    "start_time": "2022-02-27T14:17:40.257Z"
   },
   {
    "duration": 14,
    "start_time": "2022-02-27T14:17:40.272Z"
   },
   {
    "duration": 5,
    "start_time": "2022-02-27T14:17:40.288Z"
   },
   {
    "duration": 97,
    "start_time": "2022-02-27T14:17:40.298Z"
   },
   {
    "duration": 15,
    "start_time": "2022-02-27T14:17:40.398Z"
   },
   {
    "duration": 69,
    "start_time": "2022-02-27T14:17:40.416Z"
   },
   {
    "duration": 47,
    "start_time": "2022-02-27T14:17:40.487Z"
   },
   {
    "duration": 11,
    "start_time": "2022-02-27T14:17:40.552Z"
   },
   {
    "duration": 16,
    "start_time": "2022-02-27T14:17:40.566Z"
   },
   {
    "duration": 14,
    "start_time": "2022-02-27T14:17:40.585Z"
   },
   {
    "duration": 6,
    "start_time": "2022-02-27T14:17:40.602Z"
   },
   {
    "duration": 50,
    "start_time": "2022-02-27T14:17:40.611Z"
   },
   {
    "duration": 6,
    "start_time": "2022-02-27T14:17:40.664Z"
   },
   {
    "duration": 54,
    "start_time": "2022-02-27T14:17:40.672Z"
   },
   {
    "duration": 4,
    "start_time": "2022-02-27T14:17:40.751Z"
   },
   {
    "duration": 24,
    "start_time": "2022-02-27T14:17:40.758Z"
   },
   {
    "duration": 68,
    "start_time": "2022-02-27T14:17:40.784Z"
   },
   {
    "duration": 6,
    "start_time": "2022-02-27T14:17:40.854Z"
   },
   {
    "duration": 358,
    "start_time": "2022-02-27T14:17:40.862Z"
   },
   {
    "duration": 4,
    "start_time": "2022-02-27T14:17:41.222Z"
   },
   {
    "duration": 25,
    "start_time": "2022-02-27T14:17:41.228Z"
   },
   {
    "duration": 7,
    "start_time": "2022-02-27T14:17:41.255Z"
   },
   {
    "duration": 27,
    "start_time": "2022-02-27T14:17:41.264Z"
   },
   {
    "duration": 75,
    "start_time": "2022-02-27T14:17:41.293Z"
   },
   {
    "duration": 32,
    "start_time": "2022-02-27T14:17:41.370Z"
   },
   {
    "duration": 5,
    "start_time": "2022-02-27T14:17:41.404Z"
   },
   {
    "duration": 2443,
    "start_time": "2022-02-27T14:17:41.411Z"
   },
   {
    "duration": 1467,
    "start_time": "2022-02-27T14:17:43.856Z"
   },
   {
    "duration": 318,
    "start_time": "2022-02-27T14:17:45.325Z"
   },
   {
    "duration": 133,
    "start_time": "2022-02-27T14:17:45.646Z"
   },
   {
    "duration": 241,
    "start_time": "2022-02-27T14:17:45.782Z"
   },
   {
    "duration": 154,
    "start_time": "2022-02-27T14:17:49.760Z"
   },
   {
    "duration": 50,
    "start_time": "2022-02-27T14:18:29.104Z"
   },
   {
    "duration": 40,
    "start_time": "2022-02-27T14:21:35.021Z"
   },
   {
    "duration": 6996,
    "start_time": "2022-02-27T14:29:57.375Z"
   },
   {
    "duration": 6286,
    "start_time": "2022-02-27T14:31:47.539Z"
   },
   {
    "duration": 1750,
    "start_time": "2022-02-27T14:32:34.795Z"
   },
   {
    "duration": 412,
    "start_time": "2022-02-27T14:39:33.448Z"
   },
   {
    "duration": 401,
    "start_time": "2022-02-27T14:40:02.169Z"
   },
   {
    "duration": 419,
    "start_time": "2022-02-27T14:40:47.063Z"
   },
   {
    "duration": 462,
    "start_time": "2022-02-27T14:41:10.710Z"
   },
   {
    "duration": 318,
    "start_time": "2022-02-27T14:41:44.292Z"
   },
   {
    "duration": 7442,
    "start_time": "2022-02-27T15:29:50.237Z"
   },
   {
    "duration": 6395,
    "start_time": "2022-02-27T15:42:05.705Z"
   },
   {
    "duration": 8,
    "start_time": "2022-02-27T15:42:21.690Z"
   },
   {
    "duration": 6455,
    "start_time": "2022-02-27T15:42:25.984Z"
   },
   {
    "duration": 8,
    "start_time": "2022-02-27T15:42:52.847Z"
   },
   {
    "duration": 10,
    "start_time": "2022-02-27T15:43:12.105Z"
   },
   {
    "duration": 416,
    "start_time": "2022-02-27T15:43:54.740Z"
   },
   {
    "duration": 76,
    "start_time": "2022-02-27T15:51:32.244Z"
   },
   {
    "duration": 4,
    "start_time": "2022-02-27T15:51:38.950Z"
   },
   {
    "duration": 1172,
    "start_time": "2022-02-27T15:53:18.636Z"
   },
   {
    "duration": 431,
    "start_time": "2022-02-27T15:56:17.958Z"
   },
   {
    "duration": 430,
    "start_time": "2022-02-27T15:56:21.665Z"
   },
   {
    "duration": 7388,
    "start_time": "2022-02-27T15:57:07.399Z"
   },
   {
    "duration": 413,
    "start_time": "2022-02-27T15:57:20.345Z"
   },
   {
    "duration": 396,
    "start_time": "2022-02-27T15:58:23.184Z"
   },
   {
    "duration": 389,
    "start_time": "2022-02-27T15:58:35.882Z"
   },
   {
    "duration": 400,
    "start_time": "2022-02-27T15:58:53.077Z"
   },
   {
    "duration": 397,
    "start_time": "2022-02-27T15:59:24.867Z"
   },
   {
    "duration": 1221,
    "start_time": "2022-02-27T16:06:18.970Z"
   },
   {
    "duration": 281,
    "start_time": "2022-02-27T16:08:03.424Z"
   },
   {
    "duration": 1130,
    "start_time": "2022-02-27T16:08:07.909Z"
   },
   {
    "duration": 4,
    "start_time": "2022-02-27T16:08:40.913Z"
   },
   {
    "duration": 4,
    "start_time": "2022-02-27T16:08:45.862Z"
   },
   {
    "duration": 447,
    "start_time": "2022-02-27T16:08:55.946Z"
   },
   {
    "duration": 1226,
    "start_time": "2022-02-27T16:09:06.146Z"
   },
   {
    "duration": 841,
    "start_time": "2022-02-27T16:33:09.059Z"
   },
   {
    "duration": 166,
    "start_time": "2022-02-27T16:33:09.903Z"
   },
   {
    "duration": 114,
    "start_time": "2022-02-27T16:33:10.072Z"
   },
   {
    "duration": 42,
    "start_time": "2022-02-27T16:33:10.189Z"
   },
   {
    "duration": 54,
    "start_time": "2022-02-27T16:33:10.234Z"
   },
   {
    "duration": 12,
    "start_time": "2022-02-27T16:33:10.291Z"
   },
   {
    "duration": 12,
    "start_time": "2022-02-27T16:33:10.305Z"
   },
   {
    "duration": 41,
    "start_time": "2022-02-27T16:33:10.319Z"
   },
   {
    "duration": 13,
    "start_time": "2022-02-27T16:33:10.364Z"
   },
   {
    "duration": 15,
    "start_time": "2022-02-27T16:33:10.381Z"
   },
   {
    "duration": 56,
    "start_time": "2022-02-27T16:33:10.398Z"
   },
   {
    "duration": 12,
    "start_time": "2022-02-27T16:33:10.456Z"
   },
   {
    "duration": 12,
    "start_time": "2022-02-27T16:33:10.470Z"
   },
   {
    "duration": 13,
    "start_time": "2022-02-27T16:33:10.485Z"
   },
   {
    "duration": 52,
    "start_time": "2022-02-27T16:33:10.501Z"
   },
   {
    "duration": 12,
    "start_time": "2022-02-27T16:33:10.556Z"
   },
   {
    "duration": 10,
    "start_time": "2022-02-27T16:33:10.570Z"
   },
   {
    "duration": 11,
    "start_time": "2022-02-27T16:33:10.582Z"
   },
   {
    "duration": 7,
    "start_time": "2022-02-27T16:33:10.595Z"
   },
   {
    "duration": 11,
    "start_time": "2022-02-27T16:33:10.652Z"
   },
   {
    "duration": 15,
    "start_time": "2022-02-27T16:33:10.665Z"
   },
   {
    "duration": 4,
    "start_time": "2022-02-27T16:33:10.682Z"
   },
   {
    "duration": 86,
    "start_time": "2022-02-27T16:33:10.688Z"
   },
   {
    "duration": 19,
    "start_time": "2022-02-27T16:33:10.776Z"
   },
   {
    "duration": 70,
    "start_time": "2022-02-27T16:33:10.797Z"
   },
   {
    "duration": 48,
    "start_time": "2022-02-27T16:33:10.870Z"
   },
   {
    "duration": 30,
    "start_time": "2022-02-27T16:33:10.924Z"
   },
   {
    "duration": 16,
    "start_time": "2022-02-27T16:33:10.958Z"
   },
   {
    "duration": 13,
    "start_time": "2022-02-27T16:33:10.977Z"
   },
   {
    "duration": 7,
    "start_time": "2022-02-27T16:33:10.993Z"
   },
   {
    "duration": 53,
    "start_time": "2022-02-27T16:33:11.003Z"
   },
   {
    "duration": 4,
    "start_time": "2022-02-27T16:33:11.058Z"
   },
   {
    "duration": 57,
    "start_time": "2022-02-27T16:33:11.065Z"
   },
   {
    "duration": 3,
    "start_time": "2022-02-27T16:33:11.125Z"
   },
   {
    "duration": 43,
    "start_time": "2022-02-27T16:33:11.130Z"
   },
   {
    "duration": 40,
    "start_time": "2022-02-27T16:33:11.175Z"
   },
   {
    "duration": 5,
    "start_time": "2022-02-27T16:33:11.217Z"
   },
   {
    "duration": 364,
    "start_time": "2022-02-27T16:33:11.252Z"
   },
   {
    "duration": 3,
    "start_time": "2022-02-27T16:33:11.619Z"
   },
   {
    "duration": 27,
    "start_time": "2022-02-27T16:33:11.624Z"
   },
   {
    "duration": 7,
    "start_time": "2022-02-27T16:33:11.653Z"
   },
   {
    "duration": 27,
    "start_time": "2022-02-27T16:33:11.663Z"
   },
   {
    "duration": 75,
    "start_time": "2022-02-27T16:33:11.692Z"
   },
   {
    "duration": 35,
    "start_time": "2022-02-27T16:33:11.769Z"
   },
   {
    "duration": 5,
    "start_time": "2022-02-27T16:33:11.806Z"
   },
   {
    "duration": 2163,
    "start_time": "2022-02-27T16:33:11.814Z"
   },
   {
    "duration": 1334,
    "start_time": "2022-02-27T16:33:13.980Z"
   },
   {
    "duration": 312,
    "start_time": "2022-02-27T16:33:15.316Z"
   },
   {
    "duration": 132,
    "start_time": "2022-02-27T16:33:15.631Z"
   },
   {
    "duration": 39,
    "start_time": "2022-02-27T16:33:15.765Z"
   },
   {
    "duration": 483,
    "start_time": "2022-02-27T16:33:15.807Z"
   },
   {
    "duration": 482,
    "start_time": "2022-02-27T16:33:16.292Z"
   },
   {
    "duration": 122,
    "start_time": "2022-02-27T16:33:16.776Z"
   },
   {
    "duration": 84,
    "start_time": "2022-02-27T16:33:33.463Z"
   },
   {
    "duration": 8,
    "start_time": "2022-02-27T16:34:32.573Z"
   },
   {
    "duration": 372,
    "start_time": "2022-02-27T16:34:35.636Z"
   },
   {
    "duration": 40,
    "start_time": "2022-02-27T16:34:53.611Z"
   },
   {
    "duration": 828,
    "start_time": "2022-02-27T16:53:07.562Z"
   },
   {
    "duration": 153,
    "start_time": "2022-02-27T16:53:08.392Z"
   },
   {
    "duration": 108,
    "start_time": "2022-02-27T16:53:08.552Z"
   },
   {
    "duration": 38,
    "start_time": "2022-02-27T16:53:08.663Z"
   },
   {
    "duration": 60,
    "start_time": "2022-02-27T16:53:08.704Z"
   },
   {
    "duration": 12,
    "start_time": "2022-02-27T16:53:08.766Z"
   },
   {
    "duration": 12,
    "start_time": "2022-02-27T16:53:08.780Z"
   },
   {
    "duration": 12,
    "start_time": "2022-02-27T16:53:08.794Z"
   },
   {
    "duration": 48,
    "start_time": "2022-02-27T16:53:08.810Z"
   },
   {
    "duration": 13,
    "start_time": "2022-02-27T16:53:08.861Z"
   },
   {
    "duration": 11,
    "start_time": "2022-02-27T16:53:08.876Z"
   },
   {
    "duration": 11,
    "start_time": "2022-02-27T16:53:08.889Z"
   },
   {
    "duration": 54,
    "start_time": "2022-02-27T16:53:08.902Z"
   },
   {
    "duration": 11,
    "start_time": "2022-02-27T16:53:08.958Z"
   },
   {
    "duration": 11,
    "start_time": "2022-02-27T16:53:08.971Z"
   },
   {
    "duration": 11,
    "start_time": "2022-02-27T16:53:08.984Z"
   },
   {
    "duration": 54,
    "start_time": "2022-02-27T16:53:08.997Z"
   },
   {
    "duration": 11,
    "start_time": "2022-02-27T16:53:09.054Z"
   },
   {
    "duration": 7,
    "start_time": "2022-02-27T16:53:09.067Z"
   },
   {
    "duration": 12,
    "start_time": "2022-02-27T16:53:09.077Z"
   },
   {
    "duration": 16,
    "start_time": "2022-02-27T16:53:09.091Z"
   },
   {
    "duration": 45,
    "start_time": "2022-02-27T16:53:09.109Z"
   },
   {
    "duration": 51,
    "start_time": "2022-02-27T16:53:09.157Z"
   },
   {
    "duration": 45,
    "start_time": "2022-02-27T16:53:09.211Z"
   },
   {
    "duration": 45,
    "start_time": "2022-02-27T16:53:09.258Z"
   },
   {
    "duration": 70,
    "start_time": "2022-02-27T16:53:09.305Z"
   },
   {
    "duration": 11,
    "start_time": "2022-02-27T16:53:09.383Z"
   },
   {
    "duration": 18,
    "start_time": "2022-02-27T16:53:09.398Z"
   },
   {
    "duration": 15,
    "start_time": "2022-02-27T16:53:09.451Z"
   },
   {
    "duration": 6,
    "start_time": "2022-02-27T16:53:09.468Z"
   },
   {
    "duration": 11,
    "start_time": "2022-02-27T16:53:09.476Z"
   },
   {
    "duration": 4,
    "start_time": "2022-02-27T16:53:09.489Z"
   },
   {
    "duration": 93,
    "start_time": "2022-02-27T16:53:09.495Z"
   },
   {
    "duration": 3,
    "start_time": "2022-02-27T16:53:09.590Z"
   },
   {
    "duration": 24,
    "start_time": "2022-02-27T16:53:09.595Z"
   },
   {
    "duration": 55,
    "start_time": "2022-02-27T16:53:09.621Z"
   },
   {
    "duration": 6,
    "start_time": "2022-02-27T16:53:09.678Z"
   },
   {
    "duration": 387,
    "start_time": "2022-02-27T16:53:09.686Z"
   },
   {
    "duration": 4,
    "start_time": "2022-02-27T16:53:10.075Z"
   },
   {
    "duration": 16,
    "start_time": "2022-02-27T16:53:10.081Z"
   },
   {
    "duration": 6,
    "start_time": "2022-02-27T16:53:10.099Z"
   },
   {
    "duration": 56,
    "start_time": "2022-02-27T16:53:10.107Z"
   },
   {
    "duration": 47,
    "start_time": "2022-02-27T16:53:10.165Z"
   },
   {
    "duration": 55,
    "start_time": "2022-02-27T16:53:10.214Z"
   },
   {
    "duration": 5,
    "start_time": "2022-02-27T16:53:10.271Z"
   },
   {
    "duration": 2518,
    "start_time": "2022-02-27T16:53:10.278Z"
   },
   {
    "duration": 1518,
    "start_time": "2022-02-27T16:53:12.799Z"
   },
   {
    "duration": 334,
    "start_time": "2022-02-27T16:53:14.321Z"
   },
   {
    "duration": 148,
    "start_time": "2022-02-27T16:53:14.657Z"
   },
   {
    "duration": 54,
    "start_time": "2022-02-27T16:53:14.808Z"
   },
   {
    "duration": 454,
    "start_time": "2022-02-27T16:53:14.864Z"
   },
   {
    "duration": 583,
    "start_time": "2022-02-27T16:53:15.321Z"
   },
   {
    "duration": 79,
    "start_time": "2022-02-27T16:53:15.908Z"
   },
   {
    "duration": 432,
    "start_time": "2022-02-27T16:53:36.768Z"
   },
   {
    "duration": 43,
    "start_time": "2022-02-27T16:54:50.420Z"
   },
   {
    "duration": 251,
    "start_time": "2022-02-27T16:54:53.340Z"
   },
   {
    "duration": 274,
    "start_time": "2022-02-27T16:55:35.603Z"
   },
   {
    "duration": 258,
    "start_time": "2022-02-27T16:55:38.631Z"
   },
   {
    "duration": 265,
    "start_time": "2022-02-27T16:55:44.457Z"
   },
   {
    "duration": 28,
    "start_time": "2022-02-27T16:55:54.012Z"
   },
   {
    "duration": 26,
    "start_time": "2022-02-27T16:58:05.646Z"
   },
   {
    "duration": 45,
    "start_time": "2022-02-27T16:58:16.147Z"
   },
   {
    "duration": 440,
    "start_time": "2022-02-27T16:58:18.189Z"
   },
   {
    "duration": 552,
    "start_time": "2022-02-27T17:00:03.737Z"
   },
   {
    "duration": 414,
    "start_time": "2022-02-27T17:00:42.340Z"
   },
   {
    "duration": 411,
    "start_time": "2022-02-27T17:01:16.095Z"
   },
   {
    "duration": 453,
    "start_time": "2022-02-27T17:03:45.307Z"
   },
   {
    "duration": 445,
    "start_time": "2022-02-27T17:04:23.112Z"
   },
   {
    "duration": 404,
    "start_time": "2022-02-27T17:04:26.165Z"
   },
   {
    "duration": 444,
    "start_time": "2022-02-27T17:04:30.844Z"
   },
   {
    "duration": 128,
    "start_time": "2022-02-27T17:10:08.094Z"
   },
   {
    "duration": 279,
    "start_time": "2022-02-27T17:10:43.457Z"
   },
   {
    "duration": 249,
    "start_time": "2022-02-27T17:10:53.587Z"
   },
   {
    "duration": 297,
    "start_time": "2022-02-27T17:11:09.316Z"
   },
   {
    "duration": 6199,
    "start_time": "2022-02-27T17:14:28.210Z"
   },
   {
    "duration": 351,
    "start_time": "2022-02-27T17:14:56.423Z"
   },
   {
    "duration": 307,
    "start_time": "2022-02-27T17:17:18.729Z"
   },
   {
    "duration": 1214,
    "start_time": "2022-02-27T17:17:52.491Z"
   },
   {
    "duration": 14,
    "start_time": "2022-02-27T17:39:29.312Z"
   },
   {
    "duration": 443,
    "start_time": "2022-02-27T17:39:56.198Z"
   },
   {
    "duration": 421,
    "start_time": "2022-02-27T17:39:59.054Z"
   },
   {
    "duration": 472,
    "start_time": "2022-02-27T17:43:17.439Z"
   },
   {
    "duration": 855,
    "start_time": "2022-02-27T17:43:27.834Z"
   },
   {
    "duration": 159,
    "start_time": "2022-02-27T17:43:28.692Z"
   },
   {
    "duration": 115,
    "start_time": "2022-02-27T17:43:28.854Z"
   },
   {
    "duration": 41,
    "start_time": "2022-02-27T17:43:28.972Z"
   },
   {
    "duration": 60,
    "start_time": "2022-02-27T17:43:29.015Z"
   },
   {
    "duration": 13,
    "start_time": "2022-02-27T17:43:29.077Z"
   },
   {
    "duration": 11,
    "start_time": "2022-02-27T17:43:29.092Z"
   },
   {
    "duration": 45,
    "start_time": "2022-02-27T17:43:29.107Z"
   },
   {
    "duration": 13,
    "start_time": "2022-02-27T17:43:29.155Z"
   },
   {
    "duration": 14,
    "start_time": "2022-02-27T17:43:29.170Z"
   },
   {
    "duration": 11,
    "start_time": "2022-02-27T17:43:29.187Z"
   },
   {
    "duration": 52,
    "start_time": "2022-02-27T17:43:29.200Z"
   },
   {
    "duration": 14,
    "start_time": "2022-02-27T17:43:29.254Z"
   },
   {
    "duration": 12,
    "start_time": "2022-02-27T17:43:29.270Z"
   },
   {
    "duration": 10,
    "start_time": "2022-02-27T17:43:29.284Z"
   },
   {
    "duration": 11,
    "start_time": "2022-02-27T17:43:29.296Z"
   },
   {
    "duration": 53,
    "start_time": "2022-02-27T17:43:29.310Z"
   },
   {
    "duration": 12,
    "start_time": "2022-02-27T17:43:29.366Z"
   },
   {
    "duration": 10,
    "start_time": "2022-02-27T17:43:29.380Z"
   },
   {
    "duration": 61,
    "start_time": "2022-02-27T17:43:29.392Z"
   },
   {
    "duration": 14,
    "start_time": "2022-02-27T17:43:29.455Z"
   },
   {
    "duration": 4,
    "start_time": "2022-02-27T17:43:29.472Z"
   },
   {
    "duration": 75,
    "start_time": "2022-02-27T17:43:29.483Z"
   },
   {
    "duration": 17,
    "start_time": "2022-02-27T17:43:29.561Z"
   },
   {
    "duration": 71,
    "start_time": "2022-02-27T17:43:29.581Z"
   },
   {
    "duration": 52,
    "start_time": "2022-02-27T17:43:29.655Z"
   },
   {
    "duration": 13,
    "start_time": "2022-02-27T17:43:29.709Z"
   },
   {
    "duration": 17,
    "start_time": "2022-02-27T17:43:29.752Z"
   },
   {
    "duration": 15,
    "start_time": "2022-02-27T17:43:29.773Z"
   },
   {
    "duration": 8,
    "start_time": "2022-02-27T17:43:29.791Z"
   },
   {
    "duration": 50,
    "start_time": "2022-02-27T17:43:29.801Z"
   },
   {
    "duration": 3,
    "start_time": "2022-02-27T17:43:29.854Z"
   },
   {
    "duration": 60,
    "start_time": "2022-02-27T17:43:29.860Z"
   },
   {
    "duration": 3,
    "start_time": "2022-02-27T17:43:29.923Z"
   },
   {
    "duration": 23,
    "start_time": "2022-02-27T17:43:29.951Z"
   },
   {
    "duration": 39,
    "start_time": "2022-02-27T17:43:29.976Z"
   },
   {
    "duration": 33,
    "start_time": "2022-02-27T17:43:30.018Z"
   },
   {
    "duration": 388,
    "start_time": "2022-02-27T17:43:30.053Z"
   },
   {
    "duration": 8,
    "start_time": "2022-02-27T17:43:30.443Z"
   },
   {
    "duration": 25,
    "start_time": "2022-02-27T17:43:30.454Z"
   },
   {
    "duration": 7,
    "start_time": "2022-02-27T17:43:30.481Z"
   },
   {
    "duration": 28,
    "start_time": "2022-02-27T17:43:30.491Z"
   },
   {
    "duration": 69,
    "start_time": "2022-02-27T17:43:30.522Z"
   },
   {
    "duration": 33,
    "start_time": "2022-02-27T17:43:30.593Z"
   },
   {
    "duration": 24,
    "start_time": "2022-02-27T17:43:30.628Z"
   },
   {
    "duration": 2142,
    "start_time": "2022-02-27T17:43:30.654Z"
   },
   {
    "duration": 1362,
    "start_time": "2022-02-27T17:43:32.799Z"
   },
   {
    "duration": 314,
    "start_time": "2022-02-27T17:43:34.164Z"
   },
   {
    "duration": 141,
    "start_time": "2022-02-27T17:43:34.481Z"
   },
   {
    "duration": 50,
    "start_time": "2022-02-27T17:43:34.624Z"
   },
   {
    "duration": 426,
    "start_time": "2022-02-27T17:43:34.676Z"
   },
   {
    "duration": 468,
    "start_time": "2022-02-27T17:43:35.105Z"
   },
   {
    "duration": 431,
    "start_time": "2022-02-27T17:43:35.575Z"
   },
   {
    "duration": 58,
    "start_time": "2022-02-27T17:43:36.008Z"
   },
   {
    "duration": 991,
    "start_time": "2022-02-27T17:43:36.068Z"
   },
   {
    "duration": 416,
    "start_time": "2022-02-27T17:43:37.062Z"
   },
   {
    "duration": 420,
    "start_time": "2022-02-27T17:43:37.482Z"
   },
   {
    "duration": 347,
    "start_time": "2022-02-27T17:49:22.365Z"
   },
   {
    "duration": 448,
    "start_time": "2022-02-27T17:49:30.891Z"
   },
   {
    "duration": 20601,
    "start_time": "2022-02-27T18:23:01.170Z"
   },
   {
    "duration": 18114,
    "start_time": "2022-02-27T18:23:44.992Z"
   },
   {
    "duration": 17351,
    "start_time": "2022-02-27T18:24:22.028Z"
   },
   {
    "duration": 480,
    "start_time": "2022-02-27T18:25:11.603Z"
   },
   {
    "duration": 218,
    "start_time": "2022-02-27T20:40:43.398Z"
   },
   {
    "duration": 956,
    "start_time": "2022-02-27T20:40:51.579Z"
   },
   {
    "duration": 164,
    "start_time": "2022-02-27T20:40:52.538Z"
   },
   {
    "duration": 111,
    "start_time": "2022-02-27T20:40:52.706Z"
   },
   {
    "duration": 41,
    "start_time": "2022-02-27T20:40:52.820Z"
   },
   {
    "duration": 39,
    "start_time": "2022-02-27T20:40:52.882Z"
   },
   {
    "duration": 13,
    "start_time": "2022-02-27T20:40:52.923Z"
   },
   {
    "duration": 45,
    "start_time": "2022-02-27T20:40:52.939Z"
   },
   {
    "duration": 14,
    "start_time": "2022-02-27T20:40:52.988Z"
   },
   {
    "duration": 14,
    "start_time": "2022-02-27T20:40:53.005Z"
   },
   {
    "duration": 13,
    "start_time": "2022-02-27T20:40:53.022Z"
   },
   {
    "duration": 47,
    "start_time": "2022-02-27T20:40:53.037Z"
   },
   {
    "duration": 11,
    "start_time": "2022-02-27T20:40:53.087Z"
   },
   {
    "duration": 14,
    "start_time": "2022-02-27T20:40:53.101Z"
   },
   {
    "duration": 14,
    "start_time": "2022-02-27T20:40:53.118Z"
   },
   {
    "duration": 49,
    "start_time": "2022-02-27T20:40:53.135Z"
   },
   {
    "duration": 15,
    "start_time": "2022-02-27T20:40:53.187Z"
   },
   {
    "duration": 13,
    "start_time": "2022-02-27T20:40:53.205Z"
   },
   {
    "duration": 63,
    "start_time": "2022-02-27T20:40:53.221Z"
   },
   {
    "duration": 10,
    "start_time": "2022-02-27T20:40:53.286Z"
   },
   {
    "duration": 11,
    "start_time": "2022-02-27T20:40:53.298Z"
   },
   {
    "duration": 14,
    "start_time": "2022-02-27T20:40:53.311Z"
   },
   {
    "duration": 4,
    "start_time": "2022-02-27T20:40:53.327Z"
   },
   {
    "duration": 45,
    "start_time": "2022-02-27T20:40:53.385Z"
   },
   {
    "duration": 15,
    "start_time": "2022-02-27T20:40:53.433Z"
   },
   {
    "duration": 70,
    "start_time": "2022-02-27T20:40:53.451Z"
   },
   {
    "duration": 66,
    "start_time": "2022-02-27T20:40:53.524Z"
   },
   {
    "duration": 12,
    "start_time": "2022-02-27T20:40:53.592Z"
   },
   {
    "duration": 18,
    "start_time": "2022-02-27T20:40:53.606Z"
   },
   {
    "duration": 12,
    "start_time": "2022-02-27T20:40:53.626Z"
   },
   {
    "duration": 7,
    "start_time": "2022-02-27T20:40:53.640Z"
   },
   {
    "duration": 15,
    "start_time": "2022-02-27T20:40:53.683Z"
   },
   {
    "duration": 5,
    "start_time": "2022-02-27T20:40:53.700Z"
   },
   {
    "duration": 86,
    "start_time": "2022-02-27T20:40:53.707Z"
   },
   {
    "duration": 3,
    "start_time": "2022-02-27T20:40:53.795Z"
   },
   {
    "duration": 27,
    "start_time": "2022-02-27T20:40:53.800Z"
   },
   {
    "duration": 58,
    "start_time": "2022-02-27T20:40:53.829Z"
   },
   {
    "duration": 10,
    "start_time": "2022-02-27T20:40:53.889Z"
   },
   {
    "duration": 367,
    "start_time": "2022-02-27T20:40:53.902Z"
   },
   {
    "duration": 12,
    "start_time": "2022-02-27T20:40:54.271Z"
   },
   {
    "duration": 13,
    "start_time": "2022-02-27T20:40:54.285Z"
   },
   {
    "duration": 6,
    "start_time": "2022-02-27T20:40:54.300Z"
   },
   {
    "duration": 27,
    "start_time": "2022-02-27T20:40:54.308Z"
   },
   {
    "duration": 81,
    "start_time": "2022-02-27T20:40:54.338Z"
   },
   {
    "duration": 33,
    "start_time": "2022-02-27T20:40:54.421Z"
   },
   {
    "duration": 5,
    "start_time": "2022-02-27T20:40:54.457Z"
   },
   {
    "duration": 2486,
    "start_time": "2022-02-27T20:40:54.464Z"
   },
   {
    "duration": 1347,
    "start_time": "2022-02-27T20:40:56.953Z"
   },
   {
    "duration": 322,
    "start_time": "2022-02-27T20:40:58.302Z"
   },
   {
    "duration": 142,
    "start_time": "2022-02-27T20:40:58.626Z"
   },
   {
    "duration": 50,
    "start_time": "2022-02-27T20:40:58.770Z"
   },
   {
    "duration": 500,
    "start_time": "2022-02-27T20:40:58.826Z"
   },
   {
    "duration": 487,
    "start_time": "2022-02-27T20:40:59.329Z"
   },
   {
    "duration": 443,
    "start_time": "2022-02-27T20:40:59.819Z"
   },
   {
    "duration": 54,
    "start_time": "2022-02-27T20:41:00.264Z"
   },
   {
    "duration": 542,
    "start_time": "2022-02-27T20:41:00.321Z"
   },
   {
    "duration": 467,
    "start_time": "2022-02-27T20:41:00.866Z"
   },
   {
    "duration": 480,
    "start_time": "2022-02-27T20:41:01.335Z"
   },
   {
    "duration": 99,
    "start_time": "2022-02-27T20:41:01.817Z"
   },
   {
    "duration": 444,
    "start_time": "2022-02-27T20:42:34.561Z"
   },
   {
    "duration": 879,
    "start_time": "2022-02-28T11:05:15.551Z"
   },
   {
    "duration": 159,
    "start_time": "2022-02-28T11:05:16.432Z"
   },
   {
    "duration": 113,
    "start_time": "2022-02-28T11:05:16.594Z"
   },
   {
    "duration": 40,
    "start_time": "2022-02-28T11:05:16.710Z"
   },
   {
    "duration": 57,
    "start_time": "2022-02-28T11:05:16.752Z"
   },
   {
    "duration": 12,
    "start_time": "2022-02-28T11:05:16.811Z"
   },
   {
    "duration": 11,
    "start_time": "2022-02-28T11:05:16.825Z"
   },
   {
    "duration": 10,
    "start_time": "2022-02-28T11:05:16.840Z"
   },
   {
    "duration": 13,
    "start_time": "2022-02-28T11:05:16.884Z"
   },
   {
    "duration": 12,
    "start_time": "2022-02-28T11:05:16.899Z"
   },
   {
    "duration": 14,
    "start_time": "2022-02-28T11:05:16.914Z"
   },
   {
    "duration": 51,
    "start_time": "2022-02-28T11:05:16.931Z"
   },
   {
    "duration": 13,
    "start_time": "2022-02-28T11:05:16.985Z"
   },
   {
    "duration": 14,
    "start_time": "2022-02-28T11:05:17.001Z"
   },
   {
    "duration": 12,
    "start_time": "2022-02-28T11:05:17.017Z"
   },
   {
    "duration": 57,
    "start_time": "2022-02-28T11:05:17.032Z"
   },
   {
    "duration": 11,
    "start_time": "2022-02-28T11:05:17.091Z"
   },
   {
    "duration": 10,
    "start_time": "2022-02-28T11:05:17.104Z"
   },
   {
    "duration": 7,
    "start_time": "2022-02-28T11:05:17.116Z"
   },
   {
    "duration": 15,
    "start_time": "2022-02-28T11:05:17.125Z"
   },
   {
    "duration": 43,
    "start_time": "2022-02-28T11:05:17.142Z"
   },
   {
    "duration": 4,
    "start_time": "2022-02-28T11:05:17.187Z"
   },
   {
    "duration": 100,
    "start_time": "2022-02-28T11:05:17.198Z"
   },
   {
    "duration": 14,
    "start_time": "2022-02-28T11:05:17.301Z"
   },
   {
    "duration": 45,
    "start_time": "2022-02-28T11:05:17.317Z"
   },
   {
    "duration": 55,
    "start_time": "2022-02-28T11:05:17.364Z"
   },
   {
    "duration": 11,
    "start_time": "2022-02-28T11:05:17.421Z"
   },
   {
    "duration": 19,
    "start_time": "2022-02-28T11:05:17.434Z"
   },
   {
    "duration": 12,
    "start_time": "2022-02-28T11:05:17.455Z"
   },
   {
    "duration": 13,
    "start_time": "2022-02-28T11:05:17.469Z"
   },
   {
    "duration": 27,
    "start_time": "2022-02-28T11:05:17.484Z"
   },
   {
    "duration": 22,
    "start_time": "2022-02-28T11:05:17.513Z"
   },
   {
    "duration": 69,
    "start_time": "2022-02-28T11:05:17.537Z"
   },
   {
    "duration": 3,
    "start_time": "2022-02-28T11:05:17.608Z"
   },
   {
    "duration": 68,
    "start_time": "2022-02-28T11:05:17.613Z"
   },
   {
    "duration": 47,
    "start_time": "2022-02-28T11:05:17.683Z"
   },
   {
    "duration": 28,
    "start_time": "2022-02-28T11:05:17.732Z"
   },
   {
    "duration": 451,
    "start_time": "2022-02-28T11:05:17.762Z"
   },
   {
    "duration": 4,
    "start_time": "2022-02-28T11:05:18.215Z"
   },
   {
    "duration": 25,
    "start_time": "2022-02-28T11:05:18.221Z"
   },
   {
    "duration": 40,
    "start_time": "2022-02-28T11:05:18.248Z"
   },
   {
    "duration": 39,
    "start_time": "2022-02-28T11:05:18.291Z"
   },
   {
    "duration": 90,
    "start_time": "2022-02-28T11:05:18.332Z"
   },
   {
    "duration": 90,
    "start_time": "2022-02-28T11:05:18.424Z"
   },
   {
    "duration": 6,
    "start_time": "2022-02-28T11:05:18.516Z"
   },
   {
    "duration": 2172,
    "start_time": "2022-02-28T11:05:18.524Z"
   },
   {
    "duration": 1342,
    "start_time": "2022-02-28T11:05:20.699Z"
   },
   {
    "duration": 313,
    "start_time": "2022-02-28T11:05:22.044Z"
   },
   {
    "duration": 140,
    "start_time": "2022-02-28T11:05:22.359Z"
   },
   {
    "duration": 37,
    "start_time": "2022-02-28T11:05:22.502Z"
   },
   {
    "duration": 470,
    "start_time": "2022-02-28T11:05:22.541Z"
   },
   {
    "duration": 419,
    "start_time": "2022-02-28T11:05:23.013Z"
   },
   {
    "duration": 478,
    "start_time": "2022-02-28T11:05:23.434Z"
   },
   {
    "duration": 43,
    "start_time": "2022-02-28T11:05:23.915Z"
   },
   {
    "duration": 524,
    "start_time": "2022-02-28T11:05:23.961Z"
   },
   {
    "duration": 436,
    "start_time": "2022-02-28T11:05:24.487Z"
   },
   {
    "duration": 446,
    "start_time": "2022-02-28T11:05:24.926Z"
   },
   {
    "duration": 287,
    "start_time": "2022-02-28T11:13:48.038Z"
   },
   {
    "duration": 196,
    "start_time": "2022-02-28T11:14:18.194Z"
   },
   {
    "duration": 191,
    "start_time": "2022-02-28T11:14:37.633Z"
   },
   {
    "duration": 298,
    "start_time": "2022-02-28T11:14:49.863Z"
   },
   {
    "duration": 347,
    "start_time": "2022-02-28T11:15:58.539Z"
   },
   {
    "duration": 703,
    "start_time": "2022-02-28T11:19:02.090Z"
   },
   {
    "duration": 733,
    "start_time": "2022-02-28T11:19:27.840Z"
   },
   {
    "duration": 707,
    "start_time": "2022-02-28T11:19:50.782Z"
   },
   {
    "duration": 720,
    "start_time": "2022-02-28T11:19:55.129Z"
   },
   {
    "duration": 1027,
    "start_time": "2022-02-28T11:20:13.108Z"
   },
   {
    "duration": 788,
    "start_time": "2022-02-28T11:20:28.075Z"
   },
   {
    "duration": 723,
    "start_time": "2022-02-28T11:20:49.915Z"
   },
   {
    "duration": 733,
    "start_time": "2022-02-28T11:20:55.452Z"
   },
   {
    "duration": 681,
    "start_time": "2022-02-28T11:21:22.543Z"
   },
   {
    "duration": 17534,
    "start_time": "2022-02-28T11:23:05.081Z"
   },
   {
    "duration": 456,
    "start_time": "2022-02-28T11:23:34.644Z"
   },
   {
    "duration": 664,
    "start_time": "2022-02-28T11:23:37.015Z"
   },
   {
    "duration": 818,
    "start_time": "2022-02-28T11:24:03.298Z"
   },
   {
    "duration": 295,
    "start_time": "2022-02-28T11:24:52.806Z"
   },
   {
    "duration": 668,
    "start_time": "2022-02-28T11:25:27.916Z"
   },
   {
    "duration": 494,
    "start_time": "2022-02-28T11:34:52.542Z"
   },
   {
    "duration": 713,
    "start_time": "2022-02-28T11:37:27.618Z"
   },
   {
    "duration": 221,
    "start_time": "2022-02-28T11:43:06.331Z"
   },
   {
    "duration": 174,
    "start_time": "2022-02-28T11:44:23.671Z"
   },
   {
    "duration": 206,
    "start_time": "2022-02-28T11:44:49.459Z"
   },
   {
    "duration": 185,
    "start_time": "2022-02-28T11:44:55.095Z"
   },
   {
    "duration": 257,
    "start_time": "2022-02-28T11:45:25.638Z"
   },
   {
    "duration": 9,
    "start_time": "2022-02-28T11:45:34.092Z"
   },
   {
    "duration": 269,
    "start_time": "2022-02-28T11:45:54.520Z"
   },
   {
    "duration": 195,
    "start_time": "2022-02-28T11:46:03.343Z"
   },
   {
    "duration": 206,
    "start_time": "2022-02-28T11:46:10.167Z"
   },
   {
    "duration": 59,
    "start_time": "2022-02-28T11:47:25.054Z"
   },
   {
    "duration": 471,
    "start_time": "2022-02-28T11:48:41.166Z"
   },
   {
    "duration": 283,
    "start_time": "2022-02-28T11:49:11.720Z"
   },
   {
    "duration": 187,
    "start_time": "2022-02-28T11:51:25.307Z"
   },
   {
    "duration": 8,
    "start_time": "2022-02-28T11:51:28.811Z"
   },
   {
    "duration": 53,
    "start_time": "2022-02-28T11:53:33.107Z"
   },
   {
    "duration": 55,
    "start_time": "2022-02-28T11:56:00.178Z"
   },
   {
    "duration": 277,
    "start_time": "2022-02-28T11:57:39.490Z"
   },
   {
    "duration": 224,
    "start_time": "2022-02-28T11:57:44.277Z"
   },
   {
    "duration": 55,
    "start_time": "2022-02-28T11:57:55.077Z"
   },
   {
    "duration": 37,
    "start_time": "2022-02-28T12:01:25.897Z"
   },
   {
    "duration": 446,
    "start_time": "2022-02-28T12:01:30.185Z"
   },
   {
    "duration": 5,
    "start_time": "2022-02-28T12:01:38.248Z"
   },
   {
    "duration": 171,
    "start_time": "2022-02-28T12:01:38.257Z"
   },
   {
    "duration": 117,
    "start_time": "2022-02-28T12:01:38.432Z"
   },
   {
    "duration": 54,
    "start_time": "2022-02-28T12:01:38.553Z"
   },
   {
    "duration": 38,
    "start_time": "2022-02-28T12:01:38.610Z"
   },
   {
    "duration": 38,
    "start_time": "2022-02-28T12:01:38.651Z"
   },
   {
    "duration": 12,
    "start_time": "2022-02-28T12:01:38.691Z"
   },
   {
    "duration": 11,
    "start_time": "2022-02-28T12:01:38.705Z"
   },
   {
    "duration": 10,
    "start_time": "2022-02-28T12:01:38.720Z"
   },
   {
    "duration": 53,
    "start_time": "2022-02-28T12:01:38.733Z"
   },
   {
    "duration": 11,
    "start_time": "2022-02-28T12:01:38.789Z"
   },
   {
    "duration": 10,
    "start_time": "2022-02-28T12:01:38.803Z"
   },
   {
    "duration": 15,
    "start_time": "2022-02-28T12:01:38.815Z"
   },
   {
    "duration": 12,
    "start_time": "2022-02-28T12:01:38.832Z"
   },
   {
    "duration": 10,
    "start_time": "2022-02-28T12:01:38.882Z"
   },
   {
    "duration": 13,
    "start_time": "2022-02-28T12:01:38.894Z"
   },
   {
    "duration": 10,
    "start_time": "2022-02-28T12:01:38.909Z"
   },
   {
    "duration": 11,
    "start_time": "2022-02-28T12:01:38.921Z"
   },
   {
    "duration": 49,
    "start_time": "2022-02-28T12:01:38.933Z"
   },
   {
    "duration": 11,
    "start_time": "2022-02-28T12:01:38.984Z"
   },
   {
    "duration": 12,
    "start_time": "2022-02-28T12:01:38.997Z"
   },
   {
    "duration": 4,
    "start_time": "2022-02-28T12:01:39.011Z"
   },
   {
    "duration": 88,
    "start_time": "2022-02-28T12:01:39.018Z"
   },
   {
    "duration": 15,
    "start_time": "2022-02-28T12:01:39.109Z"
   },
   {
    "duration": 68,
    "start_time": "2022-02-28T12:01:39.126Z"
   },
   {
    "duration": 47,
    "start_time": "2022-02-28T12:01:39.196Z"
   },
   {
    "duration": 34,
    "start_time": "2022-02-28T12:01:39.249Z"
   },
   {
    "duration": 22,
    "start_time": "2022-02-28T12:01:39.287Z"
   },
   {
    "duration": 16,
    "start_time": "2022-02-28T12:01:39.312Z"
   },
   {
    "duration": 12,
    "start_time": "2022-02-28T12:01:39.330Z"
   },
   {
    "duration": 13,
    "start_time": "2022-02-28T12:01:39.344Z"
   },
   {
    "duration": 24,
    "start_time": "2022-02-28T12:01:39.359Z"
   },
   {
    "duration": 54,
    "start_time": "2022-02-28T12:01:39.386Z"
   },
   {
    "duration": 4,
    "start_time": "2022-02-28T12:01:39.442Z"
   },
   {
    "duration": 47,
    "start_time": "2022-02-28T12:01:39.448Z"
   },
   {
    "duration": 38,
    "start_time": "2022-02-28T12:01:39.497Z"
   },
   {
    "duration": 6,
    "start_time": "2022-02-28T12:01:39.539Z"
   },
   {
    "duration": 476,
    "start_time": "2022-02-28T12:01:39.548Z"
   },
   {
    "duration": 4,
    "start_time": "2022-02-28T12:01:40.026Z"
   },
   {
    "duration": 21,
    "start_time": "2022-02-28T12:01:40.032Z"
   },
   {
    "duration": 17,
    "start_time": "2022-02-28T12:01:40.055Z"
   },
   {
    "duration": 56,
    "start_time": "2022-02-28T12:01:40.074Z"
   },
   {
    "duration": 46,
    "start_time": "2022-02-28T12:01:40.132Z"
   },
   {
    "duration": 31,
    "start_time": "2022-02-28T12:01:40.180Z"
   },
   {
    "duration": 8,
    "start_time": "2022-02-28T12:01:40.213Z"
   },
   {
    "duration": 2074,
    "start_time": "2022-02-28T12:01:40.223Z"
   },
   {
    "duration": 1507,
    "start_time": "2022-02-28T12:01:42.300Z"
   },
   {
    "duration": 338,
    "start_time": "2022-02-28T12:01:43.810Z"
   },
   {
    "duration": 139,
    "start_time": "2022-02-28T12:01:44.151Z"
   },
   {
    "duration": 51,
    "start_time": "2022-02-28T12:01:44.292Z"
   },
   {
    "duration": 554,
    "start_time": "2022-02-28T12:01:44.345Z"
   },
   {
    "duration": 863,
    "start_time": "2022-02-28T12:01:44.902Z"
   },
   {
    "duration": 527,
    "start_time": "2022-02-28T12:01:45.768Z"
   },
   {
    "duration": 49,
    "start_time": "2022-02-28T12:01:46.297Z"
   },
   {
    "duration": 807,
    "start_time": "2022-02-28T12:01:46.349Z"
   },
   {
    "duration": 823,
    "start_time": "2022-02-28T12:01:47.159Z"
   },
   {
    "duration": 813,
    "start_time": "2022-02-28T12:01:47.984Z"
   },
   {
    "duration": 285,
    "start_time": "2022-02-28T12:01:48.799Z"
   },
   {
    "duration": 45,
    "start_time": "2022-02-28T12:42:31.502Z"
   },
   {
    "duration": 70,
    "start_time": "2022-02-28T12:42:39.543Z"
   },
   {
    "duration": 4,
    "start_time": "2022-02-28T15:03:22.581Z"
   },
   {
    "duration": 195,
    "start_time": "2022-02-28T15:03:22.589Z"
   },
   {
    "duration": 105,
    "start_time": "2022-02-28T15:03:22.787Z"
   },
   {
    "duration": 38,
    "start_time": "2022-02-28T15:03:22.895Z"
   },
   {
    "duration": 65,
    "start_time": "2022-02-28T15:03:22.936Z"
   },
   {
    "duration": 12,
    "start_time": "2022-02-28T15:03:23.003Z"
   },
   {
    "duration": 12,
    "start_time": "2022-02-28T15:03:23.017Z"
   },
   {
    "duration": 14,
    "start_time": "2022-02-28T15:03:23.031Z"
   },
   {
    "duration": 35,
    "start_time": "2022-02-28T15:03:23.049Z"
   },
   {
    "duration": 12,
    "start_time": "2022-02-28T15:03:23.088Z"
   },
   {
    "duration": 12,
    "start_time": "2022-02-28T15:03:23.103Z"
   },
   {
    "duration": 12,
    "start_time": "2022-02-28T15:03:23.118Z"
   },
   {
    "duration": 63,
    "start_time": "2022-02-28T15:03:23.133Z"
   },
   {
    "duration": 17,
    "start_time": "2022-02-28T15:03:23.199Z"
   },
   {
    "duration": 21,
    "start_time": "2022-02-28T15:03:23.219Z"
   },
   {
    "duration": 17,
    "start_time": "2022-02-28T15:03:23.242Z"
   },
   {
    "duration": 13,
    "start_time": "2022-02-28T15:03:23.281Z"
   },
   {
    "duration": 11,
    "start_time": "2022-02-28T15:03:23.296Z"
   },
   {
    "duration": 8,
    "start_time": "2022-02-28T15:03:23.309Z"
   },
   {
    "duration": 22,
    "start_time": "2022-02-28T15:03:23.319Z"
   },
   {
    "duration": 45,
    "start_time": "2022-02-28T15:03:23.343Z"
   },
   {
    "duration": 18,
    "start_time": "2022-02-28T15:03:23.391Z"
   },
   {
    "duration": 62,
    "start_time": "2022-02-28T15:03:23.411Z"
   },
   {
    "duration": 20,
    "start_time": "2022-02-28T15:03:23.476Z"
   },
   {
    "duration": 44,
    "start_time": "2022-02-28T15:03:23.499Z"
   },
   {
    "duration": 67,
    "start_time": "2022-02-28T15:03:23.546Z"
   },
   {
    "duration": 11,
    "start_time": "2022-02-28T15:03:23.619Z"
   },
   {
    "duration": 26,
    "start_time": "2022-02-28T15:03:23.634Z"
   },
   {
    "duration": 32,
    "start_time": "2022-02-28T15:03:23.663Z"
   },
   {
    "duration": 19,
    "start_time": "2022-02-28T15:03:23.698Z"
   },
   {
    "duration": 26,
    "start_time": "2022-02-28T15:03:23.720Z"
   },
   {
    "duration": 9,
    "start_time": "2022-02-28T15:03:23.748Z"
   },
   {
    "duration": 65,
    "start_time": "2022-02-28T15:03:23.759Z"
   },
   {
    "duration": 3,
    "start_time": "2022-02-28T15:03:23.827Z"
   },
   {
    "duration": 42,
    "start_time": "2022-02-28T15:03:23.833Z"
   },
   {
    "duration": 39,
    "start_time": "2022-02-28T15:03:23.878Z"
   },
   {
    "duration": 12,
    "start_time": "2022-02-28T15:03:23.919Z"
   },
   {
    "duration": 478,
    "start_time": "2022-02-28T15:03:23.933Z"
   },
   {
    "duration": 4,
    "start_time": "2022-02-28T15:03:24.414Z"
   },
   {
    "duration": 22,
    "start_time": "2022-02-28T15:03:24.420Z"
   },
   {
    "duration": 7,
    "start_time": "2022-02-28T15:03:24.444Z"
   },
   {
    "duration": 44,
    "start_time": "2022-02-28T15:03:24.453Z"
   },
   {
    "duration": 47,
    "start_time": "2022-02-28T15:03:24.500Z"
   },
   {
    "duration": 54,
    "start_time": "2022-02-28T15:03:24.550Z"
   },
   {
    "duration": 5,
    "start_time": "2022-02-28T15:03:24.607Z"
   },
   {
    "duration": 2236,
    "start_time": "2022-02-28T15:03:24.614Z"
   },
   {
    "duration": 1369,
    "start_time": "2022-02-28T15:03:26.852Z"
   },
   {
    "duration": 331,
    "start_time": "2022-02-28T15:03:28.223Z"
   },
   {
    "duration": 138,
    "start_time": "2022-02-28T15:03:28.556Z"
   },
   {
    "duration": 52,
    "start_time": "2022-02-28T15:03:28.696Z"
   },
   {
    "duration": 632,
    "start_time": "2022-02-28T15:03:28.750Z"
   },
   {
    "duration": 809,
    "start_time": "2022-02-28T15:03:29.385Z"
   },
   {
    "duration": 607,
    "start_time": "2022-02-28T15:03:30.197Z"
   },
   {
    "duration": 48,
    "start_time": "2022-02-28T15:03:30.806Z"
   },
   {
    "duration": 796,
    "start_time": "2022-02-28T15:03:30.856Z"
   },
   {
    "duration": 817,
    "start_time": "2022-02-28T15:03:31.654Z"
   },
   {
    "duration": 815,
    "start_time": "2022-02-28T15:03:32.473Z"
   },
   {
    "duration": 292,
    "start_time": "2022-02-28T15:03:33.290Z"
   },
   {
    "duration": 72,
    "start_time": "2022-02-28T15:03:33.584Z"
   },
   {
    "duration": 44,
    "start_time": "2022-02-28T15:04:09.677Z"
   },
   {
    "duration": 3320,
    "start_time": "2022-02-28T15:06:28.706Z"
   },
   {
    "duration": 3531,
    "start_time": "2022-02-28T15:06:50.108Z"
   },
   {
    "duration": 191,
    "start_time": "2022-02-28T15:07:07.903Z"
   },
   {
    "duration": 207,
    "start_time": "2022-02-28T15:08:14.269Z"
   },
   {
    "duration": 3291,
    "start_time": "2022-02-28T15:08:18.513Z"
   },
   {
    "duration": 325,
    "start_time": "2022-02-28T15:11:19.740Z"
   },
   {
    "duration": 3833,
    "start_time": "2022-02-28T15:11:35.698Z"
   },
   {
    "duration": 228,
    "start_time": "2022-02-28T15:12:43.534Z"
   },
   {
    "duration": 65,
    "start_time": "2022-02-28T15:12:53.298Z"
   },
   {
    "duration": 290,
    "start_time": "2022-02-28T15:12:56.227Z"
   },
   {
    "duration": 207,
    "start_time": "2022-02-28T15:14:18.855Z"
   },
   {
    "duration": 311,
    "start_time": "2022-02-28T15:15:04.509Z"
   },
   {
    "duration": 821,
    "start_time": "2022-02-28T15:15:23.170Z"
   },
   {
    "duration": 157,
    "start_time": "2022-02-28T15:15:23.994Z"
   },
   {
    "duration": 121,
    "start_time": "2022-02-28T15:15:24.154Z"
   },
   {
    "duration": 42,
    "start_time": "2022-02-28T15:15:24.281Z"
   },
   {
    "duration": 64,
    "start_time": "2022-02-28T15:15:24.326Z"
   },
   {
    "duration": 11,
    "start_time": "2022-02-28T15:15:24.393Z"
   },
   {
    "duration": 11,
    "start_time": "2022-02-28T15:15:24.406Z"
   },
   {
    "duration": 10,
    "start_time": "2022-02-28T15:15:24.420Z"
   },
   {
    "duration": 52,
    "start_time": "2022-02-28T15:15:24.434Z"
   },
   {
    "duration": 15,
    "start_time": "2022-02-28T15:15:24.490Z"
   },
   {
    "duration": 13,
    "start_time": "2022-02-28T15:15:24.509Z"
   },
   {
    "duration": 57,
    "start_time": "2022-02-28T15:15:24.525Z"
   },
   {
    "duration": 16,
    "start_time": "2022-02-28T15:15:24.585Z"
   },
   {
    "duration": 14,
    "start_time": "2022-02-28T15:15:24.604Z"
   },
   {
    "duration": 12,
    "start_time": "2022-02-28T15:15:24.621Z"
   },
   {
    "duration": 56,
    "start_time": "2022-02-28T15:15:24.636Z"
   },
   {
    "duration": 13,
    "start_time": "2022-02-28T15:15:24.695Z"
   },
   {
    "duration": 11,
    "start_time": "2022-02-28T15:15:24.711Z"
   },
   {
    "duration": 8,
    "start_time": "2022-02-28T15:15:24.724Z"
   },
   {
    "duration": 57,
    "start_time": "2022-02-28T15:15:24.735Z"
   },
   {
    "duration": 16,
    "start_time": "2022-02-28T15:15:24.795Z"
   },
   {
    "duration": 5,
    "start_time": "2022-02-28T15:15:24.813Z"
   },
   {
    "duration": 83,
    "start_time": "2022-02-28T15:15:24.820Z"
   },
   {
    "duration": 17,
    "start_time": "2022-02-28T15:15:24.906Z"
   },
   {
    "duration": 77,
    "start_time": "2022-02-28T15:15:24.926Z"
   },
   {
    "duration": 49,
    "start_time": "2022-02-28T15:15:25.006Z"
   },
   {
    "duration": 28,
    "start_time": "2022-02-28T15:15:25.061Z"
   },
   {
    "duration": 24,
    "start_time": "2022-02-28T15:15:25.092Z"
   },
   {
    "duration": 14,
    "start_time": "2022-02-28T15:15:25.119Z"
   },
   {
    "duration": 13,
    "start_time": "2022-02-28T15:15:25.136Z"
   },
   {
    "duration": 41,
    "start_time": "2022-02-28T15:15:25.152Z"
   },
   {
    "duration": 7,
    "start_time": "2022-02-28T15:15:25.196Z"
   },
   {
    "duration": 56,
    "start_time": "2022-02-28T15:15:25.206Z"
   },
   {
    "duration": 20,
    "start_time": "2022-02-28T15:15:25.265Z"
   },
   {
    "duration": 30,
    "start_time": "2022-02-28T15:15:25.288Z"
   },
   {
    "duration": 61,
    "start_time": "2022-02-28T15:15:25.321Z"
   },
   {
    "duration": 6,
    "start_time": "2022-02-28T15:15:25.384Z"
   },
   {
    "duration": 380,
    "start_time": "2022-02-28T15:15:25.393Z"
   },
   {
    "duration": 7,
    "start_time": "2022-02-28T15:15:25.775Z"
   },
   {
    "duration": 21,
    "start_time": "2022-02-28T15:15:25.785Z"
   },
   {
    "duration": 7,
    "start_time": "2022-02-28T15:15:25.808Z"
   },
   {
    "duration": 28,
    "start_time": "2022-02-28T15:15:25.817Z"
   },
   {
    "duration": 79,
    "start_time": "2022-02-28T15:15:25.848Z"
   },
   {
    "duration": 34,
    "start_time": "2022-02-28T15:15:25.929Z"
   },
   {
    "duration": 5,
    "start_time": "2022-02-28T15:15:25.982Z"
   },
   {
    "duration": 2288,
    "start_time": "2022-02-28T15:15:25.990Z"
   },
   {
    "duration": 1517,
    "start_time": "2022-02-28T15:15:28.283Z"
   },
   {
    "duration": 346,
    "start_time": "2022-02-28T15:15:29.803Z"
   },
   {
    "duration": 150,
    "start_time": "2022-02-28T15:15:30.152Z"
   },
   {
    "duration": 57,
    "start_time": "2022-02-28T15:15:30.304Z"
   },
   {
    "duration": 571,
    "start_time": "2022-02-28T15:15:30.364Z"
   },
   {
    "duration": 867,
    "start_time": "2022-02-28T15:15:30.938Z"
   },
   {
    "duration": 660,
    "start_time": "2022-02-28T15:15:31.809Z"
   },
   {
    "duration": 59,
    "start_time": "2022-02-28T15:15:32.472Z"
   },
   {
    "duration": 836,
    "start_time": "2022-02-28T15:15:32.533Z"
   },
   {
    "duration": 1141,
    "start_time": "2022-02-28T15:15:33.372Z"
   },
   {
    "duration": 1015,
    "start_time": "2022-02-28T15:15:34.516Z"
   },
   {
    "duration": 307,
    "start_time": "2022-02-28T15:15:35.533Z"
   },
   {
    "duration": 84,
    "start_time": "2022-02-28T15:15:35.842Z"
   },
   {
    "duration": 298,
    "start_time": "2022-02-28T15:15:41.380Z"
   },
   {
    "duration": 186,
    "start_time": "2022-02-28T15:16:06.139Z"
   },
   {
    "duration": 17,
    "start_time": "2022-02-28T15:19:29.947Z"
   },
   {
    "duration": 220,
    "start_time": "2022-02-28T15:20:14.261Z"
   },
   {
    "duration": 274,
    "start_time": "2022-02-28T15:20:45.206Z"
   },
   {
    "duration": 60,
    "start_time": "2022-02-28T15:20:49.959Z"
   },
   {
    "duration": 22,
    "start_time": "2022-02-28T15:20:54.223Z"
   },
   {
    "duration": 19,
    "start_time": "2022-02-28T15:21:15.425Z"
   },
   {
    "duration": 221,
    "start_time": "2022-02-28T15:21:39.596Z"
   },
   {
    "duration": 209,
    "start_time": "2022-02-28T15:21:47.757Z"
   },
   {
    "duration": 27,
    "start_time": "2022-02-28T15:21:51.591Z"
   },
   {
    "duration": 20,
    "start_time": "2022-02-28T15:22:30.448Z"
   },
   {
    "duration": 22,
    "start_time": "2022-02-28T15:28:49.657Z"
   },
   {
    "duration": 20,
    "start_time": "2022-02-28T15:29:01.311Z"
   },
   {
    "duration": 24,
    "start_time": "2022-02-28T15:29:28.007Z"
   },
   {
    "duration": 19,
    "start_time": "2022-02-28T15:29:31.495Z"
   },
   {
    "duration": 31,
    "start_time": "2022-02-28T15:29:43.963Z"
   },
   {
    "duration": 21,
    "start_time": "2022-02-28T15:29:50.581Z"
   },
   {
    "duration": 20,
    "start_time": "2022-02-28T15:30:11.393Z"
   },
   {
    "duration": 61,
    "start_time": "2022-02-28T15:31:31.186Z"
   },
   {
    "duration": 66,
    "start_time": "2022-02-28T15:31:39.584Z"
   },
   {
    "duration": 67,
    "start_time": "2022-02-28T15:31:57.554Z"
   },
   {
    "duration": 21,
    "start_time": "2022-02-28T15:32:07.837Z"
   },
   {
    "duration": 713,
    "start_time": "2022-02-28T15:32:25.217Z"
   },
   {
    "duration": 105,
    "start_time": "2022-02-28T15:35:08.540Z"
   },
   {
    "duration": 619,
    "start_time": "2022-02-28T16:23:22.432Z"
   },
   {
    "duration": 1417,
    "start_time": "2022-02-28T16:23:41.026Z"
   },
   {
    "duration": 162,
    "start_time": "2022-02-28T16:23:42.445Z"
   },
   {
    "duration": 114,
    "start_time": "2022-02-28T16:23:42.610Z"
   },
   {
    "duration": 55,
    "start_time": "2022-02-28T16:23:42.727Z"
   },
   {
    "duration": 36,
    "start_time": "2022-02-28T16:23:42.784Z"
   },
   {
    "duration": 11,
    "start_time": "2022-02-28T16:23:42.822Z"
   },
   {
    "duration": 39,
    "start_time": "2022-02-28T16:23:42.835Z"
   },
   {
    "duration": 15,
    "start_time": "2022-02-28T16:23:42.877Z"
   },
   {
    "duration": 21,
    "start_time": "2022-02-28T16:23:42.896Z"
   },
   {
    "duration": 14,
    "start_time": "2022-02-28T16:23:42.920Z"
   },
   {
    "duration": 11,
    "start_time": "2022-02-28T16:23:42.936Z"
   },
   {
    "duration": 43,
    "start_time": "2022-02-28T16:23:42.949Z"
   },
   {
    "duration": 27,
    "start_time": "2022-02-28T16:23:42.995Z"
   },
   {
    "duration": 22,
    "start_time": "2022-02-28T16:23:43.025Z"
   },
   {
    "duration": 25,
    "start_time": "2022-02-28T16:23:43.049Z"
   },
   {
    "duration": 12,
    "start_time": "2022-02-28T16:23:43.076Z"
   },
   {
    "duration": 11,
    "start_time": "2022-02-28T16:23:43.090Z"
   },
   {
    "duration": 13,
    "start_time": "2022-02-28T16:23:43.103Z"
   },
   {
    "duration": 7,
    "start_time": "2022-02-28T16:23:43.119Z"
   },
   {
    "duration": 13,
    "start_time": "2022-02-28T16:23:43.128Z"
   },
   {
    "duration": 17,
    "start_time": "2022-02-28T16:23:43.182Z"
   },
   {
    "duration": 5,
    "start_time": "2022-02-28T16:23:43.202Z"
   },
   {
    "duration": 76,
    "start_time": "2022-02-28T16:23:43.210Z"
   },
   {
    "duration": 17,
    "start_time": "2022-02-28T16:23:43.288Z"
   },
   {
    "duration": 74,
    "start_time": "2022-02-28T16:23:43.308Z"
   },
   {
    "duration": 51,
    "start_time": "2022-02-28T16:23:43.384Z"
   },
   {
    "duration": 38,
    "start_time": "2022-02-28T16:23:43.444Z"
   },
   {
    "duration": 27,
    "start_time": "2022-02-28T16:23:43.486Z"
   },
   {
    "duration": 23,
    "start_time": "2022-02-28T16:23:43.516Z"
   },
   {
    "duration": 7,
    "start_time": "2022-02-28T16:23:43.542Z"
   },
   {
    "duration": 31,
    "start_time": "2022-02-28T16:23:43.551Z"
   },
   {
    "duration": 21,
    "start_time": "2022-02-28T16:23:43.585Z"
   },
   {
    "duration": 57,
    "start_time": "2022-02-28T16:23:43.609Z"
   },
   {
    "duration": 4,
    "start_time": "2022-02-28T16:23:43.668Z"
   },
   {
    "duration": 29,
    "start_time": "2022-02-28T16:23:43.675Z"
   },
   {
    "duration": 37,
    "start_time": "2022-02-28T16:23:43.707Z"
   },
   {
    "duration": 6,
    "start_time": "2022-02-28T16:23:43.746Z"
   },
   {
    "duration": 434,
    "start_time": "2022-02-28T16:23:43.754Z"
   },
   {
    "duration": 4,
    "start_time": "2022-02-28T16:23:44.190Z"
   },
   {
    "duration": 15,
    "start_time": "2022-02-28T16:23:44.196Z"
   },
   {
    "duration": 7,
    "start_time": "2022-02-28T16:23:44.213Z"
   },
   {
    "duration": 27,
    "start_time": "2022-02-28T16:23:44.222Z"
   },
   {
    "duration": 78,
    "start_time": "2022-02-28T16:23:44.251Z"
   },
   {
    "duration": 57,
    "start_time": "2022-02-28T16:23:44.332Z"
   },
   {
    "duration": 4,
    "start_time": "2022-02-28T16:23:44.391Z"
   },
   {
    "duration": 2097,
    "start_time": "2022-02-28T16:23:44.398Z"
   },
   {
    "duration": 1465,
    "start_time": "2022-02-28T16:23:46.497Z"
   },
   {
    "duration": 331,
    "start_time": "2022-02-28T16:23:47.965Z"
   },
   {
    "duration": 135,
    "start_time": "2022-02-28T16:23:48.298Z"
   },
   {
    "duration": 68,
    "start_time": "2022-02-28T16:23:48.435Z"
   },
   {
    "duration": 715,
    "start_time": "2022-02-28T16:23:48.506Z"
   },
   {
    "duration": 1052,
    "start_time": "2022-02-28T16:23:49.224Z"
   },
   {
    "duration": 558,
    "start_time": "2022-02-28T16:23:50.283Z"
   },
   {
    "duration": 60,
    "start_time": "2022-02-28T16:23:50.844Z"
   },
   {
    "duration": 880,
    "start_time": "2022-02-28T16:23:50.906Z"
   },
   {
    "duration": 845,
    "start_time": "2022-02-28T16:23:51.788Z"
   },
   {
    "duration": 902,
    "start_time": "2022-02-28T16:23:52.636Z"
   },
   {
    "duration": 392,
    "start_time": "2022-02-28T16:23:53.541Z"
   },
   {
    "duration": 85,
    "start_time": "2022-02-28T16:23:53.936Z"
   },
   {
    "duration": 319,
    "start_time": "2022-02-28T16:23:54.024Z"
   },
   {
    "duration": 33,
    "start_time": "2022-02-28T16:23:54.313Z"
   },
   {
    "duration": 32,
    "start_time": "2022-02-28T16:23:54.315Z"
   },
   {
    "duration": 31,
    "start_time": "2022-02-28T16:23:54.318Z"
   },
   {
    "duration": 20,
    "start_time": "2022-02-28T16:23:54.331Z"
   },
   {
    "duration": 197,
    "start_time": "2022-02-28T16:24:13.096Z"
   },
   {
    "duration": 210,
    "start_time": "2022-02-28T16:24:45.756Z"
   },
   {
    "duration": 20,
    "start_time": "2022-02-28T16:25:04.827Z"
   },
   {
    "duration": 19,
    "start_time": "2022-02-28T16:25:07.327Z"
   },
   {
    "duration": 641,
    "start_time": "2022-02-28T16:25:09.846Z"
   },
   {
    "duration": 101,
    "start_time": "2022-02-28T16:25:13.570Z"
   },
   {
    "duration": 344,
    "start_time": "2022-02-28T16:25:16.472Z"
   },
   {
    "duration": 125,
    "start_time": "2022-02-28T16:25:43.284Z"
   },
   {
    "duration": 23,
    "start_time": "2022-02-28T16:26:08.030Z"
   },
   {
    "duration": 339,
    "start_time": "2022-02-28T16:29:35.337Z"
   },
   {
    "duration": 995,
    "start_time": "2022-03-09T05:16:26.591Z"
   },
   {
    "duration": 113,
    "start_time": "2022-03-09T05:16:27.588Z"
   },
   {
    "duration": 75,
    "start_time": "2022-03-09T05:16:27.703Z"
   },
   {
    "duration": 25,
    "start_time": "2022-03-09T05:16:27.780Z"
   },
   {
    "duration": 42,
    "start_time": "2022-03-09T05:16:27.807Z"
   },
   {
    "duration": 9,
    "start_time": "2022-03-09T05:16:27.851Z"
   },
   {
    "duration": 8,
    "start_time": "2022-03-09T05:16:27.861Z"
   },
   {
    "duration": 8,
    "start_time": "2022-03-09T05:16:27.871Z"
   },
   {
    "duration": 8,
    "start_time": "2022-03-09T05:16:27.882Z"
   },
   {
    "duration": 42,
    "start_time": "2022-03-09T05:16:27.892Z"
   },
   {
    "duration": 8,
    "start_time": "2022-03-09T05:16:27.936Z"
   },
   {
    "duration": 8,
    "start_time": "2022-03-09T05:16:27.946Z"
   },
   {
    "duration": 10,
    "start_time": "2022-03-09T05:16:27.956Z"
   },
   {
    "duration": 9,
    "start_time": "2022-03-09T05:16:27.967Z"
   },
   {
    "duration": 9,
    "start_time": "2022-03-09T05:16:27.977Z"
   },
   {
    "duration": 47,
    "start_time": "2022-03-09T05:16:27.987Z"
   },
   {
    "duration": 8,
    "start_time": "2022-03-09T05:16:28.036Z"
   },
   {
    "duration": 8,
    "start_time": "2022-03-09T05:16:28.045Z"
   },
   {
    "duration": 5,
    "start_time": "2022-03-09T05:16:28.054Z"
   },
   {
    "duration": 7,
    "start_time": "2022-03-09T05:16:28.061Z"
   },
   {
    "duration": 9,
    "start_time": "2022-03-09T05:16:28.069Z"
   },
   {
    "duration": 3,
    "start_time": "2022-03-09T05:16:28.080Z"
   },
   {
    "duration": 75,
    "start_time": "2022-03-09T05:16:28.085Z"
   },
   {
    "duration": 11,
    "start_time": "2022-03-09T05:16:28.162Z"
   },
   {
    "duration": 31,
    "start_time": "2022-03-09T05:16:28.175Z"
   },
   {
    "duration": 53,
    "start_time": "2022-03-09T05:16:28.207Z"
   },
   {
    "duration": 8,
    "start_time": "2022-03-09T05:16:28.263Z"
   },
   {
    "duration": 11,
    "start_time": "2022-03-09T05:16:28.274Z"
   },
   {
    "duration": 9,
    "start_time": "2022-03-09T05:16:28.286Z"
   },
   {
    "duration": 4,
    "start_time": "2022-03-09T05:16:28.296Z"
   },
   {
    "duration": 8,
    "start_time": "2022-03-09T05:16:28.333Z"
   },
   {
    "duration": 9,
    "start_time": "2022-03-09T05:16:28.342Z"
   },
   {
    "duration": 41,
    "start_time": "2022-03-09T05:16:28.353Z"
   },
   {
    "duration": 2,
    "start_time": "2022-03-09T05:16:28.396Z"
   },
   {
    "duration": 16,
    "start_time": "2022-03-09T05:16:28.400Z"
   },
   {
    "duration": 38,
    "start_time": "2022-03-09T05:16:28.417Z"
   },
   {
    "duration": 5,
    "start_time": "2022-03-09T05:16:28.457Z"
   },
   {
    "duration": 278,
    "start_time": "2022-03-09T05:16:28.463Z"
   },
   {
    "duration": 3,
    "start_time": "2022-03-09T05:16:28.742Z"
   },
   {
    "duration": 11,
    "start_time": "2022-03-09T05:16:28.746Z"
   },
   {
    "duration": 4,
    "start_time": "2022-03-09T05:16:28.759Z"
   },
   {
    "duration": 22,
    "start_time": "2022-03-09T05:16:28.764Z"
   },
   {
    "duration": 48,
    "start_time": "2022-03-09T05:16:28.787Z"
   },
   {
    "duration": 21,
    "start_time": "2022-03-09T05:16:28.837Z"
   },
   {
    "duration": 3,
    "start_time": "2022-03-09T05:16:28.859Z"
   },
   {
    "duration": 1194,
    "start_time": "2022-03-09T05:16:28.863Z"
   },
   {
    "duration": 868,
    "start_time": "2022-03-09T05:16:30.059Z"
   },
   {
    "duration": 182,
    "start_time": "2022-03-09T05:16:30.932Z"
   },
   {
    "duration": 86,
    "start_time": "2022-03-09T05:16:31.116Z"
   },
   {
    "duration": 46,
    "start_time": "2022-03-09T05:16:31.203Z"
   },
   {
    "duration": 356,
    "start_time": "2022-03-09T05:16:31.250Z"
   },
   {
    "duration": 531,
    "start_time": "2022-03-09T05:16:31.608Z"
   },
   {
    "duration": 360,
    "start_time": "2022-03-09T05:16:32.141Z"
   },
   {
    "duration": 39,
    "start_time": "2022-03-09T05:16:32.502Z"
   },
   {
    "duration": 499,
    "start_time": "2022-03-09T05:16:32.543Z"
   },
   {
    "duration": 519,
    "start_time": "2022-03-09T05:16:33.044Z"
   },
   {
    "duration": 530,
    "start_time": "2022-03-09T05:16:33.565Z"
   },
   {
    "duration": 255,
    "start_time": "2022-03-09T05:16:34.096Z"
   },
   {
    "duration": 44,
    "start_time": "2022-03-09T05:16:34.353Z"
   },
   {
    "duration": 35,
    "start_time": "2022-03-09T05:16:34.399Z"
   },
   {
    "duration": 13,
    "start_time": "2022-03-09T05:16:34.435Z"
   },
   {
    "duration": 371,
    "start_time": "2022-03-09T05:16:34.450Z"
   },
   {
    "duration": 68,
    "start_time": "2022-03-09T05:16:34.823Z"
   },
   {
    "duration": 226,
    "start_time": "2022-03-09T05:16:34.893Z"
   },
   {
    "duration": 210,
    "start_time": "2022-03-09T05:16:35.121Z"
   },
   {
    "duration": 7,
    "start_time": "2022-03-09T06:10:28.323Z"
   },
   {
    "duration": 1039,
    "start_time": "2022-03-09T06:10:37.054Z"
   },
   {
    "duration": 123,
    "start_time": "2022-03-09T06:10:38.095Z"
   },
   {
    "duration": 80,
    "start_time": "2022-03-09T06:10:38.221Z"
   },
   {
    "duration": 39,
    "start_time": "2022-03-09T06:10:38.304Z"
   },
   {
    "duration": 27,
    "start_time": "2022-03-09T06:10:38.345Z"
   },
   {
    "duration": 9,
    "start_time": "2022-03-09T06:10:38.374Z"
   },
   {
    "duration": 9,
    "start_time": "2022-03-09T06:10:38.385Z"
   },
   {
    "duration": 41,
    "start_time": "2022-03-09T06:10:38.397Z"
   },
   {
    "duration": 9,
    "start_time": "2022-03-09T06:10:38.440Z"
   },
   {
    "duration": 10,
    "start_time": "2022-03-09T06:10:38.451Z"
   },
   {
    "duration": 9,
    "start_time": "2022-03-09T06:10:38.463Z"
   },
   {
    "duration": 9,
    "start_time": "2022-03-09T06:10:38.474Z"
   },
   {
    "duration": 54,
    "start_time": "2022-03-09T06:10:38.485Z"
   },
   {
    "duration": 13,
    "start_time": "2022-03-09T06:10:38.541Z"
   },
   {
    "duration": 9,
    "start_time": "2022-03-09T06:10:38.556Z"
   },
   {
    "duration": 23,
    "start_time": "2022-03-09T06:10:38.567Z"
   },
   {
    "duration": 9,
    "start_time": "2022-03-09T06:10:38.592Z"
   },
   {
    "duration": 9,
    "start_time": "2022-03-09T06:10:38.603Z"
   },
   {
    "duration": 7,
    "start_time": "2022-03-09T06:10:38.633Z"
   },
   {
    "duration": 9,
    "start_time": "2022-03-09T06:10:38.642Z"
   },
   {
    "duration": 10,
    "start_time": "2022-03-09T06:10:38.653Z"
   },
   {
    "duration": 3,
    "start_time": "2022-03-09T06:10:38.664Z"
   },
   {
    "duration": 69,
    "start_time": "2022-03-09T06:10:38.671Z"
   },
   {
    "duration": 10,
    "start_time": "2022-03-09T06:10:38.742Z"
   },
   {
    "duration": 31,
    "start_time": "2022-03-09T06:10:38.754Z"
   },
   {
    "duration": 47,
    "start_time": "2022-03-09T06:10:38.787Z"
   },
   {
    "duration": 9,
    "start_time": "2022-03-09T06:10:38.835Z"
   },
   {
    "duration": 13,
    "start_time": "2022-03-09T06:10:38.846Z"
   },
   {
    "duration": 10,
    "start_time": "2022-03-09T06:10:38.861Z"
   },
   {
    "duration": 5,
    "start_time": "2022-03-09T06:10:38.873Z"
   },
   {
    "duration": 9,
    "start_time": "2022-03-09T06:10:38.879Z"
   },
   {
    "duration": 5,
    "start_time": "2022-03-09T06:10:38.890Z"
   },
   {
    "duration": 70,
    "start_time": "2022-03-09T06:10:38.896Z"
   },
   {
    "duration": 2,
    "start_time": "2022-03-09T06:10:38.968Z"
   },
   {
    "duration": 19,
    "start_time": "2022-03-09T06:10:38.972Z"
   },
   {
    "duration": 23,
    "start_time": "2022-03-09T06:10:38.993Z"
   },
   {
    "duration": 5,
    "start_time": "2022-03-09T06:10:39.033Z"
   },
   {
    "duration": 273,
    "start_time": "2022-03-09T06:10:39.039Z"
   },
   {
    "duration": 3,
    "start_time": "2022-03-09T06:10:39.313Z"
   },
   {
    "duration": 25,
    "start_time": "2022-03-09T06:10:39.318Z"
   },
   {
    "duration": 6,
    "start_time": "2022-03-09T06:10:39.345Z"
   },
   {
    "duration": 28,
    "start_time": "2022-03-09T06:10:39.352Z"
   },
   {
    "duration": 31,
    "start_time": "2022-03-09T06:10:39.381Z"
   },
   {
    "duration": 36,
    "start_time": "2022-03-09T06:10:39.414Z"
   },
   {
    "duration": 3,
    "start_time": "2022-03-09T06:10:39.451Z"
   },
   {
    "duration": 1242,
    "start_time": "2022-03-09T06:10:39.456Z"
   },
   {
    "duration": 897,
    "start_time": "2022-03-09T06:10:40.699Z"
   },
   {
    "duration": 193,
    "start_time": "2022-03-09T06:10:41.597Z"
   },
   {
    "duration": 88,
    "start_time": "2022-03-09T06:10:41.792Z"
   },
   {
    "duration": 37,
    "start_time": "2022-03-09T06:10:41.881Z"
   },
   {
    "duration": 392,
    "start_time": "2022-03-09T06:10:41.920Z"
   },
   {
    "duration": 553,
    "start_time": "2022-03-09T06:10:42.314Z"
   },
   {
    "duration": 378,
    "start_time": "2022-03-09T06:10:42.869Z"
   },
   {
    "duration": 32,
    "start_time": "2022-03-09T06:10:43.249Z"
   },
   {
    "duration": 590,
    "start_time": "2022-03-09T06:10:43.283Z"
   },
   {
    "duration": 561,
    "start_time": "2022-03-09T06:10:43.874Z"
   },
   {
    "duration": 574,
    "start_time": "2022-03-09T06:10:44.437Z"
   },
   {
    "duration": 266,
    "start_time": "2022-03-09T06:10:45.013Z"
   },
   {
    "duration": 54,
    "start_time": "2022-03-09T06:10:45.281Z"
   },
   {
    "duration": 14,
    "start_time": "2022-03-09T06:10:45.337Z"
   },
   {
    "duration": 13,
    "start_time": "2022-03-09T06:10:45.353Z"
   },
   {
    "duration": 396,
    "start_time": "2022-03-09T06:10:45.367Z"
   },
   {
    "duration": 73,
    "start_time": "2022-03-09T06:10:45.765Z"
   },
   {
    "duration": 209,
    "start_time": "2022-03-09T06:10:45.839Z"
   },
   {
    "duration": 212,
    "start_time": "2022-03-09T06:10:46.050Z"
   },
   {
    "duration": 1075,
    "start_time": "2022-03-09T06:25:22.409Z"
   },
   {
    "duration": 113,
    "start_time": "2022-03-09T06:25:23.486Z"
   },
   {
    "duration": 81,
    "start_time": "2022-03-09T06:25:23.601Z"
   },
   {
    "duration": 24,
    "start_time": "2022-03-09T06:25:23.684Z"
   },
   {
    "duration": 37,
    "start_time": "2022-03-09T06:25:23.710Z"
   },
   {
    "duration": 8,
    "start_time": "2022-03-09T06:25:23.748Z"
   },
   {
    "duration": 21,
    "start_time": "2022-03-09T06:25:23.757Z"
   },
   {
    "duration": 7,
    "start_time": "2022-03-09T06:25:23.780Z"
   },
   {
    "duration": 10,
    "start_time": "2022-03-09T06:25:23.790Z"
   },
   {
    "duration": 9,
    "start_time": "2022-03-09T06:25:23.802Z"
   },
   {
    "duration": 8,
    "start_time": "2022-03-09T06:25:23.833Z"
   },
   {
    "duration": 7,
    "start_time": "2022-03-09T06:25:23.843Z"
   },
   {
    "duration": 9,
    "start_time": "2022-03-09T06:25:23.852Z"
   },
   {
    "duration": 9,
    "start_time": "2022-03-09T06:25:23.862Z"
   },
   {
    "duration": 8,
    "start_time": "2022-03-09T06:25:23.873Z"
   },
   {
    "duration": 8,
    "start_time": "2022-03-09T06:25:23.883Z"
   },
   {
    "duration": 44,
    "start_time": "2022-03-09T06:25:23.892Z"
   },
   {
    "duration": 7,
    "start_time": "2022-03-09T06:25:23.938Z"
   },
   {
    "duration": 5,
    "start_time": "2022-03-09T06:25:23.947Z"
   },
   {
    "duration": 11,
    "start_time": "2022-03-09T06:25:23.953Z"
   },
   {
    "duration": 9,
    "start_time": "2022-03-09T06:25:23.966Z"
   },
   {
    "duration": 3,
    "start_time": "2022-03-09T06:25:23.977Z"
   },
   {
    "duration": 69,
    "start_time": "2022-03-09T06:25:23.981Z"
   },
   {
    "duration": 11,
    "start_time": "2022-03-09T06:25:24.051Z"
   },
   {
    "duration": 29,
    "start_time": "2022-03-09T06:25:24.063Z"
   },
   {
    "duration": 50,
    "start_time": "2022-03-09T06:25:24.093Z"
   },
   {
    "duration": 9,
    "start_time": "2022-03-09T06:25:24.146Z"
   },
   {
    "duration": 11,
    "start_time": "2022-03-09T06:25:24.157Z"
   },
   {
    "duration": 8,
    "start_time": "2022-03-09T06:25:24.170Z"
   },
   {
    "duration": 5,
    "start_time": "2022-03-09T06:25:24.180Z"
   },
   {
    "duration": 10,
    "start_time": "2022-03-09T06:25:24.186Z"
   },
   {
    "duration": 8,
    "start_time": "2022-03-09T06:25:24.198Z"
   },
   {
    "duration": 42,
    "start_time": "2022-03-09T06:25:24.233Z"
   },
   {
    "duration": 3,
    "start_time": "2022-03-09T06:25:24.276Z"
   },
   {
    "duration": 17,
    "start_time": "2022-03-09T06:25:24.280Z"
   },
   {
    "duration": 26,
    "start_time": "2022-03-09T06:25:24.299Z"
   },
   {
    "duration": 4,
    "start_time": "2022-03-09T06:25:24.332Z"
   },
   {
    "duration": 267,
    "start_time": "2022-03-09T06:25:24.337Z"
   },
   {
    "duration": 2,
    "start_time": "2022-03-09T06:25:24.606Z"
   },
   {
    "duration": 21,
    "start_time": "2022-03-09T06:25:25.414Z"
   },
   {
    "duration": 11,
    "start_time": "2022-03-09T06:26:12.315Z"
   },
   {
    "duration": 21,
    "start_time": "2022-03-09T06:26:16.476Z"
   },
   {
    "duration": 12,
    "start_time": "2022-03-09T06:26:48.303Z"
   },
   {
    "duration": 5,
    "start_time": "2022-03-09T06:26:48.317Z"
   },
   {
    "duration": 20,
    "start_time": "2022-03-09T06:26:48.324Z"
   },
   {
    "duration": 30,
    "start_time": "2022-03-09T06:26:48.346Z"
   },
   {
    "duration": 21,
    "start_time": "2022-03-09T06:26:48.377Z"
   },
   {
    "duration": 3,
    "start_time": "2022-03-09T06:26:48.399Z"
   },
   {
    "duration": 1204,
    "start_time": "2022-03-09T06:26:48.404Z"
   },
   {
    "duration": 885,
    "start_time": "2022-03-09T06:26:49.610Z"
   },
   {
    "duration": 198,
    "start_time": "2022-03-09T06:26:50.497Z"
   },
   {
    "duration": 86,
    "start_time": "2022-03-09T06:26:50.696Z"
   },
   {
    "duration": 35,
    "start_time": "2022-03-09T06:26:50.784Z"
   },
   {
    "duration": 365,
    "start_time": "2022-03-09T06:26:50.833Z"
   },
   {
    "duration": 540,
    "start_time": "2022-03-09T06:26:51.199Z"
   },
   {
    "duration": 361,
    "start_time": "2022-03-09T06:26:51.741Z"
   },
   {
    "duration": 43,
    "start_time": "2022-03-09T06:26:52.104Z"
   },
   {
    "duration": 514,
    "start_time": "2022-03-09T06:26:52.149Z"
   },
   {
    "duration": 525,
    "start_time": "2022-03-09T06:26:52.665Z"
   },
   {
    "duration": 565,
    "start_time": "2022-03-09T06:26:53.192Z"
   },
   {
    "duration": 275,
    "start_time": "2022-03-09T06:26:53.759Z"
   },
   {
    "duration": 20,
    "start_time": "2022-03-09T06:26:54.016Z"
   },
   {
    "duration": 20,
    "start_time": "2022-03-09T06:26:54.018Z"
   },
   {
    "duration": 19,
    "start_time": "2022-03-09T06:26:54.020Z"
   },
   {
    "duration": 19,
    "start_time": "2022-03-09T06:26:54.022Z"
   },
   {
    "duration": 18,
    "start_time": "2022-03-09T06:26:54.024Z"
   },
   {
    "duration": 17,
    "start_time": "2022-03-09T06:26:54.026Z"
   },
   {
    "duration": 17,
    "start_time": "2022-03-09T06:26:54.028Z"
   },
   {
    "duration": 201,
    "start_time": "2022-03-09T06:39:03.489Z"
   },
   {
    "duration": 43,
    "start_time": "2022-03-09T06:39:24.477Z"
   },
   {
    "duration": 11,
    "start_time": "2022-03-09T06:39:24.522Z"
   },
   {
    "duration": 87,
    "start_time": "2022-03-09T06:39:24.534Z"
   },
   {
    "duration": 369,
    "start_time": "2022-03-09T06:39:24.622Z"
   },
   {
    "duration": 71,
    "start_time": "2022-03-09T06:39:24.992Z"
   },
   {
    "duration": 227,
    "start_time": "2022-03-09T06:39:25.065Z"
   },
   {
    "duration": 211,
    "start_time": "2022-03-09T06:39:25.294Z"
   },
   {
    "duration": 300,
    "start_time": "2022-03-09T06:39:30.875Z"
   },
   {
    "duration": 1132,
    "start_time": "2022-03-09T06:41:07.936Z"
   },
   {
    "duration": 115,
    "start_time": "2022-03-09T06:41:09.070Z"
   },
   {
    "duration": 79,
    "start_time": "2022-03-09T06:41:09.187Z"
   },
   {
    "duration": 26,
    "start_time": "2022-03-09T06:41:09.268Z"
   },
   {
    "duration": 42,
    "start_time": "2022-03-09T06:41:09.296Z"
   },
   {
    "duration": 8,
    "start_time": "2022-03-09T06:41:09.340Z"
   },
   {
    "duration": 8,
    "start_time": "2022-03-09T06:41:09.350Z"
   },
   {
    "duration": 7,
    "start_time": "2022-03-09T06:41:09.361Z"
   },
   {
    "duration": 7,
    "start_time": "2022-03-09T06:41:09.370Z"
   },
   {
    "duration": 8,
    "start_time": "2022-03-09T06:41:09.379Z"
   },
   {
    "duration": 49,
    "start_time": "2022-03-09T06:41:09.389Z"
   },
   {
    "duration": 8,
    "start_time": "2022-03-09T06:41:09.439Z"
   },
   {
    "duration": 11,
    "start_time": "2022-03-09T06:41:09.448Z"
   },
   {
    "duration": 13,
    "start_time": "2022-03-09T06:41:09.461Z"
   },
   {
    "duration": 8,
    "start_time": "2022-03-09T06:41:09.475Z"
   },
   {
    "duration": 9,
    "start_time": "2022-03-09T06:41:09.484Z"
   },
   {
    "duration": 8,
    "start_time": "2022-03-09T06:41:09.495Z"
   },
   {
    "duration": 8,
    "start_time": "2022-03-09T06:41:09.533Z"
   },
   {
    "duration": 5,
    "start_time": "2022-03-09T06:41:09.543Z"
   },
   {
    "duration": 8,
    "start_time": "2022-03-09T06:41:09.550Z"
   },
   {
    "duration": 8,
    "start_time": "2022-03-09T06:41:09.560Z"
   },
   {
    "duration": 4,
    "start_time": "2022-03-09T06:41:09.570Z"
   },
   {
    "duration": 65,
    "start_time": "2022-03-09T06:41:09.577Z"
   },
   {
    "duration": 10,
    "start_time": "2022-03-09T06:41:09.644Z"
   },
   {
    "duration": 31,
    "start_time": "2022-03-09T06:41:09.656Z"
   },
   {
    "duration": 48,
    "start_time": "2022-03-09T06:41:09.689Z"
   },
   {
    "duration": 9,
    "start_time": "2022-03-09T06:41:09.739Z"
   },
   {
    "duration": 14,
    "start_time": "2022-03-09T06:41:09.750Z"
   },
   {
    "duration": 10,
    "start_time": "2022-03-09T06:41:09.766Z"
   },
   {
    "duration": 6,
    "start_time": "2022-03-09T06:41:09.778Z"
   },
   {
    "duration": 15,
    "start_time": "2022-03-09T06:41:09.785Z"
   },
   {
    "duration": 13,
    "start_time": "2022-03-09T06:41:09.801Z"
   },
   {
    "duration": 59,
    "start_time": "2022-03-09T06:41:09.816Z"
   },
   {
    "duration": 3,
    "start_time": "2022-03-09T06:41:09.876Z"
   },
   {
    "duration": 28,
    "start_time": "2022-03-09T06:41:09.880Z"
   },
   {
    "duration": 42,
    "start_time": "2022-03-09T06:41:09.910Z"
   },
   {
    "duration": 4,
    "start_time": "2022-03-09T06:41:09.954Z"
   },
   {
    "duration": 279,
    "start_time": "2022-03-09T06:41:09.960Z"
   },
   {
    "duration": 3,
    "start_time": "2022-03-09T06:41:10.241Z"
   },
   {
    "duration": 24,
    "start_time": "2022-03-09T06:41:10.245Z"
   },
   {
    "duration": 5,
    "start_time": "2022-03-09T06:41:10.271Z"
   },
   {
    "duration": 22,
    "start_time": "2022-03-09T06:41:10.278Z"
   },
   {
    "duration": 48,
    "start_time": "2022-03-09T06:41:10.302Z"
   },
   {
    "duration": 22,
    "start_time": "2022-03-09T06:41:10.351Z"
   },
   {
    "duration": 3,
    "start_time": "2022-03-09T06:41:10.375Z"
   },
   {
    "duration": 1205,
    "start_time": "2022-03-09T06:41:10.380Z"
   },
   {
    "duration": 883,
    "start_time": "2022-03-09T06:41:11.587Z"
   },
   {
    "duration": 194,
    "start_time": "2022-03-09T06:41:12.472Z"
   },
   {
    "duration": 96,
    "start_time": "2022-03-09T06:41:12.668Z"
   },
   {
    "duration": 40,
    "start_time": "2022-03-09T06:41:12.766Z"
   },
   {
    "duration": 417,
    "start_time": "2022-03-09T06:41:12.807Z"
   },
   {
    "duration": 547,
    "start_time": "2022-03-09T06:41:13.232Z"
   },
   {
    "duration": 423,
    "start_time": "2022-03-09T06:41:13.781Z"
   },
   {
    "duration": 40,
    "start_time": "2022-03-09T06:41:14.205Z"
   },
   {
    "duration": 530,
    "start_time": "2022-03-09T06:41:14.247Z"
   },
   {
    "duration": 558,
    "start_time": "2022-03-09T06:41:14.779Z"
   },
   {
    "duration": 567,
    "start_time": "2022-03-09T06:41:15.339Z"
   },
   {
    "duration": 264,
    "start_time": "2022-03-09T06:41:15.907Z"
   },
   {
    "duration": 60,
    "start_time": "2022-03-09T06:41:16.173Z"
   },
   {
    "duration": 14,
    "start_time": "2022-03-09T06:41:16.235Z"
   },
   {
    "duration": 12,
    "start_time": "2022-03-09T06:41:16.250Z"
   },
   {
    "duration": 393,
    "start_time": "2022-03-09T06:41:16.263Z"
   },
   {
    "duration": 59,
    "start_time": "2022-03-09T06:41:16.657Z"
   },
   {
    "duration": 219,
    "start_time": "2022-03-09T06:41:16.718Z"
   },
   {
    "duration": 239,
    "start_time": "2022-03-09T06:41:16.939Z"
   },
   {
    "duration": 1259,
    "start_time": "2022-03-09T15:31:58.805Z"
   },
   {
    "duration": 123,
    "start_time": "2022-03-09T15:32:00.065Z"
   },
   {
    "duration": 72,
    "start_time": "2022-03-09T15:32:00.190Z"
   },
   {
    "duration": 24,
    "start_time": "2022-03-09T15:32:00.264Z"
   },
   {
    "duration": 37,
    "start_time": "2022-03-09T15:32:00.290Z"
   },
   {
    "duration": 7,
    "start_time": "2022-03-09T15:32:00.329Z"
   },
   {
    "duration": 13,
    "start_time": "2022-03-09T15:32:00.338Z"
   },
   {
    "duration": 7,
    "start_time": "2022-03-09T15:32:00.354Z"
   },
   {
    "duration": 12,
    "start_time": "2022-03-09T15:32:00.362Z"
   },
   {
    "duration": 32,
    "start_time": "2022-03-09T15:32:00.376Z"
   },
   {
    "duration": 8,
    "start_time": "2022-03-09T15:32:00.409Z"
   },
   {
    "duration": 16,
    "start_time": "2022-03-09T15:32:00.418Z"
   },
   {
    "duration": 14,
    "start_time": "2022-03-09T15:32:00.435Z"
   },
   {
    "duration": 17,
    "start_time": "2022-03-09T15:32:00.451Z"
   },
   {
    "duration": 7,
    "start_time": "2022-03-09T15:32:00.470Z"
   },
   {
    "duration": 16,
    "start_time": "2022-03-09T15:32:00.478Z"
   },
   {
    "duration": 12,
    "start_time": "2022-03-09T15:32:00.496Z"
   },
   {
    "duration": 14,
    "start_time": "2022-03-09T15:32:00.509Z"
   },
   {
    "duration": 5,
    "start_time": "2022-03-09T15:32:00.525Z"
   },
   {
    "duration": 23,
    "start_time": "2022-03-09T15:32:00.532Z"
   },
   {
    "duration": 8,
    "start_time": "2022-03-09T15:32:00.557Z"
   },
   {
    "duration": 2,
    "start_time": "2022-03-09T15:32:00.567Z"
   },
   {
    "duration": 51,
    "start_time": "2022-03-09T15:32:00.572Z"
   },
   {
    "duration": 11,
    "start_time": "2022-03-09T15:32:00.625Z"
   },
   {
    "duration": 36,
    "start_time": "2022-03-09T15:32:00.637Z"
   },
   {
    "duration": 42,
    "start_time": "2022-03-09T15:32:00.674Z"
   },
   {
    "duration": 9,
    "start_time": "2022-03-09T15:32:00.717Z"
   },
   {
    "duration": 33,
    "start_time": "2022-03-09T15:32:00.727Z"
   },
   {
    "duration": 35,
    "start_time": "2022-03-09T15:32:00.762Z"
   },
   {
    "duration": 24,
    "start_time": "2022-03-09T15:32:00.798Z"
   },
   {
    "duration": 24,
    "start_time": "2022-03-09T15:32:00.824Z"
   },
   {
    "duration": 38,
    "start_time": "2022-03-09T15:32:00.850Z"
   },
   {
    "duration": 77,
    "start_time": "2022-03-09T15:32:00.890Z"
   },
   {
    "duration": 3,
    "start_time": "2022-03-09T15:32:00.968Z"
   },
   {
    "duration": 62,
    "start_time": "2022-03-09T15:32:00.972Z"
   },
   {
    "duration": 61,
    "start_time": "2022-03-09T15:32:01.035Z"
   },
   {
    "duration": 50,
    "start_time": "2022-03-09T15:32:01.098Z"
   },
   {
    "duration": 311,
    "start_time": "2022-03-09T15:32:01.149Z"
   },
   {
    "duration": 3,
    "start_time": "2022-03-09T15:32:01.462Z"
   },
   {
    "duration": 59,
    "start_time": "2022-03-09T15:32:01.467Z"
   },
   {
    "duration": 41,
    "start_time": "2022-03-09T15:32:01.527Z"
   },
   {
    "duration": 69,
    "start_time": "2022-03-09T15:32:01.569Z"
   },
   {
    "duration": 40,
    "start_time": "2022-03-09T15:32:01.640Z"
   },
   {
    "duration": 22,
    "start_time": "2022-03-09T15:32:01.682Z"
   },
   {
    "duration": 15,
    "start_time": "2022-03-09T15:32:01.706Z"
   },
   {
    "duration": 1207,
    "start_time": "2022-03-09T15:32:01.723Z"
   },
   {
    "duration": 856,
    "start_time": "2022-03-09T15:32:02.931Z"
   },
   {
    "duration": 187,
    "start_time": "2022-03-09T15:32:03.789Z"
   },
   {
    "duration": 89,
    "start_time": "2022-03-09T15:32:03.977Z"
   },
   {
    "duration": 44,
    "start_time": "2022-03-09T15:32:04.068Z"
   },
   {
    "duration": 376,
    "start_time": "2022-03-09T15:32:04.113Z"
   },
   {
    "duration": 550,
    "start_time": "2022-03-09T15:32:04.491Z"
   },
   {
    "duration": 407,
    "start_time": "2022-03-09T15:32:05.043Z"
   },
   {
    "duration": 35,
    "start_time": "2022-03-09T15:32:05.452Z"
   },
   {
    "duration": 577,
    "start_time": "2022-03-09T15:32:05.489Z"
   },
   {
    "duration": 600,
    "start_time": "2022-03-09T15:32:06.068Z"
   },
   {
    "duration": 616,
    "start_time": "2022-03-09T15:32:06.670Z"
   },
   {
    "duration": 264,
    "start_time": "2022-03-09T15:32:07.288Z"
   },
   {
    "duration": 52,
    "start_time": "2022-03-09T15:32:07.554Z"
   },
   {
    "duration": 14,
    "start_time": "2022-03-09T15:32:07.608Z"
   },
   {
    "duration": 13,
    "start_time": "2022-03-09T15:32:07.624Z"
   },
   {
    "duration": 395,
    "start_time": "2022-03-09T15:32:07.638Z"
   },
   {
    "duration": 77,
    "start_time": "2022-03-09T15:32:08.035Z"
   },
   {
    "duration": 220,
    "start_time": "2022-03-09T15:32:08.114Z"
   },
   {
    "duration": 207,
    "start_time": "2022-03-09T15:32:08.336Z"
   },
   {
    "duration": 25,
    "start_time": "2022-03-09T15:32:50.567Z"
   },
   {
    "duration": 46,
    "start_time": "2022-03-09T15:32:52.858Z"
   },
   {
    "duration": 805,
    "start_time": "2022-03-09T15:35:12.012Z"
   },
   {
    "duration": 87,
    "start_time": "2022-03-09T15:35:22.004Z"
   },
   {
    "duration": 65,
    "start_time": "2022-03-09T15:35:52.728Z"
   },
   {
    "duration": 385,
    "start_time": "2022-03-09T15:36:12.279Z"
   },
   {
    "duration": 96,
    "start_time": "2022-03-09T15:36:43.158Z"
   },
   {
    "duration": 7,
    "start_time": "2022-03-09T15:37:00.052Z"
   },
   {
    "duration": 1516,
    "start_time": "2022-03-09T18:33:12.185Z"
   },
   {
    "duration": 174,
    "start_time": "2022-03-09T18:33:13.703Z"
   },
   {
    "duration": 97,
    "start_time": "2022-03-09T18:33:13.880Z"
   },
   {
    "duration": 42,
    "start_time": "2022-03-09T18:33:13.979Z"
   },
   {
    "duration": 29,
    "start_time": "2022-03-09T18:33:14.022Z"
   },
   {
    "duration": 10,
    "start_time": "2022-03-09T18:33:14.053Z"
   },
   {
    "duration": 9,
    "start_time": "2022-03-09T18:33:14.065Z"
   },
   {
    "duration": 10,
    "start_time": "2022-03-09T18:33:14.103Z"
   },
   {
    "duration": 10,
    "start_time": "2022-03-09T18:33:14.115Z"
   },
   {
    "duration": 10,
    "start_time": "2022-03-09T18:33:14.127Z"
   },
   {
    "duration": 9,
    "start_time": "2022-03-09T18:33:14.139Z"
   },
   {
    "duration": 51,
    "start_time": "2022-03-09T18:33:14.151Z"
   },
   {
    "duration": 13,
    "start_time": "2022-03-09T18:33:14.205Z"
   },
   {
    "duration": 11,
    "start_time": "2022-03-09T18:33:14.220Z"
   },
   {
    "duration": 9,
    "start_time": "2022-03-09T18:33:14.233Z"
   },
   {
    "duration": 11,
    "start_time": "2022-03-09T18:33:14.244Z"
   },
   {
    "duration": 46,
    "start_time": "2022-03-09T18:33:14.257Z"
   },
   {
    "duration": 10,
    "start_time": "2022-03-09T18:33:14.305Z"
   },
   {
    "duration": 6,
    "start_time": "2022-03-09T18:33:14.317Z"
   },
   {
    "duration": 15,
    "start_time": "2022-03-09T18:33:14.325Z"
   },
   {
    "duration": 11,
    "start_time": "2022-03-09T18:33:14.341Z"
   },
   {
    "duration": 4,
    "start_time": "2022-03-09T18:33:14.354Z"
   },
   {
    "duration": 72,
    "start_time": "2022-03-09T18:33:14.363Z"
   },
   {
    "duration": 13,
    "start_time": "2022-03-09T18:33:14.438Z"
   },
   {
    "duration": 66,
    "start_time": "2022-03-09T18:33:14.452Z"
   },
   {
    "duration": 37,
    "start_time": "2022-03-09T18:33:14.520Z"
   },
   {
    "duration": 10,
    "start_time": "2022-03-09T18:33:14.559Z"
   },
   {
    "duration": 39,
    "start_time": "2022-03-09T18:33:14.571Z"
   },
   {
    "duration": 11,
    "start_time": "2022-03-09T18:33:14.612Z"
   },
   {
    "duration": 9,
    "start_time": "2022-03-09T18:33:14.625Z"
   },
   {
    "duration": 39,
    "start_time": "2022-03-09T18:33:14.636Z"
   },
   {
    "duration": 5,
    "start_time": "2022-03-09T18:33:14.677Z"
   },
   {
    "duration": 51,
    "start_time": "2022-03-09T18:33:14.684Z"
   },
   {
    "duration": 3,
    "start_time": "2022-03-09T18:33:14.737Z"
   },
   {
    "duration": 30,
    "start_time": "2022-03-09T18:33:14.742Z"
   },
   {
    "duration": 33,
    "start_time": "2022-03-09T18:33:14.774Z"
   },
   {
    "duration": 5,
    "start_time": "2022-03-09T18:33:14.809Z"
   },
   {
    "duration": 21,
    "start_time": "2022-03-09T18:33:14.815Z"
   },
   {
    "duration": 3,
    "start_time": "2022-03-09T18:33:14.838Z"
   },
   {
    "duration": 23,
    "start_time": "2022-03-09T18:33:14.842Z"
   },
   {
    "duration": 5,
    "start_time": "2022-03-09T18:33:14.867Z"
   },
   {
    "duration": 45,
    "start_time": "2022-03-09T18:33:14.874Z"
   },
   {
    "duration": 34,
    "start_time": "2022-03-09T18:33:14.921Z"
   },
   {
    "duration": 26,
    "start_time": "2022-03-09T18:33:14.957Z"
   },
   {
    "duration": 4,
    "start_time": "2022-03-09T18:33:15.003Z"
   },
   {
    "duration": 1509,
    "start_time": "2022-03-09T18:33:15.010Z"
   },
   {
    "duration": 917,
    "start_time": "2022-03-09T18:33:16.521Z"
   },
   {
    "duration": 228,
    "start_time": "2022-03-09T18:33:17.441Z"
   },
   {
    "duration": 103,
    "start_time": "2022-03-09T18:33:17.672Z"
   },
   {
    "duration": 52,
    "start_time": "2022-03-09T18:33:17.777Z"
   },
   {
    "duration": 418,
    "start_time": "2022-03-09T18:33:17.831Z"
   },
   {
    "duration": 608,
    "start_time": "2022-03-09T18:33:18.251Z"
   },
   {
    "duration": 430,
    "start_time": "2022-03-09T18:33:18.861Z"
   },
   {
    "duration": 36,
    "start_time": "2022-03-09T18:33:19.301Z"
   },
   {
    "duration": 712,
    "start_time": "2022-03-09T18:33:19.339Z"
   },
   {
    "duration": 652,
    "start_time": "2022-03-09T18:33:20.053Z"
   },
   {
    "duration": 631,
    "start_time": "2022-03-09T18:33:20.707Z"
   },
   {
    "duration": 210,
    "start_time": "2022-03-09T18:33:21.340Z"
   },
   {
    "duration": 66,
    "start_time": "2022-03-09T18:33:21.552Z"
   },
   {
    "duration": 15,
    "start_time": "2022-03-09T18:33:21.620Z"
   },
   {
    "duration": 15,
    "start_time": "2022-03-09T18:33:21.637Z"
   },
   {
    "duration": 473,
    "start_time": "2022-03-09T18:33:21.653Z"
   },
   {
    "duration": 89,
    "start_time": "2022-03-09T18:33:22.128Z"
   },
   {
    "duration": 252,
    "start_time": "2022-03-09T18:33:22.218Z"
   },
   {
    "duration": 247,
    "start_time": "2022-03-09T18:33:22.471Z"
   }
  ],
  "kernelspec": {
   "display_name": "Python 3 (ipykernel)",
   "language": "python",
   "name": "python3"
  },
  "language_info": {
   "codemirror_mode": {
    "name": "ipython",
    "version": 3
   },
   "file_extension": ".py",
   "mimetype": "text/x-python",
   "name": "python",
   "nbconvert_exporter": "python",
   "pygments_lexer": "ipython3",
   "version": "3.9.7"
  },
  "toc": {
   "base_numbering": 1,
   "nav_menu": {},
   "number_sections": true,
   "sideBar": true,
   "skip_h1_title": true,
   "title_cell": "Содержание",
   "title_sidebar": "Contents",
   "toc_cell": true,
   "toc_position": {
    "height": "calc(100% - 180px)",
    "left": "10px",
    "top": "150px",
    "width": "230px"
   },
   "toc_section_display": true,
   "toc_window_display": true
  }
 },
 "nbformat": 4,
 "nbformat_minor": 4
}
